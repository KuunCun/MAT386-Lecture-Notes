{
 "cells": [
  {
   "cell_type": "raw",
   "id": "d24fc445-6256-488d-a04e-aef3db62239d",
   "metadata": {},
   "source": [
    "---\n",
    "title: \"Assignment\"\n",
    "subtitle: \"Feature Selection\"\n",
    "author: \"Author Name\"\n",
    "date: \"November 8, 2023\"\n",
    "---"
   ]
  },
  {
   "cell_type": "markdown",
   "id": "1fbbcef4-017d-42fe-ac13-d3f78f9e9bed",
   "metadata": {},
   "source": [
    "<br>"
   ]
  },
  {
   "cell_type": "markdown",
   "id": "db8c59b9-c0c7-49f6-bd1a-80b81ce2122c",
   "metadata": {},
   "source": [
    "## Instructions to follow:\n",
    "\n",
    "- Please include all your codes here. Be sure that your code is CLEAN, READABLE, and REPRODUCIBLE.\n",
    "- Put your data set into a **datasets** folder.\n",
    "- Put your images (if available) into an **img** folder.\n",
    "- Please write YOUR OWN code. **DO NOT copy** my codes or someone else's codes."
   ]
  },
  {
   "cell_type": "markdown",
   "id": "733f1643-bb84-4278-9e62-1f63d6adfa45",
   "metadata": {},
   "source": [
    "## Data: Estimation of obesity levels based on eating habits and physical condition"
   ]
  },
  {
   "cell_type": "markdown",
   "id": "18764698",
   "metadata": {},
   "source": [
    "* This [obesity dataset](https://archive-beta.ics.uci.edu/dataset/544/estimation+of+obesity+levels+based+on+eating+habits+and+physical+condition) \n",
    "include data for the estimation of obesity levels in individuals from the countries of Mexico, Peru and Colombia, based on their eating habits and physical condition.\n",
    "\n",
    "* This dataset is originally available at UC Irvine Machine Learning Repository via the [Link](https://archive-beta.ics.uci.edu/dataset/544/estimation+of+obesity+levels+based+on+eating+habits+and+physical+condition). The related paper is also available \n",
    "in [here](https://www.sciencedirect.com/science/article/pii/S2352340919306985).\n",
    "\n",
    "* The variables in the dataset are: \n",
    "\n",
    "   * `Gender`: A binary variable with levels **Female** and **Male**.\n",
    "   * `Age`: A numerical variable in years.\n",
    "   * `Height`: A numerical variable in meters.\n",
    "   * `Weight`: A numerical variable in kilograms.\n",
    "   * `family_history_with_overweight`: A binary variable with levels **Yes** and **No** showing whether a family member suffered/suffers from overweight.\n",
    "   * `FAVC` : A binary variable with levels **Yes** and **No** showing frequency of consumption of high caloric food.\n",
    "   * `FCVC` : A numerical variable here. Frequency of consumption of vegetables (**Interestingly, it is a categorical variable in the paper**).\n",
    "   * `NCP` : A numerical variable here. Number of main meals (**Interestingly, it is a categorical variable in the paper**).\n",
    "   * `CAEC` : An ordinal variable with four levels **No**, **Sometimes**, **Frequently**, and **Always** showing consumption of food between meals.    \n",
    "   * `SMOKE` : A binary variable with levels **Yes** and **No** showing smoking habit.\n",
    "   * `CH2O` : A numerical variable here. Consumption of water daily (**Interestingly, it is a categorical variable in the paper**).\n",
    "   * `SCC` : A binary variable with levels **Yes** and **No** showing calories consumption monitoring.\n",
    "   * `FAF` : A numerical variable here. Physical activity frequency (**Interestingly, it is a categorical variable in the paper**).\n",
    "   * `TUE` : A numerical variable here. Time using technology devices (**Interestingly, it is  a categorical variable in the paper**). \n",
    "   * `CALC` : An ordinal variable with four levels **No**, **Sometimes**, **Frequently**, and **Always** showing consumption of alcohol\n",
    "   frequency.\n",
    "   * `MTRANS` : A nominal variable with four levels **Public_Transportation**, **Automobile**, **Walking**, **Motorbike**, \n",
    "   and **Bike** showing transportation type used.\n",
    "   * `NObeyesdad`:  Another nominal variable (**not clear**). \n",
    "   \n",
    "* A portion of the data set is shown below:   "
   ]
  },
  {
   "cell_type": "code",
   "execution_count": 226,
   "id": "9969e4f4",
   "metadata": {
    "ExecuteTime": {
     "end_time": "2023-11-23T16:31:19.461608600Z",
     "start_time": "2023-11-23T16:31:19.327760100Z"
    }
   },
   "outputs": [],
   "source": [
    "# import the data set\n",
    "import pandas as pd\n",
    "\n",
    "df = pd.read_csv('datasets/ObesityDataSet_raw_and_data_sinthetic.csv')"
   ]
  },
  {
   "cell_type": "code",
   "execution_count": 227,
   "id": "c05a6da1-d000-403a-a6c0-c13d47e4cdce",
   "metadata": {
    "ExecuteTime": {
     "end_time": "2023-11-23T16:31:19.496730500Z",
     "start_time": "2023-11-23T16:31:19.347829800Z"
    }
   },
   "outputs": [
    {
     "data": {
      "text/plain": "   Gender   Age  Height  Weight family_history_with_overweight FAVC  FCVC  \\\n0  Female  21.0    1.62    64.0                            yes   no   2.0   \n1  Female  21.0    1.52    56.0                            yes   no   3.0   \n2    Male  23.0    1.80    77.0                            yes   no   2.0   \n3    Male  27.0    1.80    87.0                             no   no   3.0   \n4    Male  22.0    1.78    89.8                             no   no   2.0   \n\n   NCP       CAEC SMOKE  CH2O  SCC  FAF  TUE        CALC  \\\n0  3.0  Sometimes    no   2.0   no  0.0  1.0          no   \n1  3.0  Sometimes   yes   3.0  yes  3.0  0.0   Sometimes   \n2  3.0  Sometimes    no   2.0   no  2.0  1.0  Frequently   \n3  3.0  Sometimes    no   2.0   no  2.0  0.0  Frequently   \n4  1.0  Sometimes    no   2.0   no  0.0  0.0   Sometimes   \n\n                  MTRANS           NObeyesdad  \n0  Public_Transportation        Normal_Weight  \n1  Public_Transportation        Normal_Weight  \n2  Public_Transportation        Normal_Weight  \n3                Walking   Overweight_Level_I  \n4  Public_Transportation  Overweight_Level_II  ",
      "text/html": "<div>\n<style scoped>\n    .dataframe tbody tr th:only-of-type {\n        vertical-align: middle;\n    }\n\n    .dataframe tbody tr th {\n        vertical-align: top;\n    }\n\n    .dataframe thead th {\n        text-align: right;\n    }\n</style>\n<table border=\"1\" class=\"dataframe\">\n  <thead>\n    <tr style=\"text-align: right;\">\n      <th></th>\n      <th>Gender</th>\n      <th>Age</th>\n      <th>Height</th>\n      <th>Weight</th>\n      <th>family_history_with_overweight</th>\n      <th>FAVC</th>\n      <th>FCVC</th>\n      <th>NCP</th>\n      <th>CAEC</th>\n      <th>SMOKE</th>\n      <th>CH2O</th>\n      <th>SCC</th>\n      <th>FAF</th>\n      <th>TUE</th>\n      <th>CALC</th>\n      <th>MTRANS</th>\n      <th>NObeyesdad</th>\n    </tr>\n  </thead>\n  <tbody>\n    <tr>\n      <th>0</th>\n      <td>Female</td>\n      <td>21.0</td>\n      <td>1.62</td>\n      <td>64.0</td>\n      <td>yes</td>\n      <td>no</td>\n      <td>2.0</td>\n      <td>3.0</td>\n      <td>Sometimes</td>\n      <td>no</td>\n      <td>2.0</td>\n      <td>no</td>\n      <td>0.0</td>\n      <td>1.0</td>\n      <td>no</td>\n      <td>Public_Transportation</td>\n      <td>Normal_Weight</td>\n    </tr>\n    <tr>\n      <th>1</th>\n      <td>Female</td>\n      <td>21.0</td>\n      <td>1.52</td>\n      <td>56.0</td>\n      <td>yes</td>\n      <td>no</td>\n      <td>3.0</td>\n      <td>3.0</td>\n      <td>Sometimes</td>\n      <td>yes</td>\n      <td>3.0</td>\n      <td>yes</td>\n      <td>3.0</td>\n      <td>0.0</td>\n      <td>Sometimes</td>\n      <td>Public_Transportation</td>\n      <td>Normal_Weight</td>\n    </tr>\n    <tr>\n      <th>2</th>\n      <td>Male</td>\n      <td>23.0</td>\n      <td>1.80</td>\n      <td>77.0</td>\n      <td>yes</td>\n      <td>no</td>\n      <td>2.0</td>\n      <td>3.0</td>\n      <td>Sometimes</td>\n      <td>no</td>\n      <td>2.0</td>\n      <td>no</td>\n      <td>2.0</td>\n      <td>1.0</td>\n      <td>Frequently</td>\n      <td>Public_Transportation</td>\n      <td>Normal_Weight</td>\n    </tr>\n    <tr>\n      <th>3</th>\n      <td>Male</td>\n      <td>27.0</td>\n      <td>1.80</td>\n      <td>87.0</td>\n      <td>no</td>\n      <td>no</td>\n      <td>3.0</td>\n      <td>3.0</td>\n      <td>Sometimes</td>\n      <td>no</td>\n      <td>2.0</td>\n      <td>no</td>\n      <td>2.0</td>\n      <td>0.0</td>\n      <td>Frequently</td>\n      <td>Walking</td>\n      <td>Overweight_Level_I</td>\n    </tr>\n    <tr>\n      <th>4</th>\n      <td>Male</td>\n      <td>22.0</td>\n      <td>1.78</td>\n      <td>89.8</td>\n      <td>no</td>\n      <td>no</td>\n      <td>2.0</td>\n      <td>1.0</td>\n      <td>Sometimes</td>\n      <td>no</td>\n      <td>2.0</td>\n      <td>no</td>\n      <td>0.0</td>\n      <td>0.0</td>\n      <td>Sometimes</td>\n      <td>Public_Transportation</td>\n      <td>Overweight_Level_II</td>\n    </tr>\n  </tbody>\n</table>\n</div>"
     },
     "execution_count": 227,
     "metadata": {},
     "output_type": "execute_result"
    }
   ],
   "source": [
    "# check the first five lines\n",
    "df.head()"
   ]
  },
  {
   "cell_type": "markdown",
   "id": "a76f7e2f-bb86-4496-964a-07421cc03217",
   "metadata": {},
   "source": [
    "We intentionally created some missing values in the variables `Age`, `family_history_with_overweight`, and `CALC` as given below:"
   ]
  },
  {
   "cell_type": "code",
   "execution_count": 228,
   "id": "205b6674-d5e0-4fa6-b1af-544dfa6875c5",
   "metadata": {
    "ExecuteTime": {
     "end_time": "2023-11-23T16:31:19.498737600Z",
     "start_time": "2023-11-23T16:31:19.362881500Z"
    }
   },
   "outputs": [
    {
     "data": {
      "text/plain": "   Gender   Age  Height  Weight family_history_with_overweight FAVC  FCVC  \\\n0  Female  21.0    1.62    64.0                            yes   no   2.0   \n1  Female  21.0    1.52    56.0                            yes   no   3.0   \n2    Male  23.0    1.80    77.0                            yes   no   2.0   \n3    Male  27.0    1.80    87.0                             no   no   3.0   \n4    Male  22.0    1.78    89.8                             no   no   2.0   \n\n   NCP       CAEC SMOKE  CH2O  SCC  FAF  TUE        CALC  \\\n0  3.0  Sometimes    no   2.0   no  0.0  1.0          no   \n1  3.0  Sometimes   yes   3.0  yes  3.0  0.0         NaN   \n2  3.0  Sometimes    no   2.0   no  2.0  1.0  Frequently   \n3  3.0  Sometimes    no   2.0   no  2.0  0.0  Frequently   \n4  1.0  Sometimes    no   2.0   no  0.0  0.0   Sometimes   \n\n                  MTRANS           NObeyesdad  \n0  Public_Transportation        Normal_Weight  \n1  Public_Transportation        Normal_Weight  \n2  Public_Transportation        Normal_Weight  \n3                Walking   Overweight_Level_I  \n4  Public_Transportation  Overweight_Level_II  ",
      "text/html": "<div>\n<style scoped>\n    .dataframe tbody tr th:only-of-type {\n        vertical-align: middle;\n    }\n\n    .dataframe tbody tr th {\n        vertical-align: top;\n    }\n\n    .dataframe thead th {\n        text-align: right;\n    }\n</style>\n<table border=\"1\" class=\"dataframe\">\n  <thead>\n    <tr style=\"text-align: right;\">\n      <th></th>\n      <th>Gender</th>\n      <th>Age</th>\n      <th>Height</th>\n      <th>Weight</th>\n      <th>family_history_with_overweight</th>\n      <th>FAVC</th>\n      <th>FCVC</th>\n      <th>NCP</th>\n      <th>CAEC</th>\n      <th>SMOKE</th>\n      <th>CH2O</th>\n      <th>SCC</th>\n      <th>FAF</th>\n      <th>TUE</th>\n      <th>CALC</th>\n      <th>MTRANS</th>\n      <th>NObeyesdad</th>\n    </tr>\n  </thead>\n  <tbody>\n    <tr>\n      <th>0</th>\n      <td>Female</td>\n      <td>21.0</td>\n      <td>1.62</td>\n      <td>64.0</td>\n      <td>yes</td>\n      <td>no</td>\n      <td>2.0</td>\n      <td>3.0</td>\n      <td>Sometimes</td>\n      <td>no</td>\n      <td>2.0</td>\n      <td>no</td>\n      <td>0.0</td>\n      <td>1.0</td>\n      <td>no</td>\n      <td>Public_Transportation</td>\n      <td>Normal_Weight</td>\n    </tr>\n    <tr>\n      <th>1</th>\n      <td>Female</td>\n      <td>21.0</td>\n      <td>1.52</td>\n      <td>56.0</td>\n      <td>yes</td>\n      <td>no</td>\n      <td>3.0</td>\n      <td>3.0</td>\n      <td>Sometimes</td>\n      <td>yes</td>\n      <td>3.0</td>\n      <td>yes</td>\n      <td>3.0</td>\n      <td>0.0</td>\n      <td>NaN</td>\n      <td>Public_Transportation</td>\n      <td>Normal_Weight</td>\n    </tr>\n    <tr>\n      <th>2</th>\n      <td>Male</td>\n      <td>23.0</td>\n      <td>1.80</td>\n      <td>77.0</td>\n      <td>yes</td>\n      <td>no</td>\n      <td>2.0</td>\n      <td>3.0</td>\n      <td>Sometimes</td>\n      <td>no</td>\n      <td>2.0</td>\n      <td>no</td>\n      <td>2.0</td>\n      <td>1.0</td>\n      <td>Frequently</td>\n      <td>Public_Transportation</td>\n      <td>Normal_Weight</td>\n    </tr>\n    <tr>\n      <th>3</th>\n      <td>Male</td>\n      <td>27.0</td>\n      <td>1.80</td>\n      <td>87.0</td>\n      <td>no</td>\n      <td>no</td>\n      <td>3.0</td>\n      <td>3.0</td>\n      <td>Sometimes</td>\n      <td>no</td>\n      <td>2.0</td>\n      <td>no</td>\n      <td>2.0</td>\n      <td>0.0</td>\n      <td>Frequently</td>\n      <td>Walking</td>\n      <td>Overweight_Level_I</td>\n    </tr>\n    <tr>\n      <th>4</th>\n      <td>Male</td>\n      <td>22.0</td>\n      <td>1.78</td>\n      <td>89.8</td>\n      <td>no</td>\n      <td>no</td>\n      <td>2.0</td>\n      <td>1.0</td>\n      <td>Sometimes</td>\n      <td>no</td>\n      <td>2.0</td>\n      <td>no</td>\n      <td>0.0</td>\n      <td>0.0</td>\n      <td>Sometimes</td>\n      <td>Public_Transportation</td>\n      <td>Overweight_Level_II</td>\n    </tr>\n  </tbody>\n</table>\n</div>"
     },
     "execution_count": 228,
     "metadata": {},
     "output_type": "execute_result"
    }
   ],
   "source": [
    "import numpy as np\n",
    "\n",
    "np.random.seed(42)\n",
    "\n",
    "for col in ['Age','family_history_with_overweight','CALC']:\n",
    "    \n",
    "    df.loc[df.sample(frac=np.random.randint(5,15)/100).index, col] = np.nan\n",
    "\n",
    "df.head()"
   ]
  },
  {
   "cell_type": "code",
   "execution_count": 229,
   "id": "cf6d635f-90b6-4dd2-a912-694456188e54",
   "metadata": {
    "ExecuteTime": {
     "end_time": "2023-11-23T16:31:19.498737600Z",
     "start_time": "2023-11-23T16:31:19.379941500Z"
    }
   },
   "outputs": [
    {
     "name": "stdout",
     "output_type": "stream",
     "text": [
      "<class 'pandas.core.frame.DataFrame'>\n",
      "RangeIndex: 2111 entries, 0 to 2110\n",
      "Data columns (total 17 columns):\n",
      " #   Column                          Non-Null Count  Dtype  \n",
      "---  ------                          --------------  -----  \n",
      " 0   Gender                          2111 non-null   object \n",
      " 1   Age                             1879 non-null   float64\n",
      " 2   Height                          2111 non-null   float64\n",
      " 3   Weight                          2111 non-null   float64\n",
      " 4   family_history_with_overweight  2005 non-null   object \n",
      " 5   FAVC                            2111 non-null   object \n",
      " 6   FCVC                            2111 non-null   float64\n",
      " 7   NCP                             2111 non-null   float64\n",
      " 8   CAEC                            2111 non-null   object \n",
      " 9   SMOKE                           2111 non-null   object \n",
      " 10  CH2O                            2111 non-null   float64\n",
      " 11  SCC                             2111 non-null   object \n",
      " 12  FAF                             2111 non-null   float64\n",
      " 13  TUE                             2111 non-null   float64\n",
      " 14  CALC                            1879 non-null   object \n",
      " 15  MTRANS                          2111 non-null   object \n",
      " 16  NObeyesdad                      2111 non-null   object \n",
      "dtypes: float64(8), object(9)\n",
      "memory usage: 280.5+ KB\n"
     ]
    }
   ],
   "source": [
    "df.info()"
   ]
  },
  {
   "cell_type": "markdown",
   "id": "d99156c5-867a-482e-8e4d-324e918f2ee7",
   "metadata": {},
   "source": [
    "**Step 1:** In order to change this problem into a regression problem, following [Center for Disease Control and Prevention(CDC)](https://www.cdc.gov/healthyweight/assessing/bmi/adult_bmi/index.html#:~:text=With%20the%20metric%20system%2C%20the,to%20obtain%20height%20in%20meters.), create the BMI variable as follows:\n",
    "\n",
    "\n",
    "$$\n",
    "BMI = weight (kg) / [height (m)]^2,\n",
    "$$\n",
    "\n",
    "and also include the variables `Gender`, `Age`, `family_history_with_overweight`,\t`FAVC`,\t`FCVC`,\t`NCP`,\t`CAEC`,\n",
    "`SMOKE`, `CH2O`, `SCC`, `FAF`,\t`TUE`,\t`CALC`, and\t`MTRANS` in your dataset. Show the first 5 lines of your dataset."
   ]
  },
  {
   "cell_type": "code",
   "execution_count": 230,
   "outputs": [],
   "source": [
    "# create the BMI variable\n",
    "data = df.copy()\n",
    "data['BMI'] = df['Weight'] / (df['Height'] ** 2)\n",
    "\n",
    "# drop the unnecessary columns\n",
    "data.drop(['Weight', 'Height', 'NObeyesdad'], axis=1, inplace=True)"
   ],
   "metadata": {
    "collapsed": false,
    "ExecuteTime": {
     "end_time": "2023-11-23T16:31:19.498737600Z",
     "start_time": "2023-11-23T16:31:19.397394500Z"
    }
   },
   "id": "a425878425965f2e"
  },
  {
   "cell_type": "code",
   "execution_count": 231,
   "outputs": [
    {
     "data": {
      "text/plain": "   Gender   Age family_history_with_overweight FAVC  FCVC  NCP       CAEC  \\\n0  Female  21.0                            yes   no   2.0  3.0  Sometimes   \n1  Female  21.0                            yes   no   3.0  3.0  Sometimes   \n2    Male  23.0                            yes   no   2.0  3.0  Sometimes   \n3    Male  27.0                             no   no   3.0  3.0  Sometimes   \n4    Male  22.0                             no   no   2.0  1.0  Sometimes   \n\n  SMOKE  CH2O  SCC  FAF  TUE        CALC                 MTRANS        BMI  \n0    no   2.0   no  0.0  1.0          no  Public_Transportation  24.386526  \n1   yes   3.0  yes  3.0  0.0         NaN  Public_Transportation  24.238227  \n2    no   2.0   no  2.0  1.0  Frequently  Public_Transportation  23.765432  \n3    no   2.0   no  2.0  0.0  Frequently                Walking  26.851852  \n4    no   2.0   no  0.0  0.0   Sometimes  Public_Transportation  28.342381  ",
      "text/html": "<div>\n<style scoped>\n    .dataframe tbody tr th:only-of-type {\n        vertical-align: middle;\n    }\n\n    .dataframe tbody tr th {\n        vertical-align: top;\n    }\n\n    .dataframe thead th {\n        text-align: right;\n    }\n</style>\n<table border=\"1\" class=\"dataframe\">\n  <thead>\n    <tr style=\"text-align: right;\">\n      <th></th>\n      <th>Gender</th>\n      <th>Age</th>\n      <th>family_history_with_overweight</th>\n      <th>FAVC</th>\n      <th>FCVC</th>\n      <th>NCP</th>\n      <th>CAEC</th>\n      <th>SMOKE</th>\n      <th>CH2O</th>\n      <th>SCC</th>\n      <th>FAF</th>\n      <th>TUE</th>\n      <th>CALC</th>\n      <th>MTRANS</th>\n      <th>BMI</th>\n    </tr>\n  </thead>\n  <tbody>\n    <tr>\n      <th>0</th>\n      <td>Female</td>\n      <td>21.0</td>\n      <td>yes</td>\n      <td>no</td>\n      <td>2.0</td>\n      <td>3.0</td>\n      <td>Sometimes</td>\n      <td>no</td>\n      <td>2.0</td>\n      <td>no</td>\n      <td>0.0</td>\n      <td>1.0</td>\n      <td>no</td>\n      <td>Public_Transportation</td>\n      <td>24.386526</td>\n    </tr>\n    <tr>\n      <th>1</th>\n      <td>Female</td>\n      <td>21.0</td>\n      <td>yes</td>\n      <td>no</td>\n      <td>3.0</td>\n      <td>3.0</td>\n      <td>Sometimes</td>\n      <td>yes</td>\n      <td>3.0</td>\n      <td>yes</td>\n      <td>3.0</td>\n      <td>0.0</td>\n      <td>NaN</td>\n      <td>Public_Transportation</td>\n      <td>24.238227</td>\n    </tr>\n    <tr>\n      <th>2</th>\n      <td>Male</td>\n      <td>23.0</td>\n      <td>yes</td>\n      <td>no</td>\n      <td>2.0</td>\n      <td>3.0</td>\n      <td>Sometimes</td>\n      <td>no</td>\n      <td>2.0</td>\n      <td>no</td>\n      <td>2.0</td>\n      <td>1.0</td>\n      <td>Frequently</td>\n      <td>Public_Transportation</td>\n      <td>23.765432</td>\n    </tr>\n    <tr>\n      <th>3</th>\n      <td>Male</td>\n      <td>27.0</td>\n      <td>no</td>\n      <td>no</td>\n      <td>3.0</td>\n      <td>3.0</td>\n      <td>Sometimes</td>\n      <td>no</td>\n      <td>2.0</td>\n      <td>no</td>\n      <td>2.0</td>\n      <td>0.0</td>\n      <td>Frequently</td>\n      <td>Walking</td>\n      <td>26.851852</td>\n    </tr>\n    <tr>\n      <th>4</th>\n      <td>Male</td>\n      <td>22.0</td>\n      <td>no</td>\n      <td>no</td>\n      <td>2.0</td>\n      <td>1.0</td>\n      <td>Sometimes</td>\n      <td>no</td>\n      <td>2.0</td>\n      <td>no</td>\n      <td>0.0</td>\n      <td>0.0</td>\n      <td>Sometimes</td>\n      <td>Public_Transportation</td>\n      <td>28.342381</td>\n    </tr>\n  </tbody>\n</table>\n</div>"
     },
     "execution_count": 231,
     "metadata": {},
     "output_type": "execute_result"
    }
   ],
   "source": [
    "# show the first 5 lines\n",
    "data.head(5)"
   ],
   "metadata": {
    "collapsed": false,
    "ExecuteTime": {
     "end_time": "2023-11-23T16:31:19.498737600Z",
     "start_time": "2023-11-23T16:31:19.411434800Z"
    }
   },
   "id": "27ecb4e814ebd0ef"
  },
  {
   "cell_type": "markdown",
   "id": "ad5cdd90-4463-4668-9132-d329a2a78063",
   "metadata": {},
   "source": [
    "**Step 2:** Create a SINGLE **pipeline object** with [Pipeline](https://scikit-learn.org/stable/modules/generated/sklearn.pipeline.Pipeline.html) such that\n",
    " \n",
    "   - Numeric features are:\n",
    " \n",
    "     - imputed with strategy=\"mean\" and\n",
    "     - scaled with Z-transformation;\n",
    "\n",
    "   - Nominal features are:\n",
    "\n",
    "     - imputed with strategy=\"most_frequent\" and\n",
    "     - one-hot encoded appropriately;\n",
    "\n",
    "   - Ordinal features are:\n",
    "\n",
    "      - imputed with strategy=\"most_frequent\" and\n",
    "      - ordinal encoded appropriately,\n",
    "      \n",
    "   - and all these **transform** steps are finally assembled with [SequentialFeatureSelector](https://rasbt.github.io/mlxtend/user_guide/feature_selection/SequentialFeatureSelector/) algorithm from [mlextend](https://rasbt.github.io/mlxtend/) library to select the best subset of features with forward=False (in other words, backward elimination), scoring='r2', and cv=5. Tells us the optimum combination of features which predicts BMI. How did you select this combination?\n",
    "   \n",
    "- Note that this question involves use of [ColumnTransformer](https://scikit-learn.org/stable/modules/generated/sklearn.compose.ColumnTransformer.html) in the intermediate steps. Answers avoiding use of [ColumnTransformer](https://scikit-learn.org/stable/modules/generated/sklearn.compose.ColumnTransformer.html) will NOT BE ACCEPTED.  "
   ]
  },
  {
   "cell_type": "code",
   "execution_count": 232,
   "outputs": [],
   "source": [
    "from sklearn.model_selection import train_test_split\n",
    "\n",
    "from sklearn.pipeline import Pipeline\n",
    "from sklearn.compose import ColumnTransformer\n",
    "from sklearn.impute import SimpleImputer\n",
    "from sklearn.preprocessing import StandardScaler, OneHotEncoder, OrdinalEncoder\n",
    "\n",
    "from mlxtend.feature_selection import SequentialFeatureSelector as SFS\n",
    "from sklearn.linear_model import LinearRegression\n",
    "\n",
    "from sklearn.metrics import r2_score\n",
    "\n",
    "from sklearn import set_config\n",
    "set_config(transform_output=\"pandas\")"
   ],
   "metadata": {
    "collapsed": false,
    "ExecuteTime": {
     "end_time": "2023-11-23T16:31:19.498737600Z",
     "start_time": "2023-11-23T16:31:19.426486900Z"
    }
   },
   "id": "39db63c1080af77f"
  },
  {
   "cell_type": "markdown",
   "source": [
    "### Split the Data"
   ],
   "metadata": {
    "collapsed": false
   },
   "id": "756bbf8c17c8f070"
  },
  {
   "cell_type": "code",
   "execution_count": 233,
   "outputs": [],
   "source": [
    "#split the data %20 for test and %80 for train\n",
    "data_y = data[\"BMI\"]\n",
    "data_X = data.drop([\"BMI\"], axis=1)\n",
    "\n",
    "X_train, X_test, y_train, y_test = train_test_split(data_X, data_y, test_size=0.2, random_state=3333)"
   ],
   "metadata": {
    "collapsed": false,
    "ExecuteTime": {
     "end_time": "2023-11-23T16:31:19.498737600Z",
     "start_time": "2023-11-23T16:31:19.444330Z"
    }
   },
   "id": "e33b66d1e8542208"
  },
  {
   "cell_type": "markdown",
   "source": [
    "### Column Transformer"
   ],
   "metadata": {
    "collapsed": false
   },
   "id": "3bc7b4b4e3984b7b"
  },
  {
   "cell_type": "code",
   "execution_count": 234,
   "outputs": [],
   "source": [
    "#numeric columns\n",
    "numeric_features = [\"Age\", \"FCVC\", \"NCP\", \"CH2O\", \"FAF\", \"TUE\"]\n",
    "\n",
    "numeric_transformer = Pipeline(steps=[\n",
    "    ('imputer', SimpleImputer(strategy='mean')),\n",
    "    ('scaler', StandardScaler())])\n"
   ],
   "metadata": {
    "collapsed": false,
    "ExecuteTime": {
     "end_time": "2023-11-23T16:31:19.499740800Z",
     "start_time": "2023-11-23T16:31:19.459602400Z"
    }
   },
   "id": "a81ec561061de411"
  },
  {
   "cell_type": "code",
   "execution_count": 235,
   "outputs": [],
   "source": [
    "#nominal categorical columns\n",
    "categorical_features = [\"MTRANS\", \"Gender\", \"family_history_with_overweight\", \"FAVC\", \"SMOKE\", \"SCC\"]\n",
    "\n",
    "categorical_transformer = Pipeline(steps=[\n",
    "    ('imputer', SimpleImputer(strategy='most_frequent')),\n",
    "    ('onehot', OneHotEncoder(sparse_output=False, handle_unknown='ignore', drop='first'))]) # drop first column to avoid dummy variable trap"
   ],
   "metadata": {
    "collapsed": false,
    "ExecuteTime": {
     "end_time": "2023-11-23T16:31:19.530848900Z",
     "start_time": "2023-11-23T16:31:19.475657300Z"
    }
   },
   "id": "f3e75883d128818e"
  },
  {
   "cell_type": "code",
   "execution_count": 236,
   "outputs": [],
   "source": [
    "#ordinal categorical columns\n",
    "ordinal_features = [\"CAEC\", \"CALC\"]\n",
    "\n",
    "ordinal_transformer = Pipeline(steps=[\n",
    "    ('imputer', SimpleImputer(strategy='most_frequent')),\n",
    "    ('ordinal', OrdinalEncoder(handle_unknown='use_encoded_value', unknown_value=np.nan))]) "
   ],
   "metadata": {
    "collapsed": false,
    "ExecuteTime": {
     "end_time": "2023-11-23T16:31:19.586022600Z",
     "start_time": "2023-11-23T16:31:19.492497Z"
    }
   },
   "id": "e01b3b33b353ec54"
  },
  {
   "cell_type": "code",
   "execution_count": 237,
   "outputs": [],
   "source": [
    "#apply different transformations on different columns\n",
    "preprocessor = ColumnTransformer(\n",
    "    transformers=[\n",
    "        ('num', numeric_transformer, numeric_features),\n",
    "        ('cat', categorical_transformer, categorical_features),\n",
    "        ('ord', ordinal_transformer, ordinal_features)])"
   ],
   "metadata": {
    "collapsed": false,
    "ExecuteTime": {
     "end_time": "2023-11-23T16:31:19.617130500Z",
     "start_time": "2023-11-23T16:31:19.507768600Z"
    }
   },
   "id": "2e280e88fc4741a6"
  },
  {
   "cell_type": "markdown",
   "source": [
    "### Feature Selection"
   ],
   "metadata": {
    "collapsed": false
   },
   "id": "c77e5476bbbf139e"
  },
  {
   "cell_type": "code",
   "execution_count": 238,
   "outputs": [],
   "source": [
    "#apply feature selection\n",
    "feature_selector = SFS(LinearRegression(), \n",
    "                       k_features='best', # select the best subset of features\n",
    "                       forward=False, # backward elimination\n",
    "                       scoring='r2', # R2 score\n",
    "                       cv=5, # 5-fold cross validation\n",
    "                       verbose=2) # verbose = 2 to see the process"
   ],
   "metadata": {
    "collapsed": false,
    "ExecuteTime": {
     "end_time": "2023-11-23T16:31:19.631179Z",
     "start_time": "2023-11-23T16:31:19.523824300Z"
    }
   },
   "id": "d6640237fb1495b"
  },
  {
   "cell_type": "markdown",
   "source": [
    "### Pipeline"
   ],
   "metadata": {
    "collapsed": false
   },
   "id": "ea2292dfacb49f70"
  },
  {
   "cell_type": "code",
   "execution_count": 239,
   "outputs": [
    {
     "data": {
      "text/plain": "Pipeline(steps=[('preprocessor',\n                 ColumnTransformer(transformers=[('num',\n                                                  Pipeline(steps=[('imputer',\n                                                                   SimpleImputer()),\n                                                                  ('scaler',\n                                                                   StandardScaler())]),\n                                                  ['Age', 'FCVC', 'NCP', 'CH2O',\n                                                   'FAF', 'TUE']),\n                                                 ('cat',\n                                                  Pipeline(steps=[('imputer',\n                                                                   SimpleImputer(strategy='most_frequent')),\n                                                                  ('onehot',\n                                                                   OneHotEncoder(drop='first',\n                                                                                 handle_unknown='ignore',\n                                                                                 sparse_output=False))]),\n                                                  ['MT...\n                                                   'FAVC', 'SMOKE', 'SCC']),\n                                                 ('ord',\n                                                  Pipeline(steps=[('imputer',\n                                                                   SimpleImputer(strategy='most_frequent')),\n                                                                  ('ordinal',\n                                                                   OrdinalEncoder(handle_unknown='use_encoded_value',\n                                                                                  unknown_value=nan))]),\n                                                  ['CAEC', 'CALC'])])),\n                ('feature_selector',\n                 SequentialFeatureSelector(estimator=LinearRegression(),\n                                           forward=False, k_features='best',\n                                           scoring='r2', verbose=2)),\n                ('regressor', LinearRegression())])",
      "text/html": "<style>#sk-container-id-33 {color: black;}#sk-container-id-33 pre{padding: 0;}#sk-container-id-33 div.sk-toggleable {background-color: white;}#sk-container-id-33 label.sk-toggleable__label {cursor: pointer;display: block;width: 100%;margin-bottom: 0;padding: 0.3em;box-sizing: border-box;text-align: center;}#sk-container-id-33 label.sk-toggleable__label-arrow:before {content: \"▸\";float: left;margin-right: 0.25em;color: #696969;}#sk-container-id-33 label.sk-toggleable__label-arrow:hover:before {color: black;}#sk-container-id-33 div.sk-estimator:hover label.sk-toggleable__label-arrow:before {color: black;}#sk-container-id-33 div.sk-toggleable__content {max-height: 0;max-width: 0;overflow: hidden;text-align: left;background-color: #f0f8ff;}#sk-container-id-33 div.sk-toggleable__content pre {margin: 0.2em;color: black;border-radius: 0.25em;background-color: #f0f8ff;}#sk-container-id-33 input.sk-toggleable__control:checked~div.sk-toggleable__content {max-height: 200px;max-width: 100%;overflow: auto;}#sk-container-id-33 input.sk-toggleable__control:checked~label.sk-toggleable__label-arrow:before {content: \"▾\";}#sk-container-id-33 div.sk-estimator input.sk-toggleable__control:checked~label.sk-toggleable__label {background-color: #d4ebff;}#sk-container-id-33 div.sk-label input.sk-toggleable__control:checked~label.sk-toggleable__label {background-color: #d4ebff;}#sk-container-id-33 input.sk-hidden--visually {border: 0;clip: rect(1px 1px 1px 1px);clip: rect(1px, 1px, 1px, 1px);height: 1px;margin: -1px;overflow: hidden;padding: 0;position: absolute;width: 1px;}#sk-container-id-33 div.sk-estimator {font-family: monospace;background-color: #f0f8ff;border: 1px dotted black;border-radius: 0.25em;box-sizing: border-box;margin-bottom: 0.5em;}#sk-container-id-33 div.sk-estimator:hover {background-color: #d4ebff;}#sk-container-id-33 div.sk-parallel-item::after {content: \"\";width: 100%;border-bottom: 1px solid gray;flex-grow: 1;}#sk-container-id-33 div.sk-label:hover label.sk-toggleable__label {background-color: #d4ebff;}#sk-container-id-33 div.sk-serial::before {content: \"\";position: absolute;border-left: 1px solid gray;box-sizing: border-box;top: 0;bottom: 0;left: 50%;z-index: 0;}#sk-container-id-33 div.sk-serial {display: flex;flex-direction: column;align-items: center;background-color: white;padding-right: 0.2em;padding-left: 0.2em;position: relative;}#sk-container-id-33 div.sk-item {position: relative;z-index: 1;}#sk-container-id-33 div.sk-parallel {display: flex;align-items: stretch;justify-content: center;background-color: white;position: relative;}#sk-container-id-33 div.sk-item::before, #sk-container-id-33 div.sk-parallel-item::before {content: \"\";position: absolute;border-left: 1px solid gray;box-sizing: border-box;top: 0;bottom: 0;left: 50%;z-index: -1;}#sk-container-id-33 div.sk-parallel-item {display: flex;flex-direction: column;z-index: 1;position: relative;background-color: white;}#sk-container-id-33 div.sk-parallel-item:first-child::after {align-self: flex-end;width: 50%;}#sk-container-id-33 div.sk-parallel-item:last-child::after {align-self: flex-start;width: 50%;}#sk-container-id-33 div.sk-parallel-item:only-child::after {width: 0;}#sk-container-id-33 div.sk-dashed-wrapped {border: 1px dashed gray;margin: 0 0.4em 0.5em 0.4em;box-sizing: border-box;padding-bottom: 0.4em;background-color: white;}#sk-container-id-33 div.sk-label label {font-family: monospace;font-weight: bold;display: inline-block;line-height: 1.2em;}#sk-container-id-33 div.sk-label-container {text-align: center;}#sk-container-id-33 div.sk-container {/* jupyter's `normalize.less` sets `[hidden] { display: none; }` but bootstrap.min.css set `[hidden] { display: none !important; }` so we also need the `!important` here to be able to override the default hidden behavior on the sphinx rendered scikit-learn.org. See: https://github.com/scikit-learn/scikit-learn/issues/21755 */display: inline-block !important;position: relative;}#sk-container-id-33 div.sk-text-repr-fallback {display: none;}</style><div id=\"sk-container-id-33\" class=\"sk-top-container\"><div class=\"sk-text-repr-fallback\"><pre>Pipeline(steps=[(&#x27;preprocessor&#x27;,\n                 ColumnTransformer(transformers=[(&#x27;num&#x27;,\n                                                  Pipeline(steps=[(&#x27;imputer&#x27;,\n                                                                   SimpleImputer()),\n                                                                  (&#x27;scaler&#x27;,\n                                                                   StandardScaler())]),\n                                                  [&#x27;Age&#x27;, &#x27;FCVC&#x27;, &#x27;NCP&#x27;, &#x27;CH2O&#x27;,\n                                                   &#x27;FAF&#x27;, &#x27;TUE&#x27;]),\n                                                 (&#x27;cat&#x27;,\n                                                  Pipeline(steps=[(&#x27;imputer&#x27;,\n                                                                   SimpleImputer(strategy=&#x27;most_frequent&#x27;)),\n                                                                  (&#x27;onehot&#x27;,\n                                                                   OneHotEncoder(drop=&#x27;first&#x27;,\n                                                                                 handle_unknown=&#x27;ignore&#x27;,\n                                                                                 sparse_output=False))]),\n                                                  [&#x27;MT...\n                                                   &#x27;FAVC&#x27;, &#x27;SMOKE&#x27;, &#x27;SCC&#x27;]),\n                                                 (&#x27;ord&#x27;,\n                                                  Pipeline(steps=[(&#x27;imputer&#x27;,\n                                                                   SimpleImputer(strategy=&#x27;most_frequent&#x27;)),\n                                                                  (&#x27;ordinal&#x27;,\n                                                                   OrdinalEncoder(handle_unknown=&#x27;use_encoded_value&#x27;,\n                                                                                  unknown_value=nan))]),\n                                                  [&#x27;CAEC&#x27;, &#x27;CALC&#x27;])])),\n                (&#x27;feature_selector&#x27;,\n                 SequentialFeatureSelector(estimator=LinearRegression(),\n                                           forward=False, k_features=&#x27;best&#x27;,\n                                           scoring=&#x27;r2&#x27;, verbose=2)),\n                (&#x27;regressor&#x27;, LinearRegression())])</pre><b>In a Jupyter environment, please rerun this cell to show the HTML representation or trust the notebook. <br />On GitHub, the HTML representation is unable to render, please try loading this page with nbviewer.org.</b></div><div class=\"sk-container\" hidden><div class=\"sk-item sk-dashed-wrapped\"><div class=\"sk-label-container\"><div class=\"sk-label sk-toggleable\"><input class=\"sk-toggleable__control sk-hidden--visually\" id=\"sk-estimator-id-433\" type=\"checkbox\" ><label for=\"sk-estimator-id-433\" class=\"sk-toggleable__label sk-toggleable__label-arrow\">Pipeline</label><div class=\"sk-toggleable__content\"><pre>Pipeline(steps=[(&#x27;preprocessor&#x27;,\n                 ColumnTransformer(transformers=[(&#x27;num&#x27;,\n                                                  Pipeline(steps=[(&#x27;imputer&#x27;,\n                                                                   SimpleImputer()),\n                                                                  (&#x27;scaler&#x27;,\n                                                                   StandardScaler())]),\n                                                  [&#x27;Age&#x27;, &#x27;FCVC&#x27;, &#x27;NCP&#x27;, &#x27;CH2O&#x27;,\n                                                   &#x27;FAF&#x27;, &#x27;TUE&#x27;]),\n                                                 (&#x27;cat&#x27;,\n                                                  Pipeline(steps=[(&#x27;imputer&#x27;,\n                                                                   SimpleImputer(strategy=&#x27;most_frequent&#x27;)),\n                                                                  (&#x27;onehot&#x27;,\n                                                                   OneHotEncoder(drop=&#x27;first&#x27;,\n                                                                                 handle_unknown=&#x27;ignore&#x27;,\n                                                                                 sparse_output=False))]),\n                                                  [&#x27;MT...\n                                                   &#x27;FAVC&#x27;, &#x27;SMOKE&#x27;, &#x27;SCC&#x27;]),\n                                                 (&#x27;ord&#x27;,\n                                                  Pipeline(steps=[(&#x27;imputer&#x27;,\n                                                                   SimpleImputer(strategy=&#x27;most_frequent&#x27;)),\n                                                                  (&#x27;ordinal&#x27;,\n                                                                   OrdinalEncoder(handle_unknown=&#x27;use_encoded_value&#x27;,\n                                                                                  unknown_value=nan))]),\n                                                  [&#x27;CAEC&#x27;, &#x27;CALC&#x27;])])),\n                (&#x27;feature_selector&#x27;,\n                 SequentialFeatureSelector(estimator=LinearRegression(),\n                                           forward=False, k_features=&#x27;best&#x27;,\n                                           scoring=&#x27;r2&#x27;, verbose=2)),\n                (&#x27;regressor&#x27;, LinearRegression())])</pre></div></div></div><div class=\"sk-serial\"><div class=\"sk-item sk-dashed-wrapped\"><div class=\"sk-label-container\"><div class=\"sk-label sk-toggleable\"><input class=\"sk-toggleable__control sk-hidden--visually\" id=\"sk-estimator-id-434\" type=\"checkbox\" ><label for=\"sk-estimator-id-434\" class=\"sk-toggleable__label sk-toggleable__label-arrow\">preprocessor: ColumnTransformer</label><div class=\"sk-toggleable__content\"><pre>ColumnTransformer(transformers=[(&#x27;num&#x27;,\n                                 Pipeline(steps=[(&#x27;imputer&#x27;, SimpleImputer()),\n                                                 (&#x27;scaler&#x27;, StandardScaler())]),\n                                 [&#x27;Age&#x27;, &#x27;FCVC&#x27;, &#x27;NCP&#x27;, &#x27;CH2O&#x27;, &#x27;FAF&#x27;, &#x27;TUE&#x27;]),\n                                (&#x27;cat&#x27;,\n                                 Pipeline(steps=[(&#x27;imputer&#x27;,\n                                                  SimpleImputer(strategy=&#x27;most_frequent&#x27;)),\n                                                 (&#x27;onehot&#x27;,\n                                                  OneHotEncoder(drop=&#x27;first&#x27;,\n                                                                handle_unknown=&#x27;ignore&#x27;,\n                                                                sparse_output=False))]),\n                                 [&#x27;MTRANS&#x27;, &#x27;Gender&#x27;,\n                                  &#x27;family_history_with_overweight&#x27;, &#x27;FAVC&#x27;,\n                                  &#x27;SMOKE&#x27;, &#x27;SCC&#x27;]),\n                                (&#x27;ord&#x27;,\n                                 Pipeline(steps=[(&#x27;imputer&#x27;,\n                                                  SimpleImputer(strategy=&#x27;most_frequent&#x27;)),\n                                                 (&#x27;ordinal&#x27;,\n                                                  OrdinalEncoder(handle_unknown=&#x27;use_encoded_value&#x27;,\n                                                                 unknown_value=nan))]),\n                                 [&#x27;CAEC&#x27;, &#x27;CALC&#x27;])])</pre></div></div></div><div class=\"sk-parallel\"><div class=\"sk-parallel-item\"><div class=\"sk-item\"><div class=\"sk-label-container\"><div class=\"sk-label sk-toggleable\"><input class=\"sk-toggleable__control sk-hidden--visually\" id=\"sk-estimator-id-435\" type=\"checkbox\" ><label for=\"sk-estimator-id-435\" class=\"sk-toggleable__label sk-toggleable__label-arrow\">num</label><div class=\"sk-toggleable__content\"><pre>[&#x27;Age&#x27;, &#x27;FCVC&#x27;, &#x27;NCP&#x27;, &#x27;CH2O&#x27;, &#x27;FAF&#x27;, &#x27;TUE&#x27;]</pre></div></div></div><div class=\"sk-serial\"><div class=\"sk-item\"><div class=\"sk-serial\"><div class=\"sk-item\"><div class=\"sk-estimator sk-toggleable\"><input class=\"sk-toggleable__control sk-hidden--visually\" id=\"sk-estimator-id-436\" type=\"checkbox\" ><label for=\"sk-estimator-id-436\" class=\"sk-toggleable__label sk-toggleable__label-arrow\">SimpleImputer</label><div class=\"sk-toggleable__content\"><pre>SimpleImputer()</pre></div></div></div><div class=\"sk-item\"><div class=\"sk-estimator sk-toggleable\"><input class=\"sk-toggleable__control sk-hidden--visually\" id=\"sk-estimator-id-437\" type=\"checkbox\" ><label for=\"sk-estimator-id-437\" class=\"sk-toggleable__label sk-toggleable__label-arrow\">StandardScaler</label><div class=\"sk-toggleable__content\"><pre>StandardScaler()</pre></div></div></div></div></div></div></div></div><div class=\"sk-parallel-item\"><div class=\"sk-item\"><div class=\"sk-label-container\"><div class=\"sk-label sk-toggleable\"><input class=\"sk-toggleable__control sk-hidden--visually\" id=\"sk-estimator-id-438\" type=\"checkbox\" ><label for=\"sk-estimator-id-438\" class=\"sk-toggleable__label sk-toggleable__label-arrow\">cat</label><div class=\"sk-toggleable__content\"><pre>[&#x27;MTRANS&#x27;, &#x27;Gender&#x27;, &#x27;family_history_with_overweight&#x27;, &#x27;FAVC&#x27;, &#x27;SMOKE&#x27;, &#x27;SCC&#x27;]</pre></div></div></div><div class=\"sk-serial\"><div class=\"sk-item\"><div class=\"sk-serial\"><div class=\"sk-item\"><div class=\"sk-estimator sk-toggleable\"><input class=\"sk-toggleable__control sk-hidden--visually\" id=\"sk-estimator-id-439\" type=\"checkbox\" ><label for=\"sk-estimator-id-439\" class=\"sk-toggleable__label sk-toggleable__label-arrow\">SimpleImputer</label><div class=\"sk-toggleable__content\"><pre>SimpleImputer(strategy=&#x27;most_frequent&#x27;)</pre></div></div></div><div class=\"sk-item\"><div class=\"sk-estimator sk-toggleable\"><input class=\"sk-toggleable__control sk-hidden--visually\" id=\"sk-estimator-id-440\" type=\"checkbox\" ><label for=\"sk-estimator-id-440\" class=\"sk-toggleable__label sk-toggleable__label-arrow\">OneHotEncoder</label><div class=\"sk-toggleable__content\"><pre>OneHotEncoder(drop=&#x27;first&#x27;, handle_unknown=&#x27;ignore&#x27;, sparse_output=False)</pre></div></div></div></div></div></div></div></div><div class=\"sk-parallel-item\"><div class=\"sk-item\"><div class=\"sk-label-container\"><div class=\"sk-label sk-toggleable\"><input class=\"sk-toggleable__control sk-hidden--visually\" id=\"sk-estimator-id-441\" type=\"checkbox\" ><label for=\"sk-estimator-id-441\" class=\"sk-toggleable__label sk-toggleable__label-arrow\">ord</label><div class=\"sk-toggleable__content\"><pre>[&#x27;CAEC&#x27;, &#x27;CALC&#x27;]</pre></div></div></div><div class=\"sk-serial\"><div class=\"sk-item\"><div class=\"sk-serial\"><div class=\"sk-item\"><div class=\"sk-estimator sk-toggleable\"><input class=\"sk-toggleable__control sk-hidden--visually\" id=\"sk-estimator-id-442\" type=\"checkbox\" ><label for=\"sk-estimator-id-442\" class=\"sk-toggleable__label sk-toggleable__label-arrow\">SimpleImputer</label><div class=\"sk-toggleable__content\"><pre>SimpleImputer(strategy=&#x27;most_frequent&#x27;)</pre></div></div></div><div class=\"sk-item\"><div class=\"sk-estimator sk-toggleable\"><input class=\"sk-toggleable__control sk-hidden--visually\" id=\"sk-estimator-id-443\" type=\"checkbox\" ><label for=\"sk-estimator-id-443\" class=\"sk-toggleable__label sk-toggleable__label-arrow\">OrdinalEncoder</label><div class=\"sk-toggleable__content\"><pre>OrdinalEncoder(handle_unknown=&#x27;use_encoded_value&#x27;, unknown_value=nan)</pre></div></div></div></div></div></div></div></div></div></div><div class=\"sk-item sk-dashed-wrapped\"><div class=\"sk-label-container\"><div class=\"sk-label sk-toggleable\"><input class=\"sk-toggleable__control sk-hidden--visually\" id=\"sk-estimator-id-444\" type=\"checkbox\" ><label for=\"sk-estimator-id-444\" class=\"sk-toggleable__label sk-toggleable__label-arrow\">feature_selector: SequentialFeatureSelector</label><div class=\"sk-toggleable__content\"><pre>SequentialFeatureSelector(estimator=LinearRegression(), forward=False,\n                          k_features=&#x27;best&#x27;, scoring=&#x27;r2&#x27;, verbose=2)</pre></div></div></div><div class=\"sk-parallel\"><div class=\"sk-parallel-item\"><div class=\"sk-item\"><div class=\"sk-label-container\"><div class=\"sk-label sk-toggleable\"><input class=\"sk-toggleable__control sk-hidden--visually\" id=\"sk-estimator-id-445\" type=\"checkbox\" ><label for=\"sk-estimator-id-445\" class=\"sk-toggleable__label sk-toggleable__label-arrow\">estimator: LinearRegression</label><div class=\"sk-toggleable__content\"><pre>LinearRegression()</pre></div></div></div><div class=\"sk-serial\"><div class=\"sk-item\"><div class=\"sk-estimator sk-toggleable\"><input class=\"sk-toggleable__control sk-hidden--visually\" id=\"sk-estimator-id-446\" type=\"checkbox\" ><label for=\"sk-estimator-id-446\" class=\"sk-toggleable__label sk-toggleable__label-arrow\">LinearRegression</label><div class=\"sk-toggleable__content\"><pre>LinearRegression()</pre></div></div></div></div></div></div></div></div><div class=\"sk-item\"><div class=\"sk-estimator sk-toggleable\"><input class=\"sk-toggleable__control sk-hidden--visually\" id=\"sk-estimator-id-447\" type=\"checkbox\" ><label for=\"sk-estimator-id-447\" class=\"sk-toggleable__label sk-toggleable__label-arrow\">LinearRegression</label><div class=\"sk-toggleable__content\"><pre>LinearRegression()</pre></div></div></div></div></div></div></div>"
     },
     "execution_count": 239,
     "metadata": {},
     "output_type": "execute_result"
    }
   ],
   "source": [
    "#shema of the pipeline\n",
    "pipe_sfs = Pipeline(steps=[('preprocessor', preprocessor),\n",
    "                       ('feature_selector', feature_selector),\n",
    "                       ('regressor', LinearRegression())])\n",
    "\n",
    "pipe_sfs"
   ],
   "metadata": {
    "collapsed": false,
    "ExecuteTime": {
     "end_time": "2023-11-23T16:31:19.675332Z",
     "start_time": "2023-11-23T16:31:19.541887Z"
    }
   },
   "id": "b929f59cc9205631"
  },
  {
   "cell_type": "markdown",
   "source": [
    "**Step 3:** Report $R^2$ of the **best model (i.e. the model with optimum features)** found in **Step 2** on train and test data, respectively. (Note here that the number of features in train and test datasets should be less than the original number of features due to feature selection)."
   ],
   "metadata": {
    "collapsed": false
   },
   "id": "8cce19c7-ba58-4551-97b7-2548f5d4998f"
  },
  {
   "cell_type": "code",
   "execution_count": 240,
   "outputs": [
    {
     "name": "stderr",
     "output_type": "stream",
     "text": [
      "\n",
      "[2023-11-23 19:31:19] Features: 16/1 -- score: 0.4303815731094235\n",
      "[2023-11-23 19:31:19] Features: 15/1 -- score: 0.43082198043698483\n",
      "[2023-11-23 19:31:19] Features: 14/1 -- score: 0.43112941285031\n",
      "[2023-11-23 19:31:19] Features: 13/1 -- score: 0.4313274341837353\n",
      "[2023-11-23 19:31:19] Features: 12/1 -- score: 0.43054991917138546\n",
      "[2023-11-23 19:31:20] Features: 11/1 -- score: 0.4297205812277113\n",
      "[2023-11-23 19:31:20] Features: 10/1 -- score: 0.4287184874331659\n",
      "[2023-11-23 19:31:20] Features: 9/1 -- score: 0.4264036613544812\n",
      "[2023-11-23 19:31:20] Features: 8/1 -- score: 0.4240683899802292\n",
      "[2023-11-23 19:31:20] Features: 7/1 -- score: 0.41746419959199893\n",
      "[2023-11-23 19:31:20] Features: 6/1 -- score: 0.40682579498238497\n",
      "[2023-11-23 19:31:20] Features: 5/1 -- score: 0.3930931495957742\n",
      "[2023-11-23 19:31:20] Features: 4/1 -- score: 0.347032373215099\n",
      "[2023-11-23 19:31:20] Features: 3/1 -- score: 0.32887965246477957\n",
      "[2023-11-23 19:31:20] Features: 2/1 -- score: 0.27045851904085205\n",
      "[2023-11-23 19:31:20] Features: 1/1 -- score: 0.21272779148025495"
     ]
    },
    {
     "data": {
      "text/plain": "Pipeline(steps=[('preprocessor',\n                 ColumnTransformer(transformers=[('num',\n                                                  Pipeline(steps=[('imputer',\n                                                                   SimpleImputer()),\n                                                                  ('scaler',\n                                                                   StandardScaler())]),\n                                                  ['Age', 'FCVC', 'NCP', 'CH2O',\n                                                   'FAF', 'TUE']),\n                                                 ('cat',\n                                                  Pipeline(steps=[('imputer',\n                                                                   SimpleImputer(strategy='most_frequent')),\n                                                                  ('onehot',\n                                                                   OneHotEncoder(drop='first',\n                                                                                 handle_unknown='ignore',\n                                                                                 sparse_output=False))]),\n                                                  ['MT...\n                                                   'FAVC', 'SMOKE', 'SCC']),\n                                                 ('ord',\n                                                  Pipeline(steps=[('imputer',\n                                                                   SimpleImputer(strategy='most_frequent')),\n                                                                  ('ordinal',\n                                                                   OrdinalEncoder(handle_unknown='use_encoded_value',\n                                                                                  unknown_value=nan))]),\n                                                  ['CAEC', 'CALC'])])),\n                ('feature_selector',\n                 SequentialFeatureSelector(estimator=LinearRegression(),\n                                           forward=False, k_features=(1, 17),\n                                           scoring='r2', verbose=2)),\n                ('regressor', LinearRegression())])",
      "text/html": "<style>#sk-container-id-34 {color: black;}#sk-container-id-34 pre{padding: 0;}#sk-container-id-34 div.sk-toggleable {background-color: white;}#sk-container-id-34 label.sk-toggleable__label {cursor: pointer;display: block;width: 100%;margin-bottom: 0;padding: 0.3em;box-sizing: border-box;text-align: center;}#sk-container-id-34 label.sk-toggleable__label-arrow:before {content: \"▸\";float: left;margin-right: 0.25em;color: #696969;}#sk-container-id-34 label.sk-toggleable__label-arrow:hover:before {color: black;}#sk-container-id-34 div.sk-estimator:hover label.sk-toggleable__label-arrow:before {color: black;}#sk-container-id-34 div.sk-toggleable__content {max-height: 0;max-width: 0;overflow: hidden;text-align: left;background-color: #f0f8ff;}#sk-container-id-34 div.sk-toggleable__content pre {margin: 0.2em;color: black;border-radius: 0.25em;background-color: #f0f8ff;}#sk-container-id-34 input.sk-toggleable__control:checked~div.sk-toggleable__content {max-height: 200px;max-width: 100%;overflow: auto;}#sk-container-id-34 input.sk-toggleable__control:checked~label.sk-toggleable__label-arrow:before {content: \"▾\";}#sk-container-id-34 div.sk-estimator input.sk-toggleable__control:checked~label.sk-toggleable__label {background-color: #d4ebff;}#sk-container-id-34 div.sk-label input.sk-toggleable__control:checked~label.sk-toggleable__label {background-color: #d4ebff;}#sk-container-id-34 input.sk-hidden--visually {border: 0;clip: rect(1px 1px 1px 1px);clip: rect(1px, 1px, 1px, 1px);height: 1px;margin: -1px;overflow: hidden;padding: 0;position: absolute;width: 1px;}#sk-container-id-34 div.sk-estimator {font-family: monospace;background-color: #f0f8ff;border: 1px dotted black;border-radius: 0.25em;box-sizing: border-box;margin-bottom: 0.5em;}#sk-container-id-34 div.sk-estimator:hover {background-color: #d4ebff;}#sk-container-id-34 div.sk-parallel-item::after {content: \"\";width: 100%;border-bottom: 1px solid gray;flex-grow: 1;}#sk-container-id-34 div.sk-label:hover label.sk-toggleable__label {background-color: #d4ebff;}#sk-container-id-34 div.sk-serial::before {content: \"\";position: absolute;border-left: 1px solid gray;box-sizing: border-box;top: 0;bottom: 0;left: 50%;z-index: 0;}#sk-container-id-34 div.sk-serial {display: flex;flex-direction: column;align-items: center;background-color: white;padding-right: 0.2em;padding-left: 0.2em;position: relative;}#sk-container-id-34 div.sk-item {position: relative;z-index: 1;}#sk-container-id-34 div.sk-parallel {display: flex;align-items: stretch;justify-content: center;background-color: white;position: relative;}#sk-container-id-34 div.sk-item::before, #sk-container-id-34 div.sk-parallel-item::before {content: \"\";position: absolute;border-left: 1px solid gray;box-sizing: border-box;top: 0;bottom: 0;left: 50%;z-index: -1;}#sk-container-id-34 div.sk-parallel-item {display: flex;flex-direction: column;z-index: 1;position: relative;background-color: white;}#sk-container-id-34 div.sk-parallel-item:first-child::after {align-self: flex-end;width: 50%;}#sk-container-id-34 div.sk-parallel-item:last-child::after {align-self: flex-start;width: 50%;}#sk-container-id-34 div.sk-parallel-item:only-child::after {width: 0;}#sk-container-id-34 div.sk-dashed-wrapped {border: 1px dashed gray;margin: 0 0.4em 0.5em 0.4em;box-sizing: border-box;padding-bottom: 0.4em;background-color: white;}#sk-container-id-34 div.sk-label label {font-family: monospace;font-weight: bold;display: inline-block;line-height: 1.2em;}#sk-container-id-34 div.sk-label-container {text-align: center;}#sk-container-id-34 div.sk-container {/* jupyter's `normalize.less` sets `[hidden] { display: none; }` but bootstrap.min.css set `[hidden] { display: none !important; }` so we also need the `!important` here to be able to override the default hidden behavior on the sphinx rendered scikit-learn.org. See: https://github.com/scikit-learn/scikit-learn/issues/21755 */display: inline-block !important;position: relative;}#sk-container-id-34 div.sk-text-repr-fallback {display: none;}</style><div id=\"sk-container-id-34\" class=\"sk-top-container\"><div class=\"sk-text-repr-fallback\"><pre>Pipeline(steps=[(&#x27;preprocessor&#x27;,\n                 ColumnTransformer(transformers=[(&#x27;num&#x27;,\n                                                  Pipeline(steps=[(&#x27;imputer&#x27;,\n                                                                   SimpleImputer()),\n                                                                  (&#x27;scaler&#x27;,\n                                                                   StandardScaler())]),\n                                                  [&#x27;Age&#x27;, &#x27;FCVC&#x27;, &#x27;NCP&#x27;, &#x27;CH2O&#x27;,\n                                                   &#x27;FAF&#x27;, &#x27;TUE&#x27;]),\n                                                 (&#x27;cat&#x27;,\n                                                  Pipeline(steps=[(&#x27;imputer&#x27;,\n                                                                   SimpleImputer(strategy=&#x27;most_frequent&#x27;)),\n                                                                  (&#x27;onehot&#x27;,\n                                                                   OneHotEncoder(drop=&#x27;first&#x27;,\n                                                                                 handle_unknown=&#x27;ignore&#x27;,\n                                                                                 sparse_output=False))]),\n                                                  [&#x27;MT...\n                                                   &#x27;FAVC&#x27;, &#x27;SMOKE&#x27;, &#x27;SCC&#x27;]),\n                                                 (&#x27;ord&#x27;,\n                                                  Pipeline(steps=[(&#x27;imputer&#x27;,\n                                                                   SimpleImputer(strategy=&#x27;most_frequent&#x27;)),\n                                                                  (&#x27;ordinal&#x27;,\n                                                                   OrdinalEncoder(handle_unknown=&#x27;use_encoded_value&#x27;,\n                                                                                  unknown_value=nan))]),\n                                                  [&#x27;CAEC&#x27;, &#x27;CALC&#x27;])])),\n                (&#x27;feature_selector&#x27;,\n                 SequentialFeatureSelector(estimator=LinearRegression(),\n                                           forward=False, k_features=(1, 17),\n                                           scoring=&#x27;r2&#x27;, verbose=2)),\n                (&#x27;regressor&#x27;, LinearRegression())])</pre><b>In a Jupyter environment, please rerun this cell to show the HTML representation or trust the notebook. <br />On GitHub, the HTML representation is unable to render, please try loading this page with nbviewer.org.</b></div><div class=\"sk-container\" hidden><div class=\"sk-item sk-dashed-wrapped\"><div class=\"sk-label-container\"><div class=\"sk-label sk-toggleable\"><input class=\"sk-toggleable__control sk-hidden--visually\" id=\"sk-estimator-id-448\" type=\"checkbox\" ><label for=\"sk-estimator-id-448\" class=\"sk-toggleable__label sk-toggleable__label-arrow\">Pipeline</label><div class=\"sk-toggleable__content\"><pre>Pipeline(steps=[(&#x27;preprocessor&#x27;,\n                 ColumnTransformer(transformers=[(&#x27;num&#x27;,\n                                                  Pipeline(steps=[(&#x27;imputer&#x27;,\n                                                                   SimpleImputer()),\n                                                                  (&#x27;scaler&#x27;,\n                                                                   StandardScaler())]),\n                                                  [&#x27;Age&#x27;, &#x27;FCVC&#x27;, &#x27;NCP&#x27;, &#x27;CH2O&#x27;,\n                                                   &#x27;FAF&#x27;, &#x27;TUE&#x27;]),\n                                                 (&#x27;cat&#x27;,\n                                                  Pipeline(steps=[(&#x27;imputer&#x27;,\n                                                                   SimpleImputer(strategy=&#x27;most_frequent&#x27;)),\n                                                                  (&#x27;onehot&#x27;,\n                                                                   OneHotEncoder(drop=&#x27;first&#x27;,\n                                                                                 handle_unknown=&#x27;ignore&#x27;,\n                                                                                 sparse_output=False))]),\n                                                  [&#x27;MT...\n                                                   &#x27;FAVC&#x27;, &#x27;SMOKE&#x27;, &#x27;SCC&#x27;]),\n                                                 (&#x27;ord&#x27;,\n                                                  Pipeline(steps=[(&#x27;imputer&#x27;,\n                                                                   SimpleImputer(strategy=&#x27;most_frequent&#x27;)),\n                                                                  (&#x27;ordinal&#x27;,\n                                                                   OrdinalEncoder(handle_unknown=&#x27;use_encoded_value&#x27;,\n                                                                                  unknown_value=nan))]),\n                                                  [&#x27;CAEC&#x27;, &#x27;CALC&#x27;])])),\n                (&#x27;feature_selector&#x27;,\n                 SequentialFeatureSelector(estimator=LinearRegression(),\n                                           forward=False, k_features=(1, 17),\n                                           scoring=&#x27;r2&#x27;, verbose=2)),\n                (&#x27;regressor&#x27;, LinearRegression())])</pre></div></div></div><div class=\"sk-serial\"><div class=\"sk-item sk-dashed-wrapped\"><div class=\"sk-label-container\"><div class=\"sk-label sk-toggleable\"><input class=\"sk-toggleable__control sk-hidden--visually\" id=\"sk-estimator-id-449\" type=\"checkbox\" ><label for=\"sk-estimator-id-449\" class=\"sk-toggleable__label sk-toggleable__label-arrow\">preprocessor: ColumnTransformer</label><div class=\"sk-toggleable__content\"><pre>ColumnTransformer(transformers=[(&#x27;num&#x27;,\n                                 Pipeline(steps=[(&#x27;imputer&#x27;, SimpleImputer()),\n                                                 (&#x27;scaler&#x27;, StandardScaler())]),\n                                 [&#x27;Age&#x27;, &#x27;FCVC&#x27;, &#x27;NCP&#x27;, &#x27;CH2O&#x27;, &#x27;FAF&#x27;, &#x27;TUE&#x27;]),\n                                (&#x27;cat&#x27;,\n                                 Pipeline(steps=[(&#x27;imputer&#x27;,\n                                                  SimpleImputer(strategy=&#x27;most_frequent&#x27;)),\n                                                 (&#x27;onehot&#x27;,\n                                                  OneHotEncoder(drop=&#x27;first&#x27;,\n                                                                handle_unknown=&#x27;ignore&#x27;,\n                                                                sparse_output=False))]),\n                                 [&#x27;MTRANS&#x27;, &#x27;Gender&#x27;,\n                                  &#x27;family_history_with_overweight&#x27;, &#x27;FAVC&#x27;,\n                                  &#x27;SMOKE&#x27;, &#x27;SCC&#x27;]),\n                                (&#x27;ord&#x27;,\n                                 Pipeline(steps=[(&#x27;imputer&#x27;,\n                                                  SimpleImputer(strategy=&#x27;most_frequent&#x27;)),\n                                                 (&#x27;ordinal&#x27;,\n                                                  OrdinalEncoder(handle_unknown=&#x27;use_encoded_value&#x27;,\n                                                                 unknown_value=nan))]),\n                                 [&#x27;CAEC&#x27;, &#x27;CALC&#x27;])])</pre></div></div></div><div class=\"sk-parallel\"><div class=\"sk-parallel-item\"><div class=\"sk-item\"><div class=\"sk-label-container\"><div class=\"sk-label sk-toggleable\"><input class=\"sk-toggleable__control sk-hidden--visually\" id=\"sk-estimator-id-450\" type=\"checkbox\" ><label for=\"sk-estimator-id-450\" class=\"sk-toggleable__label sk-toggleable__label-arrow\">num</label><div class=\"sk-toggleable__content\"><pre>[&#x27;Age&#x27;, &#x27;FCVC&#x27;, &#x27;NCP&#x27;, &#x27;CH2O&#x27;, &#x27;FAF&#x27;, &#x27;TUE&#x27;]</pre></div></div></div><div class=\"sk-serial\"><div class=\"sk-item\"><div class=\"sk-serial\"><div class=\"sk-item\"><div class=\"sk-estimator sk-toggleable\"><input class=\"sk-toggleable__control sk-hidden--visually\" id=\"sk-estimator-id-451\" type=\"checkbox\" ><label for=\"sk-estimator-id-451\" class=\"sk-toggleable__label sk-toggleable__label-arrow\">SimpleImputer</label><div class=\"sk-toggleable__content\"><pre>SimpleImputer()</pre></div></div></div><div class=\"sk-item\"><div class=\"sk-estimator sk-toggleable\"><input class=\"sk-toggleable__control sk-hidden--visually\" id=\"sk-estimator-id-452\" type=\"checkbox\" ><label for=\"sk-estimator-id-452\" class=\"sk-toggleable__label sk-toggleable__label-arrow\">StandardScaler</label><div class=\"sk-toggleable__content\"><pre>StandardScaler()</pre></div></div></div></div></div></div></div></div><div class=\"sk-parallel-item\"><div class=\"sk-item\"><div class=\"sk-label-container\"><div class=\"sk-label sk-toggleable\"><input class=\"sk-toggleable__control sk-hidden--visually\" id=\"sk-estimator-id-453\" type=\"checkbox\" ><label for=\"sk-estimator-id-453\" class=\"sk-toggleable__label sk-toggleable__label-arrow\">cat</label><div class=\"sk-toggleable__content\"><pre>[&#x27;MTRANS&#x27;, &#x27;Gender&#x27;, &#x27;family_history_with_overweight&#x27;, &#x27;FAVC&#x27;, &#x27;SMOKE&#x27;, &#x27;SCC&#x27;]</pre></div></div></div><div class=\"sk-serial\"><div class=\"sk-item\"><div class=\"sk-serial\"><div class=\"sk-item\"><div class=\"sk-estimator sk-toggleable\"><input class=\"sk-toggleable__control sk-hidden--visually\" id=\"sk-estimator-id-454\" type=\"checkbox\" ><label for=\"sk-estimator-id-454\" class=\"sk-toggleable__label sk-toggleable__label-arrow\">SimpleImputer</label><div class=\"sk-toggleable__content\"><pre>SimpleImputer(strategy=&#x27;most_frequent&#x27;)</pre></div></div></div><div class=\"sk-item\"><div class=\"sk-estimator sk-toggleable\"><input class=\"sk-toggleable__control sk-hidden--visually\" id=\"sk-estimator-id-455\" type=\"checkbox\" ><label for=\"sk-estimator-id-455\" class=\"sk-toggleable__label sk-toggleable__label-arrow\">OneHotEncoder</label><div class=\"sk-toggleable__content\"><pre>OneHotEncoder(drop=&#x27;first&#x27;, handle_unknown=&#x27;ignore&#x27;, sparse_output=False)</pre></div></div></div></div></div></div></div></div><div class=\"sk-parallel-item\"><div class=\"sk-item\"><div class=\"sk-label-container\"><div class=\"sk-label sk-toggleable\"><input class=\"sk-toggleable__control sk-hidden--visually\" id=\"sk-estimator-id-456\" type=\"checkbox\" ><label for=\"sk-estimator-id-456\" class=\"sk-toggleable__label sk-toggleable__label-arrow\">ord</label><div class=\"sk-toggleable__content\"><pre>[&#x27;CAEC&#x27;, &#x27;CALC&#x27;]</pre></div></div></div><div class=\"sk-serial\"><div class=\"sk-item\"><div class=\"sk-serial\"><div class=\"sk-item\"><div class=\"sk-estimator sk-toggleable\"><input class=\"sk-toggleable__control sk-hidden--visually\" id=\"sk-estimator-id-457\" type=\"checkbox\" ><label for=\"sk-estimator-id-457\" class=\"sk-toggleable__label sk-toggleable__label-arrow\">SimpleImputer</label><div class=\"sk-toggleable__content\"><pre>SimpleImputer(strategy=&#x27;most_frequent&#x27;)</pre></div></div></div><div class=\"sk-item\"><div class=\"sk-estimator sk-toggleable\"><input class=\"sk-toggleable__control sk-hidden--visually\" id=\"sk-estimator-id-458\" type=\"checkbox\" ><label for=\"sk-estimator-id-458\" class=\"sk-toggleable__label sk-toggleable__label-arrow\">OrdinalEncoder</label><div class=\"sk-toggleable__content\"><pre>OrdinalEncoder(handle_unknown=&#x27;use_encoded_value&#x27;, unknown_value=nan)</pre></div></div></div></div></div></div></div></div></div></div><div class=\"sk-item sk-dashed-wrapped\"><div class=\"sk-label-container\"><div class=\"sk-label sk-toggleable\"><input class=\"sk-toggleable__control sk-hidden--visually\" id=\"sk-estimator-id-459\" type=\"checkbox\" ><label for=\"sk-estimator-id-459\" class=\"sk-toggleable__label sk-toggleable__label-arrow\">feature_selector: SequentialFeatureSelector</label><div class=\"sk-toggleable__content\"><pre>SequentialFeatureSelector(estimator=LinearRegression(), forward=False,\n                          k_features=(1, 17), scoring=&#x27;r2&#x27;, verbose=2)</pre></div></div></div><div class=\"sk-parallel\"><div class=\"sk-parallel-item\"><div class=\"sk-item\"><div class=\"sk-label-container\"><div class=\"sk-label sk-toggleable\"><input class=\"sk-toggleable__control sk-hidden--visually\" id=\"sk-estimator-id-460\" type=\"checkbox\" ><label for=\"sk-estimator-id-460\" class=\"sk-toggleable__label sk-toggleable__label-arrow\">estimator: LinearRegression</label><div class=\"sk-toggleable__content\"><pre>LinearRegression()</pre></div></div></div><div class=\"sk-serial\"><div class=\"sk-item\"><div class=\"sk-estimator sk-toggleable\"><input class=\"sk-toggleable__control sk-hidden--visually\" id=\"sk-estimator-id-461\" type=\"checkbox\" ><label for=\"sk-estimator-id-461\" class=\"sk-toggleable__label sk-toggleable__label-arrow\">LinearRegression</label><div class=\"sk-toggleable__content\"><pre>LinearRegression()</pre></div></div></div></div></div></div></div></div><div class=\"sk-item\"><div class=\"sk-estimator sk-toggleable\"><input class=\"sk-toggleable__control sk-hidden--visually\" id=\"sk-estimator-id-462\" type=\"checkbox\" ><label for=\"sk-estimator-id-462\" class=\"sk-toggleable__label sk-toggleable__label-arrow\">LinearRegression</label><div class=\"sk-toggleable__content\"><pre>LinearRegression()</pre></div></div></div></div></div></div></div>"
     },
     "execution_count": 240,
     "metadata": {},
     "output_type": "execute_result"
    }
   ],
   "source": [
    "#train the model\n",
    "pipe_sfs.fit(X_train, y_train)"
   ],
   "metadata": {
    "collapsed": false,
    "ExecuteTime": {
     "end_time": "2023-11-23T16:31:20.339635100Z",
     "start_time": "2023-11-23T16:31:19.588029200Z"
    }
   },
   "id": "17564fdb3503e809"
  },
  {
   "cell_type": "code",
   "execution_count": 241,
   "outputs": [
    {
     "name": "stdout",
     "output_type": "stream",
     "text": [
      "Optimum combination of features: (0, 1, 2, 3, 4, 5, 8, 10, 11, 12, 14, 15, 16)\n"
     ]
    }
   ],
   "source": [
    "selected_features_indices = pipe_sfs.named_steps['feature_selector'].k_feature_idx_\n",
    "\n",
    "# Display the optimum combination of features\n",
    "print('Optimum combination of features:', selected_features_indices)"
   ],
   "metadata": {
    "collapsed": false,
    "ExecuteTime": {
     "end_time": "2023-11-23T16:31:20.355677500Z",
     "start_time": "2023-11-23T16:31:20.338631500Z"
    }
   },
   "id": "67b90d7a4accf98e"
  },
  {
   "cell_type": "markdown",
   "source": [
    "13/17 features are selected by the feature selection algorithm. The selected features are shown below:"
   ],
   "metadata": {
    "collapsed": false
   },
   "id": "c9c52b03866c5cde"
  },
  {
   "cell_type": "code",
   "execution_count": 242,
   "outputs": [
    {
     "data": {
      "text/plain": "('num__Age',\n 'num__FCVC',\n 'num__NCP',\n 'num__CH2O',\n 'num__FAF',\n 'num__TUE',\n 'cat__MTRANS_Public_Transportation',\n 'cat__Gender_Male',\n 'cat__family_history_with_overweight_yes',\n 'cat__FAVC_yes',\n 'cat__SCC_yes',\n 'ord__CAEC',\n 'ord__CALC')"
     },
     "execution_count": 242,
     "metadata": {},
     "output_type": "execute_result"
    }
   ],
   "source": [
    "#show the selected features\n",
    "pipe_sfs.named_steps['feature_selector'].k_feature_names_"
   ],
   "metadata": {
    "collapsed": false,
    "ExecuteTime": {
     "end_time": "2023-11-23T16:31:20.401013800Z",
     "start_time": "2023-11-23T16:31:20.355677500Z"
    }
   },
   "id": "eed324f4a793c448"
  },
  {
   "cell_type": "code",
   "execution_count": 243,
   "outputs": [],
   "source": [
    "#predict the train and test data\n",
    "y_train_pred_sfs = pipe_sfs.predict(X_train)\n",
    "y_test_pred_sfs = pipe_sfs.predict(X_test)"
   ],
   "metadata": {
    "collapsed": false,
    "ExecuteTime": {
     "end_time": "2023-11-23T16:31:20.412052700Z",
     "start_time": "2023-11-23T16:31:20.370909600Z"
    }
   },
   "id": "645ada3a31c04b56"
  },
  {
   "cell_type": "code",
   "execution_count": 244,
   "outputs": [],
   "source": [
    "#calculate the R2 score\n",
    "r2_train_sfs = r2_score(y_train, y_train_pred_sfs)\n",
    "r2_test_sfs = r2_score(y_test, y_test_pred_sfs)"
   ],
   "metadata": {
    "collapsed": false,
    "ExecuteTime": {
     "end_time": "2023-11-23T16:31:20.413055400Z",
     "start_time": "2023-11-23T16:31:20.386965100Z"
    }
   },
   "id": "3b44dca95fbacfc5"
  },
  {
   "cell_type": "code",
   "execution_count": 245,
   "outputs": [
    {
     "name": "stdout",
     "output_type": "stream",
     "text": [
      " R2 score on train data:  0.4438662144907958 \n",
      " ------------------------------------------- \n",
      " R2 score on test data:  0.46241677266488324\n"
     ]
    }
   ],
   "source": [
    "#print the R2 score\n",
    "print(\" R2 score on train data: \", r2_train_sfs, \"\\n\", \"-\"*43, \"\\n\", \"R2 score on test data: \", r2_test_sfs)"
   ],
   "metadata": {
    "collapsed": false,
    "ExecuteTime": {
     "end_time": "2023-11-23T16:31:20.425097800Z",
     "start_time": "2023-11-23T16:31:20.403021400Z"
    }
   },
   "id": "80face3ad1095d96"
  },
  {
   "cell_type": "markdown",
   "source": [
    "**Step 4:** Repeat **Step 2** when the final estimator is only linear regression (i.e., without feature selection). "
   ],
   "metadata": {
    "collapsed": false
   },
   "id": "836620e5-cff4-4a36-b03c-f9df6710e3bd"
  },
  {
   "cell_type": "code",
   "execution_count": 246,
   "outputs": [
    {
     "data": {
      "text/plain": "Pipeline(steps=[('preprocessor',\n                 ColumnTransformer(transformers=[('num',\n                                                  Pipeline(steps=[('imputer',\n                                                                   SimpleImputer()),\n                                                                  ('scaler',\n                                                                   StandardScaler())]),\n                                                  ['Age', 'FCVC', 'NCP', 'CH2O',\n                                                   'FAF', 'TUE']),\n                                                 ('cat',\n                                                  Pipeline(steps=[('imputer',\n                                                                   SimpleImputer(strategy='most_frequent')),\n                                                                  ('onehot',\n                                                                   OneHotEncoder(drop='first',\n                                                                                 handle_unknown='ignore',\n                                                                                 sparse_output=False))]),\n                                                  ['MTRANS', 'Gender',\n                                                   'family_history_with_overweight',\n                                                   'FAVC', 'SMOKE', 'SCC']),\n                                                 ('ord',\n                                                  Pipeline(steps=[('imputer',\n                                                                   SimpleImputer(strategy='most_frequent')),\n                                                                  ('ordinal',\n                                                                   OrdinalEncoder(handle_unknown='use_encoded_value',\n                                                                                  unknown_value=nan))]),\n                                                  ['CAEC', 'CALC'])])),\n                ('regressor', LinearRegression())])",
      "text/html": "<style>#sk-container-id-35 {color: black;}#sk-container-id-35 pre{padding: 0;}#sk-container-id-35 div.sk-toggleable {background-color: white;}#sk-container-id-35 label.sk-toggleable__label {cursor: pointer;display: block;width: 100%;margin-bottom: 0;padding: 0.3em;box-sizing: border-box;text-align: center;}#sk-container-id-35 label.sk-toggleable__label-arrow:before {content: \"▸\";float: left;margin-right: 0.25em;color: #696969;}#sk-container-id-35 label.sk-toggleable__label-arrow:hover:before {color: black;}#sk-container-id-35 div.sk-estimator:hover label.sk-toggleable__label-arrow:before {color: black;}#sk-container-id-35 div.sk-toggleable__content {max-height: 0;max-width: 0;overflow: hidden;text-align: left;background-color: #f0f8ff;}#sk-container-id-35 div.sk-toggleable__content pre {margin: 0.2em;color: black;border-radius: 0.25em;background-color: #f0f8ff;}#sk-container-id-35 input.sk-toggleable__control:checked~div.sk-toggleable__content {max-height: 200px;max-width: 100%;overflow: auto;}#sk-container-id-35 input.sk-toggleable__control:checked~label.sk-toggleable__label-arrow:before {content: \"▾\";}#sk-container-id-35 div.sk-estimator input.sk-toggleable__control:checked~label.sk-toggleable__label {background-color: #d4ebff;}#sk-container-id-35 div.sk-label input.sk-toggleable__control:checked~label.sk-toggleable__label {background-color: #d4ebff;}#sk-container-id-35 input.sk-hidden--visually {border: 0;clip: rect(1px 1px 1px 1px);clip: rect(1px, 1px, 1px, 1px);height: 1px;margin: -1px;overflow: hidden;padding: 0;position: absolute;width: 1px;}#sk-container-id-35 div.sk-estimator {font-family: monospace;background-color: #f0f8ff;border: 1px dotted black;border-radius: 0.25em;box-sizing: border-box;margin-bottom: 0.5em;}#sk-container-id-35 div.sk-estimator:hover {background-color: #d4ebff;}#sk-container-id-35 div.sk-parallel-item::after {content: \"\";width: 100%;border-bottom: 1px solid gray;flex-grow: 1;}#sk-container-id-35 div.sk-label:hover label.sk-toggleable__label {background-color: #d4ebff;}#sk-container-id-35 div.sk-serial::before {content: \"\";position: absolute;border-left: 1px solid gray;box-sizing: border-box;top: 0;bottom: 0;left: 50%;z-index: 0;}#sk-container-id-35 div.sk-serial {display: flex;flex-direction: column;align-items: center;background-color: white;padding-right: 0.2em;padding-left: 0.2em;position: relative;}#sk-container-id-35 div.sk-item {position: relative;z-index: 1;}#sk-container-id-35 div.sk-parallel {display: flex;align-items: stretch;justify-content: center;background-color: white;position: relative;}#sk-container-id-35 div.sk-item::before, #sk-container-id-35 div.sk-parallel-item::before {content: \"\";position: absolute;border-left: 1px solid gray;box-sizing: border-box;top: 0;bottom: 0;left: 50%;z-index: -1;}#sk-container-id-35 div.sk-parallel-item {display: flex;flex-direction: column;z-index: 1;position: relative;background-color: white;}#sk-container-id-35 div.sk-parallel-item:first-child::after {align-self: flex-end;width: 50%;}#sk-container-id-35 div.sk-parallel-item:last-child::after {align-self: flex-start;width: 50%;}#sk-container-id-35 div.sk-parallel-item:only-child::after {width: 0;}#sk-container-id-35 div.sk-dashed-wrapped {border: 1px dashed gray;margin: 0 0.4em 0.5em 0.4em;box-sizing: border-box;padding-bottom: 0.4em;background-color: white;}#sk-container-id-35 div.sk-label label {font-family: monospace;font-weight: bold;display: inline-block;line-height: 1.2em;}#sk-container-id-35 div.sk-label-container {text-align: center;}#sk-container-id-35 div.sk-container {/* jupyter's `normalize.less` sets `[hidden] { display: none; }` but bootstrap.min.css set `[hidden] { display: none !important; }` so we also need the `!important` here to be able to override the default hidden behavior on the sphinx rendered scikit-learn.org. See: https://github.com/scikit-learn/scikit-learn/issues/21755 */display: inline-block !important;position: relative;}#sk-container-id-35 div.sk-text-repr-fallback {display: none;}</style><div id=\"sk-container-id-35\" class=\"sk-top-container\"><div class=\"sk-text-repr-fallback\"><pre>Pipeline(steps=[(&#x27;preprocessor&#x27;,\n                 ColumnTransformer(transformers=[(&#x27;num&#x27;,\n                                                  Pipeline(steps=[(&#x27;imputer&#x27;,\n                                                                   SimpleImputer()),\n                                                                  (&#x27;scaler&#x27;,\n                                                                   StandardScaler())]),\n                                                  [&#x27;Age&#x27;, &#x27;FCVC&#x27;, &#x27;NCP&#x27;, &#x27;CH2O&#x27;,\n                                                   &#x27;FAF&#x27;, &#x27;TUE&#x27;]),\n                                                 (&#x27;cat&#x27;,\n                                                  Pipeline(steps=[(&#x27;imputer&#x27;,\n                                                                   SimpleImputer(strategy=&#x27;most_frequent&#x27;)),\n                                                                  (&#x27;onehot&#x27;,\n                                                                   OneHotEncoder(drop=&#x27;first&#x27;,\n                                                                                 handle_unknown=&#x27;ignore&#x27;,\n                                                                                 sparse_output=False))]),\n                                                  [&#x27;MTRANS&#x27;, &#x27;Gender&#x27;,\n                                                   &#x27;family_history_with_overweight&#x27;,\n                                                   &#x27;FAVC&#x27;, &#x27;SMOKE&#x27;, &#x27;SCC&#x27;]),\n                                                 (&#x27;ord&#x27;,\n                                                  Pipeline(steps=[(&#x27;imputer&#x27;,\n                                                                   SimpleImputer(strategy=&#x27;most_frequent&#x27;)),\n                                                                  (&#x27;ordinal&#x27;,\n                                                                   OrdinalEncoder(handle_unknown=&#x27;use_encoded_value&#x27;,\n                                                                                  unknown_value=nan))]),\n                                                  [&#x27;CAEC&#x27;, &#x27;CALC&#x27;])])),\n                (&#x27;regressor&#x27;, LinearRegression())])</pre><b>In a Jupyter environment, please rerun this cell to show the HTML representation or trust the notebook. <br />On GitHub, the HTML representation is unable to render, please try loading this page with nbviewer.org.</b></div><div class=\"sk-container\" hidden><div class=\"sk-item sk-dashed-wrapped\"><div class=\"sk-label-container\"><div class=\"sk-label sk-toggleable\"><input class=\"sk-toggleable__control sk-hidden--visually\" id=\"sk-estimator-id-463\" type=\"checkbox\" ><label for=\"sk-estimator-id-463\" class=\"sk-toggleable__label sk-toggleable__label-arrow\">Pipeline</label><div class=\"sk-toggleable__content\"><pre>Pipeline(steps=[(&#x27;preprocessor&#x27;,\n                 ColumnTransformer(transformers=[(&#x27;num&#x27;,\n                                                  Pipeline(steps=[(&#x27;imputer&#x27;,\n                                                                   SimpleImputer()),\n                                                                  (&#x27;scaler&#x27;,\n                                                                   StandardScaler())]),\n                                                  [&#x27;Age&#x27;, &#x27;FCVC&#x27;, &#x27;NCP&#x27;, &#x27;CH2O&#x27;,\n                                                   &#x27;FAF&#x27;, &#x27;TUE&#x27;]),\n                                                 (&#x27;cat&#x27;,\n                                                  Pipeline(steps=[(&#x27;imputer&#x27;,\n                                                                   SimpleImputer(strategy=&#x27;most_frequent&#x27;)),\n                                                                  (&#x27;onehot&#x27;,\n                                                                   OneHotEncoder(drop=&#x27;first&#x27;,\n                                                                                 handle_unknown=&#x27;ignore&#x27;,\n                                                                                 sparse_output=False))]),\n                                                  [&#x27;MTRANS&#x27;, &#x27;Gender&#x27;,\n                                                   &#x27;family_history_with_overweight&#x27;,\n                                                   &#x27;FAVC&#x27;, &#x27;SMOKE&#x27;, &#x27;SCC&#x27;]),\n                                                 (&#x27;ord&#x27;,\n                                                  Pipeline(steps=[(&#x27;imputer&#x27;,\n                                                                   SimpleImputer(strategy=&#x27;most_frequent&#x27;)),\n                                                                  (&#x27;ordinal&#x27;,\n                                                                   OrdinalEncoder(handle_unknown=&#x27;use_encoded_value&#x27;,\n                                                                                  unknown_value=nan))]),\n                                                  [&#x27;CAEC&#x27;, &#x27;CALC&#x27;])])),\n                (&#x27;regressor&#x27;, LinearRegression())])</pre></div></div></div><div class=\"sk-serial\"><div class=\"sk-item sk-dashed-wrapped\"><div class=\"sk-label-container\"><div class=\"sk-label sk-toggleable\"><input class=\"sk-toggleable__control sk-hidden--visually\" id=\"sk-estimator-id-464\" type=\"checkbox\" ><label for=\"sk-estimator-id-464\" class=\"sk-toggleable__label sk-toggleable__label-arrow\">preprocessor: ColumnTransformer</label><div class=\"sk-toggleable__content\"><pre>ColumnTransformer(transformers=[(&#x27;num&#x27;,\n                                 Pipeline(steps=[(&#x27;imputer&#x27;, SimpleImputer()),\n                                                 (&#x27;scaler&#x27;, StandardScaler())]),\n                                 [&#x27;Age&#x27;, &#x27;FCVC&#x27;, &#x27;NCP&#x27;, &#x27;CH2O&#x27;, &#x27;FAF&#x27;, &#x27;TUE&#x27;]),\n                                (&#x27;cat&#x27;,\n                                 Pipeline(steps=[(&#x27;imputer&#x27;,\n                                                  SimpleImputer(strategy=&#x27;most_frequent&#x27;)),\n                                                 (&#x27;onehot&#x27;,\n                                                  OneHotEncoder(drop=&#x27;first&#x27;,\n                                                                handle_unknown=&#x27;ignore&#x27;,\n                                                                sparse_output=False))]),\n                                 [&#x27;MTRANS&#x27;, &#x27;Gender&#x27;,\n                                  &#x27;family_history_with_overweight&#x27;, &#x27;FAVC&#x27;,\n                                  &#x27;SMOKE&#x27;, &#x27;SCC&#x27;]),\n                                (&#x27;ord&#x27;,\n                                 Pipeline(steps=[(&#x27;imputer&#x27;,\n                                                  SimpleImputer(strategy=&#x27;most_frequent&#x27;)),\n                                                 (&#x27;ordinal&#x27;,\n                                                  OrdinalEncoder(handle_unknown=&#x27;use_encoded_value&#x27;,\n                                                                 unknown_value=nan))]),\n                                 [&#x27;CAEC&#x27;, &#x27;CALC&#x27;])])</pre></div></div></div><div class=\"sk-parallel\"><div class=\"sk-parallel-item\"><div class=\"sk-item\"><div class=\"sk-label-container\"><div class=\"sk-label sk-toggleable\"><input class=\"sk-toggleable__control sk-hidden--visually\" id=\"sk-estimator-id-465\" type=\"checkbox\" ><label for=\"sk-estimator-id-465\" class=\"sk-toggleable__label sk-toggleable__label-arrow\">num</label><div class=\"sk-toggleable__content\"><pre>[&#x27;Age&#x27;, &#x27;FCVC&#x27;, &#x27;NCP&#x27;, &#x27;CH2O&#x27;, &#x27;FAF&#x27;, &#x27;TUE&#x27;]</pre></div></div></div><div class=\"sk-serial\"><div class=\"sk-item\"><div class=\"sk-serial\"><div class=\"sk-item\"><div class=\"sk-estimator sk-toggleable\"><input class=\"sk-toggleable__control sk-hidden--visually\" id=\"sk-estimator-id-466\" type=\"checkbox\" ><label for=\"sk-estimator-id-466\" class=\"sk-toggleable__label sk-toggleable__label-arrow\">SimpleImputer</label><div class=\"sk-toggleable__content\"><pre>SimpleImputer()</pre></div></div></div><div class=\"sk-item\"><div class=\"sk-estimator sk-toggleable\"><input class=\"sk-toggleable__control sk-hidden--visually\" id=\"sk-estimator-id-467\" type=\"checkbox\" ><label for=\"sk-estimator-id-467\" class=\"sk-toggleable__label sk-toggleable__label-arrow\">StandardScaler</label><div class=\"sk-toggleable__content\"><pre>StandardScaler()</pre></div></div></div></div></div></div></div></div><div class=\"sk-parallel-item\"><div class=\"sk-item\"><div class=\"sk-label-container\"><div class=\"sk-label sk-toggleable\"><input class=\"sk-toggleable__control sk-hidden--visually\" id=\"sk-estimator-id-468\" type=\"checkbox\" ><label for=\"sk-estimator-id-468\" class=\"sk-toggleable__label sk-toggleable__label-arrow\">cat</label><div class=\"sk-toggleable__content\"><pre>[&#x27;MTRANS&#x27;, &#x27;Gender&#x27;, &#x27;family_history_with_overweight&#x27;, &#x27;FAVC&#x27;, &#x27;SMOKE&#x27;, &#x27;SCC&#x27;]</pre></div></div></div><div class=\"sk-serial\"><div class=\"sk-item\"><div class=\"sk-serial\"><div class=\"sk-item\"><div class=\"sk-estimator sk-toggleable\"><input class=\"sk-toggleable__control sk-hidden--visually\" id=\"sk-estimator-id-469\" type=\"checkbox\" ><label for=\"sk-estimator-id-469\" class=\"sk-toggleable__label sk-toggleable__label-arrow\">SimpleImputer</label><div class=\"sk-toggleable__content\"><pre>SimpleImputer(strategy=&#x27;most_frequent&#x27;)</pre></div></div></div><div class=\"sk-item\"><div class=\"sk-estimator sk-toggleable\"><input class=\"sk-toggleable__control sk-hidden--visually\" id=\"sk-estimator-id-470\" type=\"checkbox\" ><label for=\"sk-estimator-id-470\" class=\"sk-toggleable__label sk-toggleable__label-arrow\">OneHotEncoder</label><div class=\"sk-toggleable__content\"><pre>OneHotEncoder(drop=&#x27;first&#x27;, handle_unknown=&#x27;ignore&#x27;, sparse_output=False)</pre></div></div></div></div></div></div></div></div><div class=\"sk-parallel-item\"><div class=\"sk-item\"><div class=\"sk-label-container\"><div class=\"sk-label sk-toggleable\"><input class=\"sk-toggleable__control sk-hidden--visually\" id=\"sk-estimator-id-471\" type=\"checkbox\" ><label for=\"sk-estimator-id-471\" class=\"sk-toggleable__label sk-toggleable__label-arrow\">ord</label><div class=\"sk-toggleable__content\"><pre>[&#x27;CAEC&#x27;, &#x27;CALC&#x27;]</pre></div></div></div><div class=\"sk-serial\"><div class=\"sk-item\"><div class=\"sk-serial\"><div class=\"sk-item\"><div class=\"sk-estimator sk-toggleable\"><input class=\"sk-toggleable__control sk-hidden--visually\" id=\"sk-estimator-id-472\" type=\"checkbox\" ><label for=\"sk-estimator-id-472\" class=\"sk-toggleable__label sk-toggleable__label-arrow\">SimpleImputer</label><div class=\"sk-toggleable__content\"><pre>SimpleImputer(strategy=&#x27;most_frequent&#x27;)</pre></div></div></div><div class=\"sk-item\"><div class=\"sk-estimator sk-toggleable\"><input class=\"sk-toggleable__control sk-hidden--visually\" id=\"sk-estimator-id-473\" type=\"checkbox\" ><label for=\"sk-estimator-id-473\" class=\"sk-toggleable__label sk-toggleable__label-arrow\">OrdinalEncoder</label><div class=\"sk-toggleable__content\"><pre>OrdinalEncoder(handle_unknown=&#x27;use_encoded_value&#x27;, unknown_value=nan)</pre></div></div></div></div></div></div></div></div></div></div><div class=\"sk-item\"><div class=\"sk-estimator sk-toggleable\"><input class=\"sk-toggleable__control sk-hidden--visually\" id=\"sk-estimator-id-474\" type=\"checkbox\" ><label for=\"sk-estimator-id-474\" class=\"sk-toggleable__label sk-toggleable__label-arrow\">LinearRegression</label><div class=\"sk-toggleable__content\"><pre>LinearRegression()</pre></div></div></div></div></div></div></div>"
     },
     "execution_count": 246,
     "metadata": {},
     "output_type": "execute_result"
    }
   ],
   "source": [
    "# create the pipeline without feature selection\n",
    "pipe = Pipeline(steps=[('preprocessor', preprocessor),\n",
    "                       ('regressor', LinearRegression())])\n",
    "\n",
    "pipe"
   ],
   "metadata": {
    "collapsed": false,
    "ExecuteTime": {
     "end_time": "2023-11-23T16:31:20.490324100Z",
     "start_time": "2023-11-23T16:31:20.419076700Z"
    }
   },
   "id": "5b2715e83b15b835"
  },
  {
   "cell_type": "markdown",
   "source": [
    "**Step 5:** Report the $R^2$ of the linear regression model without any feature selection on train and test data, respectively."
   ],
   "metadata": {
    "collapsed": false
   },
   "id": "a076fd57-facf-4b98-871d-9be250de5acb"
  },
  {
   "cell_type": "code",
   "execution_count": 247,
   "outputs": [
    {
     "data": {
      "text/plain": "Pipeline(steps=[('preprocessor',\n                 ColumnTransformer(transformers=[('num',\n                                                  Pipeline(steps=[('imputer',\n                                                                   SimpleImputer()),\n                                                                  ('scaler',\n                                                                   StandardScaler())]),\n                                                  ['Age', 'FCVC', 'NCP', 'CH2O',\n                                                   'FAF', 'TUE']),\n                                                 ('cat',\n                                                  Pipeline(steps=[('imputer',\n                                                                   SimpleImputer(strategy='most_frequent')),\n                                                                  ('onehot',\n                                                                   OneHotEncoder(drop='first',\n                                                                                 handle_unknown='ignore',\n                                                                                 sparse_output=False))]),\n                                                  ['MTRANS', 'Gender',\n                                                   'family_history_with_overweight',\n                                                   'FAVC', 'SMOKE', 'SCC']),\n                                                 ('ord',\n                                                  Pipeline(steps=[('imputer',\n                                                                   SimpleImputer(strategy='most_frequent')),\n                                                                  ('ordinal',\n                                                                   OrdinalEncoder(handle_unknown='use_encoded_value',\n                                                                                  unknown_value=nan))]),\n                                                  ['CAEC', 'CALC'])])),\n                ('regressor', LinearRegression())])",
      "text/html": "<style>#sk-container-id-36 {color: black;}#sk-container-id-36 pre{padding: 0;}#sk-container-id-36 div.sk-toggleable {background-color: white;}#sk-container-id-36 label.sk-toggleable__label {cursor: pointer;display: block;width: 100%;margin-bottom: 0;padding: 0.3em;box-sizing: border-box;text-align: center;}#sk-container-id-36 label.sk-toggleable__label-arrow:before {content: \"▸\";float: left;margin-right: 0.25em;color: #696969;}#sk-container-id-36 label.sk-toggleable__label-arrow:hover:before {color: black;}#sk-container-id-36 div.sk-estimator:hover label.sk-toggleable__label-arrow:before {color: black;}#sk-container-id-36 div.sk-toggleable__content {max-height: 0;max-width: 0;overflow: hidden;text-align: left;background-color: #f0f8ff;}#sk-container-id-36 div.sk-toggleable__content pre {margin: 0.2em;color: black;border-radius: 0.25em;background-color: #f0f8ff;}#sk-container-id-36 input.sk-toggleable__control:checked~div.sk-toggleable__content {max-height: 200px;max-width: 100%;overflow: auto;}#sk-container-id-36 input.sk-toggleable__control:checked~label.sk-toggleable__label-arrow:before {content: \"▾\";}#sk-container-id-36 div.sk-estimator input.sk-toggleable__control:checked~label.sk-toggleable__label {background-color: #d4ebff;}#sk-container-id-36 div.sk-label input.sk-toggleable__control:checked~label.sk-toggleable__label {background-color: #d4ebff;}#sk-container-id-36 input.sk-hidden--visually {border: 0;clip: rect(1px 1px 1px 1px);clip: rect(1px, 1px, 1px, 1px);height: 1px;margin: -1px;overflow: hidden;padding: 0;position: absolute;width: 1px;}#sk-container-id-36 div.sk-estimator {font-family: monospace;background-color: #f0f8ff;border: 1px dotted black;border-radius: 0.25em;box-sizing: border-box;margin-bottom: 0.5em;}#sk-container-id-36 div.sk-estimator:hover {background-color: #d4ebff;}#sk-container-id-36 div.sk-parallel-item::after {content: \"\";width: 100%;border-bottom: 1px solid gray;flex-grow: 1;}#sk-container-id-36 div.sk-label:hover label.sk-toggleable__label {background-color: #d4ebff;}#sk-container-id-36 div.sk-serial::before {content: \"\";position: absolute;border-left: 1px solid gray;box-sizing: border-box;top: 0;bottom: 0;left: 50%;z-index: 0;}#sk-container-id-36 div.sk-serial {display: flex;flex-direction: column;align-items: center;background-color: white;padding-right: 0.2em;padding-left: 0.2em;position: relative;}#sk-container-id-36 div.sk-item {position: relative;z-index: 1;}#sk-container-id-36 div.sk-parallel {display: flex;align-items: stretch;justify-content: center;background-color: white;position: relative;}#sk-container-id-36 div.sk-item::before, #sk-container-id-36 div.sk-parallel-item::before {content: \"\";position: absolute;border-left: 1px solid gray;box-sizing: border-box;top: 0;bottom: 0;left: 50%;z-index: -1;}#sk-container-id-36 div.sk-parallel-item {display: flex;flex-direction: column;z-index: 1;position: relative;background-color: white;}#sk-container-id-36 div.sk-parallel-item:first-child::after {align-self: flex-end;width: 50%;}#sk-container-id-36 div.sk-parallel-item:last-child::after {align-self: flex-start;width: 50%;}#sk-container-id-36 div.sk-parallel-item:only-child::after {width: 0;}#sk-container-id-36 div.sk-dashed-wrapped {border: 1px dashed gray;margin: 0 0.4em 0.5em 0.4em;box-sizing: border-box;padding-bottom: 0.4em;background-color: white;}#sk-container-id-36 div.sk-label label {font-family: monospace;font-weight: bold;display: inline-block;line-height: 1.2em;}#sk-container-id-36 div.sk-label-container {text-align: center;}#sk-container-id-36 div.sk-container {/* jupyter's `normalize.less` sets `[hidden] { display: none; }` but bootstrap.min.css set `[hidden] { display: none !important; }` so we also need the `!important` here to be able to override the default hidden behavior on the sphinx rendered scikit-learn.org. See: https://github.com/scikit-learn/scikit-learn/issues/21755 */display: inline-block !important;position: relative;}#sk-container-id-36 div.sk-text-repr-fallback {display: none;}</style><div id=\"sk-container-id-36\" class=\"sk-top-container\"><div class=\"sk-text-repr-fallback\"><pre>Pipeline(steps=[(&#x27;preprocessor&#x27;,\n                 ColumnTransformer(transformers=[(&#x27;num&#x27;,\n                                                  Pipeline(steps=[(&#x27;imputer&#x27;,\n                                                                   SimpleImputer()),\n                                                                  (&#x27;scaler&#x27;,\n                                                                   StandardScaler())]),\n                                                  [&#x27;Age&#x27;, &#x27;FCVC&#x27;, &#x27;NCP&#x27;, &#x27;CH2O&#x27;,\n                                                   &#x27;FAF&#x27;, &#x27;TUE&#x27;]),\n                                                 (&#x27;cat&#x27;,\n                                                  Pipeline(steps=[(&#x27;imputer&#x27;,\n                                                                   SimpleImputer(strategy=&#x27;most_frequent&#x27;)),\n                                                                  (&#x27;onehot&#x27;,\n                                                                   OneHotEncoder(drop=&#x27;first&#x27;,\n                                                                                 handle_unknown=&#x27;ignore&#x27;,\n                                                                                 sparse_output=False))]),\n                                                  [&#x27;MTRANS&#x27;, &#x27;Gender&#x27;,\n                                                   &#x27;family_history_with_overweight&#x27;,\n                                                   &#x27;FAVC&#x27;, &#x27;SMOKE&#x27;, &#x27;SCC&#x27;]),\n                                                 (&#x27;ord&#x27;,\n                                                  Pipeline(steps=[(&#x27;imputer&#x27;,\n                                                                   SimpleImputer(strategy=&#x27;most_frequent&#x27;)),\n                                                                  (&#x27;ordinal&#x27;,\n                                                                   OrdinalEncoder(handle_unknown=&#x27;use_encoded_value&#x27;,\n                                                                                  unknown_value=nan))]),\n                                                  [&#x27;CAEC&#x27;, &#x27;CALC&#x27;])])),\n                (&#x27;regressor&#x27;, LinearRegression())])</pre><b>In a Jupyter environment, please rerun this cell to show the HTML representation or trust the notebook. <br />On GitHub, the HTML representation is unable to render, please try loading this page with nbviewer.org.</b></div><div class=\"sk-container\" hidden><div class=\"sk-item sk-dashed-wrapped\"><div class=\"sk-label-container\"><div class=\"sk-label sk-toggleable\"><input class=\"sk-toggleable__control sk-hidden--visually\" id=\"sk-estimator-id-475\" type=\"checkbox\" ><label for=\"sk-estimator-id-475\" class=\"sk-toggleable__label sk-toggleable__label-arrow\">Pipeline</label><div class=\"sk-toggleable__content\"><pre>Pipeline(steps=[(&#x27;preprocessor&#x27;,\n                 ColumnTransformer(transformers=[(&#x27;num&#x27;,\n                                                  Pipeline(steps=[(&#x27;imputer&#x27;,\n                                                                   SimpleImputer()),\n                                                                  (&#x27;scaler&#x27;,\n                                                                   StandardScaler())]),\n                                                  [&#x27;Age&#x27;, &#x27;FCVC&#x27;, &#x27;NCP&#x27;, &#x27;CH2O&#x27;,\n                                                   &#x27;FAF&#x27;, &#x27;TUE&#x27;]),\n                                                 (&#x27;cat&#x27;,\n                                                  Pipeline(steps=[(&#x27;imputer&#x27;,\n                                                                   SimpleImputer(strategy=&#x27;most_frequent&#x27;)),\n                                                                  (&#x27;onehot&#x27;,\n                                                                   OneHotEncoder(drop=&#x27;first&#x27;,\n                                                                                 handle_unknown=&#x27;ignore&#x27;,\n                                                                                 sparse_output=False))]),\n                                                  [&#x27;MTRANS&#x27;, &#x27;Gender&#x27;,\n                                                   &#x27;family_history_with_overweight&#x27;,\n                                                   &#x27;FAVC&#x27;, &#x27;SMOKE&#x27;, &#x27;SCC&#x27;]),\n                                                 (&#x27;ord&#x27;,\n                                                  Pipeline(steps=[(&#x27;imputer&#x27;,\n                                                                   SimpleImputer(strategy=&#x27;most_frequent&#x27;)),\n                                                                  (&#x27;ordinal&#x27;,\n                                                                   OrdinalEncoder(handle_unknown=&#x27;use_encoded_value&#x27;,\n                                                                                  unknown_value=nan))]),\n                                                  [&#x27;CAEC&#x27;, &#x27;CALC&#x27;])])),\n                (&#x27;regressor&#x27;, LinearRegression())])</pre></div></div></div><div class=\"sk-serial\"><div class=\"sk-item sk-dashed-wrapped\"><div class=\"sk-label-container\"><div class=\"sk-label sk-toggleable\"><input class=\"sk-toggleable__control sk-hidden--visually\" id=\"sk-estimator-id-476\" type=\"checkbox\" ><label for=\"sk-estimator-id-476\" class=\"sk-toggleable__label sk-toggleable__label-arrow\">preprocessor: ColumnTransformer</label><div class=\"sk-toggleable__content\"><pre>ColumnTransformer(transformers=[(&#x27;num&#x27;,\n                                 Pipeline(steps=[(&#x27;imputer&#x27;, SimpleImputer()),\n                                                 (&#x27;scaler&#x27;, StandardScaler())]),\n                                 [&#x27;Age&#x27;, &#x27;FCVC&#x27;, &#x27;NCP&#x27;, &#x27;CH2O&#x27;, &#x27;FAF&#x27;, &#x27;TUE&#x27;]),\n                                (&#x27;cat&#x27;,\n                                 Pipeline(steps=[(&#x27;imputer&#x27;,\n                                                  SimpleImputer(strategy=&#x27;most_frequent&#x27;)),\n                                                 (&#x27;onehot&#x27;,\n                                                  OneHotEncoder(drop=&#x27;first&#x27;,\n                                                                handle_unknown=&#x27;ignore&#x27;,\n                                                                sparse_output=False))]),\n                                 [&#x27;MTRANS&#x27;, &#x27;Gender&#x27;,\n                                  &#x27;family_history_with_overweight&#x27;, &#x27;FAVC&#x27;,\n                                  &#x27;SMOKE&#x27;, &#x27;SCC&#x27;]),\n                                (&#x27;ord&#x27;,\n                                 Pipeline(steps=[(&#x27;imputer&#x27;,\n                                                  SimpleImputer(strategy=&#x27;most_frequent&#x27;)),\n                                                 (&#x27;ordinal&#x27;,\n                                                  OrdinalEncoder(handle_unknown=&#x27;use_encoded_value&#x27;,\n                                                                 unknown_value=nan))]),\n                                 [&#x27;CAEC&#x27;, &#x27;CALC&#x27;])])</pre></div></div></div><div class=\"sk-parallel\"><div class=\"sk-parallel-item\"><div class=\"sk-item\"><div class=\"sk-label-container\"><div class=\"sk-label sk-toggleable\"><input class=\"sk-toggleable__control sk-hidden--visually\" id=\"sk-estimator-id-477\" type=\"checkbox\" ><label for=\"sk-estimator-id-477\" class=\"sk-toggleable__label sk-toggleable__label-arrow\">num</label><div class=\"sk-toggleable__content\"><pre>[&#x27;Age&#x27;, &#x27;FCVC&#x27;, &#x27;NCP&#x27;, &#x27;CH2O&#x27;, &#x27;FAF&#x27;, &#x27;TUE&#x27;]</pre></div></div></div><div class=\"sk-serial\"><div class=\"sk-item\"><div class=\"sk-serial\"><div class=\"sk-item\"><div class=\"sk-estimator sk-toggleable\"><input class=\"sk-toggleable__control sk-hidden--visually\" id=\"sk-estimator-id-478\" type=\"checkbox\" ><label for=\"sk-estimator-id-478\" class=\"sk-toggleable__label sk-toggleable__label-arrow\">SimpleImputer</label><div class=\"sk-toggleable__content\"><pre>SimpleImputer()</pre></div></div></div><div class=\"sk-item\"><div class=\"sk-estimator sk-toggleable\"><input class=\"sk-toggleable__control sk-hidden--visually\" id=\"sk-estimator-id-479\" type=\"checkbox\" ><label for=\"sk-estimator-id-479\" class=\"sk-toggleable__label sk-toggleable__label-arrow\">StandardScaler</label><div class=\"sk-toggleable__content\"><pre>StandardScaler()</pre></div></div></div></div></div></div></div></div><div class=\"sk-parallel-item\"><div class=\"sk-item\"><div class=\"sk-label-container\"><div class=\"sk-label sk-toggleable\"><input class=\"sk-toggleable__control sk-hidden--visually\" id=\"sk-estimator-id-480\" type=\"checkbox\" ><label for=\"sk-estimator-id-480\" class=\"sk-toggleable__label sk-toggleable__label-arrow\">cat</label><div class=\"sk-toggleable__content\"><pre>[&#x27;MTRANS&#x27;, &#x27;Gender&#x27;, &#x27;family_history_with_overweight&#x27;, &#x27;FAVC&#x27;, &#x27;SMOKE&#x27;, &#x27;SCC&#x27;]</pre></div></div></div><div class=\"sk-serial\"><div class=\"sk-item\"><div class=\"sk-serial\"><div class=\"sk-item\"><div class=\"sk-estimator sk-toggleable\"><input class=\"sk-toggleable__control sk-hidden--visually\" id=\"sk-estimator-id-481\" type=\"checkbox\" ><label for=\"sk-estimator-id-481\" class=\"sk-toggleable__label sk-toggleable__label-arrow\">SimpleImputer</label><div class=\"sk-toggleable__content\"><pre>SimpleImputer(strategy=&#x27;most_frequent&#x27;)</pre></div></div></div><div class=\"sk-item\"><div class=\"sk-estimator sk-toggleable\"><input class=\"sk-toggleable__control sk-hidden--visually\" id=\"sk-estimator-id-482\" type=\"checkbox\" ><label for=\"sk-estimator-id-482\" class=\"sk-toggleable__label sk-toggleable__label-arrow\">OneHotEncoder</label><div class=\"sk-toggleable__content\"><pre>OneHotEncoder(drop=&#x27;first&#x27;, handle_unknown=&#x27;ignore&#x27;, sparse_output=False)</pre></div></div></div></div></div></div></div></div><div class=\"sk-parallel-item\"><div class=\"sk-item\"><div class=\"sk-label-container\"><div class=\"sk-label sk-toggleable\"><input class=\"sk-toggleable__control sk-hidden--visually\" id=\"sk-estimator-id-483\" type=\"checkbox\" ><label for=\"sk-estimator-id-483\" class=\"sk-toggleable__label sk-toggleable__label-arrow\">ord</label><div class=\"sk-toggleable__content\"><pre>[&#x27;CAEC&#x27;, &#x27;CALC&#x27;]</pre></div></div></div><div class=\"sk-serial\"><div class=\"sk-item\"><div class=\"sk-serial\"><div class=\"sk-item\"><div class=\"sk-estimator sk-toggleable\"><input class=\"sk-toggleable__control sk-hidden--visually\" id=\"sk-estimator-id-484\" type=\"checkbox\" ><label for=\"sk-estimator-id-484\" class=\"sk-toggleable__label sk-toggleable__label-arrow\">SimpleImputer</label><div class=\"sk-toggleable__content\"><pre>SimpleImputer(strategy=&#x27;most_frequent&#x27;)</pre></div></div></div><div class=\"sk-item\"><div class=\"sk-estimator sk-toggleable\"><input class=\"sk-toggleable__control sk-hidden--visually\" id=\"sk-estimator-id-485\" type=\"checkbox\" ><label for=\"sk-estimator-id-485\" class=\"sk-toggleable__label sk-toggleable__label-arrow\">OrdinalEncoder</label><div class=\"sk-toggleable__content\"><pre>OrdinalEncoder(handle_unknown=&#x27;use_encoded_value&#x27;, unknown_value=nan)</pre></div></div></div></div></div></div></div></div></div></div><div class=\"sk-item\"><div class=\"sk-estimator sk-toggleable\"><input class=\"sk-toggleable__control sk-hidden--visually\" id=\"sk-estimator-id-486\" type=\"checkbox\" ><label for=\"sk-estimator-id-486\" class=\"sk-toggleable__label sk-toggleable__label-arrow\">LinearRegression</label><div class=\"sk-toggleable__content\"><pre>LinearRegression()</pre></div></div></div></div></div></div></div>"
     },
     "execution_count": 247,
     "metadata": {},
     "output_type": "execute_result"
    }
   ],
   "source": [
    "#train the model\n",
    "pipe.fit(X_train, y_train)"
   ],
   "metadata": {
    "collapsed": false,
    "ExecuteTime": {
     "end_time": "2023-11-23T16:31:20.502365400Z",
     "start_time": "2023-11-23T16:31:20.450184600Z"
    }
   },
   "id": "99a1bd0c7709c38a"
  },
  {
   "cell_type": "code",
   "execution_count": 248,
   "outputs": [
    {
     "data": {
      "text/plain": "          num__Age  num__FCVC  num__NCP  num__CH2O  num__FAF  num__TUE  \\\n703  -2.327518e-01   1.103361  0.399707  -0.010412  0.292868 -0.391656   \n1732  1.192456e+00   0.310620  0.399707   0.115481  0.037397 -0.457894   \n227  -5.709030e-02   1.103361  0.399707  -0.016278 -0.012879  0.563231   \n2021  2.711099e-01   1.103361  0.399707  -1.588795 -1.076472 -0.371303   \n710   5.863229e-16  -2.260192  1.084953  -1.438169  1.165113  0.563231   \n...            ...        ...       ...        ...       ...       ...   \n50   -5.521960e-01   1.103361  0.399707   1.626876 -1.190872  0.563231   \n194  -2.221255e-01   1.103361  0.399707   1.626876  2.343105 -1.074980   \n424   1.428227e+00  -0.770333  0.399707  -1.659433 -1.190872  2.201443   \n1069  1.050524e+00  -0.713643  0.333537  -0.042038 -0.028884 -0.528353   \n578  -8.822664e-01   0.812202 -1.828630  -0.516602 -0.884501 -0.033296   \n\n      cat__MTRANS_Bike  cat__MTRANS_Motorbike  \\\n703                0.0                    0.0   \n1732               0.0                    0.0   \n227                0.0                    0.0   \n2021               0.0                    0.0   \n710                0.0                    0.0   \n...                ...                    ...   \n50                 0.0                    0.0   \n194                0.0                    0.0   \n424                0.0                    0.0   \n1069               0.0                    0.0   \n578                0.0                    0.0   \n\n      cat__MTRANS_Public_Transportation  cat__MTRANS_Walking  \\\n703                                 1.0                  0.0   \n1732                                0.0                  0.0   \n227                                 1.0                  0.0   \n2021                                1.0                  0.0   \n710                                 1.0                  0.0   \n...                                 ...                  ...   \n50                                  0.0                  1.0   \n194                                 1.0                  0.0   \n424                                 0.0                  1.0   \n1069                                1.0                  0.0   \n578                                 1.0                  0.0   \n\n      cat__Gender_Male  cat__family_history_with_overweight_yes  \\\n703                0.0                                      1.0   \n1732               1.0                                      1.0   \n227                0.0                                      0.0   \n2021               0.0                                      1.0   \n710                0.0                                      0.0   \n...                ...                                      ...   \n50                 0.0                                      1.0   \n194                0.0                                      1.0   \n424                1.0                                      0.0   \n1069               0.0                                      1.0   \n578                0.0                                      0.0   \n\n      cat__FAVC_yes  cat__SMOKE_yes  cat__SCC_yes  ord__CAEC  ord__CALC  \n703             1.0             0.0           0.0        1.0        2.0  \n1732            1.0             0.0           0.0        2.0        2.0  \n227             1.0             0.0           0.0        2.0        2.0  \n2021            1.0             0.0           0.0        2.0        2.0  \n710             1.0             0.0           0.0        2.0        2.0  \n...             ...             ...           ...        ...        ...  \n50              1.0             0.0           0.0        2.0        2.0  \n194             1.0             0.0           0.0        1.0        3.0  \n424             0.0             0.0           0.0        2.0        2.0  \n1069            0.0             0.0           0.0        2.0        3.0  \n578             0.0             0.0           0.0        1.0        2.0  \n\n[1688 rows x 17 columns]",
      "text/html": "<div>\n<style scoped>\n    .dataframe tbody tr th:only-of-type {\n        vertical-align: middle;\n    }\n\n    .dataframe tbody tr th {\n        vertical-align: top;\n    }\n\n    .dataframe thead th {\n        text-align: right;\n    }\n</style>\n<table border=\"1\" class=\"dataframe\">\n  <thead>\n    <tr style=\"text-align: right;\">\n      <th></th>\n      <th>num__Age</th>\n      <th>num__FCVC</th>\n      <th>num__NCP</th>\n      <th>num__CH2O</th>\n      <th>num__FAF</th>\n      <th>num__TUE</th>\n      <th>cat__MTRANS_Bike</th>\n      <th>cat__MTRANS_Motorbike</th>\n      <th>cat__MTRANS_Public_Transportation</th>\n      <th>cat__MTRANS_Walking</th>\n      <th>cat__Gender_Male</th>\n      <th>cat__family_history_with_overweight_yes</th>\n      <th>cat__FAVC_yes</th>\n      <th>cat__SMOKE_yes</th>\n      <th>cat__SCC_yes</th>\n      <th>ord__CAEC</th>\n      <th>ord__CALC</th>\n    </tr>\n  </thead>\n  <tbody>\n    <tr>\n      <th>703</th>\n      <td>-2.327518e-01</td>\n      <td>1.103361</td>\n      <td>0.399707</td>\n      <td>-0.010412</td>\n      <td>0.292868</td>\n      <td>-0.391656</td>\n      <td>0.0</td>\n      <td>0.0</td>\n      <td>1.0</td>\n      <td>0.0</td>\n      <td>0.0</td>\n      <td>1.0</td>\n      <td>1.0</td>\n      <td>0.0</td>\n      <td>0.0</td>\n      <td>1.0</td>\n      <td>2.0</td>\n    </tr>\n    <tr>\n      <th>1732</th>\n      <td>1.192456e+00</td>\n      <td>0.310620</td>\n      <td>0.399707</td>\n      <td>0.115481</td>\n      <td>0.037397</td>\n      <td>-0.457894</td>\n      <td>0.0</td>\n      <td>0.0</td>\n      <td>0.0</td>\n      <td>0.0</td>\n      <td>1.0</td>\n      <td>1.0</td>\n      <td>1.0</td>\n      <td>0.0</td>\n      <td>0.0</td>\n      <td>2.0</td>\n      <td>2.0</td>\n    </tr>\n    <tr>\n      <th>227</th>\n      <td>-5.709030e-02</td>\n      <td>1.103361</td>\n      <td>0.399707</td>\n      <td>-0.016278</td>\n      <td>-0.012879</td>\n      <td>0.563231</td>\n      <td>0.0</td>\n      <td>0.0</td>\n      <td>1.0</td>\n      <td>0.0</td>\n      <td>0.0</td>\n      <td>0.0</td>\n      <td>1.0</td>\n      <td>0.0</td>\n      <td>0.0</td>\n      <td>2.0</td>\n      <td>2.0</td>\n    </tr>\n    <tr>\n      <th>2021</th>\n      <td>2.711099e-01</td>\n      <td>1.103361</td>\n      <td>0.399707</td>\n      <td>-1.588795</td>\n      <td>-1.076472</td>\n      <td>-0.371303</td>\n      <td>0.0</td>\n      <td>0.0</td>\n      <td>1.0</td>\n      <td>0.0</td>\n      <td>0.0</td>\n      <td>1.0</td>\n      <td>1.0</td>\n      <td>0.0</td>\n      <td>0.0</td>\n      <td>2.0</td>\n      <td>2.0</td>\n    </tr>\n    <tr>\n      <th>710</th>\n      <td>5.863229e-16</td>\n      <td>-2.260192</td>\n      <td>1.084953</td>\n      <td>-1.438169</td>\n      <td>1.165113</td>\n      <td>0.563231</td>\n      <td>0.0</td>\n      <td>0.0</td>\n      <td>1.0</td>\n      <td>0.0</td>\n      <td>0.0</td>\n      <td>0.0</td>\n      <td>1.0</td>\n      <td>0.0</td>\n      <td>0.0</td>\n      <td>2.0</td>\n      <td>2.0</td>\n    </tr>\n    <tr>\n      <th>...</th>\n      <td>...</td>\n      <td>...</td>\n      <td>...</td>\n      <td>...</td>\n      <td>...</td>\n      <td>...</td>\n      <td>...</td>\n      <td>...</td>\n      <td>...</td>\n      <td>...</td>\n      <td>...</td>\n      <td>...</td>\n      <td>...</td>\n      <td>...</td>\n      <td>...</td>\n      <td>...</td>\n      <td>...</td>\n    </tr>\n    <tr>\n      <th>50</th>\n      <td>-5.521960e-01</td>\n      <td>1.103361</td>\n      <td>0.399707</td>\n      <td>1.626876</td>\n      <td>-1.190872</td>\n      <td>0.563231</td>\n      <td>0.0</td>\n      <td>0.0</td>\n      <td>0.0</td>\n      <td>1.0</td>\n      <td>0.0</td>\n      <td>1.0</td>\n      <td>1.0</td>\n      <td>0.0</td>\n      <td>0.0</td>\n      <td>2.0</td>\n      <td>2.0</td>\n    </tr>\n    <tr>\n      <th>194</th>\n      <td>-2.221255e-01</td>\n      <td>1.103361</td>\n      <td>0.399707</td>\n      <td>1.626876</td>\n      <td>2.343105</td>\n      <td>-1.074980</td>\n      <td>0.0</td>\n      <td>0.0</td>\n      <td>1.0</td>\n      <td>0.0</td>\n      <td>0.0</td>\n      <td>1.0</td>\n      <td>1.0</td>\n      <td>0.0</td>\n      <td>0.0</td>\n      <td>1.0</td>\n      <td>3.0</td>\n    </tr>\n    <tr>\n      <th>424</th>\n      <td>1.428227e+00</td>\n      <td>-0.770333</td>\n      <td>0.399707</td>\n      <td>-1.659433</td>\n      <td>-1.190872</td>\n      <td>2.201443</td>\n      <td>0.0</td>\n      <td>0.0</td>\n      <td>0.0</td>\n      <td>1.0</td>\n      <td>1.0</td>\n      <td>0.0</td>\n      <td>0.0</td>\n      <td>0.0</td>\n      <td>0.0</td>\n      <td>2.0</td>\n      <td>2.0</td>\n    </tr>\n    <tr>\n      <th>1069</th>\n      <td>1.050524e+00</td>\n      <td>-0.713643</td>\n      <td>0.333537</td>\n      <td>-0.042038</td>\n      <td>-0.028884</td>\n      <td>-0.528353</td>\n      <td>0.0</td>\n      <td>0.0</td>\n      <td>1.0</td>\n      <td>0.0</td>\n      <td>0.0</td>\n      <td>1.0</td>\n      <td>0.0</td>\n      <td>0.0</td>\n      <td>0.0</td>\n      <td>2.0</td>\n      <td>3.0</td>\n    </tr>\n    <tr>\n      <th>578</th>\n      <td>-8.822664e-01</td>\n      <td>0.812202</td>\n      <td>-1.828630</td>\n      <td>-0.516602</td>\n      <td>-0.884501</td>\n      <td>-0.033296</td>\n      <td>0.0</td>\n      <td>0.0</td>\n      <td>1.0</td>\n      <td>0.0</td>\n      <td>0.0</td>\n      <td>0.0</td>\n      <td>0.0</td>\n      <td>0.0</td>\n      <td>0.0</td>\n      <td>1.0</td>\n      <td>2.0</td>\n    </tr>\n  </tbody>\n</table>\n<p>1688 rows × 17 columns</p>\n</div>"
     },
     "execution_count": 248,
     "metadata": {},
     "output_type": "execute_result"
    }
   ],
   "source": [
    "# show the transformed train and test data\n",
    "pipe.named_steps['preprocessor'].transform(X_train)"
   ],
   "metadata": {
    "collapsed": false,
    "ExecuteTime": {
     "end_time": "2023-11-23T16:31:20.530462800Z",
     "start_time": "2023-11-23T16:31:20.499354900Z"
    }
   },
   "id": "352377cb862b9be1"
  },
  {
   "cell_type": "code",
   "execution_count": 249,
   "outputs": [],
   "source": [
    "#predict the train and test data\n",
    "y_train_pred = pipe.predict(X_train)\n",
    "y_test_pred = pipe.predict(X_test)"
   ],
   "metadata": {
    "collapsed": false,
    "ExecuteTime": {
     "end_time": "2023-11-23T16:31:20.551536100Z",
     "start_time": "2023-11-23T16:31:20.529459400Z"
    }
   },
   "id": "3dfbe19361ffc53c"
  },
  {
   "cell_type": "code",
   "execution_count": 250,
   "outputs": [],
   "source": [
    "#calculate the R2 score\n",
    "r2_train = r2_score(y_train, y_train_pred)\n",
    "r2_test = r2_score(y_test, y_test_pred)"
   ],
   "metadata": {
    "collapsed": false,
    "ExecuteTime": {
     "end_time": "2023-11-23T16:31:20.587661400Z",
     "start_time": "2023-11-23T16:31:20.546518400Z"
    }
   },
   "id": "20182f31864a0ac5"
  },
  {
   "cell_type": "code",
   "execution_count": 251,
   "outputs": [
    {
     "name": "stdout",
     "output_type": "stream",
     "text": [
      " R2 score on train data:  0.44596688666350814 \n",
      " ------------------------------------------- \n",
      " R2 score on test data:  0.4635061865728807\n"
     ]
    }
   ],
   "source": [
    "#print the R2 score\n",
    "print(\" R2 score on train data: \", r2_train, \"\\n\", \"-\"*43, \"\\n\", \"R2 score on test data: \", r2_test)"
   ],
   "metadata": {
    "collapsed": false,
    "ExecuteTime": {
     "end_time": "2023-11-23T16:31:20.608734500Z",
     "start_time": "2023-11-23T16:31:20.571605400Z"
    }
   },
   "id": "32c0b498ada1b511"
  },
  {
   "cell_type": "markdown",
   "id": "7a327a3b-0662-4871-bd10-fd711e373039",
   "metadata": {},
   "source": [
    "**Step 6:** Compare these results in **Step 5** with the ones in **Step 3** and comment on it."
   ]
  },
  {
   "cell_type": "code",
   "execution_count": 252,
   "outputs": [
    {
     "data": {
      "text/plain": "                           R2 score on train data  R2 score on test data\nWithout feature selection                0.445967               0.463506\nWith feature selection                   0.443866               0.462417",
      "text/html": "<div>\n<style scoped>\n    .dataframe tbody tr th:only-of-type {\n        vertical-align: middle;\n    }\n\n    .dataframe tbody tr th {\n        vertical-align: top;\n    }\n\n    .dataframe thead th {\n        text-align: right;\n    }\n</style>\n<table border=\"1\" class=\"dataframe\">\n  <thead>\n    <tr style=\"text-align: right;\">\n      <th></th>\n      <th>R2 score on train data</th>\n      <th>R2 score on test data</th>\n    </tr>\n  </thead>\n  <tbody>\n    <tr>\n      <th>Without feature selection</th>\n      <td>0.445967</td>\n      <td>0.463506</td>\n    </tr>\n    <tr>\n      <th>With feature selection</th>\n      <td>0.443866</td>\n      <td>0.462417</td>\n    </tr>\n  </tbody>\n</table>\n</div>"
     },
     "execution_count": 252,
     "metadata": {},
     "output_type": "execute_result"
    }
   ],
   "source": [
    "#compare the results in a table\n",
    "pd.DataFrame({\"R2 score on train data\": [r2_train, r2_train_sfs],\n",
    "              \"R2 score on test data\": [r2_test, r2_test_sfs]},\n",
    "             index=[\"Without feature selection\", \"With feature selection\"])"
   ],
   "metadata": {
    "collapsed": false,
    "ExecuteTime": {
     "end_time": "2023-11-23T16:31:20.640845800Z",
     "start_time": "2023-11-23T16:31:20.578629800Z"
    }
   },
   "id": "5fc5b08277d878bd"
  },
  {
   "cell_type": "markdown",
   "source": [
    "The R2 score on test data is almost the same for both models. This means that the feature selection did not improve the model performance. \n",
    "The feature selection is useful when the model is complex and overfits the data. \n",
    "In this case, the model is a simple linear regression model and it does not overfit the data. Therefore, the feature selection did not improve the model performance."
   ],
   "metadata": {
    "collapsed": false
   },
   "id": "2f0f23c22aac88eb"
  },
  {
   "cell_type": "code",
   "execution_count": 252,
   "outputs": [],
   "source": [],
   "metadata": {
    "collapsed": false,
    "ExecuteTime": {
     "end_time": "2023-11-23T16:31:20.672957300Z",
     "start_time": "2023-11-23T16:31:20.594685500Z"
    }
   },
   "id": "98e5f79b435c39a8"
  }
 ],
 "metadata": {
  "kernelspec": {
   "display_name": "Python 3 (ipykernel)",
   "language": "python",
   "name": "python3"
  },
  "language_info": {
   "codemirror_mode": {
    "name": "ipython",
    "version": 3
   },
   "file_extension": ".py",
   "mimetype": "text/x-python",
   "name": "python",
   "nbconvert_exporter": "python",
   "pygments_lexer": "ipython3",
   "version": "3.8.8"
  }
 },
 "nbformat": 4,
 "nbformat_minor": 5
}
