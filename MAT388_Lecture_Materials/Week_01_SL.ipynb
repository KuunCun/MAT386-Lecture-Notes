{
 "cells": [
  {
   "cell_type": "markdown",
   "id": "dc53d30d-7f2a-4c78-aa6b-46b4cc033cb0",
   "metadata": {},
   "source": [
    "<left><img width=100% height=100% src=\"img/itu_logo.png\"></left>\n",
    "\n",
    "## Lecture 01: Components of a Supervised Learning Problem\n",
    "\n",
    "### __Gül İnan__<br><br>Istanbul Technical University"
   ]
  },
  {
   "cell_type": "markdown",
   "id": "e8048f4d-c5b9-4d37-b04c-91eb7a29f238",
   "metadata": {},
   "source": [
    "## A Supervised Machine Learning Problem\n",
    "\n",
    "Let’s start with a simple example of a **supervised learning problem**: predicting diabetes progression (risk) score.\n",
    "\n",
    "Remember that we have a dataset of diabetes patients. \n",
    "* For each patient we have an access to measurements from their medical record and an estimate of diabetes risk.\n",
    "* We are interested in understanding how the measurements affect an individual's diabetes risk."
   ]
  },
  {
   "cell_type": "markdown",
   "id": "a6a9f45a-7b7c-4ab4-9c1f-9ecd743da86d",
   "metadata": {},
   "source": [
    "## Three Components of a Supervised Machine Learning Problem\n",
    "\n",
    "At a high level, a `supervised machine learning problem` has the following structure:\n",
    "\n",
    "$$ \\text{Dataset} + \\text{Algorithm} \\to \\text{Predictive Model}. $$\n",
    "\n",
    "The **predictive model** is constructed to **model** the relationship between inputs and targets and then it can **predict** future targets."
   ]
  },
  {
   "cell_type": "markdown",
   "id": "f6252a57-e06d-48bc-8410-d9ce13de149b",
   "metadata": {
    "tags": []
   },
   "source": [
    "### A Supervised Learning Dataset: Notation\n",
    "\n",
    "We say that a `training dataset` of size $n$ (e.g., $n$ patients) is a set:\n",
    "\n",
    "$$\n",
    "\\mathcal{D} = \\{(\\textbf{x}_i, y_i) \\mid i = 1,2,...,n\\}.\n",
    "$$\n",
    "\n",
    "Each $\\textbf{x}_i=(x_{11}, x_{12},\\ldots, x_{1d})^T$ is a vector of $d$ `features` (e.g., the measurements for patient $i$) and each $y_i$ is a `target` (e.g., the diabetes risk). \n",
    "\n",
    "#### Feature Matrix\n",
    "\n",
    "Therefore, it will be useful to represent the feature dataset as one matrix $\\textbf{X} \\in \\mathbb{R}^{n \\times d}$, of the form:\n",
    "\n",
    "$$ \n",
    "\\textbf{X} = \\begin{bmatrix}\n",
    "x_{11} & x_{12} & \\ldots & x_{1d} \\\\\n",
    "x_{21} & x_{22} & \\ldots & x_{2d} \\\\\n",
    "\\vdots \\\\\n",
    "x_{n1} & x_{n2} & \\ldots & x_{nd} \\\\\n",
    "\\end{bmatrix}.\n",
    "$$\n",
    "\n",
    "Similarly, we can vectorize the target variables into a vector $\\textbf{y} \\in \\mathbb{R}^n$ of the form:\n",
    "\n",
    "$$ \n",
    "\\textbf{y} = \\begin{bmatrix}\n",
    "y_{1} \\\\\n",
    "y_{2} \\\\\n",
    "\\vdots \\\\\n",
    "y_{n}\n",
    "\\end{bmatrix}.\n",
    "$$"
   ]
  },
  {
   "cell_type": "markdown",
   "id": "428114cf-46d8-4538-805b-ff4cc04acba1",
   "metadata": {},
   "source": [
    "We can look at the diabetes dataset in this form."
   ]
  },
  {
   "cell_type": "code",
   "execution_count": 1,
   "id": "91c1554e-3491-4018-91c0-626a0afecbb2",
   "metadata": {
    "ExecuteTime": {
     "end_time": "2023-10-12T14:31:49.274733079Z",
     "start_time": "2023-10-12T14:31:49.071811200Z"
    }
   },
   "outputs": [
    {
     "data": {
      "text/plain": "        age       sex       bmi        bp        s1        s2        s3  \\\n0  0.038076  0.050680  0.061696  0.021872 -0.044223 -0.034821 -0.043401   \n1 -0.001882 -0.044642 -0.051474 -0.026328 -0.008449 -0.019163  0.074412   \n2  0.085299  0.050680  0.044451 -0.005670 -0.045599 -0.034194 -0.032356   \n3 -0.089063 -0.044642 -0.011595 -0.036656  0.012191  0.024991 -0.036038   \n4  0.005383 -0.044642 -0.036385  0.021872  0.003935  0.015596  0.008142   \n\n         s4        s5        s6  \n0 -0.002592  0.019907 -0.017646  \n1 -0.039493 -0.068332 -0.092204  \n2 -0.002592  0.002861 -0.025930  \n3  0.034309  0.022688 -0.009362  \n4 -0.002592 -0.031988 -0.046641  ",
      "text/html": "<div>\n<style scoped>\n    .dataframe tbody tr th:only-of-type {\n        vertical-align: middle;\n    }\n\n    .dataframe tbody tr th {\n        vertical-align: top;\n    }\n\n    .dataframe thead th {\n        text-align: right;\n    }\n</style>\n<table border=\"1\" class=\"dataframe\">\n  <thead>\n    <tr style=\"text-align: right;\">\n      <th></th>\n      <th>age</th>\n      <th>sex</th>\n      <th>bmi</th>\n      <th>bp</th>\n      <th>s1</th>\n      <th>s2</th>\n      <th>s3</th>\n      <th>s4</th>\n      <th>s5</th>\n      <th>s6</th>\n    </tr>\n  </thead>\n  <tbody>\n    <tr>\n      <th>0</th>\n      <td>0.038076</td>\n      <td>0.050680</td>\n      <td>0.061696</td>\n      <td>0.021872</td>\n      <td>-0.044223</td>\n      <td>-0.034821</td>\n      <td>-0.043401</td>\n      <td>-0.002592</td>\n      <td>0.019907</td>\n      <td>-0.017646</td>\n    </tr>\n    <tr>\n      <th>1</th>\n      <td>-0.001882</td>\n      <td>-0.044642</td>\n      <td>-0.051474</td>\n      <td>-0.026328</td>\n      <td>-0.008449</td>\n      <td>-0.019163</td>\n      <td>0.074412</td>\n      <td>-0.039493</td>\n      <td>-0.068332</td>\n      <td>-0.092204</td>\n    </tr>\n    <tr>\n      <th>2</th>\n      <td>0.085299</td>\n      <td>0.050680</td>\n      <td>0.044451</td>\n      <td>-0.005670</td>\n      <td>-0.045599</td>\n      <td>-0.034194</td>\n      <td>-0.032356</td>\n      <td>-0.002592</td>\n      <td>0.002861</td>\n      <td>-0.025930</td>\n    </tr>\n    <tr>\n      <th>3</th>\n      <td>-0.089063</td>\n      <td>-0.044642</td>\n      <td>-0.011595</td>\n      <td>-0.036656</td>\n      <td>0.012191</td>\n      <td>0.024991</td>\n      <td>-0.036038</td>\n      <td>0.034309</td>\n      <td>0.022688</td>\n      <td>-0.009362</td>\n    </tr>\n    <tr>\n      <th>4</th>\n      <td>0.005383</td>\n      <td>-0.044642</td>\n      <td>-0.036385</td>\n      <td>0.021872</td>\n      <td>0.003935</td>\n      <td>0.015596</td>\n      <td>0.008142</td>\n      <td>-0.002592</td>\n      <td>-0.031988</td>\n      <td>-0.046641</td>\n    </tr>\n  </tbody>\n</table>\n</div>"
     },
     "execution_count": 1,
     "metadata": {},
     "output_type": "execute_result"
    }
   ],
   "source": [
    "import numpy as np\n",
    "import pandas as pd\n",
    "from sklearn.datasets import load_diabetes\n",
    "\n",
    "# Load the diabetes dataset and return X and y separately\n",
    "diabetes_X, diabetes_y = load_diabetes(return_X_y=True, as_frame=True) #return data frames\n",
    "\n",
    "# Print a portion of the feature matrix\n",
    "diabetes_X.head()"
   ]
  },
  {
   "cell_type": "code",
   "execution_count": 2,
   "id": "8fb98b7c-dd81-4335-88a5-dbc5b09a06b7",
   "metadata": {
    "ExecuteTime": {
     "end_time": "2023-10-12T14:31:49.275757162Z",
     "start_time": "2023-10-12T14:31:49.219140748Z"
    }
   },
   "outputs": [
    {
     "data": {
      "text/plain": "0    151.0\n1     75.0\n2    141.0\n3    206.0\n4    135.0\nName: target, dtype: float64"
     },
     "execution_count": 2,
     "metadata": {},
     "output_type": "execute_result"
    }
   ],
   "source": [
    "# Print a portion of target vector\n",
    "diabetes_y.head()"
   ]
  },
  {
   "cell_type": "markdown",
   "id": "3f8feb07-bd76-4676-88b6-3d304be5f426",
   "metadata": {},
   "source": [
    "### A Supervised Learning Algorithm: Notation"
   ]
  },
  {
   "cell_type": "markdown",
   "id": "a12784f5-4a16-40c4-adf0-ac37e0698c4c",
   "metadata": {},
   "source": [
    "We can also define the high-level structure of a `supervised learning algorithm` as consisting of three components:\n",
    "* A `model class`: the set of possible models we consider.\n",
    "* An `objective function`: which defines how good a model is.\n",
    "* An `optimizer`: which finds the best predictive model in the model class according to the objective function."
   ]
  },
  {
   "cell_type": "markdown",
   "id": "b46323fe-46a5-4a0e-9321-963e5bd3bd90",
   "metadata": {},
   "source": [
    "### Model: Notation\n",
    "\n",
    "We'll say that a `model is a function`:\n",
    "\n",
    "$$ \n",
    "f : \\mathcal{X} \\to \\mathcal{Y} \n",
    "$$\n",
    "that maps inputs $\\textbf{X} \\in \\mathcal{X}$ to targets $\\textbf{y} \\in \\mathcal{Y}$.\n",
    "\n",
    "Often, models have `parameters` $\\boldsymbol{\\theta} \\in \\Theta$ living in a set $\\Theta$. We will then write the model as:\n",
    "\n",
    "$$ \n",
    "f_\\theta : \\mathcal{X} \\to \\mathcal{Y} \n",
    "$$\n",
    "to denote that it's parametrized by $\\theta$.\n",
    "\n",
    "### Model Class: Notation\n",
    "\n",
    "Formally, the `model class is a set`:\n",
    "\n",
    "$$\n",
    "\\mathcal{M} = \\{f \\mid f : \\mathcal{X} \\to \\mathcal{Y} \\}\n",
    "$$\n",
    "\n",
    "of `possible models` that map input features to targets.\n",
    "\n",
    "When the models $f_\\theta$ are paremetrized by *parameters* $\\boldsymbol{\\theta} \\in \\Theta$ living in some set $\\Theta$, we can also write:\n",
    "\n",
    "$$\n",
    "\\mathcal{M} = \\{f_\\theta \\mid f : \\mathcal{X} \\to \\mathcal{Y}; \\; \\boldsymbol{\\theta} \\in \\Theta \\}.\n",
    "$$"
   ]
  },
  {
   "cell_type": "markdown",
   "id": "1f334926-aa61-47f0-904f-8c4fe192d1bd",
   "metadata": {
    "tags": []
   },
   "source": [
    "### Model Class Example: Linear Regression Model Family\n",
    "\n",
    "One simple approach is to assume that $\\textbf{x}_i$ and $y_i$ are related by a `linear function` of the form:\n",
    "\n",
    "\n",
    "$$\n",
    "y_i  = \\theta_0 + \\theta_1 \\cdot x_{i1} + \\theta_2 \\cdot x_{i2} + ... + \\theta_d \\cdot x_{id}+ \\epsilon_i,\n",
    "$$\n",
    "\n",
    "where $i=1,\\ldots,n$,  $\\boldsymbol{\\theta}=(\\theta_0,\\theta_1,\\ldots,\\theta_d)^T$  is the vector of **parameters** of the model, and $\\epsilon \\sim N(0,\\sigma^2)$ is the **noise** not captured by $\\textbf{x}_i$. \n",
    "\n",
    "We call this model family as `multiple linear regression model`.\n",
    "\n",
    "By using the notation $x_0 = 1$, we can denote:\n",
    "\n",
    "$$ \n",
    "f_\\theta(\\textbf{x}_i) = \\sum_{j=0}^d \\theta_j \\cdot x_{ij} = \\boldsymbol{\\theta}^\\top \\textbf{x}_i,\n",
    "$$\n",
    "\n",
    "where $\\boldsymbol{\\theta}=(\\theta_0,\\theta_1,\\ldots,\\theta_d)^T$ and $\\textbf{x}_i=(1,x_{i1}, \\ldots,x_{id})^T$ and then we can also represent the `multiple linear regression model` in a **vectorized form**:\n",
    "\n",
    "$$\n",
    "y_i  = f_\\theta(\\textbf{x}_i)+ \\epsilon_i = \\boldsymbol{\\theta}^\\top \\textbf{x}_i + \\epsilon_i,\n",
    "$$\n",
    "\n",
    "where $i=1,\\ldots,n$.\n",
    "\n",
    "\n",
    "\n",
    "<!-- By using the notation $x_0 = 1$, we can represent the model in a vectorized form\n",
    "$$ y = \\sum_{j=0}^d \\beta_j \\cdot x_j = \\vec \\beta \\cdot \\vec x. $$\n",
    "where $\\vec x$ is a vector of features. -->"
   ]
  },
  {
   "cell_type": "markdown",
   "id": "379c6c83-33ce-41ed-8bb4-2a8d919dc58a",
   "metadata": {},
   "source": [
    "For example, we can investigate the relationship between BMI and diabetes risk and assume that risk is a linear function of BMI such as:\n",
    "\n",
    "$$\n",
    "y_{{Riskscore}_i}  = f_\\theta(x_{{BMI}_i})+ \\epsilon_i= \\theta_0 + \\theta_1 \\cdot x_{{BMI}_i} +  \\epsilon_i,\n",
    "$$\n",
    "\n",
    "<!--where $x$ is the BMI (also called the dependent variable), and $y$ is the diabetes risk score (the independent variable). -->\n",
    "\n",
    "where $\\theta_0$ and $\\theta_1$ are the intercept and the slope parameters of the line that relates $x_{{BMI}_i}$ to $f_\\theta(x_{{BMI}_i})=E(y_{{Riskscore}_i})=\\theta_0 + \\theta_1 \\cdot x_{{BMI}_i}$."
   ]
  },
  {
   "cell_type": "markdown",
   "id": "35618152-57ac-4c86-9446-b9aaf785d610",
   "metadata": {},
   "source": [
    "### Objective Function: Notation\n",
    "\n",
    "<!-- Given a training set, how do we pick the parameters $\\theta$ for the model? A natural approach is to select $\\theta$ such that $f_\\theta(x^{(i)})$ is close to $y^{(i)}$ on a training dataset $\\mathcal{D} = \\{(x^{(i)}, y^{(i)}) \\mid i = 1,2,...,n\\}$. -->\n",
    "\n",
    "To capture this intuition, we define an `objective function` (also called a `loss function`):\n",
    "\n",
    "$$\n",
    "J(f) : \\mathcal{M} \\to [0, \\infty), \n",
    "$$\n",
    "\n",
    "which describes the extent to which $f$ \"fits\" the training data $\\mathcal{D} = \\{(\\textbf{x}_i, y_i) \\mid i = 1,2,...,n\\}$.\n",
    "\n",
    "When $f$ is parametrized by $\\boldsymbol{\\theta} \\in \\Theta$, the objective function becomes:\n",
    "\n",
    "$$\n",
    "J(\\boldsymbol{\\theta}) : \\Theta \\to [0, \\infty).\n",
    "$$\n",
    "\n",
    "### Objective Function: Examples\n",
    "\n",
    "What would are some possible objective functions? We will see many, but here are a few examples:\n",
    "* Mean squared error: $$J(\\boldsymbol{\\theta}) = \\frac{1}{2n} \\sum_{i=1}^n \\left(y_{i}-f_\\theta(\\textbf{x}_i)  \\right)^2.$$\n",
    "* Absolute (L1) error: $$J(\\boldsymbol{\\theta}) = \\frac{1}{n} \\sum_{i=1}^n \\left|y_{i} -f_\\theta(\\textbf{x}_i) \\right|.$$\n",
    "\n",
    "These are defined for the training dataset $\\mathcal{D} = \\{(\\textbf{x}_i, y_i) \\mid i = 1,2,...,n\\}$."
   ]
  },
  {
   "cell_type": "markdown",
   "id": "c2829699-600b-4edd-987d-0de23f78082e",
   "metadata": {},
   "source": [
    "### Optimizer: Notation\n",
    "\n",
    "At a high-level an `optimizer` takes an objective $J$ and a model class $\\mathcal{M}$ and finds a model $f \\in \\mathcal{M}$ with the smallest value of the objective $J$.\n",
    "\n",
    "\\begin{align*}\n",
    "\\min_{f \\in \\mathcal{M}} J(f).\n",
    "\\end{align*}\n",
    "\n",
    "Intuitively, this is the function is the one that best \"fits\" the data on the training dataset.\n",
    "\n",
    "When $f$ is parametrized by $\\boldsymbol{\\theta} \\in \\Theta$, the optimizer minimizes a function $J(\\boldsymbol{\\theta})$ over all $\\boldsymbol{\\theta} \\in \\Theta$:\n",
    "\n",
    "\\begin{align*}\n",
    "\\hat{\\theta}_{optimum} = \\argmin_{\\boldsymbol{\\theta} \\in \\Theta} J(\\boldsymbol{\\theta}).\n",
    "\\end{align*}\n",
    "\n",
    "### Optimizer: Example\n",
    "\n",
    "We will see that behind the scenes, the [sklearn.linear_models.LinearRegression](https://scikit-learn.org/stable/modules/linear_model.html#linear-model) algorithm optimizes the sum of squares of errors.\n",
    "\n",
    "\\begin{align*}\n",
    "\\hat{\\theta}_{optimum} = \\argmin_{\\boldsymbol{\\theta} \\in \\mathbb{R}}\\sum_{i=1}^n \\left(y_{i} - f_\\theta(\\textbf{x}_i)\\right)^2.\n",
    "\\end{align*}"
   ]
  },
  {
   "cell_type": "markdown",
   "id": "b6cc7b56-2a82-421b-81a8-cfa2aeb6671d",
   "metadata": {
    "tags": []
   },
   "source": [
    "### Predictive Model: Predictions Using Supervised Learning\n",
    "\n",
    "After **obtaining** $\\hat{\\theta}_{optimum}$ from **training data**, given a `new` $\\textbf{x}_{new}$, we can output a `predicted` $\\hat{y}$ as:\n",
    "\n",
    "$$ \n",
    "\\hat{y} = \\widehat{E(y)}=\\hat{f}(\\textbf{x}_{new}) = \\widehat{\\boldsymbol{\\theta}}^\\top \\textbf{x}_{new}. \n",
    "$$\n",
    "\n",
    "For instance, for a given new value of $x_{BMI}$, we can predict the diabetes risk score \n",
    "such as:\n",
    "\n",
    "$$ \n",
    "\\hat{y}_{{Riskscore}} = \\hat{f}(x_{BMI}) = \\hat{\\theta}_0 + \\hat{\\theta}_1* x_{BMI}. \n",
    "$$"
   ]
  },
  {
   "cell_type": "markdown",
   "id": "40693b5b-7122-43d6-9eb5-03c8c0cbd55c",
   "metadata": {
    "tags": []
   },
   "source": [
    "### Metrics and scoring: quantifying the quality of predictions\n",
    "\n",
    "We can measure the `quality of the predictions` on the `test set`, in other words, `model's predictive performance on the test set`, through several metrics. However, metrics for the evaluation of model's predictive performance may differ with respect to the type of the supervised learning algorithm, that's, there are regression metrics, classification metrics etc. "
   ]
  },
  {
   "cell_type": "markdown",
   "id": "28848fb2-ec8c-4242-986e-0b44ac0f2cd4",
   "metadata": {},
   "source": [
    "# References\n",
    "\n",
    "- https://github.com/kuleshov/cornell-cs5785-2020-applied-ml/tree/main/notebooks"
   ]
  },
  {
   "cell_type": "code",
   "execution_count": 3,
   "id": "fa95e892-5507-4354-b4e3-a41fd1b92662",
   "metadata": {
    "ExecuteTime": {
     "end_time": "2023-10-12T14:31:49.998116498Z",
     "start_time": "2023-10-12T14:31:49.219443231Z"
    }
   },
   "outputs": [
    {
     "data": {
      "text/plain": "<IPython.core.display.HTML object>",
      "text/html": "<details>\n<summary>Click to view session information</summary>\n<pre>\n-----\nnumpy               1.26.0\npandas              2.1.1\nsession_info        1.0.0\nsklearn             1.3.1\n-----\n</pre>\n<details>\n<summary>Click to view modules imported as dependencies</summary>\n<pre>\nPIL                         10.0.1\nanyio                       NA\narrow                       1.3.0\nasttokens                   NA\nattr                        23.1.0\nattrs                       23.1.0\nbabel                       2.13.0\nbackcall                    0.2.0\ncertifi                     2023.07.22\ncffi                        1.16.0\ncharset_normalizer          3.3.0\ncomm                        0.1.4\ncycler                      0.12.1\ncython_runtime              NA\ndateutil                    2.8.2\ndebugpy                     1.8.0\ndecorator                   5.1.1\ndefusedxml                  0.7.1\nexecuting                   2.0.0\nfastjsonschema              NA\nfqdn                        NA\nidna                        3.4\nipykernel                   6.25.2\nipywidgets                  8.1.1\nisoduration                 NA\njedi                        0.19.1\njinja2                      3.1.2\njoblib                      1.3.2\njson5                       NA\njsonpointer                 2.4\njsonschema                  4.19.1\njsonschema_specifications   NA\njupyter_events              0.7.0\njupyter_server              2.7.3\njupyterlab_server           2.25.0\nkiwisolver                  1.4.5\nmarkupsafe                  2.1.3\nmatplotlib                  3.8.0\nmpl_toolkits                NA\nnbformat                    5.9.2\noverrides                   NA\npackaging                   23.2\nparso                       0.8.3\npatsy                       0.5.3\npexpect                     4.8.0\npickleshare                 0.7.5\nplatformdirs                3.11.0\nprometheus_client           NA\nprompt_toolkit              3.0.39\npsutil                      5.9.5\nptyprocess                  0.7.0\npure_eval                   0.2.2\npydev_ipython               NA\npydevconsole                NA\npydevd                      2.9.5\npydevd_file_utils           NA\npydevd_plugins              NA\npydevd_tracing              NA\npygments                    2.16.1\npyparsing                   3.1.1\npythonjsonlogger            NA\npytz                        2023.3.post1\nreferencing                 NA\nrequests                    2.31.0\nrfc3339_validator           0.1.4\nrfc3986_validator           0.1.1\nrpds                        NA\nscipy                       1.11.3\nseaborn                     0.13.0\nsend2trash                  NA\nsitecustomize               NA\nsix                         1.16.0\nsniffio                     1.3.0\nstack_data                  0.6.3\nstatsmodels                 0.14.0\nthreadpoolctl               3.2.0\ntornado                     6.3.3\ntraitlets                   5.11.2\nuri_template                NA\nurllib3                     2.0.6\nwcwidth                     0.2.8\nwebcolors                   1.13\nwebsocket                   1.6.4\nyaml                        6.0.1\nzmq                         25.1.1\n</pre>\n</details> <!-- seems like this ends pre, so might as well be explicit -->\n<pre>\n-----\nIPython             8.16.1\njupyter_client      8.3.1\njupyter_core        5.3.2\njupyterlab          4.0.6\nnotebook            7.0.4\n-----\nPython 3.11.4 (main, Jun  9 2023, 07:59:55) [GCC 12.3.0]\nLinux-6.2.0-34-generic-x86_64-with-glibc2.37\n-----\nSession information updated at 2023-10-12 17:31\n</pre>\n</details>"
     },
     "execution_count": 3,
     "metadata": {},
     "output_type": "execute_result"
    }
   ],
   "source": [
    "import session_info\n",
    "session_info.show()"
   ]
  }
 ],
 "metadata": {
  "kernelspec": {
   "display_name": "Python 3 (ipykernel)",
   "language": "python",
   "name": "python3"
  },
  "language_info": {
   "codemirror_mode": {
    "name": "ipython",
    "version": 3
   },
   "file_extension": ".py",
   "mimetype": "text/x-python",
   "name": "python",
   "nbconvert_exporter": "python",
   "pygments_lexer": "ipython3",
   "version": "3.8.8"
  }
 },
 "nbformat": 4,
 "nbformat_minor": 5
}
