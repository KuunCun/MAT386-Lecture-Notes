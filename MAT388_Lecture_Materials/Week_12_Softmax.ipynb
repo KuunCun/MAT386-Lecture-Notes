{
 "cells": [
  {
   "cell_type": "markdown",
   "metadata": {
    "colab_type": "text",
    "id": "i_f5u2x9nn6I",
    "slideshow": {
     "slide_type": "slide"
    },
    "tags": []
   },
   "source": [
    "<left><img width=100% height=100% src=\"img/itu_logo.png\"></left>\n",
    "\n",
    "## Lecture 12: Multinomial Regression\n",
    "\n",
    "### __Gül İnan__<br><br>Istanbul Technical University"
   ]
  },
  {
   "cell_type": "markdown",
   "metadata": {},
   "source": [
    "## Penguins Dataset\n",
    "\n",
    "The penguins dataset contains the following columns:\n",
    "\n",
    "- `Species`: The species of the penguin (Adelie, Gentoo, Chinstrap).\n",
    "- `Island`: Island name (Dream, Torgersen, or Biscoe) in the Palmer Archipelago (Antarctica).\n",
    "- `Bill Length`: The length in mm of the penguin's bill.\n",
    "- `Bill Depth`: The depth in mm of the penguin's bill.\n",
    "- `Flipper Length`: The length in mm of the penguin's flipper.\n",
    "- `Body Mass`: The body mass of the penguin in grams.\n",
    "- `Sex`: Penguin sex.\n",
    "- `Year`: The year when the measurement is done.\n",
    "\n",
    "<br>\n",
    "<center><img src=\"img/penguin.png\"/></center>"
   ]
  },
  {
   "cell_type": "code",
   "execution_count": 110,
   "metadata": {},
   "outputs": [],
   "source": [
    "#https://github.com/mcnakhaee/palmerpenguins\n",
    "#!pip install palmerpenguins "
   ]
  },
  {
   "cell_type": "code",
   "execution_count": 111,
   "metadata": {},
   "outputs": [
    {
     "data": {
      "text/html": [
       "<div>\n",
       "<style scoped>\n",
       "    .dataframe tbody tr th:only-of-type {\n",
       "        vertical-align: middle;\n",
       "    }\n",
       "\n",
       "    .dataframe tbody tr th {\n",
       "        vertical-align: top;\n",
       "    }\n",
       "\n",
       "    .dataframe thead th {\n",
       "        text-align: right;\n",
       "    }\n",
       "</style>\n",
       "<table border=\"1\" class=\"dataframe\">\n",
       "  <thead>\n",
       "    <tr style=\"text-align: right;\">\n",
       "      <th></th>\n",
       "      <th>species</th>\n",
       "      <th>island</th>\n",
       "      <th>bill_length_mm</th>\n",
       "      <th>bill_depth_mm</th>\n",
       "      <th>flipper_length_mm</th>\n",
       "      <th>body_mass_g</th>\n",
       "      <th>sex</th>\n",
       "      <th>year</th>\n",
       "    </tr>\n",
       "  </thead>\n",
       "  <tbody>\n",
       "    <tr>\n",
       "      <th>0</th>\n",
       "      <td>Adelie</td>\n",
       "      <td>Torgersen</td>\n",
       "      <td>39.1</td>\n",
       "      <td>18.7</td>\n",
       "      <td>181.0</td>\n",
       "      <td>3750.0</td>\n",
       "      <td>male</td>\n",
       "      <td>2007</td>\n",
       "    </tr>\n",
       "    <tr>\n",
       "      <th>1</th>\n",
       "      <td>Adelie</td>\n",
       "      <td>Torgersen</td>\n",
       "      <td>39.5</td>\n",
       "      <td>17.4</td>\n",
       "      <td>186.0</td>\n",
       "      <td>3800.0</td>\n",
       "      <td>female</td>\n",
       "      <td>2007</td>\n",
       "    </tr>\n",
       "    <tr>\n",
       "      <th>2</th>\n",
       "      <td>Adelie</td>\n",
       "      <td>Torgersen</td>\n",
       "      <td>40.3</td>\n",
       "      <td>18.0</td>\n",
       "      <td>195.0</td>\n",
       "      <td>3250.0</td>\n",
       "      <td>female</td>\n",
       "      <td>2007</td>\n",
       "    </tr>\n",
       "    <tr>\n",
       "      <th>3</th>\n",
       "      <td>Adelie</td>\n",
       "      <td>Torgersen</td>\n",
       "      <td>NaN</td>\n",
       "      <td>NaN</td>\n",
       "      <td>NaN</td>\n",
       "      <td>NaN</td>\n",
       "      <td>NaN</td>\n",
       "      <td>2007</td>\n",
       "    </tr>\n",
       "    <tr>\n",
       "      <th>4</th>\n",
       "      <td>Adelie</td>\n",
       "      <td>Torgersen</td>\n",
       "      <td>36.7</td>\n",
       "      <td>19.3</td>\n",
       "      <td>193.0</td>\n",
       "      <td>3450.0</td>\n",
       "      <td>female</td>\n",
       "      <td>2007</td>\n",
       "    </tr>\n",
       "    <tr>\n",
       "      <th>5</th>\n",
       "      <td>Adelie</td>\n",
       "      <td>Torgersen</td>\n",
       "      <td>39.3</td>\n",
       "      <td>20.6</td>\n",
       "      <td>190.0</td>\n",
       "      <td>3650.0</td>\n",
       "      <td>male</td>\n",
       "      <td>2007</td>\n",
       "    </tr>\n",
       "    <tr>\n",
       "      <th>6</th>\n",
       "      <td>Adelie</td>\n",
       "      <td>Torgersen</td>\n",
       "      <td>38.9</td>\n",
       "      <td>17.8</td>\n",
       "      <td>181.0</td>\n",
       "      <td>3625.0</td>\n",
       "      <td>female</td>\n",
       "      <td>2007</td>\n",
       "    </tr>\n",
       "    <tr>\n",
       "      <th>7</th>\n",
       "      <td>Adelie</td>\n",
       "      <td>Torgersen</td>\n",
       "      <td>39.2</td>\n",
       "      <td>19.6</td>\n",
       "      <td>195.0</td>\n",
       "      <td>4675.0</td>\n",
       "      <td>male</td>\n",
       "      <td>2007</td>\n",
       "    </tr>\n",
       "    <tr>\n",
       "      <th>8</th>\n",
       "      <td>Adelie</td>\n",
       "      <td>Torgersen</td>\n",
       "      <td>34.1</td>\n",
       "      <td>18.1</td>\n",
       "      <td>193.0</td>\n",
       "      <td>3475.0</td>\n",
       "      <td>NaN</td>\n",
       "      <td>2007</td>\n",
       "    </tr>\n",
       "    <tr>\n",
       "      <th>9</th>\n",
       "      <td>Adelie</td>\n",
       "      <td>Torgersen</td>\n",
       "      <td>42.0</td>\n",
       "      <td>20.2</td>\n",
       "      <td>190.0</td>\n",
       "      <td>4250.0</td>\n",
       "      <td>NaN</td>\n",
       "      <td>2007</td>\n",
       "    </tr>\n",
       "  </tbody>\n",
       "</table>\n",
       "</div>"
      ],
      "text/plain": [
       "  species     island  bill_length_mm  bill_depth_mm  flipper_length_mm  \\\n",
       "0  Adelie  Torgersen            39.1           18.7              181.0   \n",
       "1  Adelie  Torgersen            39.5           17.4              186.0   \n",
       "2  Adelie  Torgersen            40.3           18.0              195.0   \n",
       "3  Adelie  Torgersen             NaN            NaN                NaN   \n",
       "4  Adelie  Torgersen            36.7           19.3              193.0   \n",
       "5  Adelie  Torgersen            39.3           20.6              190.0   \n",
       "6  Adelie  Torgersen            38.9           17.8              181.0   \n",
       "7  Adelie  Torgersen            39.2           19.6              195.0   \n",
       "8  Adelie  Torgersen            34.1           18.1              193.0   \n",
       "9  Adelie  Torgersen            42.0           20.2              190.0   \n",
       "\n",
       "   body_mass_g     sex  year  \n",
       "0       3750.0    male  2007  \n",
       "1       3800.0  female  2007  \n",
       "2       3250.0  female  2007  \n",
       "3          NaN     NaN  2007  \n",
       "4       3450.0  female  2007  \n",
       "5       3650.0    male  2007  \n",
       "6       3625.0  female  2007  \n",
       "7       4675.0    male  2007  \n",
       "8       3475.0     NaN  2007  \n",
       "9       4250.0     NaN  2007  "
      ]
     },
     "execution_count": 111,
     "metadata": {},
     "output_type": "execute_result"
    }
   ],
   "source": [
    "#Load the penguins dataset\n",
    "from palmerpenguins import load_penguins\n",
    "\n",
    "penguins = load_penguins() #returns a data frame\n",
    "\n",
    "penguins.head(10) #there are missing values, see below"
   ]
  },
  {
   "cell_type": "code",
   "execution_count": 112,
   "metadata": {},
   "outputs": [
    {
     "data": {
      "text/plain": [
       "(344, 8)"
      ]
     },
     "execution_count": 112,
     "metadata": {},
     "output_type": "execute_result"
    }
   ],
   "source": [
    "penguins.shape"
   ]
  },
  {
   "cell_type": "code",
   "execution_count": 113,
   "metadata": {},
   "outputs": [
    {
     "data": {
      "text/plain": [
       "Adelie       152\n",
       "Gentoo       124\n",
       "Chinstrap     68\n",
       "Name: species, dtype: int64"
      ]
     },
     "execution_count": 113,
     "metadata": {},
     "output_type": "execute_result"
    }
   ],
   "source": [
    "#Check the species of penguins and their frequencies\n",
    "penguins.species.value_counts()"
   ]
  },
  {
   "cell_type": "markdown",
   "metadata": {},
   "source": [
    "We would like to build a `multiclass classifier` to predict the `label of penguins` based on two features `bill_length_mm` and `bill_depth_mm`. "
   ]
  },
  {
   "cell_type": "code",
   "execution_count": 114,
   "metadata": {},
   "outputs": [
    {
     "name": "stdout",
     "output_type": "stream",
     "text": [
      "<class 'pandas.core.frame.DataFrame'>\n",
      "RangeIndex: 344 entries, 0 to 343\n",
      "Data columns (total 8 columns):\n",
      " #   Column             Non-Null Count  Dtype  \n",
      "---  ------             --------------  -----  \n",
      " 0   species            344 non-null    object \n",
      " 1   island             344 non-null    object \n",
      " 2   bill_length_mm     342 non-null    float64\n",
      " 3   bill_depth_mm      342 non-null    float64\n",
      " 4   flipper_length_mm  342 non-null    float64\n",
      " 5   body_mass_g        342 non-null    float64\n",
      " 6   sex                333 non-null    object \n",
      " 7   year               344 non-null    int64  \n",
      "dtypes: float64(4), int64(1), object(3)\n",
      "memory usage: 21.6+ KB\n"
     ]
    }
   ],
   "source": [
    "penguins.info()"
   ]
  },
  {
   "cell_type": "markdown",
   "metadata": {},
   "source": [
    "There are **eleven rows** that contain missing values, which will not be useful in training a classifier since our focus is on multinomial regression today. Let's discard them from the dataset."
   ]
  },
  {
   "cell_type": "code",
   "execution_count": 115,
   "metadata": {},
   "outputs": [],
   "source": [
    "#Drop rows containing NaN values\n",
    "penguins = penguins.dropna(axis=0)"
   ]
  },
  {
   "cell_type": "code",
   "execution_count": 116,
   "metadata": {},
   "outputs": [
    {
     "data": {
      "text/plain": [
       "(333, 8)"
      ]
     },
     "execution_count": 116,
     "metadata": {},
     "output_type": "execute_result"
    }
   ],
   "source": [
    "penguins.shape"
   ]
  },
  {
   "cell_type": "markdown",
   "metadata": {},
   "source": [
    "## Prepare the data\n",
    "\n",
    "Just as for binary classification, before training the model, we need to separate the features and label, and then split the data into subsets for training and test. We'll also apply a stratification technique when splitting the data to maintain the proportion of each label value in the training and validation datasets."
   ]
  },
  {
   "cell_type": "code",
   "execution_count": 117,
   "metadata": {},
   "outputs": [],
   "source": [
    "# Separate features and labels\n",
    "\n",
    "penguins_X = penguins[['bill_length_mm', 'bill_depth_mm']]\n",
    "\n",
    "penguins_y = penguins[\"species\"]"
   ]
  },
  {
   "cell_type": "code",
   "execution_count": 118,
   "metadata": {},
   "outputs": [
    {
     "name": "stdout",
     "output_type": "stream",
     "text": [
      "Training Set Size: 233, Test Set Size: 100 \n",
      "\n"
     ]
    }
   ],
   "source": [
    "from sklearn.model_selection import train_test_split\n",
    "\n",
    "# Split data 70%-30% into training set and test set\n",
    "x_penguin_train, x_penguin_test, y_penguin_train, y_penguin_test = train_test_split(penguins_X, penguins_y,    \n",
    "                                                                                    test_size=0.30,\n",
    "                                                                                    random_state=0,\n",
    "                                                                                    stratify=penguins_y)\n",
    "\n",
    "print ('Training Set Size: %d, Test Set Size: %d \\n' % (x_penguin_train.shape[0], x_penguin_test.shape[0]))"
   ]
  },
  {
   "cell_type": "markdown",
   "metadata": {},
   "source": [
    "Let's explore how the **numerical features** such as `Bill Length` and `Bill Depth` relate to the label by creating some `box plots`."
   ]
  },
  {
   "cell_type": "code",
   "execution_count": 119,
   "metadata": {},
   "outputs": [
    {
     "data": {
      "image/png": "[encoded data removed]",
      "text/plain": [
       "<Figure size 1152x720 with 2 Axes>"
      ]
     },
     "metadata": {
      "needs_background": "light"
     },
     "output_type": "display_data"
    }
   ],
   "source": [
    "from matplotlib import pyplot as plt\n",
    "import seaborn as sns\n",
    "plt.rcParams['figure.figsize'] = [16, 10]\n",
    "\n",
    "penguin_features = ['bill_length_mm', 'bill_depth_mm'] \n",
    "\n",
    "y_label = ['Bill Length (mm)', 'Bill Depth (mm)'] \n",
    "\n",
    "\n",
    "for i, feat in enumerate(penguin_features, start=1):\n",
    "      \n",
    "    plt.subplot(1,2,i)\n",
    "    \n",
    "    g = sns.boxplot(x=y_penguin_train, y=x_penguin_train[feat]) \n",
    "    \n",
    "    g.set_xlabel('Species type')\n",
    "    \n",
    "    g.set_ylabel(y_label[(i-1)])\n",
    "    \n",
    "plt.show();    "
   ]
  },
  {
   "cell_type": "markdown",
   "metadata": {},
   "source": [
    "From the box plots, it looks like species Adelie and Chinstrap have similar data profiles for bill depth, but Adelie tend to shorter longer bills. Species Gentoo tends to have clearly differentiated bill depth from the others; which should help us train a good classification model."
   ]
  },
  {
   "cell_type": "markdown",
   "metadata": {},
   "source": [
    "## Softmax Function\n",
    "\n",
    "The `softmax function` can be regarded as a **multiclass** generalization of `logistic function`.  The `softmax function` $\n",
    "\\sigma$ takes a $K$-dimensional input vector $\\textbf{z}=(z_1,\\ldots,z_k,\\ldots,z_K)\\in\\mathbb{R}^K$, applies the standard exponential function to each component $z_k$, and then normalizes these values by dividing by the sum of all these exponentials.\n",
    "\n",
    "The `softmax function` $\\sigma: \\mathbb{R}^K \\to (0,1)^K$ is defined as follows: \n",
    "\n",
    "$$\n",
    "\\sigma(\\textbf{z})=\\sigma(z_1, \\ldots, z_k, \\ldots,z_K)=\\Bigg(\\frac{\\exp(z_1)}{\\sum_{l=1}^K \\exp(z_l)}, \\ldots, \\frac{\\exp(z_k)}{\\sum_{l=1}^K \\exp(z_l)},\\ldots,\n",
    "\\frac{\\exp(z_K)}{\\sum_{l=1}^K \\exp(z_l)}\\Bigg).\n",
    "$$\n",
    "\n",
    "This normalization ensures that the sum of the components of the output vector is $\\sigma(\\textbf{z})$ is $1$.\n",
    "\n",
    "The `softmax function` is also known as `normalized exponential`."
   ]
  },
  {
   "cell_type": "markdown",
   "metadata": {},
   "source": [
    "## Multinomial Regression\n",
    "\n",
    "For multi-class classification, **given a training dataset** $\\mathcal{D} = \\{(\\mathbf{x}_{1}, y_{1}), (\\mathbf{x}_{2}, y_{2}), \\ldots, (\\mathbf{x}_{n}, y_{n})\\}$ of size $n$, the `multinomial regression` builds a functional form between $Pr(y_{i}=k \\vert \\mathbf{x}_{i})$ \n",
    "and the `softmax function` of the `linear predictor`, $z_{k,i}=\\boldsymbol{\\theta}_k^\\top \\textbf{x}_i$, which is the linear combination of a set of $d$ features and \n",
    "their `class-specific coefficients`, as follows:\n",
    "\n",
    "\n",
    "\\begin{eqnarray}\n",
    "\\begin{split}\n",
    "Pr(y_{i}=1\\vert \\mathbf{x}_{i}) &= \\sigma(\\boldsymbol{\\theta}_1^\\top \\textbf{x}_i)=\\frac{\\exp(\\boldsymbol{\\theta}_1^\\top \\textbf{x}_i)}{\\sum_{l=1}^K \\exp(\\boldsymbol{\\theta}_l^\\top \\textbf{x}_i)}, \\\\\n",
    "\\vdots \\\\\n",
    "Pr(y_{i}=k\\vert \\mathbf{x}_{i}) &= \\sigma(\\boldsymbol{\\theta}_k^\\top \\textbf{x}_i)=\\frac{\\exp(\\boldsymbol{\\theta}_k^\\top \\textbf{x}_i)}{\\sum_{l=1}^K \\exp(\\boldsymbol{\\theta}_l^\\top \\textbf{x}_i)}, \\\\\n",
    "\\vdots \\\\\n",
    "Pr(y_{i}=K\\vert \\mathbf{x}_{i}) &= \\sigma(\\boldsymbol{\\theta}_K^\\top \\textbf{x}_i)=\\frac{\\exp(\\boldsymbol{\\theta}_K^\\top \\textbf{x}_i)}{\\sum_{l=1}^K \\exp(\\boldsymbol{\\theta}_l^\\top \\textbf{x}_i)}, \n",
    "\\nonumber\n",
    "\\end{split} \n",
    "\\end{eqnarray}\n",
    "\n",
    "where $\\sum_{l=1}^{K} Pr(y_{i}=l\\vert \\mathbf{x}_{i})=1$, $\\forall i=1,\\ldots,n$.\n",
    "\n",
    "Its parameter space lies in $\\Theta^{K}$, where $\\Theta = \\mathbb{R}^d$. You may have noticed that this model is slightly over-parametrized."
   ]
  },
  {
   "cell_type": "markdown",
   "metadata": {
    "tags": []
   },
   "source": [
    "## Conditional Likelihood\n",
    "\n",
    "Then, the `conditional likelihood` function of the multinomial regression for a **given training dataset** $\\mathcal{D} = \\{(\\mathbf{x}_{1}, y_{1}), (\\mathbf{x}_{2}, y_{2}), \\ldots, (\\mathbf{x}_{n}, y_{n})\\}$ of size $n$ is given by:\n",
    "\n",
    "\\begin{align*}\n",
    "\\mathcal{L}(\\boldsymbol{\\theta}) & = \\prod_{i=1}^n \\prod_{k=1}^K I(y_i=k)Pr(y_i=k \\mid \\mathbf{x}_i) \n",
    "\\end{align*}\n",
    "\n",
    "The `log-likelihood` function can be re-written as:\n",
    "\n",
    "\n",
    "\\begin{eqnarray}\n",
    "\\begin{split}\n",
    "\\ell(\\boldsymbol{\\theta})= \\log(\\mathcal{L}(\\boldsymbol{\\theta}))&=\\sum_{i=1}^{n} \\sum_{k=1}^K I(y_i=k)\\log(Pr(y_i=k \\mid \\mathbf{x}_i))  \\\\\n",
    "&= \\sum_{i=1}^{n} \\sum_{k=1}^K I(y_i=k)\\log\\Bigg(\\frac{\\exp(\\boldsymbol{\\theta}_k^\\top \\textbf{x}_i)}{\\sum_{l=1}^K (\\exp(\\boldsymbol{\\theta}_l^\\top \\textbf{x}_i)}\\Bigg) \n",
    ".\\nonumber  \n",
    "\\end{split}\n",
    "\\end{eqnarray}\n",
    "\n",
    "As in the logistic regression, we can use gradient descent to optimize the parameter $\\boldsymbol{\\theta}$ iteratively.\n",
    "\n",
    "However, we will apply multinomial regression to the penguins dataset by using `LogisticRegression` from `scikit-learn`."
   ]
  },
  {
   "cell_type": "markdown",
   "metadata": {},
   "source": [
    "## How to assign a new observation into one of the classes?\n",
    "\n",
    "Once we learn $\\boldsymbol{\\theta}$ from the training dataset $\\mathcal{D} = \\{(\\mathbf{x}_{1}, y_{1}), (\\mathbf{x}_{2}, y_{2}), \\ldots, (\\mathbf{x}_{n}, y_{n})\\}$, we can **assign a new observation** $\\mathbf{x}_{n+1}$ into one of the classes $\\hat{y}_{n+1} \\in \\{1,\\ldots, k, \\ldots, K\\}$ with the largest probability (`majority voting rule`).\n",
    "\n",
    "\n",
    "\\begin{equation}\n",
    "k = \\underset{(l \\in \\{1,\\ldots,k,\\ldots,K \\})}{argmax} Pr(\\hat{y}_{n+1}=l \\vert \\mathbf{x}_{n+1}). \\nonumber\n",
    "\\end{equation}"
   ]
  },
  {
   "cell_type": "markdown",
   "metadata": {},
   "source": [
    "## Train and evaluate a multiclass classifier\n",
    "\n",
    "Now that we have a set of training features and corresponding training labels, we can fit a multiclass classification algorithm to the data to create a model. Most scikit-learn classification algorithms inherently support multiclass classification with `multi_class='multinomial'`. "
   ]
  },
  {
   "cell_type": "code",
   "execution_count": 120,
   "metadata": {},
   "outputs": [
    {
     "name": "stdout",
     "output_type": "stream",
     "text": [
      "LogisticRegression(multi_class='multinomial', penalty=None)\n"
     ]
    }
   ],
   "source": [
    "from sklearn.linear_model import LogisticRegression\n",
    "\n",
    "#Train a logistic regression model on the training set\n",
    "multi_model = LogisticRegression(penalty=None, \n",
    "                                 solver='lbfgs', \n",
    "                                 multi_class='multinomial')\n",
    "\n",
    "multi_model.fit(x_penguin_train, y_penguin_train)\n",
    "\n",
    "print(multi_model)"
   ]
  },
  {
   "cell_type": "code",
   "execution_count": 121,
   "metadata": {},
   "outputs": [
    {
     "data": {
      "text/plain": [
       "array(['Adelie', 'Chinstrap', 'Gentoo'], dtype=object)"
      ]
     },
     "execution_count": 121,
     "metadata": {},
     "output_type": "execute_result"
    }
   ],
   "source": [
    "#classes learnt by the model\n",
    "multi_model.classes_"
   ]
  },
  {
   "cell_type": "code",
   "execution_count": 122,
   "metadata": {},
   "outputs": [
    {
     "name": "stdout",
     "output_type": "stream",
     "text": [
      "[[-1.65958276  3.82668664]\n",
      " [ 0.64852489  0.20133075]\n",
      " [ 1.01105787 -4.0280174 ]]\n"
     ]
    }
   ],
   "source": [
    "#first line is adelie-specific coefficients, \n",
    "#the second line is chinstrap specific coefficients,\n",
    "#the third line is gentoo-specific coefficients.\n",
    "print(multi_model.coef_)"
   ]
  },
  {
   "cell_type": "code",
   "execution_count": 123,
   "metadata": {},
   "outputs": [
    {
     "name": "stdout",
     "output_type": "stream",
     "text": [
      "[  5.33513577 -29.33791371  24.00277794]\n"
     ]
    }
   ],
   "source": [
    "print(multi_model.intercept_)"
   ]
  },
  {
   "cell_type": "code",
   "execution_count": 124,
   "metadata": {},
   "outputs": [
    {
     "name": "stdout",
     "output_type": "stream",
     "text": [
      "[[9.99997607e-01 2.39307698e-06 5.75919256e-14]\n",
      " [9.99973351e-01 2.64142295e-05 2.35117777e-07]\n",
      " [1.83461797e-07 9.98476854e-01 1.52296268e-03]\n",
      " [2.33210084e-11 5.14231108e-01 4.85768892e-01]\n",
      " [9.98414469e-01 1.58553071e-03 1.31050012e-12]\n",
      " [9.99990464e-01 9.53623587e-06 4.79031179e-11]\n",
      " [8.36682311e-12 3.42710421e-02 9.65728958e-01]\n",
      " [1.22601604e-10 3.59080766e-02 9.64091923e-01]\n",
      " [5.87717397e-16 3.24718976e-05 9.99967528e-01]\n",
      " [9.99999978e-01 2.21464071e-08 7.65821913e-16]]\n"
     ]
    }
   ],
   "source": [
    "#estimate the probability of belonging to each class for each element in Xtest\n",
    "#adelie, chinstrap, gentoo \n",
    "print(multi_model.predict_proba(x_penguin_test)[:10])"
   ]
  },
  {
   "cell_type": "markdown",
   "metadata": {},
   "source": [
    "Now we can use the trained model to predict the labels for the test features, and compare the predicted labels to the actual labels:"
   ]
  },
  {
   "cell_type": "code",
   "execution_count": 125,
   "metadata": {},
   "outputs": [
    {
     "name": "stdout",
     "output_type": "stream",
     "text": [
      "Predicted labels:  ['Adelie' 'Adelie' 'Chinstrap' 'Chinstrap' 'Adelie' 'Adelie' 'Gentoo'\n",
      " 'Gentoo' 'Gentoo' 'Adelie']\n"
     ]
    }
   ],
   "source": [
    "y_penguin_test_pred = multi_model.predict(x_penguin_test)\n",
    "print('Predicted labels: ', y_penguin_test_pred[:10])"
   ]
  },
  {
   "cell_type": "code",
   "execution_count": 126,
   "metadata": {},
   "outputs": [
    {
     "name": "stdout",
     "output_type": "stream",
     "text": [
      "Actual labels: 85        Adelie\n",
      "44        Adelie\n",
      "321    Chinstrap\n",
      "243       Gentoo\n",
      "19        Adelie\n",
      "105       Adelie\n",
      "275       Gentoo\n",
      "227       Gentoo\n",
      "180       Gentoo\n",
      "36        Adelie\n",
      "Name: species, dtype: object\n"
     ]
    }
   ],
   "source": [
    "print('Actual labels:', y_penguin_test[:10])"
   ]
  },
  {
   "cell_type": "markdown",
   "metadata": {},
   "source": [
    "Now let's look at the confusion matrix for our model: The confusion matrix shows the intersection of predicted and actual label values for each class - in simple terms, the diagonal intersections from top-left to bottom-right indicate the number of correct predictions."
   ]
  },
  {
   "cell_type": "code",
   "execution_count": 127,
   "metadata": {},
   "outputs": [
    {
     "data": {
      "image/png": "[encoded data removed]",
      "text/plain": [
       "<Figure size 1152x576 with 1 Axes>"
      ]
     },
     "metadata": {
      "needs_background": "light"
     },
     "output_type": "display_data"
    }
   ],
   "source": [
    "from sklearn.metrics import ConfusionMatrixDisplay\n",
    "plt.rcParams['figure.figsize'] = [16, 8]\n",
    "\n",
    "cm = ConfusionMatrixDisplay.from_predictions(y_penguin_test, \n",
    "                                             y_penguin_test_pred, \n",
    "                                             cmap=\"Reds\", \n",
    "                                             colorbar=False) \n",
    "\n",
    "cm.ax_.set_title(\"Confusion Matrix\");"
   ]
  },
  {
   "cell_type": "code",
   "execution_count": 128,
   "metadata": {},
   "outputs": [
    {
     "name": "stdout",
     "output_type": "stream",
     "text": [
      "Overall Accuracy:97.00 \n"
     ]
    }
   ],
   "source": [
    "print(\"Overall Accuracy:%.2f \" % (multi_model.score(x_penguin_test, y_penguin_test)*100)) "
   ]
  },
  {
   "cell_type": "code",
   "execution_count": 129,
   "metadata": {},
   "outputs": [
    {
     "name": "stdout",
     "output_type": "stream",
     "text": [
      "Overall Accuracy:97.00 \n"
     ]
    }
   ],
   "source": [
    "from sklearn.metrics import accuracy_score\n",
    "\n",
    "print(\"Overall Accuracy:%.2f \" % (accuracy_score(y_penguin_test, y_penguin_test_pred)*100))"
   ]
  },
  {
   "cell_type": "markdown",
   "metadata": {},
   "source": [
    "Our multi-class algorithm is able to correctly classify 97% of the test samples."
   ]
  },
  {
   "cell_type": "markdown",
   "metadata": {},
   "source": [
    "Let's look at a classification report."
   ]
  },
  {
   "cell_type": "code",
   "execution_count": 130,
   "metadata": {},
   "outputs": [
    {
     "name": "stdout",
     "output_type": "stream",
     "text": [
      "              precision    recall  f1-score   support\n",
      "\n",
      "      Adelie       1.00      0.98      0.99        44\n",
      "   Chinstrap       0.87      1.00      0.93        20\n",
      "      Gentoo       1.00      0.94      0.97        36\n",
      "\n",
      "    accuracy                           0.97       100\n",
      "   macro avg       0.96      0.97      0.96       100\n",
      "weighted avg       0.97      0.97      0.97       100\n",
      "\n"
     ]
    }
   ],
   "source": [
    "from sklearn.metrics import classification_report\n",
    "\n",
    "print(classification_report(y_penguin_test, y_penguin_test_pred))"
   ]
  },
  {
   "cell_type": "markdown",
   "metadata": {},
   "source": [
    "## Multi-Class Generalizations\n",
    "\n",
    "As with binary classification, the report includes precision and recall metrics for each class. However, while with binary classification we could focus on the scores for the positive class; in this case, there are multiple classes so we need to look at an overall metric (either the macro or weighted average) to get a sense of how well the model performs across all three classes.\n",
    "\n",
    "You can get the overall metrics separately from the report using the scikit-learn metrics score classes, but with multiclass results you must specify which average metric you want to use for precision and recall."
   ]
  },
  {
   "cell_type": "code",
   "execution_count": 131,
   "metadata": {},
   "outputs": [
    {
     "name": "stdout",
     "output_type": "stream",
     "text": [
      "Overall Precision: 0.96\n",
      "Overall Recall: 0.97\n"
     ]
    }
   ],
   "source": [
    "from sklearn.metrics import precision_score, recall_score\n",
    "\n",
    "print(\"Overall Precision: %.2f\" % precision_score(y_penguin_test, y_penguin_test_pred, average='macro'))\n",
    "print(\"Overall Recall: %.2f\" %  recall_score(y_penguin_test, y_penguin_test_pred, average='macro'))"
   ]
  },
  {
   "cell_type": "markdown",
   "metadata": {},
   "source": [
    "## Decision Boundaries "
   ]
  },
  {
   "cell_type": "code",
   "execution_count": 132,
   "metadata": {},
   "outputs": [
    {
     "data": {
      "image/png": "[encoded data removed]",
      "text/plain": [
       "<Figure size 1296x576 with 2 Axes>"
      ]
     },
     "metadata": {
      "needs_background": "light"
     },
     "output_type": "display_data"
    }
   ],
   "source": [
    "import matplotlib.pyplot as plt\n",
    "plt.rcParams['figure.figsize'] = [18, 8]\n",
    "\n",
    "from sklearn.inspection import DecisionBoundaryDisplay\n",
    "\n",
    "fig, ax = plt.subplots(1,2)\n",
    "        \n",
    "#left plot: plot the training set on the decisionboundary \n",
    "db = DecisionBoundaryDisplay.from_estimator(\n",
    "multi_model, x_penguin_train, \n",
    "    response_method=\"predict\", \n",
    "    xlabel=\"Bill Length (mm)\", \n",
    "    ylabel=\"Bill Depth (mm)\", \n",
    "    ax = ax[0], \n",
    "    cmap=\"Reds\", \n",
    "    alpha=0.9) \n",
    "\n",
    "colors = {'Adelie':'white', 'Chinstrap':'black', 'Gentoo':'blue'} \n",
    "\n",
    "db.ax_.scatter(x_penguin_train.bill_length_mm, x_penguin_train.bill_depth_mm, c=y_penguin_train.map(colors), edgecolor=\"black\")  \n",
    "db.ax_.set_title('Accuracy of Multinomial Classifier on train data: %.2f%%' % (multi_model.score(x_penguin_train, y_penguin_train)*100))\n",
    "\n",
    "#right plot: plot the test data on the decisionboundary \n",
    "db = DecisionBoundaryDisplay.from_estimator(\n",
    "multi_model, x_penguin_train, response_method=\"predict\", xlabel=\"Bill Length (mm)\", ylabel=\"Bill Depth (mm)\", ax = ax[1], cmap=\"Reds\", alpha=0.9) \n",
    "\n",
    "db.ax_.scatter(x_penguin_test.bill_length_mm, x_penguin_test.bill_depth_mm, c=y_penguin_test.map(colors), edgecolor=\"black\") \n",
    "db.ax_.set_title('Accuracy of Multinomial Classifier on test data: %.2f%%' % (multi_model.score(x_penguin_test, y_penguin_test)*100))\n",
    "\n",
    "#could not add legend\n",
    "plt.show();"
   ]
  },
  {
   "cell_type": "markdown",
   "metadata": {},
   "source": [
    "## References\n",
    "\n",
    "- https://ubc-cs.github.io/cpsc330/lectures/19_intro_to_computer-vision.html\n",
    "- https://machinelearningmastery.com/multinomial-logistic-regression-with-python/\n",
    "- https://peopleanalytics-regression-book.org/multinomial-logistic-regression-for-nominal-category-outcomes.html\n",
    "- https://learn.microsoft.com/en-us/training/modules/train-evaluate-classification-models/7-exercise-multiclass-classification\n",
    "- https://www.pycodemates.com/2022/03/multinomial-logistic-regression-definition-math-and-implementation.html\n",
    "- https://www.mdpi.com/1424-8220/19/10/2307"
   ]
  },
  {
   "cell_type": "code",
   "execution_count": 133,
   "metadata": {},
   "outputs": [
    {
     "data": {
      "text/html": [
       "<details>\n",
       "<summary>Click to view session information</summary>\n",
       "<pre>\n",
       "-----\n",
       "matplotlib          3.5.0\n",
       "palmerpenguins      0.1.4\n",
       "pandas              1.3.5\n",
       "seaborn             0.11.2\n",
       "session_info        1.0.0\n",
       "sklearn             1.3.1\n",
       "-----\n",
       "</pre>\n",
       "<details>\n",
       "<summary>Click to view modules imported as dependencies</summary>\n",
       "<pre>\n",
       "PIL                         8.4.0\n",
       "anyio                       NA\n",
       "appnope                     0.1.2\n",
       "attr                        21.4.0\n",
       "babel                       2.9.1\n",
       "backcall                    0.2.0\n",
       "bottleneck                  1.3.2\n",
       "brotli                      1.0.9\n",
       "certifi                     2021.10.08\n",
       "cffi                        1.15.0\n",
       "chardet                     4.0.0\n",
       "charset_normalizer          2.0.4\n",
       "colorama                    0.4.4\n",
       "cycler                      0.10.0\n",
       "cython_runtime              NA\n",
       "dateutil                    2.8.2\n",
       "debugpy                     1.5.1\n",
       "decorator                   5.1.1\n",
       "defusedxml                  0.7.1\n",
       "entrypoints                 0.3\n",
       "google                      NA\n",
       "idna                        3.3\n",
       "importlib_metadata          NA\n",
       "ipykernel                   6.4.1\n",
       "ipython_genutils            0.2.0\n",
       "ipywidgets                  7.6.5\n",
       "jedi                        0.18.1\n",
       "jinja2                      2.11.3\n",
       "joblib                      1.2.0\n",
       "json5                       NA\n",
       "jsonschema                  3.2.0\n",
       "jupyter_server              1.4.1\n",
       "jupyterlab_server           2.10.2\n",
       "kiwisolver                  1.3.1\n",
       "lz4                         4.0.0\n",
       "markupsafe                  1.1.1\n",
       "matplotlib_inline           NA\n",
       "mpl_toolkits                NA\n",
       "nbclassic                   NA\n",
       "nbformat                    5.1.3\n",
       "numexpr                     2.8.1\n",
       "numpy                       1.23.5\n",
       "packaging                   21.3\n",
       "parso                       0.8.3\n",
       "pexpect                     4.8.0\n",
       "pickleshare                 0.7.5\n",
       "pkg_resources               NA\n",
       "prometheus_client           NA\n",
       "prompt_toolkit              3.0.20\n",
       "psutil                      5.8.0\n",
       "ptyprocess                  0.7.0\n",
       "pvectorc                    NA\n",
       "pydev_ipython               NA\n",
       "pydevconsole                NA\n",
       "pydevd                      2.6.0\n",
       "pydevd_concurrency_analyser NA\n",
       "pydevd_file_utils           NA\n",
       "pydevd_plugins              NA\n",
       "pydevd_tracing              NA\n",
       "pygments                    2.11.2\n",
       "pyparsing                   3.0.4\n",
       "pyrsistent                  NA\n",
       "pytz                        2021.3\n",
       "requests                    2.27.1\n",
       "scipy                       1.10.1\n",
       "send2trash                  NA\n",
       "setuptools                  67.8.0\n",
       "simplejson                  3.19.1\n",
       "six                         1.16.0\n",
       "sniffio                     1.2.0\n",
       "socks                       1.7.1\n",
       "sphinxcontrib               NA\n",
       "statsmodels                 0.13.2\n",
       "storemagic                  NA\n",
       "threadpoolctl               3.1.0\n",
       "tornado                     6.1\n",
       "traitlets                   5.1.1\n",
       "typing_extensions           NA\n",
       "uritemplate                 4.1.1\n",
       "urllib3                     1.26.8\n",
       "wcwidth                     0.2.5\n",
       "zipp                        NA\n",
       "zmq                         22.3.0\n",
       "zope                        NA\n",
       "</pre>\n",
       "</details> <!-- seems like this ends pre, so might as well be explicit -->\n",
       "<pre>\n",
       "-----\n",
       "IPython             7.31.1\n",
       "jupyter_client      6.1.12\n",
       "jupyter_core        4.9.1\n",
       "jupyterlab          3.2.1\n",
       "notebook            6.4.6\n",
       "-----\n",
       "Python 3.8.8 (default, Apr 13 2021, 12:59:45) [Clang 10.0.0 ]\n",
       "macOS-10.15.7-x86_64-i386-64bit\n",
       "-----\n",
       "Session information updated at 2023-12-20 23:11\n",
       "</pre>\n",
       "</details>"
      ],
      "text/plain": [
       "<IPython.core.display.HTML object>"
      ]
     },
     "execution_count": 133,
     "metadata": {},
     "output_type": "execute_result"
    }
   ],
   "source": [
    "import session_info\n",
    "session_info.show()"
   ]
  }
 ],
 "metadata": {
  "accelerator": "GPU",
  "celltoolbar": "Slideshow",
  "colab": {
   "collapsed_sections": [],
   "name": "neural-ode.ipynb",
   "provenance": []
  },
  "kernelspec": {
   "display_name": "Python 3 (ipykernel)",
   "language": "python",
   "name": "python3"
  },
  "language_info": {
   "codemirror_mode": {
    "name": "ipython",
    "version": 3
   },
   "file_extension": ".py",
   "mimetype": "text/x-python",
   "name": "python",
   "nbconvert_exporter": "python",
   "pygments_lexer": "ipython3",
   "version": "3.8.8"
  },
  "rise": {
   "controlsTutorial": false,
   "height": 900,
   "help": false,
   "margin": 0,
   "maxScale": 2,
   "minScale": 0.2,
   "progress": true,
   "scroll": true,
   "theme": "simple",
   "width": 1200
  }
 },
 "nbformat": 4,
 "nbformat_minor": 4
}
