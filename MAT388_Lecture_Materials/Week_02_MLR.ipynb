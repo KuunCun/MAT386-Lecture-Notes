{
 "cells": [
  {
   "cell_type": "markdown",
   "id": "78d93849-1e20-44c7-bcc2-da4d2746ec0d",
   "metadata": {},
   "source": [
    "<left><img width=100% height=100% src=\"img/itu_logo.png\"></left>\n",
    "\n",
    "## Lecture 02: Multiple Linear Regression and Optimization (OLS)\n",
    "\n",
    "### __Gül İnan__<br><br>Istanbul Technical University"
   ]
  },
  {
   "cell_type": "markdown",
   "id": "88894434-0c58-4b92-9886-4d2dea28f0ea",
   "metadata": {},
   "source": [
    "## The Delivery Time Data\n",
    "\n",
    "A soft drink bottler is analyzing the vending machine service routes in his distribution system. \n",
    "He is interested in predicting the `amount of time required` by the route driver to service the vending machines in an outlet. This service activity includes stocking the machine with beverage products and minor maintenance or housekeeping. \n",
    "The industrial engineer responsible for the study has suggested that the\n",
    "two most important variables affecting the `delivery time` (y) are the `number of cases\n",
    "of product stocked` ($x_1$) and the `distance walked by the route driver` ($x_2$). \n",
    "The engineer has collected 25 observations on delivery time. The delivery time data can be seen below:"
   ]
  },
  {
   "cell_type": "code",
   "execution_count": 10,
   "id": "6bc892a0-6278-43f3-ae88-d8ac4dfd64d6",
   "metadata": {
    "ExecuteTime": {
     "end_time": "2023-10-19T14:52:01.513961487Z",
     "start_time": "2023-10-19T14:52:01.140133180Z"
    }
   },
   "outputs": [
    {
     "data": {
      "text/plain": "   n.prod  distance  delTime\n1       7       560    16.68\n2       3       220    11.50\n3       3       340    12.03\n4       4        80    14.88\n5       6       150    13.75",
      "text/html": "<div>\n<style scoped>\n    .dataframe tbody tr th:only-of-type {\n        vertical-align: middle;\n    }\n\n    .dataframe tbody tr th {\n        vertical-align: top;\n    }\n\n    .dataframe thead th {\n        text-align: right;\n    }\n</style>\n<table border=\"1\" class=\"dataframe\">\n  <thead>\n    <tr style=\"text-align: right;\">\n      <th></th>\n      <th>n.prod</th>\n      <th>distance</th>\n      <th>delTime</th>\n    </tr>\n  </thead>\n  <tbody>\n    <tr>\n      <th>1</th>\n      <td>7</td>\n      <td>560</td>\n      <td>16.68</td>\n    </tr>\n    <tr>\n      <th>2</th>\n      <td>3</td>\n      <td>220</td>\n      <td>11.50</td>\n    </tr>\n    <tr>\n      <th>3</th>\n      <td>3</td>\n      <td>340</td>\n      <td>12.03</td>\n    </tr>\n    <tr>\n      <th>4</th>\n      <td>4</td>\n      <td>80</td>\n      <td>14.88</td>\n    </tr>\n    <tr>\n      <th>5</th>\n      <td>6</td>\n      <td>150</td>\n      <td>13.75</td>\n    </tr>\n  </tbody>\n</table>\n</div>"
     },
     "execution_count": 10,
     "metadata": {},
     "output_type": "execute_result"
    }
   ],
   "source": [
    "#import data set\n",
    "import pandas as pd\n",
    "delivery_df = pd.read_csv('datasets/delivery.csv', index_col=0)\n",
    "delivery_df.head()"
   ]
  },
  {
   "cell_type": "code",
   "execution_count": 11,
   "id": "ff4efe7d-784b-4ef6-af14-1120579a80d9",
   "metadata": {
    "ExecuteTime": {
     "end_time": "2023-10-19T14:52:01.519248263Z",
     "start_time": "2023-10-19T14:52:01.182206613Z"
    }
   },
   "outputs": [],
   "source": [
    "#rename the first column since it includes .\n",
    "delivery_df.rename({'n.prod':'nprod'}, axis = 1, inplace = True)\n",
    "#delivery_df.columns = ['nprod', 'distance', 'delTime'] #alternatively"
   ]
  },
  {
   "cell_type": "code",
   "execution_count": 12,
   "id": "d617dbfa-53a2-4c0c-9d3d-66fc9f5af9b8",
   "metadata": {
    "ExecuteTime": {
     "end_time": "2023-10-19T14:52:01.560363753Z",
     "start_time": "2023-10-19T14:52:01.182899229Z"
    }
   },
   "outputs": [
    {
     "data": {
      "text/plain": "    nprod  distance  delTime\n1       7       560    16.68\n2       3       220    11.50\n3       3       340    12.03\n4       4        80    14.88\n5       6       150    13.75\n6       7       330    18.11\n7       2       110     8.00\n8       7       210    17.83\n9      30      1460    79.24\n10      5       605    21.50\n11     16       688    40.33\n12     10       215    21.00\n13      4       255    13.50\n14      6       462    19.75\n15      9       448    24.00\n16     10       776    29.00\n17      6       200    15.35\n18      7       132    19.00\n19      3        36     9.50\n20     17       770    35.10\n21     10       140    17.90\n22     26       810    52.32\n23      9       450    18.75\n24      8       635    19.83\n25      4       150    10.75",
      "text/html": "<div>\n<style scoped>\n    .dataframe tbody tr th:only-of-type {\n        vertical-align: middle;\n    }\n\n    .dataframe tbody tr th {\n        vertical-align: top;\n    }\n\n    .dataframe thead th {\n        text-align: right;\n    }\n</style>\n<table border=\"1\" class=\"dataframe\">\n  <thead>\n    <tr style=\"text-align: right;\">\n      <th></th>\n      <th>nprod</th>\n      <th>distance</th>\n      <th>delTime</th>\n    </tr>\n  </thead>\n  <tbody>\n    <tr>\n      <th>1</th>\n      <td>7</td>\n      <td>560</td>\n      <td>16.68</td>\n    </tr>\n    <tr>\n      <th>2</th>\n      <td>3</td>\n      <td>220</td>\n      <td>11.50</td>\n    </tr>\n    <tr>\n      <th>3</th>\n      <td>3</td>\n      <td>340</td>\n      <td>12.03</td>\n    </tr>\n    <tr>\n      <th>4</th>\n      <td>4</td>\n      <td>80</td>\n      <td>14.88</td>\n    </tr>\n    <tr>\n      <th>5</th>\n      <td>6</td>\n      <td>150</td>\n      <td>13.75</td>\n    </tr>\n    <tr>\n      <th>6</th>\n      <td>7</td>\n      <td>330</td>\n      <td>18.11</td>\n    </tr>\n    <tr>\n      <th>7</th>\n      <td>2</td>\n      <td>110</td>\n      <td>8.00</td>\n    </tr>\n    <tr>\n      <th>8</th>\n      <td>7</td>\n      <td>210</td>\n      <td>17.83</td>\n    </tr>\n    <tr>\n      <th>9</th>\n      <td>30</td>\n      <td>1460</td>\n      <td>79.24</td>\n    </tr>\n    <tr>\n      <th>10</th>\n      <td>5</td>\n      <td>605</td>\n      <td>21.50</td>\n    </tr>\n    <tr>\n      <th>11</th>\n      <td>16</td>\n      <td>688</td>\n      <td>40.33</td>\n    </tr>\n    <tr>\n      <th>12</th>\n      <td>10</td>\n      <td>215</td>\n      <td>21.00</td>\n    </tr>\n    <tr>\n      <th>13</th>\n      <td>4</td>\n      <td>255</td>\n      <td>13.50</td>\n    </tr>\n    <tr>\n      <th>14</th>\n      <td>6</td>\n      <td>462</td>\n      <td>19.75</td>\n    </tr>\n    <tr>\n      <th>15</th>\n      <td>9</td>\n      <td>448</td>\n      <td>24.00</td>\n    </tr>\n    <tr>\n      <th>16</th>\n      <td>10</td>\n      <td>776</td>\n      <td>29.00</td>\n    </tr>\n    <tr>\n      <th>17</th>\n      <td>6</td>\n      <td>200</td>\n      <td>15.35</td>\n    </tr>\n    <tr>\n      <th>18</th>\n      <td>7</td>\n      <td>132</td>\n      <td>19.00</td>\n    </tr>\n    <tr>\n      <th>19</th>\n      <td>3</td>\n      <td>36</td>\n      <td>9.50</td>\n    </tr>\n    <tr>\n      <th>20</th>\n      <td>17</td>\n      <td>770</td>\n      <td>35.10</td>\n    </tr>\n    <tr>\n      <th>21</th>\n      <td>10</td>\n      <td>140</td>\n      <td>17.90</td>\n    </tr>\n    <tr>\n      <th>22</th>\n      <td>26</td>\n      <td>810</td>\n      <td>52.32</td>\n    </tr>\n    <tr>\n      <th>23</th>\n      <td>9</td>\n      <td>450</td>\n      <td>18.75</td>\n    </tr>\n    <tr>\n      <th>24</th>\n      <td>8</td>\n      <td>635</td>\n      <td>19.83</td>\n    </tr>\n    <tr>\n      <th>25</th>\n      <td>4</td>\n      <td>150</td>\n      <td>10.75</td>\n    </tr>\n  </tbody>\n</table>\n</div>"
     },
     "execution_count": 12,
     "metadata": {},
     "output_type": "execute_result"
    }
   ],
   "source": [
    "delivery_df"
   ]
  },
  {
   "cell_type": "code",
   "execution_count": 13,
   "id": "7aa3c345-7fff-4e05-b3d4-7090d9e77422",
   "metadata": {
    "ExecuteTime": {
     "end_time": "2023-10-19T14:52:01.658386477Z",
     "start_time": "2023-10-19T14:52:01.194296907Z"
    }
   },
   "outputs": [
    {
     "data": {
      "text/plain": "(25, 3)"
     },
     "execution_count": 13,
     "metadata": {},
     "output_type": "execute_result"
    }
   ],
   "source": [
    "delivery_df.shape"
   ]
  },
  {
   "cell_type": "markdown",
   "id": "0c771be4-7921-4ac1-9a66-15f2c37c9c24",
   "metadata": {},
   "source": [
    "Can we build a predictive model for the `amount of time required for delivery` based on `number of cases\n",
    "of product stocked` and the `distance walked by the route driver`? "
   ]
  },
  {
   "cell_type": "markdown",
   "id": "0c15d2ae-d09e-4290-a03c-0c681de0c2bc",
   "metadata": {},
   "source": [
    "## A Model Class: Multiple Linear Regression Model \n",
    "\n",
    "Remember that a `multiple linear regression model` assumes the following form at an _individual level_:\n",
    "\n",
    "$$\n",
    "y_i  &= \\theta_0 + \\theta_1 \\cdot x_{i1} + \\theta_2 \\cdot x_{i2} + ... + \\theta_d \\cdot x_{id} + \\epsilon_i, \\\\\n",
    "     &= \\boldsymbol{\\theta}^\\top \\textbf{x}_i + \\epsilon_i,\n",
    "$$\n",
    "\n",
    "where $\\boldsymbol{\\theta}=(\\theta_0,\\theta_1,\\ldots,\\theta_d)^T$, $\\textbf{x}_i=(1,x_{i1}, \\ldots,x_{id})^T$,\n",
    "and each $\\epsilon_i \\sim N(0,\\sigma^2)$ for $i=1,\\ldots,n$.\n",
    "\n",
    "## Multiple Linear Regression Model in Matrix Form\n",
    "\n",
    "Since $\\textbf{y} \\in \\mathbb{R}^{n \\times 1}$, $\\textbf{X} \\in \\mathbb{R}^{n \\times (d+1)}$, $\\boldsymbol{\\theta} \\in \\mathbb{R}^{(d+1) \\times 1}$, and  $\\boldsymbol{\\epsilon} \\in \\mathbb{R}^{n \\times 1}$, with the following forms, respectively:\n",
    "\n",
    "$$ \n",
    "\\textbf{y} = \\begin{bmatrix}\n",
    "y_{1} \\\\\n",
    "y_{2} \\\\\n",
    "\\vdots \\\\\n",
    "y_{n}\n",
    "\\end{bmatrix}, \\quad\n",
    "\\textbf{X} = \\begin{bmatrix}\n",
    "1 & x_{11} & x_{12} & \\ldots & x_{1d} \\\\\n",
    "1 & x_{21} & x_{22} & \\ldots & x_{2d} \\\\\n",
    "\\vdots  &    \\vdots    &  \\vdots      &  \\vdots \\\\\n",
    "1 & x_{n1} & x_{n2} & \\ldots & x_{nd} \\\\\n",
    "\\end{bmatrix}, \\quad \n",
    "\\boldsymbol{\\theta} =\\begin{pmatrix}\n",
    "\\theta_0\\\\\n",
    "\\theta_1 \\\\\n",
    "\\vdots \\\\\n",
    "\\theta_d \\\\\n",
    "\\end{pmatrix}, \\quad \\text{and} \\quad \n",
    "\\boldsymbol{\\epsilon} = \\begin{bmatrix}\n",
    "\\epsilon_{1} \\\\\n",
    "\\epsilon_{2} \\\\\n",
    "\\vdots \\\\\n",
    "\\epsilon_{n}\n",
    "\\end{bmatrix}.\n",
    "$$\n",
    "\n",
    "The `multiple linear regression model` can be written in the **matrix form** at the _population level_:\n",
    "\n",
    "\n",
    "\\begin{equation}\n",
    "\\mathbf{y}=\\mathbf{X}\\boldsymbol{\\theta} + \\boldsymbol{\\epsilon}, \\nonumber\n",
    "\\end{equation}\n",
    "\n",
    "where each $\\epsilon_i \\sim N(0,\\sigma^2)$."
   ]
  },
  {
   "cell_type": "markdown",
   "id": "57d4a8c6-920d-4a6e-907f-1b44a5bb627c",
   "metadata": {},
   "source": [
    "## Mean Squared Error in Matrix Form\n",
    "\n",
    "Recall that we may fit a linear model by choosing $\\boldsymbol{\\theta}$ that minimizes the mean squared error:\n",
    "\n",
    "\\begin{align*}\n",
    "J(\\boldsymbol{\\theta})\n",
    "         &= \\frac{1}{2n} \\sum_{i=1}^n \\left(y_{i}- f_\\theta(\\textbf{x}_i)\\right)^2 \\\\\n",
    "         &= \\frac{1}{2n} \\sum_{i=1}^n(y_{i}-\\boldsymbol{\\theta}^\\top \\textbf{x}_i)^2.\n",
    "\\end{align*}\n",
    "\n",
    "We can also write the **mean squared error** above in `matrix-vector form` as:\n",
    "\n",
    "$$\n",
    "J(\\boldsymbol{\\theta}) = \\frac{1}{2n} \\|\\textbf{y}-X\\boldsymbol{\\theta}\\|^2_2,\n",
    "$$\n",
    "where $\\|\\cdot\\|_2=\\sqrt{\\sum_{i=1}^n|y_{i}-\\boldsymbol{\\theta}^\\top \\textbf{x}_i|^2}$ denotes the Euclidean norm in here.\n",
    "\n",
    "Then, the `least-squares estimate` of $\\boldsymbol{\\theta}$ can be obtained as the solution to the following **optimization** problem:\n",
    "\n",
    "$$\n",
    "\\widehat{\\boldsymbol{\\theta}}_{OLS} = \\underset{\\theta \\in \\mathbb{R}}{argmin}   J(\\boldsymbol{\\theta}) = \\underset{\\theta \\in \\mathbb{R}}{argmin} \\frac{1}{2n} \\|\\textbf{y}-X\\boldsymbol{\\theta}\\|^2_2.\n",
    "$$\n",
    "\n",
    "This is a slight different formulation given in [scikit-learn](https://scikit-learn.org/stable/modules/linear_model.html) documentation.\n",
    "\n",
    "To minimize $J(\\boldsymbol{\\theta})$, we should take partial derivatives with respect to each $\\theta_j$ ($j=0,1,\\ldots,d$), set them to zero, and solve the resulting system of equations simultaneously."
   ]
  },
  {
   "cell_type": "markdown",
   "id": "986f2173-3e42-4c3e-8d4c-d1310060e8bc",
   "metadata": {},
   "source": [
    "### The Gradient of the Mean Squared Error\n",
    "\n",
    "We can find the `gradient vector` of the objective function $J(\\boldsymbol{\\theta})=\\frac{1}{2n} \\|\\textbf{y}-X\\boldsymbol{\\theta}\\|^2_2=\\frac{1}{2n}(\\mathbf{y}-\\mathbf{X}\\theta)^{T}(\\mathbf{y}-\\mathbf{X}\\theta)$ with respect to $\\boldsymbol{\\theta}$ such that:\n",
    "\n",
    "\n",
    "\\begin{equation}\n",
    "\\nabla J(\\boldsymbol{\\theta})=\n",
    "\\frac{\\partial J(\\boldsymbol{\\theta})}{\\partial \\boldsymbol{\\theta}} =\\begin{pmatrix}\n",
    "\\frac{\\partial J(\\boldsymbol{\\theta})}{\\partial \\theta_0}\\\\\n",
    "\\frac{\\partial J(\\boldsymbol{\\theta})}{\\partial \\theta_1}\\\\\n",
    "\\vdots \\\\\n",
    "\\frac{\\partial J(\\theta)}{\\partial \\theta_d}\\\\\n",
    "\\end{pmatrix}. \\nonumber\n",
    "\\end{equation}  \n",
    "\n",
    "\n",
    "\n",
    "Let's expand $J(\\boldsymbol{\\theta})$ first:\n",
    "\n",
    "\n",
    "\\begin{eqnarray}\n",
    "\\begin{split}\n",
    "J(\\boldsymbol{\\theta})&=\\frac{1}{2n}(\\mathbf{y}-\\mathbf{X}\\theta)^{T}(\\mathbf{y}-\\mathbf{X}\\theta)\\\\\n",
    " &= \\frac{1}{2n}\\big((\\mathbf{y}^{T}-\\theta^{T}\\mathbf{X}^{T})(\\mathbf{y}-\\mathbf{X}\\theta)\\big)  \\\\\n",
    " &= \\frac{1}{2n}\\big(\\mathbf{y}^{T}\\mathbf{y}-\\mathbf{y}^{T}\\mathbf{X}\\theta-\\theta^T\\mathbf{X}^T\\mathbf{y}+\\theta^{T}\\mathbf{X}^{T}\\mathbf{X}\\theta\\big) \\\\\n",
    "&=\\frac{1}{2n}\\big(\\mathbf{y}^{T}\\mathbf{y}-2\\mathbf{y}^{T}\\mathbf{X}\\theta+\\theta^{T}\\mathbf{X}^{T}\\mathbf{X}\\theta\\big), \\nonumber\n",
    "\\end{split}\n",
    "\\end{eqnarray}\n",
    "\n",
    "since the dot product $\\mathbf{y}^{T}\\mathbf{X}\\theta$ is scalar, $(\\mathbf{y}^{T}\\mathbf{X}\\theta)^{T} = (\\theta^{T}\\mathbf{X}^{T}y)$.\n",
    "\n",
    "Applying the rules for **differentiation of a scalar with respect to a vector**, we get:\n",
    "\n",
    "\\begin{eqnarray}\n",
    "\\nabla J(\\boldsymbol{\\theta})=\\frac{\\partial J(\\boldsymbol{\\theta})}{\\partial \\boldsymbol{\\theta}} =\\frac{1}{n}(-\\mathbf{X}^{T}\\mathbf{y} + \\mathbf{X}^{T}\\mathbf{X}\\theta), \\nonumber\n",
    "\\end{eqnarray}\n",
    "\n",
    "since $\\frac{\\partial a^{T}\\beta}{\\partial \\beta}=a$ and $\\frac{\\partial \\beta^{T}\\mathbf{S} \\beta}{\\partial \\beta}=2\\mathbf{S}\\beta$, where $\\mathbf{S}$ is a symmetric matrix."
   ]
  },
  {
   "cell_type": "markdown",
   "id": "3dd74355-c478-4dbc-b2ae-b44305f4597f",
   "metadata": {
    "tags": []
   },
   "source": [
    "### Normal Equations\n",
    "\n",
    "<!-- We know from calculus that a function is minimized when its derivative is set to zero. In our case, our objective function is a (multivariate) quadratic; hence it only has one minimum, which is the global minimum.\n",
    " -->\n",
    "Setting the gradient vector $\\nabla J(\\theta)=0$, we obtain the `normal equations`:\n",
    "\n",
    "$$ \n",
    "(\\mathbf{X}^\\top \\mathbf{X}) \\boldsymbol{\\theta} = \\mathbf{X}^\\top y.\n",
    "$$\n",
    "\n",
    "`Important Note`: Here we assume that **the number of columns in** $\\mathbf{X}$ is less than the number of rows such as $(d+1)<n$ and the rank of $\\mathbf{X}$ is $(d+1)$, hence $\\mathbf{X}$ has a **full column rank** $(d+1)$. Since $rank(\\mathbf{X}^{T}\\mathbf{X})=rank(\\mathbf{X})=(d+1)$, this leads the symmetric matrix $\\mathbf{X}^{T}\\mathbf{X}$ to has a **full rank** of $(d+1)$. In this case $\\det(\\mathbf{X}^{T}\\mathbf{X}) \\neq 0$, that the square matrix $\\mathbf{X}^{T}\\mathbf{X}$ is non-singular and, in turn, is **invertible**.\n",
    "\n",
    "### Least-squares estimators\n",
    "\n",
    "Then the normal equations yield the `least-squares estimator` of $\\boldsymbol{\\theta}$ as:\n",
    "\n",
    "\\begin{eqnarray}\n",
    "\\hat{\\boldsymbol{\\theta}}_{OLS} = (\\mathbf{X}^{T}\\mathbf{X})^{-1}\\mathbf{X}^{T}\\mathbf{y},\\nonumber\n",
    "\\end{eqnarray}\n",
    "\n",
    "where $\\mathbf{X}^{T}\\mathbf{X}$ is a $(d+1) \\times (d+1)$ **symmetric matrix** and $\\mathbf{X}^{T}\\mathbf{y}$ is a $(d+1) \\times 1$ vector.\n",
    "Note that $\\mathbf{X}^{T}\\mathbf{X}$ is also known as [Gram matrix](https://inst.eecs.berkeley.edu/~ee127/sp21/livebook/def_Gram_matrix.html) of $\\mathbf{X}$.\n",
    "\n",
    "### Fitted Value Vector\n",
    "\n",
    "The **fitted value** vector of $\\mathbf{\\mathbf{y}}$ is:\n",
    "\n",
    "\n",
    "\\begin{eqnarray}\n",
    "\\hat{\\mathbf{y}} = \\mathbf{X}\\hat{\\boldsymbol{\\theta}} =  \\mathbf{X} (\\mathbf{X}^{T}\\mathbf{X})^{-1}\\mathbf{X}^{T} \\mathbf{y}.\\nonumber\n",
    "\\end{eqnarray}"
   ]
  },
  {
   "cell_type": "markdown",
   "id": "c8eec39f-2256-4009-82a7-c65391acf7cc",
   "metadata": {},
   "source": [
    "## Revisit the Delivery Time Data\n",
    "\n",
    "Let's build a predictive model for the `amount of time required for delivery` based on `number of cases\n",
    "of product stocked` and the `distance walked by the route driver` through  a multiple linear regression model:\n",
    "\n",
    "$$\n",
    "\\text{DelTime}_i  = \\theta_0 + \\theta_1 \\cdot x_{i_{nprod}} + \\theta_2 \\cdot x_{i_{distance}} + \\epsilon_i,\n",
    "$$\n",
    "\n",
    "where $i=1,\\ldots,n$. \n",
    "\n",
    "In this sense, let's split 80% of the data as training data and keep the remaining 20% of the data as new (test) data, and the build a predictive model on it. "
   ]
  },
  {
   "cell_type": "code",
   "execution_count": 14,
   "id": "0f80f8e7-118c-4a49-ab1b-e89c4db846a4",
   "metadata": {
    "ExecuteTime": {
     "end_time": "2023-10-19T14:52:01.711924776Z",
     "start_time": "2023-10-19T14:52:01.207566960Z"
    }
   },
   "outputs": [],
   "source": [
    "#Prepare the data set\n",
    "\n",
    "import numpy as np\n",
    "import pandas as pd\n",
    "\n",
    "from sklearn.model_selection import train_test_split\n",
    "\n",
    "# Use two features\n",
    "delivery_X = delivery_df[['nprod', 'distance']] #returns a pandas df \n",
    "delivery_y = delivery_df['delTime']\n",
    "\n",
    "# Split 80:20\n",
    "delivery_X_train, delivery_X_test, delivery_y_train, delivery_y_test = train_test_split(delivery_X,delivery_y, test_size=0.2, random_state=1500)"
   ]
  },
  {
   "cell_type": "code",
   "execution_count": 15,
   "id": "2bf9f832-fe0d-43f9-ab57-0c39bf2e51af",
   "metadata": {
    "ExecuteTime": {
     "end_time": "2023-10-19T14:52:01.767846618Z",
     "start_time": "2023-10-19T14:52:01.223591482Z"
    }
   },
   "outputs": [
    {
     "name": "stdout",
     "output_type": "stream",
     "text": [
      "(20, 2)\n",
      "(5, 2)\n",
      "(20,)\n",
      "(5,)\n"
     ]
    }
   ],
   "source": [
    "print(delivery_X_train.shape)  #acceptable data format by sckitlearn\n",
    "print(delivery_X_test.shape)\n",
    "print(delivery_y_train.shape)  #acceptable data format by sckitlearn\n",
    "print(delivery_y_test.shape)"
   ]
  },
  {
   "cell_type": "markdown",
   "id": "b038f8ef-5aa6-4204-bf97-eb8be5894631",
   "metadata": {},
   "source": [
    "Let's investigate the relationship between the `number of cases\n",
    "of product stocked` and `delivery time` and  `distance walked by the route driver` and `delivery time`."
   ]
  },
  {
   "cell_type": "code",
   "execution_count": 16,
   "id": "1a03bd3d-5225-4272-8fcf-ab085bce1921",
   "metadata": {
    "ExecuteTime": {
     "end_time": "2023-10-19T14:52:01.942710043Z",
     "start_time": "2023-10-19T14:52:01.250409416Z"
    }
   },
   "outputs": [
    {
     "data": {
      "text/plain": "<Figure size 1400x600 with 2 Axes>",
      "image/png": "[encoded data removed]"
     },
     "metadata": {},
     "output_type": "display_data"
    }
   ],
   "source": [
    "# Visualize the results\n",
    "import matplotlib.pyplot as plt\n",
    "plt.rcParams['figure.figsize'] = [14, 6]\n",
    "\n",
    "fig, (ax1, ax2) = plt.subplots(1, 2)\n",
    "\n",
    "#left plot\n",
    "ax1.scatter(delivery_df.nprod, delivery_df.delTime, color='blue')\n",
    "ax1.set_title('Scatter Plot of Number of Cases and Delivery Time')\n",
    "ax1.set_xlabel('Cases')\n",
    "ax1.set_ylabel('Delivery Time')\n",
    "\n",
    "#right plot\n",
    "ax2.scatter(delivery_df.distance, delivery_df.delTime, color='blue')\n",
    "ax2.set_title('Scatter Plot of Distance and Delivery Time')\n",
    "ax2.set_xlabel('Distance')\n",
    "ax2.set_ylabel('Delivery Time')\n",
    "plt.show();"
   ]
  },
  {
   "cell_type": "code",
   "execution_count": 23,
   "outputs": [
    {
     "ename": "ValueError",
     "evalue": "x and y must be the same size",
     "output_type": "error",
     "traceback": [
      "\u001B[0;31m---------------------------------------------------------------------------\u001B[0m",
      "\u001B[0;31mValueError\u001B[0m                                Traceback (most recent call last)",
      "Cell \u001B[0;32mIn[23], line 6\u001B[0m\n\u001B[1;32m      3\u001B[0m fig, (ax1, ax2) \u001B[38;5;241m=\u001B[39m plt\u001B[38;5;241m.\u001B[39msubplots(\u001B[38;5;241m1\u001B[39m, \u001B[38;5;241m2\u001B[39m)\n\u001B[1;32m      5\u001B[0m \u001B[38;5;66;03m#left plot\u001B[39;00m\n\u001B[0;32m----> 6\u001B[0m \u001B[43max1\u001B[49m\u001B[38;5;241;43m.\u001B[39;49m\u001B[43mscatter\u001B[49m\u001B[43m(\u001B[49m\u001B[43mdelivery_X_train\u001B[49m\u001B[38;5;241;43m.\u001B[39;49m\u001B[43mnprod\u001B[49m\u001B[43m,\u001B[49m\u001B[43m \u001B[49m\u001B[43mdelivery_df\u001B[49m\u001B[38;5;241;43m.\u001B[39;49m\u001B[43mdelTime\u001B[49m\u001B[43m,\u001B[49m\u001B[43m \u001B[49m\u001B[43mcolor\u001B[49m\u001B[38;5;241;43m=\u001B[39;49m\u001B[38;5;124;43m'\u001B[39;49m\u001B[38;5;124;43mblue\u001B[39;49m\u001B[38;5;124;43m'\u001B[39;49m\u001B[43m)\u001B[49m\n\u001B[1;32m      7\u001B[0m ax1\u001B[38;5;241m.\u001B[39mset_title(\u001B[38;5;124m'\u001B[39m\u001B[38;5;124mScatter Plot of Number of Cases and Delivery Time\u001B[39m\u001B[38;5;124m'\u001B[39m)\n\u001B[1;32m      8\u001B[0m ax1\u001B[38;5;241m.\u001B[39mset_xlabel(\u001B[38;5;124m'\u001B[39m\u001B[38;5;124mCases\u001B[39m\u001B[38;5;124m'\u001B[39m)\n",
      "File \u001B[0;32m~/.config/JetBrains/DataSpell2023.2/projects/workspace/venv/lib/python3.11/site-packages/matplotlib/__init__.py:1465\u001B[0m, in \u001B[0;36m_preprocess_data.<locals>.inner\u001B[0;34m(ax, data, *args, **kwargs)\u001B[0m\n\u001B[1;32m   1462\u001B[0m \u001B[38;5;129m@functools\u001B[39m\u001B[38;5;241m.\u001B[39mwraps(func)\n\u001B[1;32m   1463\u001B[0m \u001B[38;5;28;01mdef\u001B[39;00m \u001B[38;5;21minner\u001B[39m(ax, \u001B[38;5;241m*\u001B[39margs, data\u001B[38;5;241m=\u001B[39m\u001B[38;5;28;01mNone\u001B[39;00m, \u001B[38;5;241m*\u001B[39m\u001B[38;5;241m*\u001B[39mkwargs):\n\u001B[1;32m   1464\u001B[0m     \u001B[38;5;28;01mif\u001B[39;00m data \u001B[38;5;129;01mis\u001B[39;00m \u001B[38;5;28;01mNone\u001B[39;00m:\n\u001B[0;32m-> 1465\u001B[0m         \u001B[38;5;28;01mreturn\u001B[39;00m \u001B[43mfunc\u001B[49m\u001B[43m(\u001B[49m\u001B[43max\u001B[49m\u001B[43m,\u001B[49m\u001B[43m \u001B[49m\u001B[38;5;241;43m*\u001B[39;49m\u001B[38;5;28;43mmap\u001B[39;49m\u001B[43m(\u001B[49m\u001B[43msanitize_sequence\u001B[49m\u001B[43m,\u001B[49m\u001B[43m \u001B[49m\u001B[43margs\u001B[49m\u001B[43m)\u001B[49m\u001B[43m,\u001B[49m\u001B[43m \u001B[49m\u001B[38;5;241;43m*\u001B[39;49m\u001B[38;5;241;43m*\u001B[39;49m\u001B[43mkwargs\u001B[49m\u001B[43m)\u001B[49m\n\u001B[1;32m   1467\u001B[0m     bound \u001B[38;5;241m=\u001B[39m new_sig\u001B[38;5;241m.\u001B[39mbind(ax, \u001B[38;5;241m*\u001B[39margs, \u001B[38;5;241m*\u001B[39m\u001B[38;5;241m*\u001B[39mkwargs)\n\u001B[1;32m   1468\u001B[0m     auto_label \u001B[38;5;241m=\u001B[39m (bound\u001B[38;5;241m.\u001B[39marguments\u001B[38;5;241m.\u001B[39mget(label_namer)\n\u001B[1;32m   1469\u001B[0m                   \u001B[38;5;129;01mor\u001B[39;00m bound\u001B[38;5;241m.\u001B[39mkwargs\u001B[38;5;241m.\u001B[39mget(label_namer))\n",
      "File \u001B[0;32m~/.config/JetBrains/DataSpell2023.2/projects/workspace/venv/lib/python3.11/site-packages/matplotlib/axes/_axes.py:4652\u001B[0m, in \u001B[0;36mAxes.scatter\u001B[0;34m(self, x, y, s, c, marker, cmap, norm, vmin, vmax, alpha, linewidths, edgecolors, plotnonfinite, **kwargs)\u001B[0m\n\u001B[1;32m   4650\u001B[0m y \u001B[38;5;241m=\u001B[39m np\u001B[38;5;241m.\u001B[39mma\u001B[38;5;241m.\u001B[39mravel(y)\n\u001B[1;32m   4651\u001B[0m \u001B[38;5;28;01mif\u001B[39;00m x\u001B[38;5;241m.\u001B[39msize \u001B[38;5;241m!=\u001B[39m y\u001B[38;5;241m.\u001B[39msize:\n\u001B[0;32m-> 4652\u001B[0m     \u001B[38;5;28;01mraise\u001B[39;00m \u001B[38;5;167;01mValueError\u001B[39;00m(\u001B[38;5;124m\"\u001B[39m\u001B[38;5;124mx and y must be the same size\u001B[39m\u001B[38;5;124m\"\u001B[39m)\n\u001B[1;32m   4654\u001B[0m \u001B[38;5;28;01mif\u001B[39;00m s \u001B[38;5;129;01mis\u001B[39;00m \u001B[38;5;28;01mNone\u001B[39;00m:\n\u001B[1;32m   4655\u001B[0m     s \u001B[38;5;241m=\u001B[39m (\u001B[38;5;241m20\u001B[39m \u001B[38;5;28;01mif\u001B[39;00m mpl\u001B[38;5;241m.\u001B[39mrcParams[\u001B[38;5;124m'\u001B[39m\u001B[38;5;124m_internal.classic_mode\u001B[39m\u001B[38;5;124m'\u001B[39m] \u001B[38;5;28;01melse\u001B[39;00m\n\u001B[1;32m   4656\u001B[0m          mpl\u001B[38;5;241m.\u001B[39mrcParams[\u001B[38;5;124m'\u001B[39m\u001B[38;5;124mlines.markersize\u001B[39m\u001B[38;5;124m'\u001B[39m] \u001B[38;5;241m*\u001B[39m\u001B[38;5;241m*\u001B[39m \u001B[38;5;241m2.0\u001B[39m)\n",
      "\u001B[0;31mValueError\u001B[0m: x and y must be the same size"
     ]
    },
    {
     "data": {
      "text/plain": "<Figure size 1400x600 with 2 Axes>",
      "image/png": "[encoded data removed]"
     },
     "metadata": {},
     "output_type": "display_data"
    }
   ],
   "source": [
    "\n",
    "plt.rcParams['figure.figsize'] = [14, 6]\n",
    "\n",
    "fig, (ax1, ax2) = plt.subplots(1, 2)\n",
    "\n",
    "#left plot\n",
    "ax1.scatter(delivery_X_train.nprod, delivery_df.delTime, color='blue')\n",
    "ax1.set_title('Scatter Plot of Number of Cases and Delivery Time')\n",
    "ax1.set_xlabel('Cases')\n",
    "ax1.set_ylabel('Delivery Time')\n",
    "\n",
    "#right plot\n",
    "ax2.scatter(delivery_X_train.distance, delivery_df.delTime, color='blue')\n",
    "ax2.set_title('Scatter Plot of Distance and Delivery Time')\n",
    "ax2.set_xlabel('Distance')\n",
    "ax2.set_ylabel('Delivery Time')\n",
    "plt.show();"
   ],
   "metadata": {
    "collapsed": false,
    "ExecuteTime": {
     "end_time": "2023-10-19T14:55:14.411274811Z",
     "start_time": "2023-10-19T14:55:13.693798358Z"
    }
   },
   "id": "81ad1c59e923f686"
  },
  {
   "cell_type": "markdown",
   "id": "2366ebe3-fb7b-43c7-8e29-a3012d18bff5",
   "metadata": {},
   "source": [
    "We can fit the linear regression with [LinearRegression](https://scikit-learn.org/stable/modules/generated/sklearn.linear_model.LinearRegression.html#sklearn.linear_model.LinearRegression) class of sklearn.linear_model submodule."
   ]
  },
  {
   "cell_type": "code",
   "execution_count": 18,
   "id": "bb74623a-29cc-4f93-9b21-4d1ac2fd6abb",
   "metadata": {
    "ExecuteTime": {
     "end_time": "2023-10-19T14:52:06.116082706Z",
     "start_time": "2023-10-19T14:52:06.036072258Z"
    }
   },
   "outputs": [
    {
     "data": {
      "text/plain": "LinearRegression()",
      "text/html": "<style>#sk-container-id-1 {color: black;}#sk-container-id-1 pre{padding: 0;}#sk-container-id-1 div.sk-toggleable {background-color: white;}#sk-container-id-1 label.sk-toggleable__label {cursor: pointer;display: block;width: 100%;margin-bottom: 0;padding: 0.3em;box-sizing: border-box;text-align: center;}#sk-container-id-1 label.sk-toggleable__label-arrow:before {content: \"▸\";float: left;margin-right: 0.25em;color: #696969;}#sk-container-id-1 label.sk-toggleable__label-arrow:hover:before {color: black;}#sk-container-id-1 div.sk-estimator:hover label.sk-toggleable__label-arrow:before {color: black;}#sk-container-id-1 div.sk-toggleable__content {max-height: 0;max-width: 0;overflow: hidden;text-align: left;background-color: #f0f8ff;}#sk-container-id-1 div.sk-toggleable__content pre {margin: 0.2em;color: black;border-radius: 0.25em;background-color: #f0f8ff;}#sk-container-id-1 input.sk-toggleable__control:checked~div.sk-toggleable__content {max-height: 200px;max-width: 100%;overflow: auto;}#sk-container-id-1 input.sk-toggleable__control:checked~label.sk-toggleable__label-arrow:before {content: \"▾\";}#sk-container-id-1 div.sk-estimator input.sk-toggleable__control:checked~label.sk-toggleable__label {background-color: #d4ebff;}#sk-container-id-1 div.sk-label input.sk-toggleable__control:checked~label.sk-toggleable__label {background-color: #d4ebff;}#sk-container-id-1 input.sk-hidden--visually {border: 0;clip: rect(1px 1px 1px 1px);clip: rect(1px, 1px, 1px, 1px);height: 1px;margin: -1px;overflow: hidden;padding: 0;position: absolute;width: 1px;}#sk-container-id-1 div.sk-estimator {font-family: monospace;background-color: #f0f8ff;border: 1px dotted black;border-radius: 0.25em;box-sizing: border-box;margin-bottom: 0.5em;}#sk-container-id-1 div.sk-estimator:hover {background-color: #d4ebff;}#sk-container-id-1 div.sk-parallel-item::after {content: \"\";width: 100%;border-bottom: 1px solid gray;flex-grow: 1;}#sk-container-id-1 div.sk-label:hover label.sk-toggleable__label {background-color: #d4ebff;}#sk-container-id-1 div.sk-serial::before {content: \"\";position: absolute;border-left: 1px solid gray;box-sizing: border-box;top: 0;bottom: 0;left: 50%;z-index: 0;}#sk-container-id-1 div.sk-serial {display: flex;flex-direction: column;align-items: center;background-color: white;padding-right: 0.2em;padding-left: 0.2em;position: relative;}#sk-container-id-1 div.sk-item {position: relative;z-index: 1;}#sk-container-id-1 div.sk-parallel {display: flex;align-items: stretch;justify-content: center;background-color: white;position: relative;}#sk-container-id-1 div.sk-item::before, #sk-container-id-1 div.sk-parallel-item::before {content: \"\";position: absolute;border-left: 1px solid gray;box-sizing: border-box;top: 0;bottom: 0;left: 50%;z-index: -1;}#sk-container-id-1 div.sk-parallel-item {display: flex;flex-direction: column;z-index: 1;position: relative;background-color: white;}#sk-container-id-1 div.sk-parallel-item:first-child::after {align-self: flex-end;width: 50%;}#sk-container-id-1 div.sk-parallel-item:last-child::after {align-self: flex-start;width: 50%;}#sk-container-id-1 div.sk-parallel-item:only-child::after {width: 0;}#sk-container-id-1 div.sk-dashed-wrapped {border: 1px dashed gray;margin: 0 0.4em 0.5em 0.4em;box-sizing: border-box;padding-bottom: 0.4em;background-color: white;}#sk-container-id-1 div.sk-label label {font-family: monospace;font-weight: bold;display: inline-block;line-height: 1.2em;}#sk-container-id-1 div.sk-label-container {text-align: center;}#sk-container-id-1 div.sk-container {/* jupyter's `normalize.less` sets `[hidden] { display: none; }` but bootstrap.min.css set `[hidden] { display: none !important; }` so we also need the `!important` here to be able to override the default hidden behavior on the sphinx rendered scikit-learn.org. See: https://github.com/scikit-learn/scikit-learn/issues/21755 */display: inline-block !important;position: relative;}#sk-container-id-1 div.sk-text-repr-fallback {display: none;}</style><div id=\"sk-container-id-1\" class=\"sk-top-container\"><div class=\"sk-text-repr-fallback\"><pre>LinearRegression()</pre><b>In a Jupyter environment, please rerun this cell to show the HTML representation or trust the notebook. <br />On GitHub, the HTML representation is unable to render, please try loading this page with nbviewer.org.</b></div><div class=\"sk-container\" hidden><div class=\"sk-item\"><div class=\"sk-estimator sk-toggleable\"><input class=\"sk-toggleable__control sk-hidden--visually\" id=\"sk-estimator-id-1\" type=\"checkbox\" checked><label for=\"sk-estimator-id-1\" class=\"sk-toggleable__label sk-toggleable__label-arrow\">LinearRegression</label><div class=\"sk-toggleable__content\"><pre>LinearRegression()</pre></div></div></div></div></div>"
     },
     "execution_count": 18,
     "metadata": {},
     "output_type": "execute_result"
    }
   ],
   "source": [
    "#Model fitting with scikit-learn\n",
    "from sklearn.linear_model import LinearRegression\n",
    "\n",
    "# Create linear regression object\n",
    "regr = LinearRegression() #fit_intercept=True is the default values\n",
    "\n",
    "# Train the model using the training sets\n",
    "regr.fit(delivery_X_train, delivery_y_train)  "
   ]
  },
  {
   "cell_type": "code",
   "execution_count": 20,
   "id": "f3d291b7-758b-4cc4-959e-2d17eef0a05f",
   "metadata": {
    "ExecuteTime": {
     "end_time": "2023-10-19T14:52:13.708527974Z",
     "start_time": "2023-10-19T14:52:13.656660488Z"
    }
   },
   "outputs": [
    {
     "name": "stdout",
     "output_type": "stream",
     "text": [
      "['nprod' 'distance']\n",
      "[1.46859764 0.01213346]\n"
     ]
    }
   ],
   "source": [
    "# Calcualte theta1 and theta2\n",
    "print(regr.feature_names_in_) #did not work\n",
    "print(regr.coef_)"
   ]
  },
  {
   "cell_type": "code",
   "execution_count": 21,
   "id": "f77f4b9f-5606-4f16-b31b-0eac2e98c9f3",
   "metadata": {
    "ExecuteTime": {
     "end_time": "2023-10-19T14:52:15.459438984Z",
     "start_time": "2023-10-19T14:52:15.458003536Z"
    }
   },
   "outputs": [
    {
     "name": "stdout",
     "output_type": "stream",
     "text": [
      "3.718036137441217\n"
     ]
    }
   ],
   "source": [
    "# Calcualte theta0\n",
    "print(regr.intercept_)"
   ]
  },
  {
   "cell_type": "markdown",
   "id": "dc8a18b8-2f27-4bd8-ac14-7acbd3112a3c",
   "metadata": {},
   "source": [
    "The predictive model built has the following form at the _indivudual level_:\n",
    "\n",
    "$$\n",
    "\\widehat{DelTime}_i  = 3.72 + 1.47 \\cdot x_{{nprod}_i} + 0.01 \\cdot x_{{distance}_i}.\n",
    "$$"
   ]
  },
  {
   "cell_type": "markdown",
   "id": "deeb4cfc-5916-492d-a108-a40468ccfcfb",
   "metadata": {},
   "source": [
    "Lastly, the predictive performance of our built model is as follows:"
   ]
  },
  {
   "cell_type": "code",
   "execution_count": null,
   "id": "22102a9a-0caf-4b5d-a41a-3829e6e3c52d",
   "metadata": {
    "ExecuteTime": {
     "start_time": "2023-10-19T14:52:01.953871867Z"
    }
   },
   "outputs": [],
   "source": [
    "# Make predictions on the training set\n",
    "delivery_y_train_pred = regr.predict(delivery_X_train)\n",
    "\n",
    "# Generate predictions on the test\n",
    "delivery_y_test_pred = regr.predict(delivery_X_test)"
   ]
  },
  {
   "cell_type": "code",
   "execution_count": null,
   "id": "78eb5358-41da-4bbb-8031-4cc0167c9b2f",
   "metadata": {
    "ExecuteTime": {
     "start_time": "2023-10-19T14:52:01.954462794Z"
    }
   },
   "outputs": [],
   "source": [
    "from sklearn.metrics import mean_squared_error\n",
    "\n",
    "print('Training set mean squared error: %.2f'\n",
    "      % mean_squared_error(delivery_y_train, delivery_y_train_pred))\n",
    "print('Test set mean squared error: %.2f'\n",
    "      % mean_squared_error(delivery_y_test, delivery_y_test_pred))"
   ]
  },
  {
   "cell_type": "code",
   "execution_count": null,
   "id": "42f8c70f-4441-4ead-b15e-5df761a25bbb",
   "metadata": {
    "ExecuteTime": {
     "start_time": "2023-10-19T14:52:01.954934572Z"
    }
   },
   "outputs": [],
   "source": [
    "from sklearn.metrics import r2_score\n",
    "\n",
    "print('Train R2: %.2f'\n",
    "      % r2_score(delivery_y_train, delivery_y_train_pred))\n",
    "print('Test R2: %.2f'\n",
    "      % r2_score(delivery_y_test, delivery_y_test_pred))"
   ]
  },
  {
   "cell_type": "markdown",
   "id": "75c36ca0-b449-492a-af66-fc4eb118ef3d",
   "metadata": {},
   "source": [
    "$R^2$ of test data is 0.94. So this indicates that the model is likely to be a very good predictor for new observations."
   ]
  },
  {
   "cell_type": "markdown",
   "id": "e3b12ac9-7292-4d5a-abaa-056c92df0f95",
   "metadata": {},
   "source": [
    "## References\n",
    "\n",
    "- https://eli.thegreenplace.net/2015/the-normal-equation-and-matrix-calculus/"
   ]
  },
  {
   "cell_type": "code",
   "execution_count": null,
   "id": "18b430f3-b647-4bb4-809a-022939b1396a",
   "metadata": {
    "ExecuteTime": {
     "start_time": "2023-10-19T14:52:01.955540445Z"
    }
   },
   "outputs": [],
   "source": [
    "import session_info\n",
    "session_info.show()"
   ]
  }
 ],
 "metadata": {
  "kernelspec": {
   "display_name": "Python 3 (ipykernel)",
   "language": "python",
   "name": "python3"
  },
  "language_info": {
   "codemirror_mode": {
    "name": "ipython",
    "version": 3
   },
   "file_extension": ".py",
   "mimetype": "text/x-python",
   "name": "python",
   "nbconvert_exporter": "python",
   "pygments_lexer": "ipython3",
   "version": "3.8.8"
  }
 },
 "nbformat": 4,
 "nbformat_minor": 5
}
