{
 "cells": [
  {
   "cell_type": "markdown",
   "id": "b1186359-7371-4d31-9b85-b906000a264c",
   "metadata": {},
   "source": [
    "<left><img width=100% height=100% src=\"img/itu_logo.png\"></left>\n",
    "\n",
    "## Lecture 14: Clustering\n",
    "\n",
    "### __Gül İnan__<br><br>Istanbul Technical University\n",
    "\n",
    "<br>"
   ]
  },
  {
   "cell_type": "markdown",
   "id": "47d6a57c-0f02-4f43-859d-bb877c2de13e",
   "metadata": {},
   "source": [
    "## Re-visit USArrest Data\n",
    "\n",
    "[USArrest Data](https://raw.githubusercontent.com/gulinan/ISLR-python/master/Notebooks/Data/USArrests.csv) contains statistics, in arrests per 100,000 residents for assault, murder, and rape in each of the 50 US states in 1973. The percent of the population living in urban areas is also given.\n",
    "\n",
    "A data frame with 50 observations on 4 variables:\n",
    "\n",
    "   * `Assault`: Assault arrests (per 100,000),\n",
    "   * `Murder`: Murder arrests (per 100,000), \n",
    "   * `Rape`: Rape arrests (per 100,000), and\n",
    "   * `UrbanPop`: The percent of the population in each state living in the urban areas."
   ]
  },
  {
   "cell_type": "code",
   "execution_count": 281,
   "id": "d0a82901-e0fc-4602-b96b-f20a97db8b56",
   "metadata": {},
   "outputs": [
    {
     "data": {
      "text/html": [
       "<div>\n",
       "<style scoped>\n",
       "    .dataframe tbody tr th:only-of-type {\n",
       "        vertical-align: middle;\n",
       "    }\n",
       "\n",
       "    .dataframe tbody tr th {\n",
       "        vertical-align: top;\n",
       "    }\n",
       "\n",
       "    .dataframe thead th {\n",
       "        text-align: right;\n",
       "    }\n",
       "</style>\n",
       "<table border=\"1\" class=\"dataframe\">\n",
       "  <thead>\n",
       "    <tr style=\"text-align: right;\">\n",
       "      <th></th>\n",
       "      <th>Assault</th>\n",
       "      <th>Murder</th>\n",
       "      <th>Rape</th>\n",
       "      <th>UrbanPop</th>\n",
       "    </tr>\n",
       "  </thead>\n",
       "  <tbody>\n",
       "    <tr>\n",
       "      <th>Alabama</th>\n",
       "      <td>236</td>\n",
       "      <td>13.2</td>\n",
       "      <td>21.2</td>\n",
       "      <td>58</td>\n",
       "    </tr>\n",
       "    <tr>\n",
       "      <th>Alaska</th>\n",
       "      <td>263</td>\n",
       "      <td>10.0</td>\n",
       "      <td>44.5</td>\n",
       "      <td>48</td>\n",
       "    </tr>\n",
       "    <tr>\n",
       "      <th>Arizona</th>\n",
       "      <td>294</td>\n",
       "      <td>8.1</td>\n",
       "      <td>31.0</td>\n",
       "      <td>80</td>\n",
       "    </tr>\n",
       "    <tr>\n",
       "      <th>Arkansas</th>\n",
       "      <td>190</td>\n",
       "      <td>8.8</td>\n",
       "      <td>19.5</td>\n",
       "      <td>50</td>\n",
       "    </tr>\n",
       "    <tr>\n",
       "      <th>California</th>\n",
       "      <td>276</td>\n",
       "      <td>9.0</td>\n",
       "      <td>40.6</td>\n",
       "      <td>91</td>\n",
       "    </tr>\n",
       "    <tr>\n",
       "      <th>Colorado</th>\n",
       "      <td>204</td>\n",
       "      <td>7.9</td>\n",
       "      <td>38.7</td>\n",
       "      <td>78</td>\n",
       "    </tr>\n",
       "    <tr>\n",
       "      <th>Connecticut</th>\n",
       "      <td>110</td>\n",
       "      <td>3.3</td>\n",
       "      <td>11.1</td>\n",
       "      <td>77</td>\n",
       "    </tr>\n",
       "    <tr>\n",
       "      <th>Delaware</th>\n",
       "      <td>238</td>\n",
       "      <td>5.9</td>\n",
       "      <td>15.8</td>\n",
       "      <td>72</td>\n",
       "    </tr>\n",
       "    <tr>\n",
       "      <th>Florida</th>\n",
       "      <td>335</td>\n",
       "      <td>15.4</td>\n",
       "      <td>31.9</td>\n",
       "      <td>80</td>\n",
       "    </tr>\n",
       "    <tr>\n",
       "      <th>Georgia</th>\n",
       "      <td>211</td>\n",
       "      <td>17.4</td>\n",
       "      <td>25.8</td>\n",
       "      <td>60</td>\n",
       "    </tr>\n",
       "  </tbody>\n",
       "</table>\n",
       "</div>"
      ],
      "text/plain": [
       "             Assault  Murder  Rape  UrbanPop\n",
       "Alabama          236    13.2  21.2        58\n",
       "Alaska           263    10.0  44.5        48\n",
       "Arizona          294     8.1  31.0        80\n",
       "Arkansas         190     8.8  19.5        50\n",
       "California       276     9.0  40.6        91\n",
       "Colorado         204     7.9  38.7        78\n",
       "Connecticut      110     3.3  11.1        77\n",
       "Delaware         238     5.9  15.8        72\n",
       "Florida          335    15.4  31.9        80\n",
       "Georgia          211    17.4  25.8        60"
      ]
     },
     "execution_count": 281,
     "metadata": {},
     "output_type": "execute_result"
    }
   ],
   "source": [
    "#required libraries\n",
    "import pandas as pd\n",
    "df = pd.read_excel('datasets/USArrests.xlsx', index_col=0, header=0)\n",
    "df.head(10)"
   ]
  },
  {
   "cell_type": "code",
   "execution_count": 282,
   "id": "eef99dd9-9350-4f48-93d6-606c84ff01b3",
   "metadata": {},
   "outputs": [
    {
     "data": {
      "text/plain": [
       "(50, 4)"
      ]
     },
     "execution_count": 282,
     "metadata": {},
     "output_type": "execute_result"
    }
   ],
   "source": [
    "#data shape\n",
    "df.shape"
   ]
  },
  {
   "cell_type": "markdown",
   "id": "cbf7f4c9-2c6f-451d-854a-effe91e11998",
   "metadata": {},
   "source": [
    "## PCA results\n",
    "\n",
    "Remember from the last week, the **first two principal component** explains almost 87% of the variance in the data, and the last two principal components explain only 13% of the variance.\n",
    "\n",
    "We will **keep the first two PCs** to represent the whole data."
   ]
  },
  {
   "cell_type": "code",
   "execution_count": 283,
   "id": "e38501b3-cf74-4288-9ff8-7c2c1c32a128",
   "metadata": {},
   "outputs": [],
   "source": [
    "from sklearn import set_config\n",
    "set_config(transform_output=\"pandas\") "
   ]
  },
  {
   "cell_type": "code",
   "execution_count": 284,
   "id": "c2f55a18-d7b9-4752-913a-6047bdb67cec",
   "metadata": {},
   "outputs": [],
   "source": [
    "#import required libraries\n",
    "from sklearn.pipeline import make_pipeline\n",
    "from sklearn.preprocessing import StandardScaler\n",
    "from sklearn.decomposition import PCA"
   ]
  },
  {
   "cell_type": "code",
   "execution_count": 285,
   "id": "0aa49f51-c675-4e68-b615-32a7c69d7588",
   "metadata": {},
   "outputs": [],
   "source": [
    "#apply PCA with two components to standardized feature matrix.\n",
    "sd_pca = make_pipeline(StandardScaler(), PCA(n_components=2))"
   ]
  },
  {
   "cell_type": "code",
   "execution_count": 286,
   "id": "b00d5b68-3c94-458e-820c-21f5aaa91ed8",
   "metadata": {},
   "outputs": [
    {
     "data": {
      "text/html": [
       "<div>\n",
       "<style scoped>\n",
       "    .dataframe tbody tr th:only-of-type {\n",
       "        vertical-align: middle;\n",
       "    }\n",
       "\n",
       "    .dataframe tbody tr th {\n",
       "        vertical-align: top;\n",
       "    }\n",
       "\n",
       "    .dataframe thead th {\n",
       "        text-align: right;\n",
       "    }\n",
       "</style>\n",
       "<table border=\"1\" class=\"dataframe\">\n",
       "  <thead>\n",
       "    <tr style=\"text-align: right;\">\n",
       "      <th></th>\n",
       "      <th>pca0</th>\n",
       "      <th>pca1</th>\n",
       "    </tr>\n",
       "  </thead>\n",
       "  <tbody>\n",
       "    <tr>\n",
       "      <th>Alabama</th>\n",
       "      <td>0.985566</td>\n",
       "      <td>1.133392</td>\n",
       "    </tr>\n",
       "    <tr>\n",
       "      <th>Alaska</th>\n",
       "      <td>1.950138</td>\n",
       "      <td>1.073213</td>\n",
       "    </tr>\n",
       "    <tr>\n",
       "      <th>Arizona</th>\n",
       "      <td>1.763164</td>\n",
       "      <td>-0.745957</td>\n",
       "    </tr>\n",
       "    <tr>\n",
       "      <th>Arkansas</th>\n",
       "      <td>-0.141420</td>\n",
       "      <td>1.119797</td>\n",
       "    </tr>\n",
       "    <tr>\n",
       "      <th>California</th>\n",
       "      <td>2.523980</td>\n",
       "      <td>-1.542934</td>\n",
       "    </tr>\n",
       "    <tr>\n",
       "      <th>Colorado</th>\n",
       "      <td>1.514563</td>\n",
       "      <td>-0.987555</td>\n",
       "    </tr>\n",
       "    <tr>\n",
       "      <th>Connecticut</th>\n",
       "      <td>-1.358647</td>\n",
       "      <td>-1.088928</td>\n",
       "    </tr>\n",
       "    <tr>\n",
       "      <th>Delaware</th>\n",
       "      <td>0.047709</td>\n",
       "      <td>-0.325359</td>\n",
       "    </tr>\n",
       "    <tr>\n",
       "      <th>Florida</th>\n",
       "      <td>3.013042</td>\n",
       "      <td>0.039229</td>\n",
       "    </tr>\n",
       "    <tr>\n",
       "      <th>Georgia</th>\n",
       "      <td>1.639283</td>\n",
       "      <td>1.278942</td>\n",
       "    </tr>\n",
       "    <tr>\n",
       "      <th>Hawaii</th>\n",
       "      <td>-0.912657</td>\n",
       "      <td>-1.570460</td>\n",
       "    </tr>\n",
       "    <tr>\n",
       "      <th>Idaho</th>\n",
       "      <td>-1.639800</td>\n",
       "      <td>0.210973</td>\n",
       "    </tr>\n",
       "    <tr>\n",
       "      <th>Illinois</th>\n",
       "      <td>1.378911</td>\n",
       "      <td>-0.681841</td>\n",
       "    </tr>\n",
       "    <tr>\n",
       "      <th>Indiana</th>\n",
       "      <td>-0.505461</td>\n",
       "      <td>-0.151563</td>\n",
       "    </tr>\n",
       "    <tr>\n",
       "      <th>Iowa</th>\n",
       "      <td>-2.253646</td>\n",
       "      <td>-0.104054</td>\n",
       "    </tr>\n",
       "  </tbody>\n",
       "</table>\n",
       "</div>"
      ],
      "text/plain": [
       "                 pca0      pca1\n",
       "Alabama      0.985566  1.133392\n",
       "Alaska       1.950138  1.073213\n",
       "Arizona      1.763164 -0.745957\n",
       "Arkansas    -0.141420  1.119797\n",
       "California   2.523980 -1.542934\n",
       "Colorado     1.514563 -0.987555\n",
       "Connecticut -1.358647 -1.088928\n",
       "Delaware     0.047709 -0.325359\n",
       "Florida      3.013042  0.039229\n",
       "Georgia      1.639283  1.278942\n",
       "Hawaii      -0.912657 -1.570460\n",
       "Idaho       -1.639800  0.210973\n",
       "Illinois     1.378911 -0.681841\n",
       "Indiana     -0.505461 -0.151563\n",
       "Iowa        -2.253646 -0.104054"
      ]
     },
     "execution_count": 286,
     "metadata": {},
     "output_type": "execute_result"
    }
   ],
   "source": [
    "#display the first two principal components\n",
    "rep_mat = sd_pca.fit_transform(df)\n",
    "rep_mat.head(15)"
   ]
  },
  {
   "cell_type": "code",
   "execution_count": 287,
   "id": "fa7ab5ae-2172-428f-a1c6-ec4db9198086",
   "metadata": {},
   "outputs": [
    {
     "data": {
      "text/html": [
       "<div>\n",
       "<style scoped>\n",
       "    .dataframe tbody tr th:only-of-type {\n",
       "        vertical-align: middle;\n",
       "    }\n",
       "\n",
       "    .dataframe tbody tr th {\n",
       "        vertical-align: top;\n",
       "    }\n",
       "\n",
       "    .dataframe thead th {\n",
       "        text-align: right;\n",
       "    }\n",
       "</style>\n",
       "<table border=\"1\" class=\"dataframe\">\n",
       "  <thead>\n",
       "    <tr style=\"text-align: right;\">\n",
       "      <th></th>\n",
       "      <th>pca0</th>\n",
       "      <th>pca1</th>\n",
       "    </tr>\n",
       "  </thead>\n",
       "  <tbody>\n",
       "    <tr>\n",
       "      <th>Alabama</th>\n",
       "      <td>0.985566</td>\n",
       "      <td>-1.133392</td>\n",
       "    </tr>\n",
       "    <tr>\n",
       "      <th>Alaska</th>\n",
       "      <td>1.950138</td>\n",
       "      <td>-1.073213</td>\n",
       "    </tr>\n",
       "    <tr>\n",
       "      <th>Arizona</th>\n",
       "      <td>1.763164</td>\n",
       "      <td>0.745957</td>\n",
       "    </tr>\n",
       "    <tr>\n",
       "      <th>Arkansas</th>\n",
       "      <td>-0.141420</td>\n",
       "      <td>-1.119797</td>\n",
       "    </tr>\n",
       "    <tr>\n",
       "      <th>California</th>\n",
       "      <td>2.523980</td>\n",
       "      <td>1.542934</td>\n",
       "    </tr>\n",
       "    <tr>\n",
       "      <th>Colorado</th>\n",
       "      <td>1.514563</td>\n",
       "      <td>0.987555</td>\n",
       "    </tr>\n",
       "    <tr>\n",
       "      <th>Connecticut</th>\n",
       "      <td>-1.358647</td>\n",
       "      <td>1.088928</td>\n",
       "    </tr>\n",
       "    <tr>\n",
       "      <th>Delaware</th>\n",
       "      <td>0.047709</td>\n",
       "      <td>0.325359</td>\n",
       "    </tr>\n",
       "    <tr>\n",
       "      <th>Florida</th>\n",
       "      <td>3.013042</td>\n",
       "      <td>-0.039229</td>\n",
       "    </tr>\n",
       "    <tr>\n",
       "      <th>Georgia</th>\n",
       "      <td>1.639283</td>\n",
       "      <td>-1.278942</td>\n",
       "    </tr>\n",
       "  </tbody>\n",
       "</table>\n",
       "</div>"
      ],
      "text/plain": [
       "                 pca0      pca1\n",
       "Alabama      0.985566 -1.133392\n",
       "Alaska       1.950138 -1.073213\n",
       "Arizona      1.763164  0.745957\n",
       "Arkansas    -0.141420 -1.119797\n",
       "California   2.523980  1.542934\n",
       "Colorado     1.514563  0.987555\n",
       "Connecticut -1.358647  1.088928\n",
       "Delaware     0.047709  0.325359\n",
       "Florida      3.013042 -0.039229\n",
       "Georgia      1.639283 -1.278942"
      ]
     },
     "execution_count": 287,
     "metadata": {},
     "output_type": "execute_result"
    }
   ],
   "source": [
    "#change the sign of the pca1 (pca2 actually) for interpretability (we did this last week)\n",
    "rep_mat.pca1 = -1*rep_mat.pca1\n",
    "rep_mat.head(10)"
   ]
  },
  {
   "cell_type": "code",
   "execution_count": 288,
   "id": "0caf7c4a-bc27-4a6f-8289-ab6ac7610703",
   "metadata": {},
   "outputs": [
    {
     "data": {
      "text/plain": [
       "(50, 2)"
      ]
     },
     "execution_count": 288,
     "metadata": {},
     "output_type": "execute_result"
    }
   ],
   "source": [
    "rep_mat.shape"
   ]
  },
  {
   "cell_type": "markdown",
   "id": "3528b1d9-f051-4744-91ae-47e4ae81feac",
   "metadata": {},
   "source": [
    "## Cluster Analysis\n",
    "\n",
    "We will use scikit-learn's [KMeans](https://scikit-learn.org/stable/modules/generated/sklearn.cluster.KMeans.html#sklearn.cluster.KMeans) class from cluster module. The most commonly used arguments are: \n",
    "\n",
    "  * `n_clusters`: The number of clusters to form as well as the number of centroids to generate.\n",
    "  * `init`: Method for initialization. ‘init=random’: choose n_clusters observations (rows) at random from data for the initial centroids.\n",
    "  * `n_init`: Number of times the k-means algorithm is run with different centroid seeds. The final results is the best output of n_init consecutive runs in terms of `inertia`.\n",
    "  * `random_state`: Determines random number generation for centroid initialization."
   ]
  },
  {
   "cell_type": "code",
   "execution_count": 289,
   "id": "6e259324-a3d2-44bf-a061-313882c7c7d6",
   "metadata": {},
   "outputs": [],
   "source": [
    "#import\n",
    "from sklearn.cluster import KMeans"
   ]
  },
  {
   "cell_type": "markdown",
   "id": "54fcd1c5-3dec-420f-b185-dfe26b4e38c9",
   "metadata": {},
   "source": [
    "Let's first fit a clustering algorithm with $K=2$ clusters."
   ]
  },
  {
   "cell_type": "code",
   "execution_count": 290,
   "id": "66760fbb-c752-4bfe-bf9c-81196757c40b",
   "metadata": {},
   "outputs": [
    {
     "name": "stdout",
     "output_type": "stream",
     "text": [
      "KMeans(init='random', n_clusters=2, n_init=20, random_state=1773)\n"
     ]
    }
   ],
   "source": [
    "#instantiate k means class\n",
    "km2 = KMeans(n_clusters=2, init='random', n_init=20, random_state=1773)\n",
    "print(km2)"
   ]
  },
  {
   "cell_type": "code",
   "execution_count": 291,
   "id": "b046294f-e751-40e9-b667-027b692af77b",
   "metadata": {},
   "outputs": [
    {
     "data": {
      "text/html": [
       "<style>#sk-container-id-17 {color: black;}#sk-container-id-17 pre{padding: 0;}#sk-container-id-17 div.sk-toggleable {background-color: white;}#sk-container-id-17 label.sk-toggleable__label {cursor: pointer;display: block;width: 100%;margin-bottom: 0;padding: 0.3em;box-sizing: border-box;text-align: center;}#sk-container-id-17 label.sk-toggleable__label-arrow:before {content: \"▸\";float: left;margin-right: 0.25em;color: #696969;}#sk-container-id-17 label.sk-toggleable__label-arrow:hover:before {color: black;}#sk-container-id-17 div.sk-estimator:hover label.sk-toggleable__label-arrow:before {color: black;}#sk-container-id-17 div.sk-toggleable__content {max-height: 0;max-width: 0;overflow: hidden;text-align: left;background-color: #f0f8ff;}#sk-container-id-17 div.sk-toggleable__content pre {margin: 0.2em;color: black;border-radius: 0.25em;background-color: #f0f8ff;}#sk-container-id-17 input.sk-toggleable__control:checked~div.sk-toggleable__content {max-height: 200px;max-width: 100%;overflow: auto;}#sk-container-id-17 input.sk-toggleable__control:checked~label.sk-toggleable__label-arrow:before {content: \"▾\";}#sk-container-id-17 div.sk-estimator input.sk-toggleable__control:checked~label.sk-toggleable__label {background-color: #d4ebff;}#sk-container-id-17 div.sk-label input.sk-toggleable__control:checked~label.sk-toggleable__label {background-color: #d4ebff;}#sk-container-id-17 input.sk-hidden--visually {border: 0;clip: rect(1px 1px 1px 1px);clip: rect(1px, 1px, 1px, 1px);height: 1px;margin: -1px;overflow: hidden;padding: 0;position: absolute;width: 1px;}#sk-container-id-17 div.sk-estimator {font-family: monospace;background-color: #f0f8ff;border: 1px dotted black;border-radius: 0.25em;box-sizing: border-box;margin-bottom: 0.5em;}#sk-container-id-17 div.sk-estimator:hover {background-color: #d4ebff;}#sk-container-id-17 div.sk-parallel-item::after {content: \"\";width: 100%;border-bottom: 1px solid gray;flex-grow: 1;}#sk-container-id-17 div.sk-label:hover label.sk-toggleable__label {background-color: #d4ebff;}#sk-container-id-17 div.sk-serial::before {content: \"\";position: absolute;border-left: 1px solid gray;box-sizing: border-box;top: 0;bottom: 0;left: 50%;z-index: 0;}#sk-container-id-17 div.sk-serial {display: flex;flex-direction: column;align-items: center;background-color: white;padding-right: 0.2em;padding-left: 0.2em;position: relative;}#sk-container-id-17 div.sk-item {position: relative;z-index: 1;}#sk-container-id-17 div.sk-parallel {display: flex;align-items: stretch;justify-content: center;background-color: white;position: relative;}#sk-container-id-17 div.sk-item::before, #sk-container-id-17 div.sk-parallel-item::before {content: \"\";position: absolute;border-left: 1px solid gray;box-sizing: border-box;top: 0;bottom: 0;left: 50%;z-index: -1;}#sk-container-id-17 div.sk-parallel-item {display: flex;flex-direction: column;z-index: 1;position: relative;background-color: white;}#sk-container-id-17 div.sk-parallel-item:first-child::after {align-self: flex-end;width: 50%;}#sk-container-id-17 div.sk-parallel-item:last-child::after {align-self: flex-start;width: 50%;}#sk-container-id-17 div.sk-parallel-item:only-child::after {width: 0;}#sk-container-id-17 div.sk-dashed-wrapped {border: 1px dashed gray;margin: 0 0.4em 0.5em 0.4em;box-sizing: border-box;padding-bottom: 0.4em;background-color: white;}#sk-container-id-17 div.sk-label label {font-family: monospace;font-weight: bold;display: inline-block;line-height: 1.2em;}#sk-container-id-17 div.sk-label-container {text-align: center;}#sk-container-id-17 div.sk-container {/* jupyter's `normalize.less` sets `[hidden] { display: none; }` but bootstrap.min.css set `[hidden] { display: none !important; }` so we also need the `!important` here to be able to override the default hidden behavior on the sphinx rendered scikit-learn.org. See: https://github.com/scikit-learn/scikit-learn/issues/21755 */display: inline-block !important;position: relative;}#sk-container-id-17 div.sk-text-repr-fallback {display: none;}</style><div id=\"sk-container-id-17\" class=\"sk-top-container\"><div class=\"sk-text-repr-fallback\"><pre>KMeans(init=&#x27;random&#x27;, n_clusters=2, n_init=20, random_state=1773)</pre><b>In a Jupyter environment, please rerun this cell to show the HTML representation or trust the notebook. <br />On GitHub, the HTML representation is unable to render, please try loading this page with nbviewer.org.</b></div><div class=\"sk-container\" hidden><div class=\"sk-item\"><div class=\"sk-estimator sk-toggleable\"><input class=\"sk-toggleable__control sk-hidden--visually\" id=\"sk-estimator-id-17\" type=\"checkbox\" checked><label for=\"sk-estimator-id-17\" class=\"sk-toggleable__label sk-toggleable__label-arrow\">KMeans</label><div class=\"sk-toggleable__content\"><pre>KMeans(init=&#x27;random&#x27;, n_clusters=2, n_init=20, random_state=1773)</pre></div></div></div></div></div>"
      ],
      "text/plain": [
       "KMeans(init='random', n_clusters=2, n_init=20, random_state=1773)"
      ]
     },
     "execution_count": 291,
     "metadata": {},
     "output_type": "execute_result"
    }
   ],
   "source": [
    "km2.fit(rep_mat)"
   ]
  },
  {
   "cell_type": "markdown",
   "id": "cf834b53-2558-44e0-87ab-4e46fb4b03f6",
   "metadata": {},
   "source": [
    "We can learn the cluster centers with `cluster_centers_` attribute."
   ]
  },
  {
   "cell_type": "code",
   "execution_count": 292,
   "id": "ca28f69f-0113-44d1-894d-356679d1d2ae",
   "metadata": {},
   "outputs": [
    {
     "data": {
      "text/plain": [
       "array([[ 1.66172672, -0.29967433],\n",
       "       [-1.10781782,  0.19978289]])"
      ]
     },
     "execution_count": 292,
     "metadata": {},
     "output_type": "execute_result"
    }
   ],
   "source": [
    "#Coordinates of cluster centers\n",
    "#x-y coordinates (columns)\n",
    "#rows are clusters\n",
    "km2.cluster_centers_"
   ]
  },
  {
   "cell_type": "markdown",
   "id": "32533620-2c23-45aa-b963-f22f279fa752",
   "metadata": {},
   "source": [
    "Once we fit the k-means to the data, we can access cluster labels from the `labels_` attribute or the `fit` method."
   ]
  },
  {
   "cell_type": "code",
   "execution_count": 293,
   "id": "cc76455f-e255-418a-8375-ff8c3fce38bb",
   "metadata": {},
   "outputs": [
    {
     "data": {
      "text/plain": [
       "array([0, 0, 0, 1, 0, 0, 1, 1, 0, 0, 1, 1, 0, 1, 1, 1, 1, 0, 1, 0, 1, 0,\n",
       "       1, 0, 0, 1, 1, 0, 1, 1, 0, 0, 0, 1, 1, 1, 1, 1, 1, 0, 1, 0, 0, 1,\n",
       "       1, 1, 1, 1, 1, 1], dtype=int32)"
      ]
     },
     "execution_count": 293,
     "metadata": {},
     "output_type": "execute_result"
    }
   ],
   "source": [
    "#return labels with labels attribute\n",
    "km2.labels_"
   ]
  },
  {
   "cell_type": "code",
   "execution_count": 294,
   "id": "1a405756-6dd3-47fa-94f2-409f47cf54ee",
   "metadata": {},
   "outputs": [
    {
     "data": {
      "text/plain": [
       "array([0, 0, 0, 1, 0, 0, 1, 1, 0, 0, 1, 1, 0, 1, 1, 1, 1, 0, 1, 0, 1, 0,\n",
       "       1, 0, 0, 1, 1, 0, 1, 1, 0, 0, 0, 1, 1, 1, 1, 1, 1, 0, 1, 0, 0, 1,\n",
       "       1, 1, 1, 1, 1, 1], dtype=int32)"
      ]
     },
     "execution_count": 294,
     "metadata": {},
     "output_type": "execute_result"
    }
   ],
   "source": [
    "#return labels with predict method\n",
    "label_pred=km2.predict(rep_mat)\n",
    "label_pred"
   ]
  },
  {
   "cell_type": "markdown",
   "id": "210f9b24-9bd7-49d3-a640-2eb998765cf3",
   "metadata": {},
   "source": [
    "We can also visualize the data with respect to their cluster labels, as below."
   ]
  },
  {
   "cell_type": "code",
   "execution_count": 295,
   "id": "3ee74199-7683-4428-bf41-6517ebd61096",
   "metadata": {},
   "outputs": [
    {
     "data": {
      "image/png": "[encoded data removed]",
      "text/plain": [
       "<Figure size 432x432 with 1 Axes>"
      ]
     },
     "metadata": {},
     "output_type": "display_data"
    }
   ],
   "source": [
    "import matplotlib.pyplot as plt\n",
    "import seaborn as sns\n",
    "plt.rcParams['figure.figsize'] = [6, 6]\n",
    "\n",
    "sns.scatterplot(data=rep_mat, x=rep_mat.pca0, y=rep_mat.pca1, hue=label_pred, s=80)\n",
    "plt.scatter(km2.cluster_centers_[:,0], km2.cluster_centers_[:,1], marker='^', s=100, c='red', linewidth=3)\n",
    "plt.title('K-Means Clustering Results with K=2')\n",
    "plt.xlabel('PCA1 (dominated by criminal realated features')\n",
    "plt.ylabel('PCA2 (dominated by percentage of urban population feature')\n",
    "plt.show();"
   ]
  },
  {
   "cell_type": "code",
   "execution_count": 296,
   "id": "e829aefc-93d9-48b1-8f9b-dedefe4333e1",
   "metadata": {},
   "outputs": [
    {
     "data": {
      "text/plain": [
       "1    30\n",
       "0    20\n",
       "dtype: int64"
      ]
     },
     "execution_count": 296,
     "metadata": {},
     "output_type": "execute_result"
    }
   ],
   "source": [
    "#count the number of elements in each cluster\n",
    "pd.Series(km2.labels_).value_counts()"
   ]
  },
  {
   "cell_type": "code",
   "execution_count": 297,
   "id": "b7e53bc9-1fbd-4b89-bdda-3b7fe6882927",
   "metadata": {},
   "outputs": [
    {
     "data": {
      "text/plain": [
       "78.4623228750308"
      ]
     },
     "execution_count": 297,
     "metadata": {},
     "output_type": "execute_result"
    }
   ],
   "source": [
    "# Sum of distances of samples to their closest cluster center.\n",
    "km2.inertia_"
   ]
  },
  {
   "cell_type": "markdown",
   "id": "4df257e4-e944-43fb-8f2d-0bcf1c41ff47",
   "metadata": {},
   "source": [
    "## Choosing K: Elbow Method"
   ]
  },
  {
   "cell_type": "markdown",
   "id": "dd249c46-be40-46bc-96fa-1a2517715ff2",
   "metadata": {},
   "source": [
    "The weakness of K-means clustering is that we don’t know how many clusters we need by just running the model. We need to test possible range of values and make a decision on the best value of k. We typically make a decision using the `Elbow method` to determine the `optimal number of clusters`.\n",
    "\n",
    "We create a _for loop_ to calculate and save `inertia` (total within-cluster distance) values of different K-means clustering results so that we can make a decision on the best number of clusters."
   ]
  },
  {
   "cell_type": "code",
   "execution_count": 298,
   "id": "ca11019b-e9ed-4932-b0e9-1663f5c74a0b",
   "metadata": {},
   "outputs": [
    {
     "name": "stdout",
     "output_type": "stream",
     "text": [
      "k 1 inertia 173.50033658446665\n",
      "k 2 inertia 78.4623228750308\n",
      "k 3 inertia 54.188879308898635\n",
      "k 4 inertia 32.95864311884383\n",
      "k 5 inertia 26.296295867738632\n",
      "k 6 inertia 22.106360516372305\n",
      "k 7 inertia 18.860082940162464\n",
      "k 8 inertia 16.643116249227184\n",
      "k 9 inertia 13.474134502210916\n",
      "k 10 inertia 11.562791504340044\n"
     ]
    }
   ],
   "source": [
    "#calculate inertia values for diffrent values of k\n",
    "inertia = []\n",
    "\n",
    "K = range(1,11)\n",
    "\n",
    "for k in K:\n",
    "    km_k = KMeans(n_clusters=k, init='random', n_init=20, random_state=1773)\n",
    "    #print(k)\n",
    "    km_k.fit(rep_mat)\n",
    "    print(\"k\",k,\"inertia\", km_k.inertia_)\n",
    "    inertia.append(km_k.inertia_)\n",
    "  \n",
    "#inertia    "
   ]
  },
  {
   "cell_type": "code",
   "execution_count": 299,
   "id": "9409be8f-c079-467e-9d52-07913cac1696",
   "metadata": {},
   "outputs": [],
   "source": [
    "# Import ElbowVisualizer\n",
    "from yellowbrick.cluster import KElbowVisualizer"
   ]
  },
  {
   "cell_type": "code",
   "execution_count": 300,
   "id": "d3457323-f38b-4a9e-b84a-61a52fc127b2",
   "metadata": {},
   "outputs": [
    {
     "data": {
      "image/png": "[encoded data removed]",
      "text/plain": [
       "<Figure size 432x432 with 1 Axes>"
      ]
     },
     "metadata": {},
     "output_type": "display_data"
    }
   ],
   "source": [
    "import matplotlib.pyplot as plt\n",
    "plt.rcParams['figure.figsize'] = [6, 6]\n",
    "\n",
    "fig, ax = plt.subplots()\n",
    "\n",
    "model = KMeans(n_clusters=k, init='random', n_init=20, random_state=1773)\n",
    "\n",
    "visualizer = KElbowVisualizer(model, k=(1,11), timings=False, ax=ax)\n",
    "visualizer.fit(rep_mat)        # Fit the data to the visualizer\n",
    "visualizer.ax.set_ylabel('Inertia')\n",
    "visualizer.ax.set_title('The Elbow Method showing the optimal K');\n",
    "#visualizer.show();        "
   ]
  },
  {
   "cell_type": "markdown",
   "id": "e88e5ced-20a3-4535-9241-95de3ef14d8b",
   "metadata": {},
   "source": [
    "The elbow method suggests to take $K=4$ as the optimum size. We can now fit K-means with $K=4$."
   ]
  },
  {
   "cell_type": "code",
   "execution_count": 301,
   "id": "45cafe33-d718-4092-a1f8-2f79377a160e",
   "metadata": {},
   "outputs": [
    {
     "data": {
      "text/html": [
       "<style>#sk-container-id-18 {color: black;}#sk-container-id-18 pre{padding: 0;}#sk-container-id-18 div.sk-toggleable {background-color: white;}#sk-container-id-18 label.sk-toggleable__label {cursor: pointer;display: block;width: 100%;margin-bottom: 0;padding: 0.3em;box-sizing: border-box;text-align: center;}#sk-container-id-18 label.sk-toggleable__label-arrow:before {content: \"▸\";float: left;margin-right: 0.25em;color: #696969;}#sk-container-id-18 label.sk-toggleable__label-arrow:hover:before {color: black;}#sk-container-id-18 div.sk-estimator:hover label.sk-toggleable__label-arrow:before {color: black;}#sk-container-id-18 div.sk-toggleable__content {max-height: 0;max-width: 0;overflow: hidden;text-align: left;background-color: #f0f8ff;}#sk-container-id-18 div.sk-toggleable__content pre {margin: 0.2em;color: black;border-radius: 0.25em;background-color: #f0f8ff;}#sk-container-id-18 input.sk-toggleable__control:checked~div.sk-toggleable__content {max-height: 200px;max-width: 100%;overflow: auto;}#sk-container-id-18 input.sk-toggleable__control:checked~label.sk-toggleable__label-arrow:before {content: \"▾\";}#sk-container-id-18 div.sk-estimator input.sk-toggleable__control:checked~label.sk-toggleable__label {background-color: #d4ebff;}#sk-container-id-18 div.sk-label input.sk-toggleable__control:checked~label.sk-toggleable__label {background-color: #d4ebff;}#sk-container-id-18 input.sk-hidden--visually {border: 0;clip: rect(1px 1px 1px 1px);clip: rect(1px, 1px, 1px, 1px);height: 1px;margin: -1px;overflow: hidden;padding: 0;position: absolute;width: 1px;}#sk-container-id-18 div.sk-estimator {font-family: monospace;background-color: #f0f8ff;border: 1px dotted black;border-radius: 0.25em;box-sizing: border-box;margin-bottom: 0.5em;}#sk-container-id-18 div.sk-estimator:hover {background-color: #d4ebff;}#sk-container-id-18 div.sk-parallel-item::after {content: \"\";width: 100%;border-bottom: 1px solid gray;flex-grow: 1;}#sk-container-id-18 div.sk-label:hover label.sk-toggleable__label {background-color: #d4ebff;}#sk-container-id-18 div.sk-serial::before {content: \"\";position: absolute;border-left: 1px solid gray;box-sizing: border-box;top: 0;bottom: 0;left: 50%;z-index: 0;}#sk-container-id-18 div.sk-serial {display: flex;flex-direction: column;align-items: center;background-color: white;padding-right: 0.2em;padding-left: 0.2em;position: relative;}#sk-container-id-18 div.sk-item {position: relative;z-index: 1;}#sk-container-id-18 div.sk-parallel {display: flex;align-items: stretch;justify-content: center;background-color: white;position: relative;}#sk-container-id-18 div.sk-item::before, #sk-container-id-18 div.sk-parallel-item::before {content: \"\";position: absolute;border-left: 1px solid gray;box-sizing: border-box;top: 0;bottom: 0;left: 50%;z-index: -1;}#sk-container-id-18 div.sk-parallel-item {display: flex;flex-direction: column;z-index: 1;position: relative;background-color: white;}#sk-container-id-18 div.sk-parallel-item:first-child::after {align-self: flex-end;width: 50%;}#sk-container-id-18 div.sk-parallel-item:last-child::after {align-self: flex-start;width: 50%;}#sk-container-id-18 div.sk-parallel-item:only-child::after {width: 0;}#sk-container-id-18 div.sk-dashed-wrapped {border: 1px dashed gray;margin: 0 0.4em 0.5em 0.4em;box-sizing: border-box;padding-bottom: 0.4em;background-color: white;}#sk-container-id-18 div.sk-label label {font-family: monospace;font-weight: bold;display: inline-block;line-height: 1.2em;}#sk-container-id-18 div.sk-label-container {text-align: center;}#sk-container-id-18 div.sk-container {/* jupyter's `normalize.less` sets `[hidden] { display: none; }` but bootstrap.min.css set `[hidden] { display: none !important; }` so we also need the `!important` here to be able to override the default hidden behavior on the sphinx rendered scikit-learn.org. See: https://github.com/scikit-learn/scikit-learn/issues/21755 */display: inline-block !important;position: relative;}#sk-container-id-18 div.sk-text-repr-fallback {display: none;}</style><div id=\"sk-container-id-18\" class=\"sk-top-container\"><div class=\"sk-text-repr-fallback\"><pre>KMeans(init=&#x27;random&#x27;, n_clusters=4, n_init=20, random_state=1773)</pre><b>In a Jupyter environment, please rerun this cell to show the HTML representation or trust the notebook. <br />On GitHub, the HTML representation is unable to render, please try loading this page with nbviewer.org.</b></div><div class=\"sk-container\" hidden><div class=\"sk-item\"><div class=\"sk-estimator sk-toggleable\"><input class=\"sk-toggleable__control sk-hidden--visually\" id=\"sk-estimator-id-18\" type=\"checkbox\" checked><label for=\"sk-estimator-id-18\" class=\"sk-toggleable__label sk-toggleable__label-arrow\">KMeans</label><div class=\"sk-toggleable__content\"><pre>KMeans(init=&#x27;random&#x27;, n_clusters=4, n_init=20, random_state=1773)</pre></div></div></div></div></div>"
      ],
      "text/plain": [
       "KMeans(init='random', n_clusters=4, n_init=20, random_state=1773)"
      ]
     },
     "execution_count": 301,
     "metadata": {},
     "output_type": "execute_result"
    }
   ],
   "source": [
    "km4 = KMeans(n_clusters=4, init='random', n_init=20, random_state=1773)\n",
    "km4.fit(rep_mat)"
   ]
  },
  {
   "cell_type": "markdown",
   "id": "26195780-7c93-40a0-b675-784950893d1e",
   "metadata": {},
   "source": [
    "Let's get the cluster labels with `predict` method."
   ]
  },
  {
   "cell_type": "code",
   "execution_count": 302,
   "id": "ada4e1fd-fddf-4098-9f30-59e70909c8e6",
   "metadata": {},
   "outputs": [
    {
     "data": {
      "text/plain": [
       "array([2, 2, 1, 2, 1, 1, 3, 3, 1, 2, 3, 0, 1, 3, 0, 3, 0, 2, 0, 1, 3, 1,\n",
       "       0, 2, 3, 0, 0, 1, 0, 3, 1, 1, 2, 0, 3, 3, 3, 3, 3, 2, 0, 2, 1, 3,\n",
       "       0, 3, 3, 0, 0, 3], dtype=int32)"
      ]
     },
     "execution_count": 302,
     "metadata": {},
     "output_type": "execute_result"
    }
   ],
   "source": [
    "#get the cluster labels\n",
    "label_pred = km4.predict(rep_mat)\n",
    "label_pred"
   ]
  },
  {
   "cell_type": "code",
   "execution_count": 303,
   "id": "8f42ecb8-7934-4a4d-af9c-8fec8788dd8f",
   "metadata": {},
   "outputs": [
    {
     "data": {
      "text/plain": [
       "3    17\n",
       "0    13\n",
       "1    11\n",
       "2     9\n",
       "dtype: int64"
      ]
     },
     "execution_count": 303,
     "metadata": {},
     "output_type": "execute_result"
    }
   ],
   "source": [
    "#count the number of elements in each cluster\n",
    "pd.Series(km4.labels_).value_counts()"
   ]
  },
  {
   "cell_type": "markdown",
   "id": "76c13f56-fee3-4981-b42a-0700dd73d2cd",
   "metadata": {},
   "source": [
    "Let's change the cluster labels with colors so that we can see which states are clustered together."
   ]
  },
  {
   "cell_type": "code",
   "execution_count": 304,
   "id": "dbc3d40e-b723-4b7f-8c93-b1ad9ce558d6",
   "metadata": {},
   "outputs": [
    {
     "data": {
      "text/html": [
       "<div>\n",
       "<style scoped>\n",
       "    .dataframe tbody tr th:only-of-type {\n",
       "        vertical-align: middle;\n",
       "    }\n",
       "\n",
       "    .dataframe tbody tr th {\n",
       "        vertical-align: top;\n",
       "    }\n",
       "\n",
       "    .dataframe thead th {\n",
       "        text-align: right;\n",
       "    }\n",
       "</style>\n",
       "<table border=\"1\" class=\"dataframe\">\n",
       "  <thead>\n",
       "    <tr style=\"text-align: right;\">\n",
       "      <th></th>\n",
       "      <th>pca0</th>\n",
       "      <th>pca1</th>\n",
       "      <th>color</th>\n",
       "    </tr>\n",
       "  </thead>\n",
       "  <tbody>\n",
       "    <tr>\n",
       "      <th>Alabama</th>\n",
       "      <td>0.985566</td>\n",
       "      <td>-1.133392</td>\n",
       "      <td>red</td>\n",
       "    </tr>\n",
       "    <tr>\n",
       "      <th>Alaska</th>\n",
       "      <td>1.950138</td>\n",
       "      <td>-1.073213</td>\n",
       "      <td>red</td>\n",
       "    </tr>\n",
       "    <tr>\n",
       "      <th>Arizona</th>\n",
       "      <td>1.763164</td>\n",
       "      <td>0.745957</td>\n",
       "      <td>green</td>\n",
       "    </tr>\n",
       "    <tr>\n",
       "      <th>Arkansas</th>\n",
       "      <td>-0.141420</td>\n",
       "      <td>-1.119797</td>\n",
       "      <td>red</td>\n",
       "    </tr>\n",
       "    <tr>\n",
       "      <th>California</th>\n",
       "      <td>2.523980</td>\n",
       "      <td>1.542934</td>\n",
       "      <td>green</td>\n",
       "    </tr>\n",
       "  </tbody>\n",
       "</table>\n",
       "</div>"
      ],
      "text/plain": [
       "                pca0      pca1  color\n",
       "Alabama     0.985566 -1.133392    red\n",
       "Alaska      1.950138 -1.073213    red\n",
       "Arizona     1.763164  0.745957  green\n",
       "Arkansas   -0.141420 -1.119797    red\n",
       "California  2.523980  1.542934  green"
      ]
     },
     "execution_count": 304,
     "metadata": {},
     "output_type": "execute_result"
    }
   ],
   "source": [
    "#change cluster labels with colors\n",
    "col = pd.Series(label_pred).replace({0:'blue',1:'green',2:'red',3:'purple'})\n",
    "rep_mat_up = rep_mat.assign(color=col.values)\n",
    "rep_mat_up.head()"
   ]
  },
  {
   "cell_type": "code",
   "execution_count": 305,
   "id": "150baa73-98f2-4224-9430-96c4e6ba7903",
   "metadata": {},
   "outputs": [
    {
     "data": {
      "image/png": "[encoded data removed]",
      "text/plain": [
       "<Figure size 720x576 with 1 Axes>"
      ]
     },
     "metadata": {},
     "output_type": "display_data"
    }
   ],
   "source": [
    "#illustrate states within each cluster\n",
    "\n",
    "import matplotlib.pyplot as plt\n",
    "plt.rcParams['figure.figsize'] = [10, 8]\n",
    "\n",
    "fig , ax1 = plt.subplots()\n",
    "\n",
    "# Plot Principal Components 1 and 2\n",
    "for i in rep_mat.index:\n",
    "    ax1.annotate(i, (rep_mat_up.pca0.loc[i], rep_mat_up.pca1.loc[i]), ha='center', color=rep_mat_up.color.loc[i])\n",
    "\n",
    "# Plot reference lines\n",
    "ax1.hlines(0,-3.5,3.5, linestyles='dotted', colors='grey')\n",
    "ax1.vlines(0,-3.5,3.5, linestyles='dotted', colors='grey')\n",
    "\n",
    "ax1.set_xlim(-3.5,3.5)\n",
    "ax1.set_ylim(-3.0,2)\n",
    "\n",
    "ax1.set_xlabel('First Principal Component')\n",
    "ax1.set_ylabel('Second Principal Component')\n",
    "plt.title('K-Means Clustering Results with K=4')\n",
    "plt.show();"
   ]
  },
  {
   "cell_type": "markdown",
   "id": "d76be188-4700-4034-8944-09a3610f06e3",
   "metadata": {},
   "source": [
    "We can see that there are four clusters and clusters are grouped according to their Pca1 (low, high), Pca2 level (low, high)."
   ]
  },
  {
   "cell_type": "markdown",
   "id": "e4a637bf-d34e-4c16-ba4f-ea6fbacaa4c0",
   "metadata": {},
   "source": [
    "## Silhoutte Coefficient\n",
    "\n",
    "### Cohesion\n",
    "- `Cohesion` measures the similarity of the points in the same cluster and it can be considered as an `intra-cluster metric`.\n",
    "- The `cohesion` of a data point $x_i$ is its **average distance** to all other points in \n",
    "its cluster. We can denote the `cohesion` of a data point $i$ by $a_i$ and calculate it as follows: \n",
    "\n",
    "$$\n",
    "a_i = mean_{x_{i*} \\in C }(distance(x_i, x_{i*})),\n",
    "$$\n",
    "\n",
    "\n",
    "- where $C$ is the cluster of $x_i$ and $x_{i*}$ is also another data point in the same cluster.\n",
    "\n",
    "### Separation\n",
    "- On the other hand, `separation` refers to the degree to which the **clusters do not overlap** and it can be considered as an `inter-cluster metric`. Intuitively, the distance between the clusters speaks about the “goodness of their separation”. So, we define the separation of a data point $x_i$ as minimum of average distance between this point and the points in another clusters.\n",
    "We can denote the `separation` of a data point $x_i$ by $b_i$ and calculate it as follows: \n",
    "\n",
    "$$\n",
    "b_i = min(mean_{x_{i*} \\in C_k }(distance(x_i, x_{i*}))),\n",
    "$$\n",
    "\n",
    "- where $C_k$ is the cluster which $x_i$ **does not belong to**.\n",
    "\n",
    "### Combining Cohesion and Separation into a Silhouette Coefficient\n",
    "\n",
    "- The `silhoutte coefficient` of a data point $x_i$ can be calculated as follows:\n",
    "\n",
    "$$\n",
    "S_i = \\frac{b_i-a_i}{max(a_i,b_i)}.\n",
    "$$\n",
    "\n",
    "- The value of $S_i$ can vary between -1 and 1. The **higher the silhouette value**, the **more certain** we can be that its label is correct. So, a high mean silhouette value of all the points indicates a good clustering.\n",
    "- We want $S_i$ **to be positive** ($a_i < b_i$),\n",
    "and for $a_i$ to be as close to 0 as possible, since $S_i$\n",
    "assumes its maximum value of 1, when $a_i=0$.\n",
    "- A **negative** $S_i$ value corresponds to a case in which $a_i$, the average\n",
    "distance to points in the cluster, is greater than $b_i$, the minimum\n",
    "average distance to points in another cluster.\n",
    "- A **small** $S_i$ value  (around 0) means $a_i$ and $b_i$ are close to each other. This implies that the observation lies between two clusters.\n",
    "- The Silhouette Coefficients of all data points can be calculated via [silhouette_score](https://scikit-learn.org/stable/modules/generated/sklearn.metrics.silhouette_score.html) function of scikit-learn's metrics sub-module.\n",
    "\n",
    "## Silhouette Plots\n",
    "* A `Silhouette Plot` is a graphical tool depicting how well the data points fit into the clusters they’ve been assigned to.\n",
    "* In `Silhouette Plot`, the silhoutte coefficient value $S_i$ of each data point in a cluster is displayed as a horizontal line (that's the **length of the line** corresponds to silhouette coefficient) in an decreasing order.\n",
    "* A `Silhouette Plot` shows the silhouettes of all the clusters in random order. Additionally, it inserts blank spaces between consecutive clusters and can color them differently.\n",
    "* Data points with a **large $S_i$ (almost 1) are very well clustered**, data points with a **negative** $S_i$ are probably placed in the wrong cluster]"
   ]
  },
  {
   "cell_type": "code",
   "execution_count": 306,
   "id": "d1fcbdae-6c6e-45c6-bfa0-709ed5c0e3fb",
   "metadata": {},
   "outputs": [],
   "source": [
    "# Import SilhouetteVisualizer\n",
    "from yellowbrick.cluster import SilhouetteVisualizer"
   ]
  },
  {
   "cell_type": "code",
   "execution_count": 307,
   "id": "6ec54492-fe3c-4fe2-a750-a5f71d51b37e",
   "metadata": {},
   "outputs": [],
   "source": [
    "import warnings \n",
    "warnings.filterwarnings('ignore')"
   ]
  },
  {
   "cell_type": "code",
   "execution_count": 308,
   "id": "3c6439b0-cd54-4a62-8059-b9299489cff4",
   "metadata": {},
   "outputs": [
    {
     "data": {
      "image/png": "[encoded data removed]",
      "text/plain": [
       "<Figure size 720x576 with 1 Axes>"
      ]
     },
     "metadata": {},
     "output_type": "display_data"
    }
   ],
   "source": [
    "import matplotlib.pyplot as plt\n",
    "plt.rcParams['figure.figsize'] = [10, 8]\n",
    "\n",
    "fig, ax = plt.subplots()\n",
    "\n",
    "visualizer = SilhouetteVisualizer(km4, colors='yellowbrick', ax=ax)\n",
    "visualizer.fit(rep_mat)  \n",
    "#visualizer.ax.set_ylabel('Cluster Label')\n",
    "#visualizer.ax.set_title('Silhoutte Coefficient Values');\n",
    "visualizer.show();      "
   ]
  },
  {
   "cell_type": "markdown",
   "id": "418a01e9-94c6-404a-9936-d9d8babeca06",
   "metadata": {},
   "source": [
    "- Here horizontal axis shows the silhouette values, and the height of each silhouette indicates the number of points in the corresponding cluster.\n",
    "\n",
    "- The red line shows the average silhouette value for all the clusters. In this example, the average value is 0.45.\n",
    "\n",
    "- The separation of clusters are better when the silhouette values are close to 1. Therefore, we are looking for the clustering with a higher mean silhouette value, ideally close to 1."
   ]
  },
  {
   "cell_type": "code",
   "execution_count": 309,
   "id": "ecfa2965-ee8c-43d6-82e3-e3fce1c0bbdf",
   "metadata": {},
   "outputs": [
    {
     "data": {
      "text/plain": [
       "array([0.5681871 , 0.32954341, 0.65181881, 0.15352822, 0.54138985])"
      ]
     },
     "execution_count": 309,
     "metadata": {},
     "output_type": "execute_result"
    }
   ],
   "source": [
    "visualizer.silhouette_samples_[0:5]"
   ]
  },
  {
   "cell_type": "code",
   "execution_count": 310,
   "id": "d5135581-a067-423b-9397-47d98cfb182c",
   "metadata": {},
   "outputs": [
    {
     "data": {
      "text/html": [
       "<div>\n",
       "<style scoped>\n",
       "    .dataframe tbody tr th:only-of-type {\n",
       "        vertical-align: middle;\n",
       "    }\n",
       "\n",
       "    .dataframe tbody tr th {\n",
       "        vertical-align: top;\n",
       "    }\n",
       "\n",
       "    .dataframe thead th {\n",
       "        text-align: right;\n",
       "    }\n",
       "</style>\n",
       "<table border=\"1\" class=\"dataframe\">\n",
       "  <thead>\n",
       "    <tr style=\"text-align: right;\">\n",
       "      <th></th>\n",
       "      <th>pca0</th>\n",
       "      <th>pca1</th>\n",
       "      <th>color</th>\n",
       "      <th>Silhouette</th>\n",
       "    </tr>\n",
       "  </thead>\n",
       "  <tbody>\n",
       "    <tr>\n",
       "      <th>Alabama</th>\n",
       "      <td>0.985566</td>\n",
       "      <td>-1.133392</td>\n",
       "      <td>red</td>\n",
       "      <td>0.568187</td>\n",
       "    </tr>\n",
       "    <tr>\n",
       "      <th>Alaska</th>\n",
       "      <td>1.950138</td>\n",
       "      <td>-1.073213</td>\n",
       "      <td>red</td>\n",
       "      <td>0.329543</td>\n",
       "    </tr>\n",
       "    <tr>\n",
       "      <th>Arizona</th>\n",
       "      <td>1.763164</td>\n",
       "      <td>0.745957</td>\n",
       "      <td>green</td>\n",
       "      <td>0.651819</td>\n",
       "    </tr>\n",
       "    <tr>\n",
       "      <th>Arkansas</th>\n",
       "      <td>-0.141420</td>\n",
       "      <td>-1.119797</td>\n",
       "      <td>red</td>\n",
       "      <td>0.153528</td>\n",
       "    </tr>\n",
       "    <tr>\n",
       "      <th>California</th>\n",
       "      <td>2.523980</td>\n",
       "      <td>1.542934</td>\n",
       "      <td>green</td>\n",
       "      <td>0.541390</td>\n",
       "    </tr>\n",
       "    <tr>\n",
       "      <th>Colorado</th>\n",
       "      <td>1.514563</td>\n",
       "      <td>0.987555</td>\n",
       "      <td>green</td>\n",
       "      <td>0.531574</td>\n",
       "    </tr>\n",
       "    <tr>\n",
       "      <th>Connecticut</th>\n",
       "      <td>-1.358647</td>\n",
       "      <td>1.088928</td>\n",
       "      <td>purple</td>\n",
       "      <td>0.255869</td>\n",
       "    </tr>\n",
       "    <tr>\n",
       "      <th>Delaware</th>\n",
       "      <td>0.047709</td>\n",
       "      <td>0.325359</td>\n",
       "      <td>purple</td>\n",
       "      <td>0.548732</td>\n",
       "    </tr>\n",
       "    <tr>\n",
       "      <th>Florida</th>\n",
       "      <td>3.013042</td>\n",
       "      <td>-0.039229</td>\n",
       "      <td>green</td>\n",
       "      <td>0.403985</td>\n",
       "    </tr>\n",
       "    <tr>\n",
       "      <th>Georgia</th>\n",
       "      <td>1.639283</td>\n",
       "      <td>-1.278942</td>\n",
       "      <td>red</td>\n",
       "      <td>0.531597</td>\n",
       "    </tr>\n",
       "    <tr>\n",
       "      <th>Hawaii</th>\n",
       "      <td>-0.912657</td>\n",
       "      <td>1.570460</td>\n",
       "      <td>purple</td>\n",
       "      <td>0.486048</td>\n",
       "    </tr>\n",
       "    <tr>\n",
       "      <th>Idaho</th>\n",
       "      <td>-1.639800</td>\n",
       "      <td>-0.210973</td>\n",
       "      <td>blue</td>\n",
       "      <td>0.433445</td>\n",
       "    </tr>\n",
       "    <tr>\n",
       "      <th>Illinois</th>\n",
       "      <td>1.378911</td>\n",
       "      <td>0.681841</td>\n",
       "      <td>green</td>\n",
       "      <td>0.514660</td>\n",
       "    </tr>\n",
       "    <tr>\n",
       "      <th>Indiana</th>\n",
       "      <td>-0.505461</td>\n",
       "      <td>0.151563</td>\n",
       "      <td>purple</td>\n",
       "      <td>0.467884</td>\n",
       "    </tr>\n",
       "    <tr>\n",
       "      <th>Iowa</th>\n",
       "      <td>-2.253646</td>\n",
       "      <td>0.104054</td>\n",
       "      <td>blue</td>\n",
       "      <td>0.518902</td>\n",
       "    </tr>\n",
       "    <tr>\n",
       "      <th>Kansas</th>\n",
       "      <td>-0.796881</td>\n",
       "      <td>0.270165</td>\n",
       "      <td>purple</td>\n",
       "      <td>0.372244</td>\n",
       "    </tr>\n",
       "    <tr>\n",
       "      <th>Kentucky</th>\n",
       "      <td>-0.750859</td>\n",
       "      <td>-0.958440</td>\n",
       "      <td>blue</td>\n",
       "      <td>0.091321</td>\n",
       "    </tr>\n",
       "    <tr>\n",
       "      <th>Louisiana</th>\n",
       "      <td>1.564818</td>\n",
       "      <td>-0.871055</td>\n",
       "      <td>red</td>\n",
       "      <td>0.356154</td>\n",
       "    </tr>\n",
       "    <tr>\n",
       "      <th>Maine</th>\n",
       "      <td>-2.396829</td>\n",
       "      <td>-0.376392</td>\n",
       "      <td>blue</td>\n",
       "      <td>0.590591</td>\n",
       "    </tr>\n",
       "    <tr>\n",
       "      <th>Maryland</th>\n",
       "      <td>1.763369</td>\n",
       "      <td>-0.427655</td>\n",
       "      <td>green</td>\n",
       "      <td>0.060849</td>\n",
       "    </tr>\n",
       "    <tr>\n",
       "      <th>Massachusetts</th>\n",
       "      <td>-0.486166</td>\n",
       "      <td>1.474496</td>\n",
       "      <td>purple</td>\n",
       "      <td>0.585681</td>\n",
       "    </tr>\n",
       "    <tr>\n",
       "      <th>Michigan</th>\n",
       "      <td>2.108441</td>\n",
       "      <td>0.155397</td>\n",
       "      <td>green</td>\n",
       "      <td>0.554936</td>\n",
       "    </tr>\n",
       "    <tr>\n",
       "      <th>Minnesota</th>\n",
       "      <td>-1.692682</td>\n",
       "      <td>0.632261</td>\n",
       "      <td>blue</td>\n",
       "      <td>0.100443</td>\n",
       "    </tr>\n",
       "    <tr>\n",
       "      <th>Mississippi</th>\n",
       "      <td>0.996494</td>\n",
       "      <td>-2.393796</td>\n",
       "      <td>red</td>\n",
       "      <td>0.605674</td>\n",
       "    </tr>\n",
       "    <tr>\n",
       "      <th>Missouri</th>\n",
       "      <td>0.696787</td>\n",
       "      <td>0.263355</td>\n",
       "      <td>purple</td>\n",
       "      <td>0.026958</td>\n",
       "    </tr>\n",
       "    <tr>\n",
       "      <th>Montana</th>\n",
       "      <td>-1.185452</td>\n",
       "      <td>-0.536874</td>\n",
       "      <td>blue</td>\n",
       "      <td>0.255283</td>\n",
       "    </tr>\n",
       "    <tr>\n",
       "      <th>Nebraska</th>\n",
       "      <td>-1.265637</td>\n",
       "      <td>0.193954</td>\n",
       "      <td>blue</td>\n",
       "      <td>-0.013856</td>\n",
       "    </tr>\n",
       "    <tr>\n",
       "      <th>Nevada</th>\n",
       "      <td>2.874395</td>\n",
       "      <td>0.775600</td>\n",
       "      <td>green</td>\n",
       "      <td>0.566782</td>\n",
       "    </tr>\n",
       "    <tr>\n",
       "      <th>New Hampshire</th>\n",
       "      <td>-2.383915</td>\n",
       "      <td>0.018082</td>\n",
       "      <td>blue</td>\n",
       "      <td>0.544010</td>\n",
       "    </tr>\n",
       "    <tr>\n",
       "      <th>New Jersey</th>\n",
       "      <td>0.181566</td>\n",
       "      <td>1.449506</td>\n",
       "      <td>purple</td>\n",
       "      <td>0.432996</td>\n",
       "    </tr>\n",
       "    <tr>\n",
       "      <th>New Mexico</th>\n",
       "      <td>1.980024</td>\n",
       "      <td>-0.142849</td>\n",
       "      <td>green</td>\n",
       "      <td>0.394209</td>\n",
       "    </tr>\n",
       "    <tr>\n",
       "      <th>New York</th>\n",
       "      <td>1.682577</td>\n",
       "      <td>0.823184</td>\n",
       "      <td>green</td>\n",
       "      <td>0.625777</td>\n",
       "    </tr>\n",
       "    <tr>\n",
       "      <th>North Carolina</th>\n",
       "      <td>1.123379</td>\n",
       "      <td>-2.228003</td>\n",
       "      <td>red</td>\n",
       "      <td>0.629406</td>\n",
       "    </tr>\n",
       "    <tr>\n",
       "      <th>North Dakota</th>\n",
       "      <td>-2.992226</td>\n",
       "      <td>-0.599119</td>\n",
       "      <td>blue</td>\n",
       "      <td>0.543812</td>\n",
       "    </tr>\n",
       "    <tr>\n",
       "      <th>Ohio</th>\n",
       "      <td>-0.225965</td>\n",
       "      <td>0.742238</td>\n",
       "      <td>purple</td>\n",
       "      <td>0.641845</td>\n",
       "    </tr>\n",
       "    <tr>\n",
       "      <th>Oklahoma</th>\n",
       "      <td>-0.311783</td>\n",
       "      <td>0.287854</td>\n",
       "      <td>purple</td>\n",
       "      <td>0.562592</td>\n",
       "    </tr>\n",
       "    <tr>\n",
       "      <th>Oregon</th>\n",
       "      <td>0.059122</td>\n",
       "      <td>0.541411</td>\n",
       "      <td>purple</td>\n",
       "      <td>0.564978</td>\n",
       "    </tr>\n",
       "    <tr>\n",
       "      <th>Pennsylvania</th>\n",
       "      <td>-0.888416</td>\n",
       "      <td>0.571100</td>\n",
       "      <td>purple</td>\n",
       "      <td>0.421754</td>\n",
       "    </tr>\n",
       "    <tr>\n",
       "      <th>Rhode Island</th>\n",
       "      <td>-0.863772</td>\n",
       "      <td>1.491978</td>\n",
       "      <td>purple</td>\n",
       "      <td>0.508808</td>\n",
       "    </tr>\n",
       "    <tr>\n",
       "      <th>South Carolina</th>\n",
       "      <td>1.320724</td>\n",
       "      <td>-1.933405</td>\n",
       "      <td>red</td>\n",
       "      <td>0.639180</td>\n",
       "    </tr>\n",
       "    <tr>\n",
       "      <th>South Dakota</th>\n",
       "      <td>-1.987775</td>\n",
       "      <td>-0.823343</td>\n",
       "      <td>blue</td>\n",
       "      <td>0.559937</td>\n",
       "    </tr>\n",
       "    <tr>\n",
       "      <th>Tennessee</th>\n",
       "      <td>0.999742</td>\n",
       "      <td>-0.860251</td>\n",
       "      <td>red</td>\n",
       "      <td>0.452559</td>\n",
       "    </tr>\n",
       "    <tr>\n",
       "      <th>Texas</th>\n",
       "      <td>1.355138</td>\n",
       "      <td>0.412481</td>\n",
       "      <td>green</td>\n",
       "      <td>0.499507</td>\n",
       "    </tr>\n",
       "    <tr>\n",
       "      <th>Utah</th>\n",
       "      <td>-0.550565</td>\n",
       "      <td>1.471505</td>\n",
       "      <td>purple</td>\n",
       "      <td>0.578626</td>\n",
       "    </tr>\n",
       "    <tr>\n",
       "      <th>Vermont</th>\n",
       "      <td>-2.801412</td>\n",
       "      <td>-1.402288</td>\n",
       "      <td>blue</td>\n",
       "      <td>0.514966</td>\n",
       "    </tr>\n",
       "    <tr>\n",
       "      <th>Virginia</th>\n",
       "      <td>-0.096335</td>\n",
       "      <td>-0.199735</td>\n",
       "      <td>purple</td>\n",
       "      <td>0.373628</td>\n",
       "    </tr>\n",
       "    <tr>\n",
       "      <th>Washington</th>\n",
       "      <td>-0.216903</td>\n",
       "      <td>0.970124</td>\n",
       "      <td>purple</td>\n",
       "      <td>0.643441</td>\n",
       "    </tr>\n",
       "    <tr>\n",
       "      <th>West Virginia</th>\n",
       "      <td>-2.108585</td>\n",
       "      <td>-1.424847</td>\n",
       "      <td>blue</td>\n",
       "      <td>0.506589</td>\n",
       "    </tr>\n",
       "    <tr>\n",
       "      <th>Wisconsin</th>\n",
       "      <td>-2.079714</td>\n",
       "      <td>0.611269</td>\n",
       "      <td>blue</td>\n",
       "      <td>0.298343</td>\n",
       "    </tr>\n",
       "    <tr>\n",
       "      <th>Wyoming</th>\n",
       "      <td>-0.629427</td>\n",
       "      <td>-0.321013</td>\n",
       "      <td>purple</td>\n",
       "      <td>0.164570</td>\n",
       "    </tr>\n",
       "  </tbody>\n",
       "</table>\n",
       "</div>"
      ],
      "text/plain": [
       "                    pca0      pca1   color  Silhouette\n",
       "Alabama         0.985566 -1.133392     red    0.568187\n",
       "Alaska          1.950138 -1.073213     red    0.329543\n",
       "Arizona         1.763164  0.745957   green    0.651819\n",
       "Arkansas       -0.141420 -1.119797     red    0.153528\n",
       "California      2.523980  1.542934   green    0.541390\n",
       "Colorado        1.514563  0.987555   green    0.531574\n",
       "Connecticut    -1.358647  1.088928  purple    0.255869\n",
       "Delaware        0.047709  0.325359  purple    0.548732\n",
       "Florida         3.013042 -0.039229   green    0.403985\n",
       "Georgia         1.639283 -1.278942     red    0.531597\n",
       "Hawaii         -0.912657  1.570460  purple    0.486048\n",
       "Idaho          -1.639800 -0.210973    blue    0.433445\n",
       "Illinois        1.378911  0.681841   green    0.514660\n",
       "Indiana        -0.505461  0.151563  purple    0.467884\n",
       "Iowa           -2.253646  0.104054    blue    0.518902\n",
       "Kansas         -0.796881  0.270165  purple    0.372244\n",
       "Kentucky       -0.750859 -0.958440    blue    0.091321\n",
       "Louisiana       1.564818 -0.871055     red    0.356154\n",
       "Maine          -2.396829 -0.376392    blue    0.590591\n",
       "Maryland        1.763369 -0.427655   green    0.060849\n",
       "Massachusetts  -0.486166  1.474496  purple    0.585681\n",
       "Michigan        2.108441  0.155397   green    0.554936\n",
       "Minnesota      -1.692682  0.632261    blue    0.100443\n",
       "Mississippi     0.996494 -2.393796     red    0.605674\n",
       "Missouri        0.696787  0.263355  purple    0.026958\n",
       "Montana        -1.185452 -0.536874    blue    0.255283\n",
       "Nebraska       -1.265637  0.193954    blue   -0.013856\n",
       "Nevada          2.874395  0.775600   green    0.566782\n",
       "New Hampshire  -2.383915  0.018082    blue    0.544010\n",
       "New Jersey      0.181566  1.449506  purple    0.432996\n",
       "New Mexico      1.980024 -0.142849   green    0.394209\n",
       "New York        1.682577  0.823184   green    0.625777\n",
       "North Carolina  1.123379 -2.228003     red    0.629406\n",
       "North Dakota   -2.992226 -0.599119    blue    0.543812\n",
       "Ohio           -0.225965  0.742238  purple    0.641845\n",
       "Oklahoma       -0.311783  0.287854  purple    0.562592\n",
       "Oregon          0.059122  0.541411  purple    0.564978\n",
       "Pennsylvania   -0.888416  0.571100  purple    0.421754\n",
       "Rhode Island   -0.863772  1.491978  purple    0.508808\n",
       "South Carolina  1.320724 -1.933405     red    0.639180\n",
       "South Dakota   -1.987775 -0.823343    blue    0.559937\n",
       "Tennessee       0.999742 -0.860251     red    0.452559\n",
       "Texas           1.355138  0.412481   green    0.499507\n",
       "Utah           -0.550565  1.471505  purple    0.578626\n",
       "Vermont        -2.801412 -1.402288    blue    0.514966\n",
       "Virginia       -0.096335 -0.199735  purple    0.373628\n",
       "Washington     -0.216903  0.970124  purple    0.643441\n",
       "West Virginia  -2.108585 -1.424847    blue    0.506589\n",
       "Wisconsin      -2.079714  0.611269    blue    0.298343\n",
       "Wyoming        -0.629427 -0.321013  purple    0.164570"
      ]
     },
     "execution_count": 310,
     "metadata": {},
     "output_type": "execute_result"
    }
   ],
   "source": [
    "rep_mat__up = rep_mat_up.assign(Silhouette=pd.Series(visualizer.silhouette_samples_).values)\n",
    "rep_mat__up"
   ]
  },
  {
   "cell_type": "markdown",
   "id": "bec289d7-93ce-4e6b-9a24-12e308e2aaf9",
   "metadata": {},
   "source": [
    "The silhouette plot shows that the data is split into four clusters of different sizes. The points in the four clusters have an average large silhouette value of 0.45.\n",
    "\n",
    "According to Silhouette scores, **Nebraska** seems to be miss-clustered. **Arkansas**, **Missouri**, and **Wyoming** have low scores which also implies that these states can be miss-clustered as well."
   ]
  },
  {
   "cell_type": "code",
   "execution_count": 311,
   "id": "128dc5e1-1ee5-40f3-85da-ce466a512a6c",
   "metadata": {},
   "outputs": [
    {
     "data": {
      "image/png": "[encoded data removed]",
      "text/plain": [
       "<Figure size 720x576 with 1 Axes>"
      ]
     },
     "metadata": {},
     "output_type": "display_data"
    }
   ],
   "source": [
    "#illustrate states within each cluster\n",
    "\n",
    "import matplotlib.pyplot as plt\n",
    "plt.rcParams['figure.figsize'] = [10, 8]\n",
    "\n",
    "fig , ax1 = plt.subplots()\n",
    "\n",
    "# Plot Principal Components 1 and 2\n",
    "for i in rep_mat.index:\n",
    "    ax1.annotate(i, (rep_mat_up.pca0.loc[i], rep_mat_up.pca1.loc[i]), ha='center', color=rep_mat_up.color.loc[i])\n",
    "\n",
    "# Plot reference lines\n",
    "ax1.hlines(0,-3.5,3.5, linestyles='dotted', colors='grey')\n",
    "ax1.vlines(0,-3.5,3.5, linestyles='dotted', colors='grey')\n",
    "\n",
    "ax1.set_xlim(-3.5,3.5)\n",
    "ax1.set_ylim(-3.0,2)\n",
    "\n",
    "ax1.set_xlabel('First Principal Component')\n",
    "ax1.set_ylabel('Second Principal Component')\n",
    "plt.title('K-Means Clustering Results with K=4')\n",
    "plt.show();"
   ]
  },
  {
   "cell_type": "markdown",
   "id": "d7182d79-f1f2-418d-87f1-8e4e66028fbb",
   "metadata": {},
   "source": [
    "## Reference\n",
    "\n",
    "- James, G., Witten, D., Hastie, T., and Tibshirani, R. (2021). An Introduction to Statistical Learning: With Applications in R. New York: Springer.\n",
    "- https://github.com/gulinan/ISLR-python/blob/master/Notebooks/Chapter%2010.ipynb\n",
    "- https://franknielsen.github.io/Clustering/BookChapter-kmeans.pdf\n",
    "- https://notebook.community/dapregi/toy_projects/ipython_nbs/kmeans_voronoi\n",
    "- https://scikit-learn.org/stable/auto_examples/cluster/plot_kmeans_silhouette_analysis.html\n",
    "- https://towardsdatascience.com/visualizing-clusters-with-pythons-matplolib-35ae03d87489\n",
    "- https://rstudio-pubs-static.s3.amazonaws.com/240281_216f78c66c12478b9c76e5a1e0470e60.html\n",
    "- https://www.scikit-yb.org/en/latest/api/cluster/elbow.html\n",
    "- https://medium.datadriveninvestor.com/evaluation-metrics-for-clustering-96dcdbea437d\n",
    "- https://www.datacamp.com/tutorial/k-means-clustering-python\n",
    "- https://www.baeldung.com/cs/silhouette-values-clustering"
   ]
  },
  {
   "cell_type": "code",
   "execution_count": 312,
   "id": "e450e2df-3d15-404e-bca7-fe46af8f8e40",
   "metadata": {},
   "outputs": [
    {
     "data": {
      "text/html": [
       "<details>\n",
       "<summary>Click to view session information</summary>\n",
       "<pre>\n",
       "-----\n",
       "matplotlib          3.5.0\n",
       "pandas              1.3.5\n",
       "seaborn             0.11.2\n",
       "session_info        1.0.0\n",
       "sklearn             1.3.1\n",
       "yellowbrick         1.5\n",
       "-----\n",
       "</pre>\n",
       "<details>\n",
       "<summary>Click to view modules imported as dependencies</summary>\n",
       "<pre>\n",
       "PIL                         8.4.0\n",
       "anyio                       NA\n",
       "appnope                     0.1.2\n",
       "attr                        21.4.0\n",
       "babel                       2.9.1\n",
       "backcall                    0.2.0\n",
       "bottleneck                  1.3.2\n",
       "brotli                      1.0.9\n",
       "certifi                     2021.10.08\n",
       "cffi                        1.15.0\n",
       "chardet                     4.0.0\n",
       "charset_normalizer          2.0.4\n",
       "colorama                    0.4.4\n",
       "cycler                      0.10.0\n",
       "cython_runtime              NA\n",
       "dateutil                    2.8.2\n",
       "debugpy                     1.5.1\n",
       "decorator                   5.1.1\n",
       "defusedxml                  0.7.1\n",
       "entrypoints                 0.3\n",
       "google                      NA\n",
       "idna                        3.3\n",
       "importlib_metadata          NA\n",
       "ipykernel                   6.4.1\n",
       "ipython_genutils            0.2.0\n",
       "ipywidgets                  7.6.5\n",
       "jedi                        0.18.1\n",
       "jinja2                      2.11.3\n",
       "joblib                      1.2.0\n",
       "json5                       NA\n",
       "jsonschema                  3.2.0\n",
       "jupyter_server              1.4.1\n",
       "jupyterlab_server           2.10.2\n",
       "kiwisolver                  1.3.1\n",
       "lxml                        4.7.1\n",
       "lz4                         4.0.0\n",
       "markupsafe                  1.1.1\n",
       "matplotlib_inline           NA\n",
       "mpl_toolkits                NA\n",
       "nbclassic                   NA\n",
       "nbformat                    5.1.3\n",
       "numexpr                     2.8.1\n",
       "numpy                       1.23.5\n",
       "openpyxl                    3.0.9\n",
       "packaging                   21.3\n",
       "parso                       0.8.3\n",
       "pexpect                     4.8.0\n",
       "pickleshare                 0.7.5\n",
       "pkg_resources               NA\n",
       "prometheus_client           NA\n",
       "prompt_toolkit              3.0.20\n",
       "psutil                      5.8.0\n",
       "ptyprocess                  0.7.0\n",
       "pvectorc                    NA\n",
       "pydev_ipython               NA\n",
       "pydevconsole                NA\n",
       "pydevd                      2.6.0\n",
       "pydevd_concurrency_analyser NA\n",
       "pydevd_file_utils           NA\n",
       "pydevd_plugins              NA\n",
       "pydevd_tracing              NA\n",
       "pygments                    2.11.2\n",
       "pyparsing                   3.0.4\n",
       "pyrsistent                  NA\n",
       "pytz                        2021.3\n",
       "requests                    2.27.1\n",
       "scipy                       1.10.1\n",
       "send2trash                  NA\n",
       "setuptools                  67.8.0\n",
       "simplejson                  3.19.1\n",
       "six                         1.16.0\n",
       "sniffio                     1.2.0\n",
       "socks                       1.7.1\n",
       "sphinxcontrib               NA\n",
       "statsmodels                 0.13.2\n",
       "storemagic                  NA\n",
       "threadpoolctl               3.1.0\n",
       "tornado                     6.1\n",
       "traitlets                   5.1.1\n",
       "typing_extensions           NA\n",
       "uritemplate                 4.1.1\n",
       "urllib3                     1.26.8\n",
       "wcwidth                     0.2.5\n",
       "xlrd                        2.0.1\n",
       "zipp                        NA\n",
       "zmq                         22.3.0\n",
       "zope                        NA\n",
       "</pre>\n",
       "</details> <!-- seems like this ends pre, so might as well be explicit -->\n",
       "<pre>\n",
       "-----\n",
       "IPython             7.31.1\n",
       "jupyter_client      6.1.12\n",
       "jupyter_core        4.9.1\n",
       "jupyterlab          3.2.1\n",
       "notebook            6.4.6\n",
       "-----\n",
       "Python 3.8.8 (default, Apr 13 2021, 12:59:45) [Clang 10.0.0 ]\n",
       "macOS-10.15.7-x86_64-i386-64bit\n",
       "-----\n",
       "Session information updated at 2024-01-03 23:46\n",
       "</pre>\n",
       "</details>"
      ],
      "text/plain": [
       "<IPython.core.display.HTML object>"
      ]
     },
     "execution_count": 312,
     "metadata": {},
     "output_type": "execute_result"
    }
   ],
   "source": [
    "import session_info\n",
    "session_info.show()"
   ]
  }
 ],
 "metadata": {
  "kernelspec": {
   "display_name": "Python 3 (ipykernel)",
   "language": "python",
   "name": "python3"
  },
  "language_info": {
   "codemirror_mode": {
    "name": "ipython",
    "version": 3
   },
   "file_extension": ".py",
   "mimetype": "text/x-python",
   "name": "python",
   "nbconvert_exporter": "python",
   "pygments_lexer": "ipython3",
   "version": "3.8.8"
  }
 },
 "nbformat": 4,
 "nbformat_minor": 5
}
