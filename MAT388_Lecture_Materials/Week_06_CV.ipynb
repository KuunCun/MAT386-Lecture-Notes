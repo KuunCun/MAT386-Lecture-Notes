{
 "cells": [
  {
   "cell_type": "markdown",
   "id": "a578ad13-4a31-4273-9b62-9c5bda760554",
   "metadata": {},
   "source": [
    "<left><img width=100% height=100% src=\"img/itu_logo.png\"></left>\n",
    "\n",
    "## Lecture 06: K-Fold Cross-Validation for Model Assesment and Model Selection\n",
    "\n",
    "### __Gül İnan__<br><br>Istanbul Technical University"
   ]
  },
  {
   "cell_type": "markdown",
   "id": "1743d443-ddb6-4946-81a8-f2f7ea7ab7f6",
   "metadata": {
    "tags": []
   },
   "source": [
    "## Auto MPG dataset\n",
    "\n",
    "The [Auto mpg](https://www.statlearning.com/s/Auto.csv) data set aims to predict the `mpg` (miles per gallon), in other words, fuel efficiency, of a car given some car related predictors:\n",
    "\n",
    "The variables in the data set are:\n",
    "  - `mpg`: fuel consumption (miles per gallon) (continuous).\n",
    "  - `cylinders`: the number of cylinders (multi-valued discrete).\n",
    "  - `displacement`: the volume of the car's engine (continuous).\n",
    "  - `horsepower`: the power of the engine (continuous).\n",
    "  - `weight`: the weight of the car (continuous).\n",
    "  - `acceleration`: (continuous).\n",
    "  - `model year`: (multi-valued discrete).\n",
    "  - `origin`: origin of the car (multi-valued discrete).\n",
    "  - `car name`: (string - unique).        \n",
    " \n",
    "For this example, we are interested in understanding how the feature `horsepower` affects the `mpg` of a car.\n",
    "\n",
    "Let's first import the `Auto mpg` data set. "
   ]
  },
  {
   "cell_type": "code",
   "execution_count": 1,
   "id": "d25a20d1-db94-4801-b701-bf9aaaf7264c",
   "metadata": {
    "ExecuteTime": {
     "end_time": "2023-11-09T16:55:44.672029943Z",
     "start_time": "2023-11-09T16:55:44.648514385Z"
    }
   },
   "outputs": [
    {
     "data": {
      "text/plain": "    mpg  cylinders  displacement  horsepower  weight  acceleration  year  \\\n0  18.0          8         307.0         130    3504          12.0    70   \n1  15.0          8         350.0         165    3693          11.5    70   \n2  18.0          8         318.0         150    3436          11.0    70   \n3  16.0          8         304.0         150    3433          12.0    70   \n4  17.0          8         302.0         140    3449          10.5    70   \n\n   origin                       name  \n0       1  chevrolet chevelle malibu  \n1       1          buick skylark 320  \n2       1         plymouth satellite  \n3       1              amc rebel sst  \n4       1                ford torino  ",
      "text/html": "<div>\n<style scoped>\n    .dataframe tbody tr th:only-of-type {\n        vertical-align: middle;\n    }\n\n    .dataframe tbody tr th {\n        vertical-align: top;\n    }\n\n    .dataframe thead th {\n        text-align: right;\n    }\n</style>\n<table border=\"1\" class=\"dataframe\">\n  <thead>\n    <tr style=\"text-align: right;\">\n      <th></th>\n      <th>mpg</th>\n      <th>cylinders</th>\n      <th>displacement</th>\n      <th>horsepower</th>\n      <th>weight</th>\n      <th>acceleration</th>\n      <th>year</th>\n      <th>origin</th>\n      <th>name</th>\n    </tr>\n  </thead>\n  <tbody>\n    <tr>\n      <th>0</th>\n      <td>18.0</td>\n      <td>8</td>\n      <td>307.0</td>\n      <td>130</td>\n      <td>3504</td>\n      <td>12.0</td>\n      <td>70</td>\n      <td>1</td>\n      <td>chevrolet chevelle malibu</td>\n    </tr>\n    <tr>\n      <th>1</th>\n      <td>15.0</td>\n      <td>8</td>\n      <td>350.0</td>\n      <td>165</td>\n      <td>3693</td>\n      <td>11.5</td>\n      <td>70</td>\n      <td>1</td>\n      <td>buick skylark 320</td>\n    </tr>\n    <tr>\n      <th>2</th>\n      <td>18.0</td>\n      <td>8</td>\n      <td>318.0</td>\n      <td>150</td>\n      <td>3436</td>\n      <td>11.0</td>\n      <td>70</td>\n      <td>1</td>\n      <td>plymouth satellite</td>\n    </tr>\n    <tr>\n      <th>3</th>\n      <td>16.0</td>\n      <td>8</td>\n      <td>304.0</td>\n      <td>150</td>\n      <td>3433</td>\n      <td>12.0</td>\n      <td>70</td>\n      <td>1</td>\n      <td>amc rebel sst</td>\n    </tr>\n    <tr>\n      <th>4</th>\n      <td>17.0</td>\n      <td>8</td>\n      <td>302.0</td>\n      <td>140</td>\n      <td>3449</td>\n      <td>10.5</td>\n      <td>70</td>\n      <td>1</td>\n      <td>ford torino</td>\n    </tr>\n  </tbody>\n</table>\n</div>"
     },
     "execution_count": 1,
     "metadata": {},
     "output_type": "execute_result"
    }
   ],
   "source": [
    "#import the data set\n",
    "import pandas as pd\n",
    "\n",
    "auto_df = pd.read_csv('datasets/Auto.csv', sep=\";\") \n",
    "auto_df.head()"
   ]
  },
  {
   "cell_type": "code",
   "execution_count": 2,
   "id": "0641ea8a-ef3a-4004-967f-203be649f683",
   "metadata": {
    "ExecuteTime": {
     "end_time": "2023-11-09T16:55:44.674713525Z",
     "start_time": "2023-11-09T16:55:44.663772609Z"
    }
   },
   "outputs": [
    {
     "data": {
      "text/plain": "(397, 9)"
     },
     "execution_count": 2,
     "metadata": {},
     "output_type": "execute_result"
    }
   ],
   "source": [
    "#shape of the data set\n",
    "auto_df.shape"
   ]
  },
  {
   "cell_type": "code",
   "execution_count": 3,
   "id": "528d10db-4bca-42cc-92d3-2ff5c198850f",
   "metadata": {
    "ExecuteTime": {
     "end_time": "2023-11-09T16:55:44.678297360Z",
     "start_time": "2023-11-09T16:55:44.664403136Z"
    }
   },
   "outputs": [
    {
     "name": "stdout",
     "output_type": "stream",
     "text": [
      "<class 'pandas.core.frame.DataFrame'>\n",
      "RangeIndex: 397 entries, 0 to 396\n",
      "Data columns (total 9 columns):\n",
      " #   Column        Non-Null Count  Dtype  \n",
      "---  ------        --------------  -----  \n",
      " 0   mpg           397 non-null    float64\n",
      " 1   cylinders     397 non-null    int64  \n",
      " 2   displacement  397 non-null    float64\n",
      " 3   horsepower    397 non-null    int64  \n",
      " 4   weight        397 non-null    int64  \n",
      " 5   acceleration  397 non-null    float64\n",
      " 6   year          397 non-null    int64  \n",
      " 7   origin        397 non-null    int64  \n",
      " 8   name          397 non-null    object \n",
      "dtypes: float64(3), int64(5), object(1)\n",
      "memory usage: 28.0+ KB\n"
     ]
    }
   ],
   "source": [
    "#take a look at the data\n",
    "auto_df.info()"
   ]
  },
  {
   "cell_type": "markdown",
   "id": "10a12584-2d44-4f33-bd15-1e198067716e",
   "metadata": {},
   "source": [
    "Prior to model building, split the data set as train and test sets."
   ]
  },
  {
   "cell_type": "code",
   "execution_count": 4,
   "id": "bbac1c8d-d3ef-460e-b707-2cd669d15d33",
   "metadata": {
    "ExecuteTime": {
     "end_time": "2023-11-09T16:55:44.679424389Z",
     "start_time": "2023-11-09T16:55:44.665399003Z"
    }
   },
   "outputs": [],
   "source": [
    "#Prepare X and y\n",
    "\n",
    "auto_X = auto_df[[\"horsepower\"]]\n",
    "auto_y = auto_df[[\"mpg\"]] "
   ]
  },
  {
   "cell_type": "code",
   "execution_count": 5,
   "id": "7157e94f-3837-4055-b837-f9e3e3fa63cc",
   "metadata": {
    "ExecuteTime": {
     "end_time": "2023-11-09T16:55:44.867942064Z",
     "start_time": "2023-11-09T16:55:44.665815117Z"
    }
   },
   "outputs": [],
   "source": [
    "from sklearn.model_selection import train_test_split\n",
    "\n",
    "auto_X_bigtrain, auto_X_test, auto_y_bigtrain, auto_y_test = train_test_split(auto_X, auto_y, \n",
    "                                                                              test_size=0.2, \n",
    "                                                                              random_state=1300)"
   ]
  },
  {
   "cell_type": "code",
   "execution_count": 6,
   "id": "0a1a523e-2deb-4780-8109-56ed62ce7335",
   "metadata": {
    "ExecuteTime": {
     "end_time": "2023-11-09T16:55:45.172121086Z",
     "start_time": "2023-11-09T16:55:44.804907935Z"
    }
   },
   "outputs": [
    {
     "data": {
      "text/plain": "<Figure size 2000x600 with 1 Axes>",
      "image/png": "[encoded data removed]"
     },
     "metadata": {},
     "output_type": "display_data"
    }
   ],
   "source": [
    "#investigate the relationship between two variables\n",
    "import matplotlib.pyplot as plt\n",
    "plt.rcParams['figure.figsize'] = [20, 6]\n",
    "\n",
    "plt.scatter(x=auto_X_bigtrain.horsepower, y=auto_y_bigtrain, edgecolors='k', alpha=.5)\n",
    "plt.title('Scatter plot of auto horsepower vs auto mpg in training data')\n",
    "plt.xlabel('Horsepower')\n",
    "plt.ylabel('MPG')\n",
    "plt.show();"
   ]
  },
  {
   "cell_type": "markdown",
   "id": "f8206842-cd51-4e2b-9857-0ca91979171a",
   "metadata": {},
   "source": [
    "We would like to build a predictive model for `mpg` based on `horsepower`."
   ]
  },
  {
   "cell_type": "code",
   "execution_count": 7,
   "id": "75d8e2cb-9634-4cc3-ad22-334cf692a6c9",
   "metadata": {
    "ExecuteTime": {
     "end_time": "2023-11-09T16:55:45.421512350Z",
     "start_time": "2023-11-09T16:55:45.172712013Z"
    }
   },
   "outputs": [
    {
     "name": "stdout",
     "output_type": "stream",
     "text": [
      "Random State: 1300 MSE on Test Data: 19.3768\n",
      "Random State: 2300 MSE on Test Data: 23.7249\n",
      "Random State: 3300 MSE on Test Data: 26.1663\n",
      "Random State: 4300 MSE on Test Data: 19.4568\n",
      "Random State: 5300 MSE on Test Data: 20.2168\n"
     ]
    }
   ],
   "source": [
    "from sklearn import set_config\n",
    "set_config(transform_output=\"pandas\")  \n",
    "\n",
    "from sklearn.model_selection import train_test_split\n",
    "from sklearn.pipeline import make_pipeline\n",
    "from sklearn.preprocessing import PolynomialFeatures\n",
    "from sklearn.linear_model import LinearRegression\n",
    "from sklearn.metrics import mean_squared_error \n",
    "\n",
    "#assign arbitrary random states\n",
    "r_state = [1300, 2300, 3300, 4300, 5300]\n",
    "\n",
    "for rs in r_state:\n",
    "    \n",
    "    auto_X_bigtrain, auto_X_test, auto_y_bigtrain, auto_y_test = train_test_split(auto_X, auto_y, test_size=0.2, random_state=rs)\n",
    "\n",
    "    pipe = make_pipeline(PolynomialFeatures(degree=1, include_bias=False),  LinearRegression())\n",
    "                    \n",
    "    pipe.fit(auto_X_bigtrain, auto_y_bigtrain)\n",
    "\n",
    "    y_test_pred = pipe.predict(auto_X_test)\n",
    "    \n",
    "    mse_test = mean_squared_error(auto_y_test, y_test_pred)\n",
    "    \n",
    "    print(('Random State: %.f' % rs) , 'MSE on Test Data: %.4f' % mse_test)"
   ]
  },
  {
   "cell_type": "code",
   "execution_count": 8,
   "id": "82b3f18f-7ffc-4d09-a84a-6d92febd40ad",
   "metadata": {
    "ExecuteTime": {
     "end_time": "2023-11-09T16:55:45.422185201Z",
     "start_time": "2023-11-09T16:55:45.410311136Z"
    }
   },
   "outputs": [],
   "source": [
    "#(19.3768 + 23.7249 + 26.1663 + 19.4568 + 20.2168)/5"
   ]
  },
  {
   "cell_type": "markdown",
   "id": "ed274b1c-1e2c-40cb-b558-7cec47883120",
   "metadata": {},
   "source": [
    "In a data set, there can be a data point which is an extremum (e.g., in the auto mpg data set it may be a car with very low horsepower or very high horsepower). Depending on in which split (train or test split) this extrememum point falls into, model's performance on the test data can be different. \n",
    "\n",
    "To get a more **stable generalization performance** of the model, solution would be to **perform multiple splits rather than one-time split**."
   ]
  },
  {
   "cell_type": "markdown",
   "id": "fe60a7a4-fe78-4f7b-8e6d-8daa656ca819",
   "metadata": {},
   "source": [
    "## Cross-Validation Approach for Model Assesment\n",
    "\n",
    "The process of evaluation a model's performance is known as `model assessment`.\n",
    "\n",
    "**Cross-validation** can be used to estimate the test error associated with a given statistical learning method in order to evaluate its **average generalization performance**. "
   ]
  },
  {
   "cell_type": "markdown",
   "id": "903356ff-42d3-4e25-878f-ddfc83384856",
   "metadata": {
    "tags": []
   },
   "source": [
    "## K-Fold Cross-Validation\n",
    "\n",
    "`K-Fold Cross-Validation` (aka K-fold CV) is a `resampling based` statistical method of evaluating **generalization performance** of a model.\n",
    "\n",
    "For model assessment:\n",
    "\n",
    " - **Step 1:** K-fold CV randomly divides the training data into k groups (aka `folds`) of approximately equal size.\n",
    " - **Step 2:** The model is fit on (k-1) folds and then the remaining fold is used to compute model performance.\n",
    " - **Step 3:** This procedure is **repeated k times**; each time, a different fold is treated as the test set.\n",
    " \n",
    "   This process results in **k different estimates of the generalization error**.\n",
    "\n",
    "\n",
    "![](img/cross_val.png)\n",
    "\n",
    "\n",
    " - **Step 4:** Finally, the K-fold CV estimate is computed by averaging the k test errors, providing us with an approximation of the error we might expect on unseen data:\n",
    " \n",
    "\n",
    "\\begin{equation}\n",
    "{MSE}_{test}^{(CV)} := \\frac{1} {K} \\sum_{k=1}^{K} {MSE}_{test}^{k},\n",
    "\\end{equation}\n",
    "\n",
    "- where $k=1,2, \\ldots, K$, and ${MSE}_{test}^{k}$ is the mean squared error obtained on fold $k$ (of course, $R^2$ can also be used for evaluation of model's predictive performance on the folds). \n",
    "- Since, with K-fold CV, `every observation will be held out one time to be included in the test set`, K-fold CV gives **more stable** estimate of **generalization performance** of a model compared to one-time split, i.e., train-test split approach."
   ]
  },
  {
   "cell_type": "markdown",
   "id": "4b56f676-1a19-4dd2-8aa6-1bf2ebf55ca1",
   "metadata": {
    "tags": []
   },
   "source": [
    "## K-Fold Cross-Validation Implementation\n",
    "\n",
    "- Cross-validation is implemented in `scikit-learn` using [cross_validate](https://scikit-learn.org/stable/modules/generated/sklearn.model_selection.cross_validate.html) helper function from the model `model_selection` module.\n",
    "- The main parameters of the [cross_val_validate](https://scikit-learn.org/stable/modules/generated/sklearn.model_selection.cross_val_score.html) helper function are:\n",
    "   - the model (estimator) we want to evaluate, \n",
    "   - the data (X, Y), and \n",
    "   - the cross-validation splitting strategy."
   ]
  },
  {
   "cell_type": "markdown",
   "id": "8b5c8650-c4e3-48c2-8f74-b8b234268cb3",
   "metadata": {},
   "source": [
    "Let's apply a **5-fold cross-validation** to `mpg` data with a 1st order polynomial regression.   "
   ]
  },
  {
   "cell_type": "code",
   "execution_count": 9,
   "id": "4dc81bee-081e-49d3-ae4c-ce13cd96fbdf",
   "metadata": {
    "ExecuteTime": {
     "end_time": "2023-11-09T16:55:45.430521944Z",
     "start_time": "2023-11-09T16:55:45.414277212Z"
    }
   },
   "outputs": [],
   "source": [
    "from sklearn import set_config\n",
    "set_config(transform_output=\"pandas\")  \n",
    "\n",
    "from sklearn.pipeline import make_pipeline\n",
    "from sklearn.preprocessing import PolynomialFeatures\n",
    "from sklearn.linear_model import LinearRegression\n",
    "from sklearn.model_selection import cross_validate, KFold, cross_val_score\n",
    "\n",
    "pipe = make_pipeline(PolynomialFeatures(degree=1, include_bias=False), \n",
    "                     LinearRegression())\n",
    "\n",
    "#https://scikit-learn.org/stable/modules/generated/sklearn.model_selection.KFold.html\n",
    "#suggested to use KFOLD to return fold indices for reproducibility\n",
    "\n",
    "kcv_index = KFold(n_splits=5, shuffle=True, random_state=1300) \n",
    "\n",
    "## TURN ON these commands if you want to see the train and test indices in each fold\n",
    "#for i, (train_index, test_index) in enumerate(kcv_index.split(auto_X)):\n",
    "\n",
    "#    print(\"Fold:\", i)\n",
    "#    print(\"Train index:\", train_index)\n",
    "#    print(\"Test index:\", test_index)   "
   ]
  },
  {
   "cell_type": "code",
   "execution_count": 10,
   "id": "1e668a86-d9da-45fe-a7e8-86a9c6e2dd30",
   "metadata": {
    "ExecuteTime": {
     "end_time": "2023-11-09T16:55:45.530258922Z",
     "start_time": "2023-11-09T16:55:45.423058566Z"
    }
   },
   "outputs": [],
   "source": [
    "#calculate the r2 values for each fold\n",
    "r2_scores = cross_validate(pipe, auto_X, auto_y, \n",
    "                           cv = kcv_index, \n",
    "                           return_train_score=True) #returns a dictionary #returns r2 since model is reg model"
   ]
  },
  {
   "cell_type": "code",
   "execution_count": 11,
   "id": "9b70b0a2-f984-4699-8671-14da3f900434",
   "metadata": {
    "ExecuteTime": {
     "end_time": "2023-11-09T16:55:45.572602712Z",
     "start_time": "2023-11-09T16:55:45.507222265Z"
    }
   },
   "outputs": [
    {
     "data": {
      "text/plain": "   fit_time  score_time  test_score  train_score\n0  0.008086    0.004880    0.659720     0.594646\n1  0.005788    0.004513    0.636900     0.598057\n2  0.005309    0.003231    0.559395     0.616708\n3  0.005853    0.003349    0.552901     0.619710\n4  0.005163    0.003284    0.591542     0.609140",
      "text/html": "<div>\n<style scoped>\n    .dataframe tbody tr th:only-of-type {\n        vertical-align: middle;\n    }\n\n    .dataframe tbody tr th {\n        vertical-align: top;\n    }\n\n    .dataframe thead th {\n        text-align: right;\n    }\n</style>\n<table border=\"1\" class=\"dataframe\">\n  <thead>\n    <tr style=\"text-align: right;\">\n      <th></th>\n      <th>fit_time</th>\n      <th>score_time</th>\n      <th>test_score</th>\n      <th>train_score</th>\n    </tr>\n  </thead>\n  <tbody>\n    <tr>\n      <th>0</th>\n      <td>0.008086</td>\n      <td>0.004880</td>\n      <td>0.659720</td>\n      <td>0.594646</td>\n    </tr>\n    <tr>\n      <th>1</th>\n      <td>0.005788</td>\n      <td>0.004513</td>\n      <td>0.636900</td>\n      <td>0.598057</td>\n    </tr>\n    <tr>\n      <th>2</th>\n      <td>0.005309</td>\n      <td>0.003231</td>\n      <td>0.559395</td>\n      <td>0.616708</td>\n    </tr>\n    <tr>\n      <th>3</th>\n      <td>0.005853</td>\n      <td>0.003349</td>\n      <td>0.552901</td>\n      <td>0.619710</td>\n    </tr>\n    <tr>\n      <th>4</th>\n      <td>0.005163</td>\n      <td>0.003284</td>\n      <td>0.591542</td>\n      <td>0.609140</td>\n    </tr>\n  </tbody>\n</table>\n</div>"
     },
     "execution_count": 11,
     "metadata": {},
     "output_type": "execute_result"
    }
   ],
   "source": [
    "#return the dictionary to pd data frame\n",
    "r2_scores = pd.DataFrame(r2_scores)\n",
    "r2_scores"
   ]
  },
  {
   "cell_type": "code",
   "execution_count": 12,
   "id": "f9e17764-bf6d-4a5b-ac09-7aff497c457d",
   "metadata": {
    "ExecuteTime": {
     "end_time": "2023-11-09T16:55:45.628415043Z",
     "start_time": "2023-11-09T16:55:45.550575541Z"
    }
   },
   "outputs": [
    {
     "name": "stdout",
     "output_type": "stream",
     "text": [
      "5-fold cross-validated R^2 on Test data: 0.6001\n"
     ]
    }
   ],
   "source": [
    "#calculate R2_CV on test data\n",
    "print(\"5-fold cross-validated R^2 on Test data: %0.4f\" % r2_scores.test_score.mean())"
   ]
  },
  {
   "cell_type": "code",
   "execution_count": 13,
   "id": "57cdc8e1-ff09-408f-90c0-52876f81b130",
   "metadata": {
    "ExecuteTime": {
     "end_time": "2023-11-09T16:55:46.209555802Z",
     "start_time": "2023-11-09T16:55:45.551095439Z"
    }
   },
   "outputs": [
    {
     "data": {
      "text/plain": "<Figure size 800x550 with 1 Axes>",
      "image/png": "[encoded data removed]"
     },
     "metadata": {},
     "output_type": "display_data"
    }
   ],
   "source": [
    "from yellowbrick.model_selection import cv_scores\n",
    "\n",
    "visualizer = cv_scores(pipe, auto_X, auto_y, scoring='r2', cv = kcv_index)"
   ]
  },
  {
   "cell_type": "markdown",
   "id": "d6f6dd49-f0f1-4a31-b232-1235112db697",
   "metadata": {},
   "source": [
    "Using the 5-fold CV, we can conclude that the regression model's predictive performance on our test data set is 60% on the average. By using [cross_validate](https://scikit-learn.org/stable/modules/generated/sklearn.model_selection.cross_validate.html) helper function, we can also investigate MSE test and train for each split."
   ]
  },
  {
   "cell_type": "code",
   "execution_count": 14,
   "id": "796a100b-6c80-403f-9c4d-927bd33d2173",
   "metadata": {
    "ExecuteTime": {
     "end_time": "2023-11-09T16:55:46.211703980Z",
     "start_time": "2023-11-09T16:55:46.206121846Z"
    }
   },
   "outputs": [],
   "source": [
    "from sklearn.metrics import get_scorer_names\n",
    "#see available scorer metrics other than r2\n",
    "#there is 'neg_mean_squared_error'\n",
    "#get_scorer_names()"
   ]
  },
  {
   "cell_type": "code",
   "execution_count": 15,
   "id": "191b7b71-d75f-47b4-9c06-75efc2bcc3b1",
   "metadata": {
    "ExecuteTime": {
     "end_time": "2023-11-09T16:55:46.335954129Z",
     "start_time": "2023-11-09T16:55:46.213032990Z"
    }
   },
   "outputs": [
    {
     "data": {
      "text/plain": "   fit_time  score_time  test_score  train_score\n0  0.006200    0.003989  -19.376823   -25.166249\n1  0.004483    0.003078  -23.487864   -24.163037\n2  0.004283    0.002660  -25.615149   -23.589354\n3  0.004735    0.002890  -26.533084   -23.395206\n4  0.004299    0.002697  -26.315881   -23.476080",
      "text/html": "<div>\n<style scoped>\n    .dataframe tbody tr th:only-of-type {\n        vertical-align: middle;\n    }\n\n    .dataframe tbody tr th {\n        vertical-align: top;\n    }\n\n    .dataframe thead th {\n        text-align: right;\n    }\n</style>\n<table border=\"1\" class=\"dataframe\">\n  <thead>\n    <tr style=\"text-align: right;\">\n      <th></th>\n      <th>fit_time</th>\n      <th>score_time</th>\n      <th>test_score</th>\n      <th>train_score</th>\n    </tr>\n  </thead>\n  <tbody>\n    <tr>\n      <th>0</th>\n      <td>0.006200</td>\n      <td>0.003989</td>\n      <td>-19.376823</td>\n      <td>-25.166249</td>\n    </tr>\n    <tr>\n      <th>1</th>\n      <td>0.004483</td>\n      <td>0.003078</td>\n      <td>-23.487864</td>\n      <td>-24.163037</td>\n    </tr>\n    <tr>\n      <th>2</th>\n      <td>0.004283</td>\n      <td>0.002660</td>\n      <td>-25.615149</td>\n      <td>-23.589354</td>\n    </tr>\n    <tr>\n      <th>3</th>\n      <td>0.004735</td>\n      <td>0.002890</td>\n      <td>-26.533084</td>\n      <td>-23.395206</td>\n    </tr>\n    <tr>\n      <th>4</th>\n      <td>0.004299</td>\n      <td>0.002697</td>\n      <td>-26.315881</td>\n      <td>-23.476080</td>\n    </tr>\n  </tbody>\n</table>\n</div>"
     },
     "execution_count": 15,
     "metadata": {},
     "output_type": "execute_result"
    }
   ],
   "source": [
    "nmse_scores = cross_validate(pipe, auto_X, auto_y, scoring='neg_mean_squared_error', cv = kcv_index, return_train_score=True)\n",
    "nmse_scores = pd.DataFrame(nmse_scores)\n",
    "nmse_scores"
   ]
  },
  {
   "cell_type": "code",
   "execution_count": 16,
   "id": "a8a455c9-3ce6-4c71-8de7-41f33ba0efc7",
   "metadata": {
    "ExecuteTime": {
     "end_time": "2023-11-09T16:55:46.337425685Z",
     "start_time": "2023-11-09T16:55:46.289906657Z"
    }
   },
   "outputs": [
    {
     "data": {
      "text/plain": "   fit_time  score_time  test_score  train_score\n0  0.006200    0.003989   19.376823    25.166249\n1  0.004483    0.003078   23.487864    24.163037\n2  0.004283    0.002660   25.615149    23.589354\n3  0.004735    0.002890   26.533084    23.395206\n4  0.004299    0.002697   26.315881    23.476080",
      "text/html": "<div>\n<style scoped>\n    .dataframe tbody tr th:only-of-type {\n        vertical-align: middle;\n    }\n\n    .dataframe tbody tr th {\n        vertical-align: top;\n    }\n\n    .dataframe thead th {\n        text-align: right;\n    }\n</style>\n<table border=\"1\" class=\"dataframe\">\n  <thead>\n    <tr style=\"text-align: right;\">\n      <th></th>\n      <th>fit_time</th>\n      <th>score_time</th>\n      <th>test_score</th>\n      <th>train_score</th>\n    </tr>\n  </thead>\n  <tbody>\n    <tr>\n      <th>0</th>\n      <td>0.006200</td>\n      <td>0.003989</td>\n      <td>19.376823</td>\n      <td>25.166249</td>\n    </tr>\n    <tr>\n      <th>1</th>\n      <td>0.004483</td>\n      <td>0.003078</td>\n      <td>23.487864</td>\n      <td>24.163037</td>\n    </tr>\n    <tr>\n      <th>2</th>\n      <td>0.004283</td>\n      <td>0.002660</td>\n      <td>25.615149</td>\n      <td>23.589354</td>\n    </tr>\n    <tr>\n      <th>3</th>\n      <td>0.004735</td>\n      <td>0.002890</td>\n      <td>26.533084</td>\n      <td>23.395206</td>\n    </tr>\n    <tr>\n      <th>4</th>\n      <td>0.004299</td>\n      <td>0.002697</td>\n      <td>26.315881</td>\n      <td>23.476080</td>\n    </tr>\n  </tbody>\n</table>\n</div>"
     },
     "execution_count": 16,
     "metadata": {},
     "output_type": "execute_result"
    }
   ],
   "source": [
    "#multiply scores by -1 to get MSEs\n",
    "nmse_scores[[\"train_score\",\"test_score\"]] = -1*nmse_scores[[\"train_score\",\"test_score\"]]\n",
    "mse_scores = nmse_scores\n",
    "mse_scores"
   ]
  },
  {
   "cell_type": "code",
   "execution_count": 17,
   "id": "2730d2a3-fe75-443f-a074-c6193344985c",
   "metadata": {
    "ExecuteTime": {
     "end_time": "2023-11-09T16:55:46.394003337Z",
     "start_time": "2023-11-09T16:55:46.297461388Z"
    }
   },
   "outputs": [
    {
     "name": "stdout",
     "output_type": "stream",
     "text": [
      "5-fold cross-validated MSE on Test data: 24.2658\n"
     ]
    }
   ],
   "source": [
    "print(\"5-fold cross-validated MSE on Test data: %0.4f\" % mse_scores.test_score.mean())"
   ]
  },
  {
   "cell_type": "markdown",
   "id": "ebd10d6e-5aab-4d30-9128-49eb1ffed572",
   "metadata": {},
   "source": [
    "Alternatively, for returning test scores per fold only, we can use [cross_val_score](https://scikit-learn.org/stable/modules/generated/sklearn.model_selection.cross_val_score.html)."
   ]
  },
  {
   "cell_type": "code",
   "execution_count": 18,
   "id": "a91d70d8-c472-45ad-8975-f98ef6d3c170",
   "metadata": {
    "ExecuteTime": {
     "end_time": "2023-11-09T16:55:46.452448125Z",
     "start_time": "2023-11-09T16:55:46.338303939Z"
    }
   },
   "outputs": [],
   "source": [
    "kfold_mse_test = -1*cross_val_score(pipe, auto_X, auto_y, scoring='neg_mean_squared_error', cv = kcv_index).mean()"
   ]
  },
  {
   "cell_type": "code",
   "execution_count": 19,
   "id": "1febd2c7-687a-4953-883b-2d60b9f0eb7c",
   "metadata": {
    "ExecuteTime": {
     "end_time": "2023-11-09T16:55:46.452984855Z",
     "start_time": "2023-11-09T16:55:46.386273164Z"
    }
   },
   "outputs": [
    {
     "name": "stdout",
     "output_type": "stream",
     "text": [
      "5-fold cross-validated MSE on Test data: 24.2658\n"
     ]
    }
   ],
   "source": [
    "print(\"5-fold cross-validated MSE on Test data: %0.4f\" % kfold_mse_test)"
   ]
  },
  {
   "cell_type": "markdown",
   "id": "14d02410-0618-4bb0-8638-0d11ae866df0",
   "metadata": {},
   "source": [
    "Using the 5-fold CV, we can conclude that the regression model's MSE on test data is 24.26 on the average. "
   ]
  },
  {
   "cell_type": "markdown",
   "id": "8b33f479-9c25-4f46-ad9b-923bebcff3da",
   "metadata": {
    "tags": []
   },
   "source": [
    "## How to choose K?\n",
    "\n",
    "- In practice, one typically uses  K=5 and K=10.\n",
    "- There is no formal rule as to the size of K; however, as K gets larger, the difference between the estimated performance and the true performance to be seen on the test set will decrease.\n",
    "- On the other hand, using too large K can introduce **computational burdens**.\n",
    "- When K=n, it is called as `leave-one-out cross validation (LOOCV)` which is the most extreme approach."
   ]
  },
  {
   "cell_type": "code",
   "execution_count": 20,
   "id": "c3d5be5f-189d-4bdf-92ca-ae6de7e60aa2",
   "metadata": {
    "ExecuteTime": {
     "end_time": "2023-11-09T16:55:46.453791801Z",
     "start_time": "2023-11-09T16:55:46.386674542Z"
    }
   },
   "outputs": [],
   "source": [
    "## Leave-One-Out Cross-Validation"
   ]
  },
  {
   "cell_type": "code",
   "execution_count": 21,
   "id": "0edd4614-e717-4c8c-8e90-e302f205e951",
   "metadata": {
    "ExecuteTime": {
     "end_time": "2023-11-09T16:55:49.490685945Z",
     "start_time": "2023-11-09T16:55:46.539340803Z"
    }
   },
   "outputs": [],
   "source": [
    "import numpy as np\n",
    "from sklearn.pipeline import make_pipeline\n",
    "from sklearn.preprocessing import PolynomialFeatures\n",
    "from sklearn.linear_model import LinearRegression\n",
    "from sklearn.metrics import mean_squared_error\n",
    "from sklearn.model_selection import cross_validate, KFold, cross_val_score\n",
    "\n",
    "\n",
    "pipe = make_pipeline(PolynomialFeatures(degree=1, include_bias=False), \n",
    "                     LinearRegression())\n",
    "    \n",
    "#LeaveOneOut() function is not suggested for large data sets, since it is computationally heavy\n",
    "loocv_index = KFold(n_splits=auto_X.shape[0], shuffle=True, random_state=1300) \n",
    "\n",
    "loocv_mse_test = -1*cross_val_score(pipe, auto_X, auto_y, scoring='neg_mean_squared_error', cv = loocv_index).mean()"
   ]
  },
  {
   "cell_type": "code",
   "execution_count": 22,
   "id": "899b30f9-5bfd-4e05-9f41-921853478b69",
   "metadata": {
    "ExecuteTime": {
     "end_time": "2023-11-09T16:55:49.500715781Z",
     "start_time": "2023-11-09T16:55:49.494723958Z"
    }
   },
   "outputs": [
    {
     "name": "stdout",
     "output_type": "stream",
     "text": [
      "5-fold cross-validated MSE on Test data: 24.2724\n"
     ]
    }
   ],
   "source": [
    "print(\"5-fold cross-validated MSE on Test data: %0.4f\" % loocv_mse_test)"
   ]
  },
  {
   "cell_type": "markdown",
   "id": "58290021-f45b-4ae0-9c62-ae676886f1d4",
   "metadata": {
    "tags": []
   },
   "source": [
    "## Benefits of Cross-Validation over One-time Splitting\n",
    "\n",
    "- Having multiple splits of the data provides some information about how sensitive our model is to the selection of the training set. We can see that MSE test value is changing between 19.3768 and 26.1663. It provides us an idea that how the model perform in the worst case and best case scenarios when applied to new data.\n",
    "\n",
    "- Another benefit of cross-validation is that we use our data more effectively compared to the one-time splitting. When using one-time splitting, we usually use 80% of the data for training and 20% of the data for testing. When using 5-fold cross-validation, in each iteration we nearly use 80% (4/5) of the data for training, and when using 10-fold cross-validation, in each iteration we nearly use 90% (9/10) of the data for training. More data will usually result in more accurate models.\n",
    "\n",
    "## Disadvantages of Cross-Validation over One-time Splitting\n",
    "\n",
    "- Since in k-fold cross-validation  we are now training k models instead of a single model, cross-validation will be roughly k times slower than doing a single split of the data."
   ]
  },
  {
   "cell_type": "markdown",
   "id": "4629164b-8e35-44d8-9802-b75f5b5ae986",
   "metadata": {},
   "source": [
    "## Cross-Validation Approach for Model Selection\n",
    "\n",
    "**Cross-validation** can also be used to select the **appropriate level of flexibility** of a model. "
   ]
  },
  {
   "cell_type": "markdown",
   "id": "daa00385-c43f-484d-96ac-9b3cd19cac38",
   "metadata": {},
   "source": [
    "## Polynomial Degree Choice with Cross-Validation\n",
    "\n",
    "Actually, we have multiple choices to build a predictive model for `mpg` of a car based on the the feature `horsepower`: we could use linear regression, 2nd order polynomial regression, 3rd order polynomial regression, etc. Then the question is how to choose the order of polynomial regression?\n",
    "\n",
    "When we have a limited amount of data, we may not want to further reduce our potential training data by reassigning some part as validation. Luckily, we can use `k-fold cross-validation` on `training and validation sets` for `model selection` too! "
   ]
  },
  {
   "cell_type": "markdown",
   "id": "845e7dad-5ddd-4e79-b0f6-ad9152cdd405",
   "metadata": {},
   "source": [
    "### Model Choice for Polynomial Degree\n",
    "\n",
    "- **Step 1:** We should split our data set as `train`, `validation`, and `test` data. \n",
    "- **Step 2:** For each polynomial degree, say, $p=1,\\ldots,10$, **apply the k-fold cross-validation to train+validation set**, and save the ${MSE}_{val}^{(CV)}$ (average of the k MSEs calculated from each folds' validation set).\n",
    "- **Step 3:** We select the degree value $p$ as **the optimum value** which gives the minimum ${MSE}_{val}^{(CV)}$.\n",
    "- Until now, we only estimated the optimum value of the $p$ (no test data is involved up to this point).\n",
    "\n",
    "![](img/train_val_test.png)\n",
    "\n",
    "### Final Model Performance Evaluation\n",
    "\n",
    "- **Step 4:** With the selected optimum value of $p$, **RE-TRAIN the model on train + validation set**, and based on the **learned coefficients**, calculate MSE on the test set."
   ]
  },
  {
   "cell_type": "code",
   "execution_count": 23,
   "id": "8db265e3-716a-43e5-910a-8356700e2df4",
   "metadata": {
    "ExecuteTime": {
     "end_time": "2023-11-09T16:55:49.533885640Z",
     "start_time": "2023-11-09T16:55:49.501543750Z"
    }
   },
   "outputs": [],
   "source": [
    "#split the data set as train_val and test\n",
    "from sklearn.model_selection import train_test_split\n",
    "\n",
    "#Split 80:20\n",
    "auto_X_bigtrain, auto_X_test, auto_y_bigtrain, auto_y_test = train_test_split(auto_X, auto_y, test_size=0.2, random_state=1300)"
   ]
  },
  {
   "cell_type": "code",
   "execution_count": 24,
   "id": "67e70f45-f27b-42da-8c75-b4daf17ed502",
   "metadata": {
    "tags": [],
    "ExecuteTime": {
     "end_time": "2023-11-09T16:55:49.953906829Z",
     "start_time": "2023-11-09T16:55:49.510362887Z"
    }
   },
   "outputs": [],
   "source": [
    "from sklearn import set_config\n",
    "set_config(transform_output=\"pandas\")  \n",
    "\n",
    "from sklearn.pipeline import make_pipeline\n",
    "from sklearn.preprocessing import PolynomialFeatures\n",
    "from sklearn.linear_model import LinearRegression\n",
    "from sklearn.model_selection import cross_validate, KFold, cross_val_score\n",
    "\n",
    "p_order = np.arange(1,11)   \n",
    "\n",
    "MSE_val = []\n",
    "\n",
    "for p in p_order:\n",
    "    \n",
    "    pipe = make_pipeline(PolynomialFeatures(degree=p, include_bias=False), \n",
    "                     LinearRegression())\n",
    "\n",
    "    #print(\"p\", p)\n",
    "    \n",
    "    kcv_index = KFold(n_splits=5, shuffle=True, random_state=1300)\n",
    "\n",
    "    mse_score_val =  -1*cross_val_score(pipe, auto_X_bigtrain, auto_y_bigtrain, scoring='neg_mean_squared_error', cv = kcv_index).mean()  \n",
    "    #cross_validate:return_train_score=True can also be used for checking underfitting & overfitting\n",
    "    \n",
    "    MSE_val.append(mse_score_val)"
   ]
  },
  {
   "cell_type": "code",
   "execution_count": 25,
   "id": "b394aa87-d4a8-4466-b3fe-8acecca95f92",
   "metadata": {
    "ExecuteTime": {
     "end_time": "2023-11-09T16:55:49.995370200Z",
     "start_time": "2023-11-09T16:55:49.957864176Z"
    }
   },
   "outputs": [
    {
     "data": {
      "text/plain": "[25.602000457185483,\n 19.6480283476745,\n 19.551268328376477,\n 19.742671739627482,\n 19.647655908384145,\n 19.838458973372113,\n 19.72584799225039,\n 19.644123449411037,\n 19.539691536762323,\n 19.524722363886468]"
     },
     "execution_count": 25,
     "metadata": {},
     "output_type": "execute_result"
    }
   ],
   "source": [
    "MSE_val"
   ]
  },
  {
   "cell_type": "code",
   "execution_count": 26,
   "id": "0feacf2b-a020-4d11-8e3a-ef7a55492e06",
   "metadata": {
    "ExecuteTime": {
     "end_time": "2023-11-09T16:55:50.172260279Z",
     "start_time": "2023-11-09T16:55:49.965302412Z"
    }
   },
   "outputs": [
    {
     "data": {
      "text/plain": "<Figure size 800x550 with 1 Axes>",
      "image/png": "[encoded data removed]"
     },
     "metadata": {},
     "output_type": "display_data"
    }
   ],
   "source": [
    "#visualize the results\n",
    "import matplotlib.pyplot as plt\n",
    "\n",
    "plt.plot(p_order, MSE_val)\n",
    "plt.ylabel('5-Fold CV Mean Squared Error Validation')\n",
    "plt.xlabel('Degree of Polynomial')\n",
    "plt.show();"
   ]
  },
  {
   "cell_type": "markdown",
   "id": "6b669cf4-1741-41a9-8a84-c7573b163504",
   "metadata": {},
   "source": [
    "The graph attains its minimum when p=3. This indicates that this data is better represented with a 3rd order polnomial regression."
   ]
  },
  {
   "cell_type": "code",
   "execution_count": 27,
   "id": "ab0fd5f4-8958-46c7-82c1-06fd8bfc0b37",
   "metadata": {
    "ExecuteTime": {
     "end_time": "2023-11-09T16:55:50.469047790Z",
     "start_time": "2023-11-09T16:55:50.174404756Z"
    }
   },
   "outputs": [
    {
     "ename": "NameError",
     "evalue": "name 'auto_X_train_val' is not defined",
     "output_type": "error",
     "traceback": [
      "\u001B[0;31m---------------------------------------------------------------------------\u001B[0m",
      "\u001B[0;31mNameError\u001B[0m                                 Traceback (most recent call last)",
      "Cell \u001B[0;32mIn[27], line 11\u001B[0m\n\u001B[1;32m      5\u001B[0m \u001B[38;5;28;01mfrom\u001B[39;00m \u001B[38;5;21;01msklearn\u001B[39;00m\u001B[38;5;21;01m.\u001B[39;00m\u001B[38;5;21;01mlinear_model\u001B[39;00m \u001B[38;5;28;01mimport\u001B[39;00m LinearRegression\n\u001B[1;32m      8\u001B[0m pipe \u001B[38;5;241m=\u001B[39m make_pipeline(PolynomialFeatures(degree\u001B[38;5;241m=\u001B[39m\u001B[38;5;241m3\u001B[39m, include_bias\u001B[38;5;241m=\u001B[39m\u001B[38;5;28;01mFalse\u001B[39;00m), \n\u001B[1;32m      9\u001B[0m                      LinearRegression())\n\u001B[0;32m---> 11\u001B[0m pipe\u001B[38;5;241m.\u001B[39mfit(\u001B[43mauto_X_train_val\u001B[49m, auto_y_train_val)\n\u001B[1;32m     13\u001B[0m y_test_pred \u001B[38;5;241m=\u001B[39m pipe\u001B[38;5;241m.\u001B[39mpredict(auto_X_test)\n\u001B[1;32m     15\u001B[0m mse_test_final \u001B[38;5;241m=\u001B[39m mean_squared_error(auto_y_test, y_test_pred)\n",
      "\u001B[0;31mNameError\u001B[0m: name 'auto_X_train_val' is not defined"
     ]
    }
   ],
   "source": [
    "#retrain the final model on train+val, which is the 2nd order polynomial regression\n",
    "\n",
    "from sklearn.pipeline import make_pipeline\n",
    "from sklearn.preprocessing import PolynomialFeatures\n",
    "from sklearn.linear_model import LinearRegression\n",
    "\n",
    "\n",
    "pipe = make_pipeline(PolynomialFeatures(degree=3, include_bias=False), \n",
    "                     LinearRegression())\n",
    "\n",
    "pipe.fit(auto_X_train_val, auto_y_train_val)\n",
    "   \n",
    "y_test_pred = pipe.predict(auto_X_test)\n",
    "    \n",
    "mse_test_final = mean_squared_error(auto_y_test, y_test_pred)"
   ]
  },
  {
   "cell_type": "code",
   "execution_count": null,
   "id": "3900beef-9b0c-44a9-9e6e-d86f2591ac70",
   "metadata": {
    "ExecuteTime": {
     "start_time": "2023-11-09T16:55:50.467247841Z"
    }
   },
   "outputs": [],
   "source": [
    "print(('MSE on Test Data: %.4f' % mse_test_final))"
   ]
  },
  {
   "cell_type": "markdown",
   "id": "3e937c5c-0932-4b56-8f17-5e52e2c55947",
   "metadata": {},
   "source": [
    "We can safely say that this data set is better represented by a 3rd order polynomial and the built model's generalization error on the test is 17.5995."
   ]
  },
  {
   "cell_type": "markdown",
   "id": "92c371b0-7550-4b9f-9f73-4d11baaf3650",
   "metadata": {},
   "source": [
    "## In a nut-shell\n",
    "\n",
    "- You have a model with different flexibilities (polynomial regression, ridge, lasso regression) and you want to pick the best (optimum) flexibility. You can select the flexibility based on one-time train-validation+test split or cross-validated train-validation+test split approach and then report the optimum model performance on the test data."
   ]
  },
  {
   "cell_type": "markdown",
   "id": "33268f37-cbf2-428e-88fc-f140ef7e28e2",
   "metadata": {},
   "source": [
    "## References\n",
    "\n",
    "- James, G., Witten, D., Hastie, T., Tibshirani, R., James, G., Witten, D., and Tibshirani, R. (2021). Statistical learning. An introduction to statistical learning: with applications in R. https://www.statlearning.com/\n",
    "- https://bradleyboehmke.github.io/HOML/process.html\n",
    "- https://compneuro.neuromatch.io/tutorials/W1D2_ModelFitting/student/W1D2_Tutorial6.html\n",
    "- https://stackoverflow.com/questions/47442102/how-to-find-the-best-degree-of-polynomials"
   ]
  },
  {
   "cell_type": "code",
   "execution_count": null,
   "id": "98b98247-da67-404e-a8de-2fa1620f8d3f",
   "metadata": {
    "ExecuteTime": {
     "start_time": "2023-11-09T16:55:50.470480654Z"
    }
   },
   "outputs": [],
   "source": [
    "import session_info\n",
    "session_info.show()"
   ]
  }
 ],
 "metadata": {
  "kernelspec": {
   "display_name": "Python 3 (ipykernel)",
   "language": "python",
   "name": "python3"
  },
  "language_info": {
   "codemirror_mode": {
    "name": "ipython",
    "version": 3
   },
   "file_extension": ".py",
   "mimetype": "text/x-python",
   "name": "python",
   "nbconvert_exporter": "python",
   "pygments_lexer": "ipython3",
   "version": "3.8.8"
  }
 },
 "nbformat": 4,
 "nbformat_minor": 5
}
