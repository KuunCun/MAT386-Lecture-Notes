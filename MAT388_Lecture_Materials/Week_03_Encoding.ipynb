{
 "cells": [
  {
   "cell_type": "markdown",
   "id": "a285fd09-4e63-4f1b-aa3f-99275b22938d",
   "metadata": {},
   "source": [
    "<left><img width=100% height=100% src=\"img/itu_logo.png\"></left>\n",
    "\n",
    "## Lecture 03: Encoding Categorical Features\n",
    "\n",
    "### __Gül İnan__<br><br>Istanbul Technical University"
   ]
  },
  {
   "cell_type": "markdown",
   "id": "43eadfa9-0c1a-415e-b248-1054451a9a69",
   "metadata": {},
   "source": [
    "## Re-visit Video Games Data"
   ]
  },
  {
   "cell_type": "code",
   "execution_count": 59,
   "id": "f69518ab-be2b-4431-a10b-dae5be17b70a",
   "metadata": {},
   "outputs": [
    {
     "data": {
      "text/html": [
       "<div>\n",
       "<style scoped>\n",
       "    .dataframe tbody tr th:only-of-type {\n",
       "        vertical-align: middle;\n",
       "    }\n",
       "\n",
       "    .dataframe tbody tr th {\n",
       "        vertical-align: top;\n",
       "    }\n",
       "\n",
       "    .dataframe thead th {\n",
       "        text-align: right;\n",
       "    }\n",
       "</style>\n",
       "<table border=\"1\" class=\"dataframe\">\n",
       "  <thead>\n",
       "    <tr style=\"text-align: right;\">\n",
       "      <th></th>\n",
       "      <th>time</th>\n",
       "      <th>freq</th>\n",
       "      <th>sex</th>\n",
       "      <th>age</th>\n",
       "      <th>home</th>\n",
       "      <th>math</th>\n",
       "      <th>work</th>\n",
       "      <th>own</th>\n",
       "      <th>grade</th>\n",
       "    </tr>\n",
       "  </thead>\n",
       "  <tbody>\n",
       "    <tr>\n",
       "      <th>0</th>\n",
       "      <td>2.0</td>\n",
       "      <td>weekly</td>\n",
       "      <td>female</td>\n",
       "      <td>19</td>\n",
       "      <td>yes</td>\n",
       "      <td>no</td>\n",
       "      <td>10.0</td>\n",
       "      <td>yes</td>\n",
       "      <td>A</td>\n",
       "    </tr>\n",
       "    <tr>\n",
       "      <th>1</th>\n",
       "      <td>0.0</td>\n",
       "      <td>monthly</td>\n",
       "      <td>female</td>\n",
       "      <td>18</td>\n",
       "      <td>yes</td>\n",
       "      <td>yes</td>\n",
       "      <td>0.0</td>\n",
       "      <td>yes</td>\n",
       "      <td>C</td>\n",
       "    </tr>\n",
       "    <tr>\n",
       "      <th>2</th>\n",
       "      <td>0.0</td>\n",
       "      <td>monthly</td>\n",
       "      <td>male</td>\n",
       "      <td>19</td>\n",
       "      <td>yes</td>\n",
       "      <td>no</td>\n",
       "      <td>0.0</td>\n",
       "      <td>yes</td>\n",
       "      <td>B</td>\n",
       "    </tr>\n",
       "    <tr>\n",
       "      <th>3</th>\n",
       "      <td>0.5</td>\n",
       "      <td>monthly</td>\n",
       "      <td>female</td>\n",
       "      <td>19</td>\n",
       "      <td>yes</td>\n",
       "      <td>no</td>\n",
       "      <td>0.0</td>\n",
       "      <td>yes</td>\n",
       "      <td>B</td>\n",
       "    </tr>\n",
       "    <tr>\n",
       "      <th>4</th>\n",
       "      <td>0.0</td>\n",
       "      <td>semesterly</td>\n",
       "      <td>female</td>\n",
       "      <td>19</td>\n",
       "      <td>yes</td>\n",
       "      <td>yes</td>\n",
       "      <td>0.0</td>\n",
       "      <td>no</td>\n",
       "      <td>B</td>\n",
       "    </tr>\n",
       "  </tbody>\n",
       "</table>\n",
       "</div>"
      ],
      "text/plain": [
       "   time        freq     sex  age home math  work  own grade\n",
       "0   2.0      weekly  female   19  yes   no  10.0  yes     A\n",
       "1   0.0     monthly  female   18  yes  yes   0.0  yes     C\n",
       "2   0.0     monthly    male   19  yes   no   0.0  yes     B\n",
       "3   0.5     monthly  female   19  yes   no   0.0  yes     B\n",
       "4   0.0  semesterly  female   19  yes  yes   0.0   no     B"
      ]
     },
     "execution_count": 59,
     "metadata": {},
     "output_type": "execute_result"
    }
   ],
   "source": [
    "#import dataset\n",
    "import pandas as pd\n",
    "video_df = pd.read_table(\"datasets/video.csv\", sep = \";\", na_values=\"99\", index_col=0)\n",
    "video_df.head()"
   ]
  },
  {
   "cell_type": "markdown",
   "id": "7001ed95-4674-4854-adcb-bc6689a978f9",
   "metadata": {},
   "source": [
    "When we investigate the **data types of variables** in the Video Games data set, we can see that the features `freq`, `sex`, `home`, `math`, `own`, and `grade` has `object` data type (`dtypes`)."
   ]
  },
  {
   "cell_type": "code",
   "execution_count": 74,
   "id": "eb646adc-79d1-40ac-9c81-5abd996702d6",
   "metadata": {},
   "outputs": [
    {
     "data": {
      "text/plain": [
       "time     float64\n",
       "freq      object\n",
       "sex       object\n",
       "age        int64\n",
       "home      object\n",
       "math      object\n",
       "work     float64\n",
       "own       object\n",
       "grade     object\n",
       "dtype: object"
      ]
     },
     "execution_count": 74,
     "metadata": {},
     "output_type": "execute_result"
    }
   ],
   "source": [
    "video_df.dtypes"
   ]
  },
  {
   "cell_type": "markdown",
   "id": "4be4a578-14c7-4ca3-abbf-d43535de9224",
   "metadata": {},
   "source": [
    "These features ara actually `categorical variables` with `limited number of distinct levels`. Most of the existing machine learning algorithms cannot be executed on categorical features. Instead, the _categorical features need to first be converted to numericals_."
   ]
  },
  {
   "cell_type": "code",
   "execution_count": 61,
   "id": "8ce95ba5-0adb-446b-a5c9-470b19a3fe75",
   "metadata": {},
   "outputs": [
    {
     "data": {
      "text/plain": [
       "male      53\n",
       "female    38\n",
       "Name: sex, dtype: int64"
      ]
     },
     "execution_count": 61,
     "metadata": {},
     "output_type": "execute_result"
    }
   ],
   "source": [
    "#check the levels of sex\n",
    "video_df.sex.value_counts()"
   ]
  },
  {
   "cell_type": "markdown",
   "id": "73d956b3-9926-4766-b3a1-3826f1afb9da",
   "metadata": {},
   "source": [
    "## Nominal Variable\n",
    "\n",
    "When there is **no ordering between the levels of a categorical variable**, the variable is called as `nominal variable`. The nominal variables can be encoded via `one-hot encoding`."
   ]
  },
  {
   "cell_type": "markdown",
   "id": "a54a2010-2358-4d76-b2d3-cd2b8376dbb5",
   "metadata": {
    "tags": []
   },
   "source": [
    "## One-Hot Encoding\n",
    "\n",
    "`One-hot encoding` consists of replacing a **nominal feature with k levels** by **k binary features which take value 0 or 1**, to indicate if a certain category is present in an observation. The `binary variables` are also known as `dummy variables`.\n",
    "\n",
    "For example, from the feature `Sex` with categories “male” and “female”, we can generate a `boolean feature` named “male”, which takes 1 if the observation is male or 0 otherwise. We can also generate another `boolean feature` named “female”, which takes 1 if the observation is “female” and 0 otherwise. \n",
    "\n",
    "![](img/onehot.png)\n",
    "\n",
    "\n",
    "The [OneHotEncoder](https://scikit-learn.org/stable/modules/generated/sklearn.preprocessing.OneHotEncoder.html) transformer in scikit-learn performs one-hot encoding. \n",
    "\n",
    "`Important note`: Just like scaling and imputation, all methods of **categorical feature encoding should be performed over the training set** and then propagated the learn categories to the test set. Hence, `data leakage` can be avoid. "
   ]
  },
  {
   "cell_type": "code",
   "execution_count": 62,
   "id": "d7aa02d7-3d3e-40c5-8f84-1911fbff7911",
   "metadata": {},
   "outputs": [],
   "source": [
    "#focus on binary features only\n",
    "import pandas as pd\n",
    "from sklearn.model_selection import train_test_split\n",
    "\n",
    "video_X = video_df[[\"sex\", \"home\", \"math\", \"own\"]] \n",
    "video_y = video_df[[\"time\"]]\n",
    "\n",
    "#Split 90:10\n",
    "video_X_train, video_X_test, video_y_train, video_y_test = train_test_split(video_X, video_y, test_size=0.1, random_state=1300)"
   ]
  },
  {
   "cell_type": "code",
   "execution_count": 67,
   "id": "d3482aea-304b-43f0-8bc3-a14faa39cac3",
   "metadata": {},
   "outputs": [
    {
     "data": {
      "text/html": [
       "<style>#sk-container-id-7 {color: black;}#sk-container-id-7 pre{padding: 0;}#sk-container-id-7 div.sk-toggleable {background-color: white;}#sk-container-id-7 label.sk-toggleable__label {cursor: pointer;display: block;width: 100%;margin-bottom: 0;padding: 0.3em;box-sizing: border-box;text-align: center;}#sk-container-id-7 label.sk-toggleable__label-arrow:before {content: \"▸\";float: left;margin-right: 0.25em;color: #696969;}#sk-container-id-7 label.sk-toggleable__label-arrow:hover:before {color: black;}#sk-container-id-7 div.sk-estimator:hover label.sk-toggleable__label-arrow:before {color: black;}#sk-container-id-7 div.sk-toggleable__content {max-height: 0;max-width: 0;overflow: hidden;text-align: left;background-color: #f0f8ff;}#sk-container-id-7 div.sk-toggleable__content pre {margin: 0.2em;color: black;border-radius: 0.25em;background-color: #f0f8ff;}#sk-container-id-7 input.sk-toggleable__control:checked~div.sk-toggleable__content {max-height: 200px;max-width: 100%;overflow: auto;}#sk-container-id-7 input.sk-toggleable__control:checked~label.sk-toggleable__label-arrow:before {content: \"▾\";}#sk-container-id-7 div.sk-estimator input.sk-toggleable__control:checked~label.sk-toggleable__label {background-color: #d4ebff;}#sk-container-id-7 div.sk-label input.sk-toggleable__control:checked~label.sk-toggleable__label {background-color: #d4ebff;}#sk-container-id-7 input.sk-hidden--visually {border: 0;clip: rect(1px 1px 1px 1px);clip: rect(1px, 1px, 1px, 1px);height: 1px;margin: -1px;overflow: hidden;padding: 0;position: absolute;width: 1px;}#sk-container-id-7 div.sk-estimator {font-family: monospace;background-color: #f0f8ff;border: 1px dotted black;border-radius: 0.25em;box-sizing: border-box;margin-bottom: 0.5em;}#sk-container-id-7 div.sk-estimator:hover {background-color: #d4ebff;}#sk-container-id-7 div.sk-parallel-item::after {content: \"\";width: 100%;border-bottom: 1px solid gray;flex-grow: 1;}#sk-container-id-7 div.sk-label:hover label.sk-toggleable__label {background-color: #d4ebff;}#sk-container-id-7 div.sk-serial::before {content: \"\";position: absolute;border-left: 1px solid gray;box-sizing: border-box;top: 0;bottom: 0;left: 50%;z-index: 0;}#sk-container-id-7 div.sk-serial {display: flex;flex-direction: column;align-items: center;background-color: white;padding-right: 0.2em;padding-left: 0.2em;position: relative;}#sk-container-id-7 div.sk-item {position: relative;z-index: 1;}#sk-container-id-7 div.sk-parallel {display: flex;align-items: stretch;justify-content: center;background-color: white;position: relative;}#sk-container-id-7 div.sk-item::before, #sk-container-id-7 div.sk-parallel-item::before {content: \"\";position: absolute;border-left: 1px solid gray;box-sizing: border-box;top: 0;bottom: 0;left: 50%;z-index: -1;}#sk-container-id-7 div.sk-parallel-item {display: flex;flex-direction: column;z-index: 1;position: relative;background-color: white;}#sk-container-id-7 div.sk-parallel-item:first-child::after {align-self: flex-end;width: 50%;}#sk-container-id-7 div.sk-parallel-item:last-child::after {align-self: flex-start;width: 50%;}#sk-container-id-7 div.sk-parallel-item:only-child::after {width: 0;}#sk-container-id-7 div.sk-dashed-wrapped {border: 1px dashed gray;margin: 0 0.4em 0.5em 0.4em;box-sizing: border-box;padding-bottom: 0.4em;background-color: white;}#sk-container-id-7 div.sk-label label {font-family: monospace;font-weight: bold;display: inline-block;line-height: 1.2em;}#sk-container-id-7 div.sk-label-container {text-align: center;}#sk-container-id-7 div.sk-container {/* jupyter's `normalize.less` sets `[hidden] { display: none; }` but bootstrap.min.css set `[hidden] { display: none !important; }` so we also need the `!important` here to be able to override the default hidden behavior on the sphinx rendered scikit-learn.org. See: https://github.com/scikit-learn/scikit-learn/issues/21755 */display: inline-block !important;position: relative;}#sk-container-id-7 div.sk-text-repr-fallback {display: none;}</style><div id=\"sk-container-id-7\" class=\"sk-top-container\"><div class=\"sk-text-repr-fallback\"><pre>OneHotEncoder(sparse_output=False)</pre><b>In a Jupyter environment, please rerun this cell to show the HTML representation or trust the notebook. <br />On GitHub, the HTML representation is unable to render, please try loading this page with nbviewer.org.</b></div><div class=\"sk-container\" hidden><div class=\"sk-item\"><div class=\"sk-estimator sk-toggleable\"><input class=\"sk-toggleable__control sk-hidden--visually\" id=\"sk-estimator-id-13\" type=\"checkbox\" checked><label for=\"sk-estimator-id-13\" class=\"sk-toggleable__label sk-toggleable__label-arrow\">OneHotEncoder</label><div class=\"sk-toggleable__content\"><pre>OneHotEncoder(sparse_output=False)</pre></div></div></div></div></div>"
      ],
      "text/plain": [
       "OneHotEncoder(sparse_output=False)"
      ]
     },
     "execution_count": 67,
     "metadata": {},
     "output_type": "execute_result"
    }
   ],
   "source": [
    "# One-hot encoding\n",
    "\n",
    "from sklearn import set_config\n",
    "set_config(transform_output=\"pandas\") #available in sckit-learn 1.2.1 #othwerwise transforms return numpy arrays, we lose column names\n",
    "\n",
    "from sklearn.preprocessing import OneHotEncoder\n",
    "\n",
    "#instantiate\n",
    "ohe = OneHotEncoder(sparse_output=False)  #Pandas output does not support sparse data. For that reason, we assign sparse_output=F\n",
    "ohe.fit(video_X_train)"
   ]
  },
  {
   "cell_type": "code",
   "execution_count": 69,
   "id": "9ece35fb-6391-4348-8314-e26606f7c5ff",
   "metadata": {},
   "outputs": [
    {
     "data": {
      "text/plain": [
       "[array(['female', 'male'], dtype=object),\n",
       " array(['no', 'yes'], dtype=object),\n",
       " array(['no', 'yes'], dtype=object),\n",
       " array(['no', 'yes'], dtype=object)]"
      ]
     },
     "execution_count": 69,
     "metadata": {},
     "output_type": "execute_result"
    }
   ],
   "source": [
    "#see the encoded categories for each feature\n",
    "ohe.categories_   #lose column labels :("
   ]
  },
  {
   "cell_type": "code",
   "execution_count": 70,
   "id": "425267b0-d271-4d27-96cc-4521a4066d02",
   "metadata": {},
   "outputs": [],
   "source": [
    "video_X_train_enc = ohe.transform(video_X_train)   #ohe.fit_transform(video_X_train) is the shortway"
   ]
  },
  {
   "cell_type": "code",
   "execution_count": 71,
   "id": "ed351a13-7e8f-482d-a001-54a19f397885",
   "metadata": {},
   "outputs": [
    {
     "data": {
      "text/html": [
       "<div>\n",
       "<style scoped>\n",
       "    .dataframe tbody tr th:only-of-type {\n",
       "        vertical-align: middle;\n",
       "    }\n",
       "\n",
       "    .dataframe tbody tr th {\n",
       "        vertical-align: top;\n",
       "    }\n",
       "\n",
       "    .dataframe thead th {\n",
       "        text-align: right;\n",
       "    }\n",
       "</style>\n",
       "<table border=\"1\" class=\"dataframe\">\n",
       "  <thead>\n",
       "    <tr style=\"text-align: right;\">\n",
       "      <th></th>\n",
       "      <th>sex_female</th>\n",
       "      <th>sex_male</th>\n",
       "      <th>home_no</th>\n",
       "      <th>home_yes</th>\n",
       "      <th>math_no</th>\n",
       "      <th>math_yes</th>\n",
       "      <th>own_no</th>\n",
       "      <th>own_yes</th>\n",
       "    </tr>\n",
       "  </thead>\n",
       "  <tbody>\n",
       "    <tr>\n",
       "      <th>49</th>\n",
       "      <td>0.0</td>\n",
       "      <td>1.0</td>\n",
       "      <td>0.0</td>\n",
       "      <td>1.0</td>\n",
       "      <td>1.0</td>\n",
       "      <td>0.0</td>\n",
       "      <td>0.0</td>\n",
       "      <td>1.0</td>\n",
       "    </tr>\n",
       "    <tr>\n",
       "      <th>77</th>\n",
       "      <td>0.0</td>\n",
       "      <td>1.0</td>\n",
       "      <td>0.0</td>\n",
       "      <td>1.0</td>\n",
       "      <td>1.0</td>\n",
       "      <td>0.0</td>\n",
       "      <td>1.0</td>\n",
       "      <td>0.0</td>\n",
       "    </tr>\n",
       "    <tr>\n",
       "      <th>36</th>\n",
       "      <td>1.0</td>\n",
       "      <td>0.0</td>\n",
       "      <td>0.0</td>\n",
       "      <td>1.0</td>\n",
       "      <td>1.0</td>\n",
       "      <td>0.0</td>\n",
       "      <td>0.0</td>\n",
       "      <td>1.0</td>\n",
       "    </tr>\n",
       "    <tr>\n",
       "      <th>84</th>\n",
       "      <td>1.0</td>\n",
       "      <td>0.0</td>\n",
       "      <td>0.0</td>\n",
       "      <td>1.0</td>\n",
       "      <td>0.0</td>\n",
       "      <td>1.0</td>\n",
       "      <td>1.0</td>\n",
       "      <td>0.0</td>\n",
       "    </tr>\n",
       "    <tr>\n",
       "      <th>79</th>\n",
       "      <td>0.0</td>\n",
       "      <td>1.0</td>\n",
       "      <td>0.0</td>\n",
       "      <td>1.0</td>\n",
       "      <td>1.0</td>\n",
       "      <td>0.0</td>\n",
       "      <td>0.0</td>\n",
       "      <td>1.0</td>\n",
       "    </tr>\n",
       "  </tbody>\n",
       "</table>\n",
       "</div>"
      ],
      "text/plain": [
       "    sex_female  sex_male  home_no  home_yes  math_no  math_yes  own_no  \\\n",
       "49         0.0       1.0      0.0       1.0      1.0       0.0     0.0   \n",
       "77         0.0       1.0      0.0       1.0      1.0       0.0     1.0   \n",
       "36         1.0       0.0      0.0       1.0      1.0       0.0     0.0   \n",
       "84         1.0       0.0      0.0       1.0      0.0       1.0     1.0   \n",
       "79         0.0       1.0      0.0       1.0      1.0       0.0     0.0   \n",
       "\n",
       "    own_yes  \n",
       "49      1.0  \n",
       "77      0.0  \n",
       "36      1.0  \n",
       "84      0.0  \n",
       "79      1.0  "
      ]
     },
     "execution_count": 71,
     "metadata": {},
     "output_type": "execute_result"
    }
   ],
   "source": [
    "video_X_train_enc.head()"
   ]
  },
  {
   "cell_type": "code",
   "execution_count": 38,
   "id": "14272f82-6b6e-4418-88c9-20bdd55dfbd3",
   "metadata": {},
   "outputs": [],
   "source": [
    "video_X_test_enc = ohe.transform(video_X_test) "
   ]
  },
  {
   "cell_type": "code",
   "execution_count": 39,
   "id": "6e9a14e8-2445-4c44-98ff-40c9702ce9df",
   "metadata": {},
   "outputs": [
    {
     "data": {
      "text/html": [
       "<div>\n",
       "<style scoped>\n",
       "    .dataframe tbody tr th:only-of-type {\n",
       "        vertical-align: middle;\n",
       "    }\n",
       "\n",
       "    .dataframe tbody tr th {\n",
       "        vertical-align: top;\n",
       "    }\n",
       "\n",
       "    .dataframe thead th {\n",
       "        text-align: right;\n",
       "    }\n",
       "</style>\n",
       "<table border=\"1\" class=\"dataframe\">\n",
       "  <thead>\n",
       "    <tr style=\"text-align: right;\">\n",
       "      <th></th>\n",
       "      <th>sex_female</th>\n",
       "      <th>sex_male</th>\n",
       "      <th>home_no</th>\n",
       "      <th>home_yes</th>\n",
       "      <th>math_no</th>\n",
       "      <th>math_yes</th>\n",
       "      <th>own_no</th>\n",
       "      <th>own_yes</th>\n",
       "    </tr>\n",
       "  </thead>\n",
       "  <tbody>\n",
       "    <tr>\n",
       "      <th>20</th>\n",
       "      <td>0.0</td>\n",
       "      <td>1.0</td>\n",
       "      <td>0.0</td>\n",
       "      <td>1.0</td>\n",
       "      <td>1.0</td>\n",
       "      <td>0.0</td>\n",
       "      <td>0.0</td>\n",
       "      <td>1.0</td>\n",
       "    </tr>\n",
       "    <tr>\n",
       "      <th>16</th>\n",
       "      <td>0.0</td>\n",
       "      <td>1.0</td>\n",
       "      <td>0.0</td>\n",
       "      <td>1.0</td>\n",
       "      <td>1.0</td>\n",
       "      <td>0.0</td>\n",
       "      <td>0.0</td>\n",
       "      <td>1.0</td>\n",
       "    </tr>\n",
       "    <tr>\n",
       "      <th>59</th>\n",
       "      <td>1.0</td>\n",
       "      <td>0.0</td>\n",
       "      <td>0.0</td>\n",
       "      <td>1.0</td>\n",
       "      <td>1.0</td>\n",
       "      <td>0.0</td>\n",
       "      <td>0.0</td>\n",
       "      <td>1.0</td>\n",
       "    </tr>\n",
       "    <tr>\n",
       "      <th>72</th>\n",
       "      <td>0.0</td>\n",
       "      <td>1.0</td>\n",
       "      <td>1.0</td>\n",
       "      <td>0.0</td>\n",
       "      <td>0.0</td>\n",
       "      <td>1.0</td>\n",
       "      <td>0.0</td>\n",
       "      <td>1.0</td>\n",
       "    </tr>\n",
       "    <tr>\n",
       "      <th>9</th>\n",
       "      <td>0.0</td>\n",
       "      <td>1.0</td>\n",
       "      <td>0.0</td>\n",
       "      <td>1.0</td>\n",
       "      <td>0.0</td>\n",
       "      <td>1.0</td>\n",
       "      <td>0.0</td>\n",
       "      <td>1.0</td>\n",
       "    </tr>\n",
       "  </tbody>\n",
       "</table>\n",
       "</div>"
      ],
      "text/plain": [
       "    sex_female  sex_male  home_no  home_yes  math_no  math_yes  own_no  \\\n",
       "20         0.0       1.0      0.0       1.0      1.0       0.0     0.0   \n",
       "16         0.0       1.0      0.0       1.0      1.0       0.0     0.0   \n",
       "59         1.0       0.0      0.0       1.0      1.0       0.0     0.0   \n",
       "72         0.0       1.0      1.0       0.0      0.0       1.0     0.0   \n",
       "9          0.0       1.0      0.0       1.0      0.0       1.0     0.0   \n",
       "\n",
       "    own_yes  \n",
       "20      1.0  \n",
       "16      1.0  \n",
       "59      1.0  \n",
       "72      1.0  \n",
       "9       1.0  "
      ]
     },
     "execution_count": 39,
     "metadata": {},
     "output_type": "execute_result"
    }
   ],
   "source": [
    "video_X_test_enc.head()"
   ]
  },
  {
   "cell_type": "markdown",
   "id": "cf65366a-21a8-40dd-bf7e-278149db5ec4",
   "metadata": {},
   "source": [
    "\n",
    "## Binary variables\n",
    "\n",
    "When a categorical feature has only 2 categories like `Sex` in our example, then the second dummy variable created by one hot encoding can be **completely redundant**. We can drop automatically the first dummy variable for those variables that contain only 2 categories by setting the parameter `drop='if_binary'`. This will ensure that for every binary variable in the dataset, only 1 dummy is created. "
   ]
  },
  {
   "cell_type": "code",
   "execution_count": 72,
   "id": "7a5bf6bb-fb08-42dd-8aae-16dea72a9b3b",
   "metadata": {},
   "outputs": [
    {
     "data": {
      "text/html": [
       "<div>\n",
       "<style scoped>\n",
       "    .dataframe tbody tr th:only-of-type {\n",
       "        vertical-align: middle;\n",
       "    }\n",
       "\n",
       "    .dataframe tbody tr th {\n",
       "        vertical-align: top;\n",
       "    }\n",
       "\n",
       "    .dataframe thead th {\n",
       "        text-align: right;\n",
       "    }\n",
       "</style>\n",
       "<table border=\"1\" class=\"dataframe\">\n",
       "  <thead>\n",
       "    <tr style=\"text-align: right;\">\n",
       "      <th></th>\n",
       "      <th>sex_male</th>\n",
       "      <th>home_yes</th>\n",
       "      <th>math_yes</th>\n",
       "      <th>own_yes</th>\n",
       "    </tr>\n",
       "  </thead>\n",
       "  <tbody>\n",
       "    <tr>\n",
       "      <th>49</th>\n",
       "      <td>1.0</td>\n",
       "      <td>1.0</td>\n",
       "      <td>0.0</td>\n",
       "      <td>1.0</td>\n",
       "    </tr>\n",
       "    <tr>\n",
       "      <th>77</th>\n",
       "      <td>1.0</td>\n",
       "      <td>1.0</td>\n",
       "      <td>0.0</td>\n",
       "      <td>0.0</td>\n",
       "    </tr>\n",
       "    <tr>\n",
       "      <th>36</th>\n",
       "      <td>0.0</td>\n",
       "      <td>1.0</td>\n",
       "      <td>0.0</td>\n",
       "      <td>1.0</td>\n",
       "    </tr>\n",
       "    <tr>\n",
       "      <th>84</th>\n",
       "      <td>0.0</td>\n",
       "      <td>1.0</td>\n",
       "      <td>1.0</td>\n",
       "      <td>0.0</td>\n",
       "    </tr>\n",
       "    <tr>\n",
       "      <th>79</th>\n",
       "      <td>1.0</td>\n",
       "      <td>1.0</td>\n",
       "      <td>0.0</td>\n",
       "      <td>1.0</td>\n",
       "    </tr>\n",
       "  </tbody>\n",
       "</table>\n",
       "</div>"
      ],
      "text/plain": [
       "    sex_male  home_yes  math_yes  own_yes\n",
       "49       1.0       1.0       0.0      1.0\n",
       "77       1.0       1.0       0.0      0.0\n",
       "36       0.0       1.0       0.0      1.0\n",
       "84       0.0       1.0       1.0      0.0\n",
       "79       1.0       1.0       0.0      1.0"
      ]
     },
     "execution_count": 72,
     "metadata": {},
     "output_type": "execute_result"
    }
   ],
   "source": [
    "from sklearn.preprocessing import OneHotEncoder\n",
    "\n",
    "ohe = OneHotEncoder(drop='if_binary', sparse_output=False)  #drop the first category in the feature\n",
    "ohe.fit(video_X_train)\n",
    "video_X_train_enc = ohe.fit_transform(video_X_train)\n",
    "video_X_train_enc.head()"
   ]
  },
  {
   "cell_type": "code",
   "execution_count": 73,
   "id": "b50940ba-88e9-4d03-9b74-c6c0bcae5177",
   "metadata": {},
   "outputs": [
    {
     "data": {
      "text/html": [
       "<div>\n",
       "<style scoped>\n",
       "    .dataframe tbody tr th:only-of-type {\n",
       "        vertical-align: middle;\n",
       "    }\n",
       "\n",
       "    .dataframe tbody tr th {\n",
       "        vertical-align: top;\n",
       "    }\n",
       "\n",
       "    .dataframe thead th {\n",
       "        text-align: right;\n",
       "    }\n",
       "</style>\n",
       "<table border=\"1\" class=\"dataframe\">\n",
       "  <thead>\n",
       "    <tr style=\"text-align: right;\">\n",
       "      <th></th>\n",
       "      <th>sex_male</th>\n",
       "      <th>home_yes</th>\n",
       "      <th>math_yes</th>\n",
       "      <th>own_yes</th>\n",
       "    </tr>\n",
       "  </thead>\n",
       "  <tbody>\n",
       "    <tr>\n",
       "      <th>20</th>\n",
       "      <td>1.0</td>\n",
       "      <td>1.0</td>\n",
       "      <td>0.0</td>\n",
       "      <td>1.0</td>\n",
       "    </tr>\n",
       "    <tr>\n",
       "      <th>16</th>\n",
       "      <td>1.0</td>\n",
       "      <td>1.0</td>\n",
       "      <td>0.0</td>\n",
       "      <td>1.0</td>\n",
       "    </tr>\n",
       "    <tr>\n",
       "      <th>59</th>\n",
       "      <td>0.0</td>\n",
       "      <td>1.0</td>\n",
       "      <td>0.0</td>\n",
       "      <td>1.0</td>\n",
       "    </tr>\n",
       "    <tr>\n",
       "      <th>72</th>\n",
       "      <td>1.0</td>\n",
       "      <td>0.0</td>\n",
       "      <td>1.0</td>\n",
       "      <td>1.0</td>\n",
       "    </tr>\n",
       "    <tr>\n",
       "      <th>9</th>\n",
       "      <td>1.0</td>\n",
       "      <td>1.0</td>\n",
       "      <td>1.0</td>\n",
       "      <td>1.0</td>\n",
       "    </tr>\n",
       "  </tbody>\n",
       "</table>\n",
       "</div>"
      ],
      "text/plain": [
       "    sex_male  home_yes  math_yes  own_yes\n",
       "20       1.0       1.0       0.0      1.0\n",
       "16       1.0       1.0       0.0      1.0\n",
       "59       0.0       1.0       0.0      1.0\n",
       "72       1.0       0.0       1.0      1.0\n",
       "9        1.0       1.0       1.0      1.0"
      ]
     },
     "execution_count": 73,
     "metadata": {},
     "output_type": "execute_result"
    }
   ],
   "source": [
    "video_X_test_enc = ohe.transform(video_X_test) \n",
    "video_X_test_enc.head()"
   ]
  },
  {
   "cell_type": "markdown",
   "id": "ece4cee7-84af-4067-b7e8-2d2a51b03176",
   "metadata": {},
   "source": [
    "## k vs k-1 dummies\n",
    "\n",
    "From a categorical feature with k unique categories, the  [OneHotEncoder](https://scikit-learn.org/stable/modules/generated/sklearn.preprocessing.OneHotEncoder.html) can create **k binary features**, or **alternatively k-1** to **avoid redundant information**. This behaviour can be specified using the parameter `drop=first`. Only k-1 binary variables are necessary to encode all of the information in the original variable. However, there are situations in which we may choose to encode the data into k dummies.\n",
    "\n",
    "Encode into k-1 if training linear models: Linear models evaluate all features during fit, thus, with k-1 they have all information about the original categorical variable.\n",
    "\n",
    "Encode into k if training penalized linear regression or penalized linear classification models, decision trees, or performing feature selection: tree based models and many feature selection algorithms evaluate variables or groups of variables separately. Thus, if encoding into k-1, the first category will not be examined. That is, we lose the information contained in that category."
   ]
  },
  {
   "cell_type": "markdown",
   "id": "0ffb2f46-ed39-45ce-a2b7-9e10118914f2",
   "metadata": {},
   "source": [
    "\n",
    "## Feature space and duplication\n",
    "\n",
    "If the categorical fatures are highly cardinal, we may end up with very big datasets after one hot encoding. In addition, if some of these features are fairly constant or fairly similar, we may end up with one hot encoded features that are highly correlated if not identical."
   ]
  },
  {
   "cell_type": "markdown",
   "id": "e1f2b2a2-f66f-4c6d-864e-81e34b11692a",
   "metadata": {},
   "source": [
    "## Ordinal Variable\n",
    "\n",
    "When there is a **natural ordering between the levels of a categorical feature**, that variable is called as `ordinal variable`. The ordinal features can be encoded via `ordinal encoding`.\n",
    "\n",
    "\n",
    "The `freq` and `grade` features are examples to ordinal variable (note that `freq` has missing values)."
   ]
  },
  {
   "cell_type": "code",
   "execution_count": 42,
   "id": "b79d720a-aeb9-4427-929a-17a045cc8946",
   "metadata": {},
   "outputs": [
    {
     "data": {
      "text/plain": [
       "weekly        28\n",
       "semesterly    23\n",
       "monthly       18\n",
       "daily          9\n",
       "Name: freq, dtype: int64"
      ]
     },
     "execution_count": 42,
     "metadata": {},
     "output_type": "execute_result"
    }
   ],
   "source": [
    "video_df.freq.value_counts()"
   ]
  },
  {
   "cell_type": "code",
   "execution_count": 43,
   "id": "d5d836ec-b884-45ff-8202-98ce8781bc6a",
   "metadata": {},
   "outputs": [
    {
     "data": {
      "text/plain": [
       "B    52\n",
       "A    31\n",
       "C     8\n",
       "Name: grade, dtype: int64"
      ]
     },
     "execution_count": 43,
     "metadata": {},
     "output_type": "execute_result"
    }
   ],
   "source": [
    "video_df.grade.value_counts()"
   ]
  },
  {
   "cell_type": "markdown",
   "id": "5c98d70f-e5e3-4b4d-9bbe-d1076fb1a2ec",
   "metadata": {},
   "source": [
    "## Ordinal Encoding\n",
    "\n",
    "The [OrdinalEncoder](https://scikit-learn.org/stable/modules/generated/sklearn.preprocessing.OrdinalEncoder.html) transformer in scikit-learn replaces the categories by digits, starting from 0 to k-1, where k is the number of different categories. "
   ]
  },
  {
   "cell_type": "code",
   "execution_count": 44,
   "id": "2525c6e8-a5c0-4356-8978-9b8146f8903b",
   "metadata": {},
   "outputs": [],
   "source": [
    "#split the data set\n",
    "import numpy as np\n",
    "import pandas as pd\n",
    "from sklearn.model_selection import train_test_split\n",
    "\n",
    "video_X = video_df[[\"freq\",\"grade\"]] \n",
    "video_y = video_df[[\"time\"]]\n",
    "\n",
    "#Split 90:10\n",
    "video_X_train, video_X_test, video_y_train, video_y_test = train_test_split(video_X, video_y, test_size=0.1, random_state=1300)"
   ]
  },
  {
   "cell_type": "code",
   "execution_count": 45,
   "id": "4e736910-255a-424e-ba0d-dc6d634dbe6b",
   "metadata": {},
   "outputs": [
    {
     "data": {
      "text/plain": [
       "weekly        27\n",
       "semesterly    21\n",
       "monthly       15\n",
       "daily          7\n",
       "Name: freq, dtype: int64"
      ]
     },
     "execution_count": 45,
     "metadata": {},
     "output_type": "execute_result"
    }
   ],
   "source": [
    "video_X_train.freq.value_counts()"
   ]
  },
  {
   "cell_type": "code",
   "execution_count": 46,
   "id": "b8e081bf-7e97-4bfc-ae2a-0bfcb37a5f73",
   "metadata": {},
   "outputs": [
    {
     "data": {
      "text/plain": [
       "B    48\n",
       "A    27\n",
       "C     6\n",
       "Name: grade, dtype: int64"
      ]
     },
     "execution_count": 46,
     "metadata": {},
     "output_type": "execute_result"
    }
   ],
   "source": [
    "video_X_train.grade.value_counts()"
   ]
  },
  {
   "cell_type": "code",
   "execution_count": 47,
   "id": "832717c8-d1a6-420a-ada9-9a71cc3a6dbd",
   "metadata": {},
   "outputs": [],
   "source": [
    "#encode ordinal variables (note that one of them is missing)\n",
    "from sklearn import set_config\n",
    "set_config(transform_output=\"pandas\")  #available in sckit-learn 1.2.1 #othwerwise transforms return numpy arrays, we lose column names\n",
    "\n",
    "from sklearn.preprocessing import OrdinalEncoder\n",
    "\n",
    "#assign specific labels to each level for each feature\n",
    "\n",
    "freq_cat = [\"daily\", \"weekly\", \"monthly\", \"semesterly\"] #0,1,2,3\n",
    "grade_cat = [\"C\",\"B\",\"A\"] #0,1,2   #run if you want specific assignment for each level\n",
    "\n",
    "#if you have missing values, be careful\n",
    "enc = OrdinalEncoder(categories=[freq_cat, grade_cat], handle_unknown='use_encoded_value', unknown_value=np.nan) \n",
    "#enc = OrdinalEncoder()\n",
    "video_X_train_enc = enc.fit_transform(video_X_train)"
   ]
  },
  {
   "cell_type": "code",
   "execution_count": 48,
   "id": "8601250f-ebc5-4bd7-b7e0-80d50b8e3385",
   "metadata": {},
   "outputs": [
    {
     "data": {
      "text/plain": [
       "[array(['daily', 'weekly', 'monthly', 'semesterly'], dtype=object),\n",
       " array(['C', 'B', 'A'], dtype=object)]"
      ]
     },
     "execution_count": 48,
     "metadata": {},
     "output_type": "execute_result"
    }
   ],
   "source": [
    "# see the encoded categories\n",
    "enc.categories_"
   ]
  },
  {
   "cell_type": "code",
   "execution_count": 49,
   "id": "491cac3c-4a74-4c5c-8d76-84828b728537",
   "metadata": {},
   "outputs": [
    {
     "data": {
      "text/plain": [
       "1.0    27\n",
       "3.0    21\n",
       "2.0    15\n",
       "0.0     7\n",
       "Name: freq, dtype: int64"
      ]
     },
     "execution_count": 49,
     "metadata": {},
     "output_type": "execute_result"
    }
   ],
   "source": [
    "video_X_train_enc.freq.value_counts()"
   ]
  },
  {
   "cell_type": "code",
   "execution_count": 50,
   "id": "cd3f00c3-0d51-4ed5-b102-831273d7f1ef",
   "metadata": {},
   "outputs": [
    {
     "data": {
      "text/plain": [
       "1.0    48\n",
       "2.0    27\n",
       "0.0     6\n",
       "Name: grade, dtype: int64"
      ]
     },
     "execution_count": 50,
     "metadata": {},
     "output_type": "execute_result"
    }
   ],
   "source": [
    "video_X_train_enc.grade.value_counts()"
   ]
  },
  {
   "cell_type": "code",
   "execution_count": 51,
   "id": "b56415f9-7be8-4fb0-90e9-9b78ce6767f8",
   "metadata": {},
   "outputs": [
    {
     "data": {
      "text/html": [
       "<div>\n",
       "<style scoped>\n",
       "    .dataframe tbody tr th:only-of-type {\n",
       "        vertical-align: middle;\n",
       "    }\n",
       "\n",
       "    .dataframe tbody tr th {\n",
       "        vertical-align: top;\n",
       "    }\n",
       "\n",
       "    .dataframe thead th {\n",
       "        text-align: right;\n",
       "    }\n",
       "</style>\n",
       "<table border=\"1\" class=\"dataframe\">\n",
       "  <thead>\n",
       "    <tr style=\"text-align: right;\">\n",
       "      <th></th>\n",
       "      <th>freq</th>\n",
       "      <th>grade</th>\n",
       "    </tr>\n",
       "  </thead>\n",
       "  <tbody>\n",
       "    <tr>\n",
       "      <th>20</th>\n",
       "      <td>1.0</td>\n",
       "      <td>2.0</td>\n",
       "    </tr>\n",
       "    <tr>\n",
       "      <th>16</th>\n",
       "      <td>3.0</td>\n",
       "      <td>2.0</td>\n",
       "    </tr>\n",
       "    <tr>\n",
       "      <th>59</th>\n",
       "      <td>0.0</td>\n",
       "      <td>0.0</td>\n",
       "    </tr>\n",
       "    <tr>\n",
       "      <th>72</th>\n",
       "      <td>NaN</td>\n",
       "      <td>1.0</td>\n",
       "    </tr>\n",
       "    <tr>\n",
       "      <th>9</th>\n",
       "      <td>3.0</td>\n",
       "      <td>2.0</td>\n",
       "    </tr>\n",
       "  </tbody>\n",
       "</table>\n",
       "</div>"
      ],
      "text/plain": [
       "    freq  grade\n",
       "20   1.0    2.0\n",
       "16   3.0    2.0\n",
       "59   0.0    0.0\n",
       "72   NaN    1.0\n",
       "9    3.0    2.0"
      ]
     },
     "execution_count": 51,
     "metadata": {},
     "output_type": "execute_result"
    }
   ],
   "source": [
    "video_X_test_enc = enc.transform(video_X_test)\n",
    "video_X_test_enc.head() #see Nans are not treated"
   ]
  },
  {
   "cell_type": "code",
   "execution_count": 52,
   "id": "9a6113e2-f0e8-4b69-8bcb-f9de485a36e3",
   "metadata": {},
   "outputs": [],
   "source": [
    "#you can combine imputation with encoding through pipelines\n",
    "\n",
    "from sklearn import set_config\n",
    "set_config(transform_output=\"pandas\")  #available in sckit-learn 1.2.1 #othwerwise transforms return numpy arrays, we lose column names\n",
    "\n",
    "from sklearn.pipeline import make_pipeline\n",
    "from sklearn.impute import SimpleImputer\n",
    "from sklearn.preprocessing import OrdinalEncoder\n",
    "from sklearn.linear_model import LinearRegression\n",
    "\n",
    "pipe = make_pipeline(\n",
    "    SimpleImputer(strategy=\"most_frequent\"),  #categorical variable\n",
    "    OrdinalEncoder(), \n",
    "    LinearRegression()\n",
    ")"
   ]
  },
  {
   "cell_type": "code",
   "execution_count": 53,
   "id": "52a3662c-b532-4e29-8ef9-ae53bbab02f1",
   "metadata": {},
   "outputs": [
    {
     "data": {
      "text/html": [
       "<style>#sk-container-id-4 {color: black;}#sk-container-id-4 pre{padding: 0;}#sk-container-id-4 div.sk-toggleable {background-color: white;}#sk-container-id-4 label.sk-toggleable__label {cursor: pointer;display: block;width: 100%;margin-bottom: 0;padding: 0.3em;box-sizing: border-box;text-align: center;}#sk-container-id-4 label.sk-toggleable__label-arrow:before {content: \"▸\";float: left;margin-right: 0.25em;color: #696969;}#sk-container-id-4 label.sk-toggleable__label-arrow:hover:before {color: black;}#sk-container-id-4 div.sk-estimator:hover label.sk-toggleable__label-arrow:before {color: black;}#sk-container-id-4 div.sk-toggleable__content {max-height: 0;max-width: 0;overflow: hidden;text-align: left;background-color: #f0f8ff;}#sk-container-id-4 div.sk-toggleable__content pre {margin: 0.2em;color: black;border-radius: 0.25em;background-color: #f0f8ff;}#sk-container-id-4 input.sk-toggleable__control:checked~div.sk-toggleable__content {max-height: 200px;max-width: 100%;overflow: auto;}#sk-container-id-4 input.sk-toggleable__control:checked~label.sk-toggleable__label-arrow:before {content: \"▾\";}#sk-container-id-4 div.sk-estimator input.sk-toggleable__control:checked~label.sk-toggleable__label {background-color: #d4ebff;}#sk-container-id-4 div.sk-label input.sk-toggleable__control:checked~label.sk-toggleable__label {background-color: #d4ebff;}#sk-container-id-4 input.sk-hidden--visually {border: 0;clip: rect(1px 1px 1px 1px);clip: rect(1px, 1px, 1px, 1px);height: 1px;margin: -1px;overflow: hidden;padding: 0;position: absolute;width: 1px;}#sk-container-id-4 div.sk-estimator {font-family: monospace;background-color: #f0f8ff;border: 1px dotted black;border-radius: 0.25em;box-sizing: border-box;margin-bottom: 0.5em;}#sk-container-id-4 div.sk-estimator:hover {background-color: #d4ebff;}#sk-container-id-4 div.sk-parallel-item::after {content: \"\";width: 100%;border-bottom: 1px solid gray;flex-grow: 1;}#sk-container-id-4 div.sk-label:hover label.sk-toggleable__label {background-color: #d4ebff;}#sk-container-id-4 div.sk-serial::before {content: \"\";position: absolute;border-left: 1px solid gray;box-sizing: border-box;top: 0;bottom: 0;left: 50%;z-index: 0;}#sk-container-id-4 div.sk-serial {display: flex;flex-direction: column;align-items: center;background-color: white;padding-right: 0.2em;padding-left: 0.2em;position: relative;}#sk-container-id-4 div.sk-item {position: relative;z-index: 1;}#sk-container-id-4 div.sk-parallel {display: flex;align-items: stretch;justify-content: center;background-color: white;position: relative;}#sk-container-id-4 div.sk-item::before, #sk-container-id-4 div.sk-parallel-item::before {content: \"\";position: absolute;border-left: 1px solid gray;box-sizing: border-box;top: 0;bottom: 0;left: 50%;z-index: -1;}#sk-container-id-4 div.sk-parallel-item {display: flex;flex-direction: column;z-index: 1;position: relative;background-color: white;}#sk-container-id-4 div.sk-parallel-item:first-child::after {align-self: flex-end;width: 50%;}#sk-container-id-4 div.sk-parallel-item:last-child::after {align-self: flex-start;width: 50%;}#sk-container-id-4 div.sk-parallel-item:only-child::after {width: 0;}#sk-container-id-4 div.sk-dashed-wrapped {border: 1px dashed gray;margin: 0 0.4em 0.5em 0.4em;box-sizing: border-box;padding-bottom: 0.4em;background-color: white;}#sk-container-id-4 div.sk-label label {font-family: monospace;font-weight: bold;display: inline-block;line-height: 1.2em;}#sk-container-id-4 div.sk-label-container {text-align: center;}#sk-container-id-4 div.sk-container {/* jupyter's `normalize.less` sets `[hidden] { display: none; }` but bootstrap.min.css set `[hidden] { display: none !important; }` so we also need the `!important` here to be able to override the default hidden behavior on the sphinx rendered scikit-learn.org. See: https://github.com/scikit-learn/scikit-learn/issues/21755 */display: inline-block !important;position: relative;}#sk-container-id-4 div.sk-text-repr-fallback {display: none;}</style><div id=\"sk-container-id-4\" class=\"sk-top-container\"><div class=\"sk-text-repr-fallback\"><pre>Pipeline(steps=[(&#x27;simpleimputer&#x27;, SimpleImputer(strategy=&#x27;most_frequent&#x27;)),\n",
       "                (&#x27;ordinalencoder&#x27;, OrdinalEncoder()),\n",
       "                (&#x27;linearregression&#x27;, LinearRegression())])</pre><b>In a Jupyter environment, please rerun this cell to show the HTML representation or trust the notebook. <br />On GitHub, the HTML representation is unable to render, please try loading this page with nbviewer.org.</b></div><div class=\"sk-container\" hidden><div class=\"sk-item sk-dashed-wrapped\"><div class=\"sk-label-container\"><div class=\"sk-label sk-toggleable\"><input class=\"sk-toggleable__control sk-hidden--visually\" id=\"sk-estimator-id-7\" type=\"checkbox\" ><label for=\"sk-estimator-id-7\" class=\"sk-toggleable__label sk-toggleable__label-arrow\">Pipeline</label><div class=\"sk-toggleable__content\"><pre>Pipeline(steps=[(&#x27;simpleimputer&#x27;, SimpleImputer(strategy=&#x27;most_frequent&#x27;)),\n",
       "                (&#x27;ordinalencoder&#x27;, OrdinalEncoder()),\n",
       "                (&#x27;linearregression&#x27;, LinearRegression())])</pre></div></div></div><div class=\"sk-serial\"><div class=\"sk-item\"><div class=\"sk-estimator sk-toggleable\"><input class=\"sk-toggleable__control sk-hidden--visually\" id=\"sk-estimator-id-8\" type=\"checkbox\" ><label for=\"sk-estimator-id-8\" class=\"sk-toggleable__label sk-toggleable__label-arrow\">SimpleImputer</label><div class=\"sk-toggleable__content\"><pre>SimpleImputer(strategy=&#x27;most_frequent&#x27;)</pre></div></div></div><div class=\"sk-item\"><div class=\"sk-estimator sk-toggleable\"><input class=\"sk-toggleable__control sk-hidden--visually\" id=\"sk-estimator-id-9\" type=\"checkbox\" ><label for=\"sk-estimator-id-9\" class=\"sk-toggleable__label sk-toggleable__label-arrow\">OrdinalEncoder</label><div class=\"sk-toggleable__content\"><pre>OrdinalEncoder()</pre></div></div></div><div class=\"sk-item\"><div class=\"sk-estimator sk-toggleable\"><input class=\"sk-toggleable__control sk-hidden--visually\" id=\"sk-estimator-id-10\" type=\"checkbox\" ><label for=\"sk-estimator-id-10\" class=\"sk-toggleable__label sk-toggleable__label-arrow\">LinearRegression</label><div class=\"sk-toggleable__content\"><pre>LinearRegression()</pre></div></div></div></div></div></div></div>"
      ],
      "text/plain": [
       "Pipeline(steps=[('simpleimputer', SimpleImputer(strategy='most_frequent')),\n",
       "                ('ordinalencoder', OrdinalEncoder()),\n",
       "                ('linearregression', LinearRegression())])"
      ]
     },
     "execution_count": 53,
     "metadata": {},
     "output_type": "execute_result"
    }
   ],
   "source": [
    "pipe.fit(video_X_train, video_y_train)"
   ]
  },
  {
   "cell_type": "code",
   "execution_count": 54,
   "id": "c041d478-0530-4e6c-a337-d15d4817c07d",
   "metadata": {},
   "outputs": [
    {
     "data": {
      "text/plain": [
       "array([[1.37695074],\n",
       "       [1.23541891],\n",
       "       [0.71093132],\n",
       "       [1.25623876],\n",
       "       [1.23541891],\n",
       "       [0.83164329],\n",
       "       [0.97317512],\n",
       "       [0.85246314],\n",
       "       [1.37695074],\n",
       "       [0.97317512]])"
      ]
     },
     "execution_count": 54,
     "metadata": {},
     "output_type": "execute_result"
    }
   ],
   "source": [
    "pipe.predict(video_X_test)"
   ]
  },
  {
   "cell_type": "code",
   "execution_count": 55,
   "id": "2dcd0bae-d16a-43ff-912c-3f23d1e9b646",
   "metadata": {},
   "outputs": [
    {
     "name": "stdout",
     "output_type": "stream",
     "text": [
      "Test R2 on test data: -0.10\n"
     ]
    }
   ],
   "source": [
    "#linear model is not a good model for this data. for that reason r2 is close to zero. no worries\n",
    "print('Test R2 on test data: %.2f' % pipe.score(video_X_test, video_y_test)) "
   ]
  },
  {
   "cell_type": "markdown",
   "id": "bb060e09-b2bf-49e3-aea4-6f1597031b3a",
   "metadata": {},
   "source": [
    "## Ordinal Encoding with many categories\n",
    "\n",
    "- Do we have enough data for rare categories to learn anything meaningful?\n",
    "\n",
    "- How about grouping them into bigger categories?\n",
    "\n",
    "  - Example: country names into continents such as “South America” or “Asia”\n",
    "\n",
    "- Or having “other” category for rare cases?"
   ]
  },
  {
   "cell_type": "markdown",
   "id": "07a784d3-1196-481b-b001-4844c0bb5bc0",
   "metadata": {},
   "source": [
    "## Problem\n",
    "\n",
    "\n",
    "Now, we would like to apply different transformations on different columns:\n",
    "\n",
    "- Numeric columns:\n",
    "\n",
    "  - imputation and\n",
    "  - scaling\n",
    "\n",
    "- Nominal categorical columns:\n",
    "\n",
    "  - imputation and\n",
    "  - one-hot encoding\n",
    "\n",
    "- Ordinal categorical columns:\n",
    "\n",
    "  - imputation and\n",
    "  - ordinal encoding\n",
    "  \n",
    "  \n",
    "How can we apply these on the data before fitting the regressor? "
   ]
  },
  {
   "cell_type": "markdown",
   "id": "8e640215-7567-41d8-aca8-eba0fd9ff9dc",
   "metadata": {},
   "source": [
    "## References\n",
    "\n",
    "- https://scikit-learn.org/stable/auto_examples/miscellaneous/plot_estimator_representation.html#sphx-glr-auto-examples-miscellaneous-plot-estimator-representation-py\n",
    "- https://datascience.stackexchange.com/questions/72343/encoding-with-ordinalencoder-how-to-give-levels-as-user-input\n",
    "- https://stats.stackexchange.com/questions/231285/dropping-one-of-the-columns-when-using-one-hot-encoding?noredirect=1&lq=1\n",
    "- https://www.kaggle.com/discussions/getting-started/114797\n",
    "- https://datascience.stackexchange.com/questions/107714/encoding-before-vs-after-train-test-split\n",
    "- https://feature-engine.trainindata.com/en/1.3.x/user_guide/encoding/OneHotEncoder.html"
   ]
  },
  {
   "cell_type": "code",
   "execution_count": 56,
   "id": "ff579b89-163e-4223-8e4b-915163dc35ba",
   "metadata": {},
   "outputs": [
    {
     "data": {
      "text/html": [
       "<details>\n",
       "<summary>Click to view session information</summary>\n",
       "<pre>\n",
       "-----\n",
       "numpy               1.23.5\n",
       "pandas              1.3.5\n",
       "session_info        1.0.0\n",
       "sklearn             1.3.1\n",
       "-----\n",
       "</pre>\n",
       "<details>\n",
       "<summary>Click to view modules imported as dependencies</summary>\n",
       "<pre>\n",
       "anyio                       NA\n",
       "appnope                     0.1.2\n",
       "attr                        21.4.0\n",
       "babel                       2.9.1\n",
       "backcall                    0.2.0\n",
       "bottleneck                  1.3.2\n",
       "brotli                      1.0.9\n",
       "certifi                     2021.10.08\n",
       "chardet                     4.0.0\n",
       "charset_normalizer          2.0.4\n",
       "colorama                    0.4.4\n",
       "cython_runtime              NA\n",
       "dateutil                    2.8.2\n",
       "debugpy                     1.5.1\n",
       "decorator                   5.1.1\n",
       "entrypoints                 0.3\n",
       "google                      NA\n",
       "idna                        3.3\n",
       "importlib_metadata          NA\n",
       "ipykernel                   6.4.1\n",
       "ipython_genutils            0.2.0\n",
       "jedi                        0.18.1\n",
       "jinja2                      2.11.3\n",
       "joblib                      1.2.0\n",
       "json5                       NA\n",
       "jsonschema                  3.2.0\n",
       "jupyter_server              1.4.1\n",
       "jupyterlab_server           2.10.2\n",
       "lz4                         4.0.0\n",
       "markupsafe                  1.1.1\n",
       "mpl_toolkits                NA\n",
       "nbclassic                   NA\n",
       "nbformat                    5.1.3\n",
       "numexpr                     2.8.1\n",
       "packaging                   21.3\n",
       "parso                       0.8.3\n",
       "pexpect                     4.8.0\n",
       "pickleshare                 0.7.5\n",
       "pkg_resources               NA\n",
       "prometheus_client           NA\n",
       "prompt_toolkit              3.0.20\n",
       "psutil                      5.8.0\n",
       "ptyprocess                  0.7.0\n",
       "pvectorc                    NA\n",
       "pydev_ipython               NA\n",
       "pydevconsole                NA\n",
       "pydevd                      2.6.0\n",
       "pydevd_concurrency_analyser NA\n",
       "pydevd_file_utils           NA\n",
       "pydevd_plugins              NA\n",
       "pydevd_tracing              NA\n",
       "pygments                    2.11.2\n",
       "pyrsistent                  NA\n",
       "pytz                        2021.3\n",
       "requests                    2.27.1\n",
       "scipy                       1.10.1\n",
       "send2trash                  NA\n",
       "setuptools                  67.8.0\n",
       "simplejson                  3.19.1\n",
       "six                         1.16.0\n",
       "sniffio                     1.2.0\n",
       "socks                       1.7.1\n",
       "sphinxcontrib               NA\n",
       "storemagic                  NA\n",
       "threadpoolctl               3.1.0\n",
       "tornado                     6.1\n",
       "traitlets                   5.1.1\n",
       "typing_extensions           NA\n",
       "uritemplate                 4.1.1\n",
       "urllib3                     1.26.8\n",
       "wcwidth                     0.2.5\n",
       "zipp                        NA\n",
       "zmq                         22.3.0\n",
       "zope                        NA\n",
       "</pre>\n",
       "</details> <!-- seems like this ends pre, so might as well be explicit -->\n",
       "<pre>\n",
       "-----\n",
       "IPython             7.31.1\n",
       "jupyter_client      6.1.12\n",
       "jupyter_core        4.9.1\n",
       "jupyterlab          3.2.1\n",
       "notebook            6.4.6\n",
       "-----\n",
       "Python 3.8.8 (default, Apr 13 2021, 12:59:45) [Clang 10.0.0 ]\n",
       "macOS-10.15.7-x86_64-i386-64bit\n",
       "-----\n",
       "Session information updated at 2023-10-18 19:37\n",
       "</pre>\n",
       "</details>"
      ],
      "text/plain": [
       "<IPython.core.display.HTML object>"
      ]
     },
     "execution_count": 56,
     "metadata": {},
     "output_type": "execute_result"
    }
   ],
   "source": [
    "import session_info\n",
    "session_info.show()"
   ]
  }
 ],
 "metadata": {
  "kernelspec": {
   "display_name": "Python 3 (ipykernel)",
   "language": "python",
   "name": "python3"
  },
  "language_info": {
   "codemirror_mode": {
    "name": "ipython",
    "version": 3
   },
   "file_extension": ".py",
   "mimetype": "text/x-python",
   "name": "python",
   "nbconvert_exporter": "python",
   "pygments_lexer": "ipython3",
   "version": "3.8.8"
  }
 },
 "nbformat": 4,
 "nbformat_minor": 5
}
