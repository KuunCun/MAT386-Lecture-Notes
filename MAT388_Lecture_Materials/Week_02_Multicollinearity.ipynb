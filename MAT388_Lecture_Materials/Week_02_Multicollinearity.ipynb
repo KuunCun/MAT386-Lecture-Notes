{
 "cells": [
  {
   "cell_type": "markdown",
   "id": "78d93849-1e20-44c7-bcc2-da4d2746ec0d",
   "metadata": {
    "tags": []
   },
   "source": [
    "<left><img width=100% height=100% src=\"img/itu_logo.png\"></left>\n",
    "\n",
    "## Lecture 02: Multicollinearity\n",
    "\n",
    "### __Gül İnan__<br><br>Istanbul Technical University"
   ]
  },
  {
   "cell_type": "markdown",
   "id": "6019fffd-17ba-4609-b5c8-f8e50f9f15dc",
   "metadata": {},
   "source": [
    "## Multicollinearity\n",
    "\n",
    "Remember that we defined the `multiple linear regression model` in the **matrix form**:\n",
    "\n",
    "\n",
    "\\begin{equation}\n",
    "\\mathbf{y}=\\mathbf{X}\\boldsymbol{\\theta} + \\boldsymbol{\\epsilon}, \\nonumber\n",
    "\\end{equation}\n",
    "\n",
    "where $\\textbf{y} \\in \\mathbb{R}^{n \\times 1}$, $\\textbf{X} \\in \\mathbb{R}^{n \\times (d+1)}$, $\\boldsymbol{\\theta} \\in \\mathbb{R}^{(d+1) \\times 1}$, and  $\\boldsymbol{\\epsilon} \\in \\mathbb{R}^{n \\times 1}$.\n",
    "\n",
    "Regression models are used for a wide variety of applications. However, a serious problem\n",
    "that may dramatically impact the usefulness of a regression model is `near-linear dependence among the feature variables`, in other words, `multicollinearity`. \n",
    "\n",
    "\n",
    "For now, let's omit (ignore) the first column of $\\textbf{X}$ (e.g., the column of 1's):\n",
    "\n",
    "$$\n",
    "\\textbf{X} = \\begin{bmatrix}\n",
    "x_{11} & \\ldots & x_{1j} & \\ldots & x_{1d} \\\\\n",
    "x_{21} & \\ldots & x_{2j} & \\ldots & x_{2d} \\\\\n",
    "\\vdots & \\vdots &    \\vdots    &  \\vdots      &  \\vdots\\\\\n",
    "x_{n1} & \\ldots & x_{nj} & \\ldots & x_{nd} \\\\\n",
    "\\end{bmatrix}=[\\mathbf{X}_1,\\ldots, \\mathbf{X}_j, \\ldots, \\mathbf{X}_d],\n",
    "$$\n",
    "\n",
    "and let $j$th column of $\\mathbf{X}$ feature matrix denoted by $\\mathbf{X}_j$ so that $\\mathbf{X}=[\\mathbf{X}_1,\\ldots, \\mathbf{X}_j, \\ldots, \\mathbf{X}_d]$. Thus, the column vector $\\mathbf{X}_j$ contains the $n$ levels of the $j$th feature.\n",
    "\n",
    "We may formally define `perfect multicollinearity` in terms of the `linear dependence of the columns` of $\\textbf{X}$. The vectors $\\mathbf{X}_1, \\mathbf{X}_2, \\ldots, \\mathbf{X}_d$ are `linearly dependent`  if there exist scalars $a_{1},a_{2}, \\ldots,a_{d}$, not all zero, such that:\n",
    "\n",
    "$$\n",
    "a_{1}\\cdot \\mathbf{X}_1 + a_{2}\\cdot \\mathbf{X}_2 + \\ldots + a_{j}\\cdot\\mathbf{X}_j+ \\ldots+ a_{d}\\cdot\\mathbf{X}_d = \\mathbf{0}.\n",
    "$$\n",
    "\n",
    "This implies that at least one of the scalars is non-zero, say $a_{1} \\neq 0$, and the above equation is able to be written as:\n",
    "\n",
    "$$\n",
    "\\mathbf{X}_1 = \\frac{-a_{2}}{a_{1}} \\cdot \\mathbf{X}_2 + \\ldots  +\\frac{-a_{j}}{a_{1}}\\cdot\\mathbf{X}_j+ \\ldots+ \\frac{-a_{d}}{a_{1}}\\cdot\\mathbf{X}_d,\n",
    "$$\n",
    "\n",
    "for $d>1$. Thus, a set of vectors is linearly dependent if and only if one of them is a **linear combination of the others**. The vectors $\\mathbf{X}_1, \\mathbf{X}_2, \\ldots, \\mathbf{X}_d$ are said to be `linearly independent` if they are not linearly dependent, that is, if the equation:\n",
    "\n",
    "$$\n",
    "a_{1}\\cdot \\mathbf{X}_1 + a_{2}\\cdot \\mathbf{X}_2 + \\ldots + a_{j}\\cdot\\mathbf{X}_j+ \\ldots+ a_{d}\\cdot\\mathbf{X}_d = \\mathbf{0}.\n",
    "$$\n",
    "\n",
    "can only be satisfied by $a_{j}=0$ for $i=1,2,\\ldots,n$. This implies that no vector in can be represented as a linear combination of the remaining vectors.\n",
    "\n",
    "If the equation (4) above **holds exactly** for a subset of the columns of $\\mathbf{X}$, then the column rank of $\\mathbf{X}$ will be less than $d$, and, in turn, the rank of the $d \\times d$ symmetric $\\mathbf{X^TX}$\n",
    "matrix will be less than $d$. This implies that at least one of the eigenvalues of $\\mathbf{X}^{T}\\mathbf{X}$ is equal to zero, then the determinant of the matrix $\\mathbf{X}^{T}\\mathbf{X}$ is 0 and it is singular.  Therefore the square matrix $\\mathbf{X}^{T}\\mathbf{X}$ cannot be inverted ($\\mathbf{X^TX}^{-1}$ does not exist). \n",
    "\n",
    "However, suppose that the equation (4) is\n",
    "**approximately true for some subset of the columns** of $\\mathbf{X}$. Then there will be a `near-linear dependency` in the columns of $\\mathbf{X}$ and the problem of `multicollinearity` is said to exist. When multicollinearity is present, \n",
    "the column rank of $\\mathbf{X}$ and, in turn, the rank of $\\mathbf{X}^{T}\\mathbf{X}$ is still $d$, but some of the eigenvalues of $\\mathbf{X^TX}$\n",
    "will be very small, hence the determinant of the matrix $\\mathbf{X}^{T}\\mathbf{X}$ will be close to 0 (almost singular).\n",
    "Thus, the matrix $\\mathbf{X^TX}$ matrix will be `ill-conditioned`. \n",
    "\n",
    "When the determinant of matrix $\\mathbf{X}^{T}\\mathbf{X}$ is close to zero, the elements of the inverse matrix $(\\mathbf{X}^{T}\\mathbf{X})^{-1}$ get very large in magnitude.\n",
    "\n",
    "## Effects of Multicollinearity\n",
    "\n",
    "Multicollinearity tends to produce least-squares estimates $\\hat{\\boldsymbol{\\theta}}_{OLS}=(\\mathbf{X}^{T}\\mathbf{X})^{-1}\\mathbf{X}^{T}\\mathbf{Y}$ that are **too\n",
    "large in absolute value** (and **large standard errors**). \n",
    "\n",
    "However, the fitted model may still produce satisfactory predictions. This can occur because the linear\n",
    "combination $\\sum_{j=0}^d \\theta_j \\cdot x_{ij}=\\boldsymbol{\\theta}^\\top \\textbf{x}_i$ may be estimated quite well, even though the individual\n",
    "parameters $\\theta_j$ are estimated poorly. \n",
    "\n",
    "## Multicollinearity Diagnostics\n",
    "\n",
    "Several techniques have been proposed for detecting multicollinearity. We will now\n",
    "discuss and illustrate some of these diagnostic measures. Desirable characteristics\n",
    "of a diagnostic procedure are that it directly reflect the degree of the multicollinearity\n",
    "problem and provide information helpful in determining which features are\n",
    "involved multicollinearity.\n",
    "\n",
    "### Examination of the Correlation Matrix\n",
    "\n",
    "A first simple measure of multicollinearity is inspection of the off-diagonal elements of the symmetric `sample correlation matrix`\n",
    "$\\textbf{R}  \\in \\mathbb{R}^{d \\times d}$ which measures the `sample correlation coefficient` between $d$ **numerical features**:\n",
    "\n",
    "\n",
    "$$ \n",
    "\\textbf{R} = \\begin{bmatrix}\n",
    "1 & r_{12} & \\ldots & r_{1d} \\\\\n",
    "r_{12} & 1 & \\ldots & r_{2d} \\\\\n",
    "\\vdots  &    \\vdots    &  \\vdots      &  \\vdots\\\\\n",
    "r_{1d} & r_{2d} & \\ldots & 1 \n",
    "\\end{bmatrix},\n",
    "$$\n",
    "\n",
    "where the `sample correlation coefficient` between two numerical features $\\mathbf{X}_j$ and $\\mathbf{X}_{j*}$ is defined through:\n",
    "\n",
    "$$\n",
    "r_{jj*}=\\frac{\\sum_{i}^{n}(x_{ij}-\\bar{x}_j)(x_{ij*}-\\bar{x}_{j*})}{\\sqrt{\\big(\\sum_{i}^{n}(x_{ij}-\\bar{x}_j)^2\\sum_{i}^{n}(x_{ij*}-\\bar{x}_{j*})^2\\big)}}, \n",
    "$$ \n",
    "\n",
    "\n",
    "for $j=1,2,\\ldots,d$ and $j*=1,2,\\ldots,d$, $\\bar{x}_j=\\sum_{i=1}^{n}\\frac{x_{ij}}{n}$ and $\\bar{x}_{j*}=\\sum_{i=1}^{n}\\frac{x_{ij*}}{n}$. The correlation measures **linear association** between two numerical features and it falls between -1 and 1 ($-1 \\leq r_{jj*} \\leq 1$). If features $\\mathbf{X}_j$ and $\\mathbf{X}_{j*}$ are nearly **linearly dependent**, then $|r_{jj*}|$ will be **near unity**."
   ]
  },
  {
   "cell_type": "markdown",
   "id": "2711939e-6674-4e09-be1a-c884224eeac2",
   "metadata": {},
   "source": [
    "## Property Valuation Data\n",
    "\n",
    "This data frame contains the following columns:\n",
    "\n",
    "- $y$: Sale price of the house/1000\n",
    "- $x1$ : Taxes (local, school, county)/1000\n",
    "- $x2$ : Number of baths\n",
    "- $x3$ : Lot size (sq ft × 1000)\n",
    "- $x4$ : Living space (sq ft × 1000)\n",
    "- $x5$ : Number of garage stalls\n",
    "- $x6$ : Number of rooms\n",
    "- $x7$ : Number of bedrooms\n",
    "- $x8$ : Age of the home (years)\n",
    "- $x9$ : Number of fireplaces"
   ]
  },
  {
   "cell_type": "code",
   "execution_count": 1,
   "id": "c0c88c83-7baa-4a7a-9ebd-a937a81a3d28",
   "metadata": {
    "ExecuteTime": {
     "end_time": "2023-10-19T15:47:17.686857388Z",
     "start_time": "2023-10-19T15:47:17.674024822Z"
    }
   },
   "outputs": [
    {
     "data": {
      "text/plain": "      y   x1   x2   x3   x4  x5  x6  x7  x8  x9\n0  25.9  4.9  1.0  3.5  1.0   1   7   4  42   0\n1  29.5  5.0  1.0  3.5  1.5   2   7   4  62   0\n2  27.9  4.5  1.0  2.3  1.2   1   6   3  40   0\n3  25.9  4.6  1.0  4.1  1.2   1   6   3  54   0\n4  29.9  5.1  1.0  4.5  1.1   1   6   3  42   0",
      "text/html": "<div>\n<style scoped>\n    .dataframe tbody tr th:only-of-type {\n        vertical-align: middle;\n    }\n\n    .dataframe tbody tr th {\n        vertical-align: top;\n    }\n\n    .dataframe thead th {\n        text-align: right;\n    }\n</style>\n<table border=\"1\" class=\"dataframe\">\n  <thead>\n    <tr style=\"text-align: right;\">\n      <th></th>\n      <th>y</th>\n      <th>x1</th>\n      <th>x2</th>\n      <th>x3</th>\n      <th>x4</th>\n      <th>x5</th>\n      <th>x6</th>\n      <th>x7</th>\n      <th>x8</th>\n      <th>x9</th>\n    </tr>\n  </thead>\n  <tbody>\n    <tr>\n      <th>0</th>\n      <td>25.9</td>\n      <td>4.9</td>\n      <td>1.0</td>\n      <td>3.5</td>\n      <td>1.0</td>\n      <td>1</td>\n      <td>7</td>\n      <td>4</td>\n      <td>42</td>\n      <td>0</td>\n    </tr>\n    <tr>\n      <th>1</th>\n      <td>29.5</td>\n      <td>5.0</td>\n      <td>1.0</td>\n      <td>3.5</td>\n      <td>1.5</td>\n      <td>2</td>\n      <td>7</td>\n      <td>4</td>\n      <td>62</td>\n      <td>0</td>\n    </tr>\n    <tr>\n      <th>2</th>\n      <td>27.9</td>\n      <td>4.5</td>\n      <td>1.0</td>\n      <td>2.3</td>\n      <td>1.2</td>\n      <td>1</td>\n      <td>6</td>\n      <td>3</td>\n      <td>40</td>\n      <td>0</td>\n    </tr>\n    <tr>\n      <th>3</th>\n      <td>25.9</td>\n      <td>4.6</td>\n      <td>1.0</td>\n      <td>4.1</td>\n      <td>1.2</td>\n      <td>1</td>\n      <td>6</td>\n      <td>3</td>\n      <td>54</td>\n      <td>0</td>\n    </tr>\n    <tr>\n      <th>4</th>\n      <td>29.9</td>\n      <td>5.1</td>\n      <td>1.0</td>\n      <td>4.5</td>\n      <td>1.1</td>\n      <td>1</td>\n      <td>6</td>\n      <td>3</td>\n      <td>42</td>\n      <td>0</td>\n    </tr>\n  </tbody>\n</table>\n</div>"
     },
     "execution_count": 1,
     "metadata": {},
     "output_type": "execute_result"
    }
   ],
   "source": [
    "#import data set\n",
    "import pandas as pd\n",
    "property_df = pd.read_csv('datasets/property.csv', sep=\";\")\n",
    "property_df.head()"
   ]
  },
  {
   "cell_type": "code",
   "execution_count": 2,
   "id": "3d1ecc31-181f-4acb-b60c-8f9c82082549",
   "metadata": {
    "ExecuteTime": {
     "end_time": "2023-10-19T15:47:17.709084166Z",
     "start_time": "2023-10-19T15:47:17.692714138Z"
    }
   },
   "outputs": [
    {
     "data": {
      "text/plain": "   price  taxes  nbath  lotsize  livingspace  ngarage  nroom  nbedroom  \\\n0   25.9    4.9    1.0      3.5          1.0        1      7         4   \n1   29.5    5.0    1.0      3.5          1.5        2      7         4   \n2   27.9    4.5    1.0      2.3          1.2        1      6         3   \n3   25.9    4.6    1.0      4.1          1.2        1      6         3   \n4   29.9    5.1    1.0      4.5          1.1        1      6         3   \n\n   agehome  nfireplace  \n0       42           0  \n1       62           0  \n2       40           0  \n3       54           0  \n4       42           0  ",
      "text/html": "<div>\n<style scoped>\n    .dataframe tbody tr th:only-of-type {\n        vertical-align: middle;\n    }\n\n    .dataframe tbody tr th {\n        vertical-align: top;\n    }\n\n    .dataframe thead th {\n        text-align: right;\n    }\n</style>\n<table border=\"1\" class=\"dataframe\">\n  <thead>\n    <tr style=\"text-align: right;\">\n      <th></th>\n      <th>price</th>\n      <th>taxes</th>\n      <th>nbath</th>\n      <th>lotsize</th>\n      <th>livingspace</th>\n      <th>ngarage</th>\n      <th>nroom</th>\n      <th>nbedroom</th>\n      <th>agehome</th>\n      <th>nfireplace</th>\n    </tr>\n  </thead>\n  <tbody>\n    <tr>\n      <th>0</th>\n      <td>25.9</td>\n      <td>4.9</td>\n      <td>1.0</td>\n      <td>3.5</td>\n      <td>1.0</td>\n      <td>1</td>\n      <td>7</td>\n      <td>4</td>\n      <td>42</td>\n      <td>0</td>\n    </tr>\n    <tr>\n      <th>1</th>\n      <td>29.5</td>\n      <td>5.0</td>\n      <td>1.0</td>\n      <td>3.5</td>\n      <td>1.5</td>\n      <td>2</td>\n      <td>7</td>\n      <td>4</td>\n      <td>62</td>\n      <td>0</td>\n    </tr>\n    <tr>\n      <th>2</th>\n      <td>27.9</td>\n      <td>4.5</td>\n      <td>1.0</td>\n      <td>2.3</td>\n      <td>1.2</td>\n      <td>1</td>\n      <td>6</td>\n      <td>3</td>\n      <td>40</td>\n      <td>0</td>\n    </tr>\n    <tr>\n      <th>3</th>\n      <td>25.9</td>\n      <td>4.6</td>\n      <td>1.0</td>\n      <td>4.1</td>\n      <td>1.2</td>\n      <td>1</td>\n      <td>6</td>\n      <td>3</td>\n      <td>54</td>\n      <td>0</td>\n    </tr>\n    <tr>\n      <th>4</th>\n      <td>29.9</td>\n      <td>5.1</td>\n      <td>1.0</td>\n      <td>4.5</td>\n      <td>1.1</td>\n      <td>1</td>\n      <td>6</td>\n      <td>3</td>\n      <td>42</td>\n      <td>0</td>\n    </tr>\n  </tbody>\n</table>\n</div>"
     },
     "execution_count": 2,
     "metadata": {},
     "output_type": "execute_result"
    }
   ],
   "source": [
    "#rename the columns appropriately\n",
    "property_df.columns =['price', 'taxes', 'nbath', 'lotsize', 'livingspace', 'ngarage', 'nroom', 'nbedroom','agehome', 'nfireplace']\n",
    "property_df.head()"
   ]
  },
  {
   "cell_type": "code",
   "execution_count": 3,
   "id": "47ba7ea6-6745-460a-8147-f5287d386932",
   "metadata": {
    "ExecuteTime": {
     "end_time": "2023-10-19T15:47:17.727677590Z",
     "start_time": "2023-10-19T15:47:17.700734012Z"
    }
   },
   "outputs": [
    {
     "data": {
      "text/plain": "(24, 10)"
     },
     "execution_count": 3,
     "metadata": {},
     "output_type": "execute_result"
    }
   ],
   "source": [
    "# check the dimension\n",
    "property_df.shape"
   ]
  },
  {
   "cell_type": "markdown",
   "id": "c8606b09-47d5-4076-a0c2-5b45539ae083",
   "metadata": {},
   "source": [
    "Since we have small data set, we will split 90% of the data as training data and keep the remaining 10% as the test data."
   ]
  },
  {
   "cell_type": "code",
   "execution_count": 4,
   "id": "051c16e1-e0fb-49d5-9356-892ddd12e488",
   "metadata": {
    "ExecuteTime": {
     "end_time": "2023-10-19T15:47:17.981728245Z",
     "start_time": "2023-10-19T15:47:17.708406636Z"
    }
   },
   "outputs": [],
   "source": [
    "#Data Splitting\n",
    "\n",
    "from sklearn.model_selection import train_test_split\n",
    "\n",
    "property_X = property_df.drop(columns=[\"price\"], axis=1)\n",
    "property_y = property_df['price']\n",
    "\n",
    "#Split 90:10\n",
    "property_X_train, property_X_test, property_y_train, property_y_test = train_test_split(property_X, \n",
    "                                                                                        property_y, test_size=0.1, \n",
    "                                                                                        random_state=1773)"
   ]
  },
  {
   "cell_type": "markdown",
   "id": "1da1bad9-d450-4eaf-ae31-6e81b38deb66",
   "metadata": {},
   "source": [
    "Let's calculate the sample correlation matrix of property training data to identify which features may be contributing to multicollinearity."
   ]
  },
  {
   "cell_type": "code",
   "execution_count": 5,
   "id": "2ec096a9-f811-4068-82c8-f86ee59b5731",
   "metadata": {
    "ExecuteTime": {
     "end_time": "2023-10-19T15:47:17.990657382Z",
     "start_time": "2023-10-19T15:47:17.873803984Z"
    }
   },
   "outputs": [
    {
     "data": {
      "text/plain": "              taxes   nbath  lotsize  livingspace  ngarage   nroom  nbedroom  \\\ntaxes        1.0000  0.6350   0.7158       0.7105   0.4653  0.6597    0.3693   \nnbath        0.6350  1.0000   0.4701       0.7054  -0.0679  0.5590    0.4588   \nlotsize      0.7158  0.4701   1.0000       0.6152   0.2210  0.3845    0.1427   \nlivingspace  0.7105  0.7054   0.6152       1.0000   0.1907  0.6962    0.5915   \nngarage      0.4653 -0.0679   0.2210       0.1907   1.0000  0.2479    0.0545   \nnroom        0.6597  0.5590   0.3845       0.6962   0.2479  1.0000    0.8721   \nnbedroom     0.3693  0.4588   0.1427       0.5915   0.0545  0.8721    1.0000   \nagehome     -0.3858 -0.0122  -0.3504      -0.0878  -0.2426  0.1262    0.3315   \nnfireplace   0.1444  0.2236   0.2915       0.0870  -0.1063  0.1833   -0.0256   \n\n             agehome  nfireplace  \ntaxes        -0.3858      0.1444  \nnbath        -0.0122      0.2236  \nlotsize      -0.3504      0.2915  \nlivingspace  -0.0878      0.0870  \nngarage      -0.2426     -0.1063  \nnroom         0.1262      0.1833  \nnbedroom      0.3315     -0.0256  \nagehome       1.0000      0.2370  \nnfireplace    0.2370      1.0000  ",
      "text/html": "<div>\n<style scoped>\n    .dataframe tbody tr th:only-of-type {\n        vertical-align: middle;\n    }\n\n    .dataframe tbody tr th {\n        vertical-align: top;\n    }\n\n    .dataframe thead th {\n        text-align: right;\n    }\n</style>\n<table border=\"1\" class=\"dataframe\">\n  <thead>\n    <tr style=\"text-align: right;\">\n      <th></th>\n      <th>taxes</th>\n      <th>nbath</th>\n      <th>lotsize</th>\n      <th>livingspace</th>\n      <th>ngarage</th>\n      <th>nroom</th>\n      <th>nbedroom</th>\n      <th>agehome</th>\n      <th>nfireplace</th>\n    </tr>\n  </thead>\n  <tbody>\n    <tr>\n      <th>taxes</th>\n      <td>1.0000</td>\n      <td>0.6350</td>\n      <td>0.7158</td>\n      <td>0.7105</td>\n      <td>0.4653</td>\n      <td>0.6597</td>\n      <td>0.3693</td>\n      <td>-0.3858</td>\n      <td>0.1444</td>\n    </tr>\n    <tr>\n      <th>nbath</th>\n      <td>0.6350</td>\n      <td>1.0000</td>\n      <td>0.4701</td>\n      <td>0.7054</td>\n      <td>-0.0679</td>\n      <td>0.5590</td>\n      <td>0.4588</td>\n      <td>-0.0122</td>\n      <td>0.2236</td>\n    </tr>\n    <tr>\n      <th>lotsize</th>\n      <td>0.7158</td>\n      <td>0.4701</td>\n      <td>1.0000</td>\n      <td>0.6152</td>\n      <td>0.2210</td>\n      <td>0.3845</td>\n      <td>0.1427</td>\n      <td>-0.3504</td>\n      <td>0.2915</td>\n    </tr>\n    <tr>\n      <th>livingspace</th>\n      <td>0.7105</td>\n      <td>0.7054</td>\n      <td>0.6152</td>\n      <td>1.0000</td>\n      <td>0.1907</td>\n      <td>0.6962</td>\n      <td>0.5915</td>\n      <td>-0.0878</td>\n      <td>0.0870</td>\n    </tr>\n    <tr>\n      <th>ngarage</th>\n      <td>0.4653</td>\n      <td>-0.0679</td>\n      <td>0.2210</td>\n      <td>0.1907</td>\n      <td>1.0000</td>\n      <td>0.2479</td>\n      <td>0.0545</td>\n      <td>-0.2426</td>\n      <td>-0.1063</td>\n    </tr>\n    <tr>\n      <th>nroom</th>\n      <td>0.6597</td>\n      <td>0.5590</td>\n      <td>0.3845</td>\n      <td>0.6962</td>\n      <td>0.2479</td>\n      <td>1.0000</td>\n      <td>0.8721</td>\n      <td>0.1262</td>\n      <td>0.1833</td>\n    </tr>\n    <tr>\n      <th>nbedroom</th>\n      <td>0.3693</td>\n      <td>0.4588</td>\n      <td>0.1427</td>\n      <td>0.5915</td>\n      <td>0.0545</td>\n      <td>0.8721</td>\n      <td>1.0000</td>\n      <td>0.3315</td>\n      <td>-0.0256</td>\n    </tr>\n    <tr>\n      <th>agehome</th>\n      <td>-0.3858</td>\n      <td>-0.0122</td>\n      <td>-0.3504</td>\n      <td>-0.0878</td>\n      <td>-0.2426</td>\n      <td>0.1262</td>\n      <td>0.3315</td>\n      <td>1.0000</td>\n      <td>0.2370</td>\n    </tr>\n    <tr>\n      <th>nfireplace</th>\n      <td>0.1444</td>\n      <td>0.2236</td>\n      <td>0.2915</td>\n      <td>0.0870</td>\n      <td>-0.1063</td>\n      <td>0.1833</td>\n      <td>-0.0256</td>\n      <td>0.2370</td>\n      <td>1.0000</td>\n    </tr>\n  </tbody>\n</table>\n</div>"
     },
     "execution_count": 5,
     "metadata": {},
     "output_type": "execute_result"
    }
   ],
   "source": [
    "# Omit the response variable and calculate correlation matrix\n",
    "bigR = property_X_train.corr().round(4)\n",
    "bigR"
   ]
  },
  {
   "cell_type": "code",
   "execution_count": 6,
   "id": "2b196fdb-726d-42cf-8091-f9a4315fe50d",
   "metadata": {
    "ExecuteTime": {
     "end_time": "2023-10-19T15:47:17.991471871Z",
     "start_time": "2023-10-19T15:47:17.917033500Z"
    }
   },
   "outputs": [
    {
     "data": {
      "text/plain": "(9, 9)"
     },
     "execution_count": 6,
     "metadata": {},
     "output_type": "execute_result"
    }
   ],
   "source": [
    "#Dimension of the sample correlation matrix\n",
    "bigR.shape"
   ]
  },
  {
   "cell_type": "code",
   "execution_count": 26,
   "id": "fe3b3565-1a3a-4ce6-ae19-b59543b302e4",
   "metadata": {
    "ExecuteTime": {
     "end_time": "2023-10-19T15:55:10.891506179Z",
     "start_time": "2023-10-19T15:55:10.261382728Z"
    }
   },
   "outputs": [
    {
     "data": {
      "text/plain": "<Figure size 1400x600 with 2 Axes>",
      "image/png": "[encoded data removed]"
     },
     "metadata": {},
     "output_type": "display_data"
    }
   ],
   "source": [
    "# generate heatmap\n",
    "# import libraries\n",
    "import matplotlib.pyplot as plt\n",
    "import seaborn as sns\n",
    "\n",
    "# set figure size\n",
    "plt.rcParams['figure.figsize'] = [14, 6]\n",
    "\n",
    "bluetored = sns.diverging_palette(220, 10, as_cmap=True)\n",
    "# generate heatmap\n",
    "sns.heatmap(bigR, cmap=bluetored, annot=True, vmin=-1, vmax=1)\n",
    "plt.title('Heatmap of Sample Correlation Matrix')\n",
    "plt.show();"
   ]
  },
  {
   "cell_type": "markdown",
   "id": "8b4cb38a-9c9b-4728-8f64-5f39e04c7e35",
   "metadata": {},
   "source": [
    "We can suspect from features with a correlation coefficient **larger than 0.80** leading to multicollinearity. In this sense, we can say that `the number of bedrooms` and `the number of rooms` have a strong relationship with a magnitude of 0.87. (Note that\n",
    "`taxes` and `lot size`;\n",
    "`taxes` and `living space`;  and `number of baths` and `living space` pairs also have moderate correlation values, such as 0.72, 0.71, and 0.71, respectively)."
   ]
  },
  {
   "cell_type": "markdown",
   "id": "4c82e220-ec04-4560-b506-0746b1f08f94",
   "metadata": {},
   "source": [
    "### Variance Inflation Factors\n",
    "\n",
    "Another simple measure of multicollinearity is inspection of `variance inflation factor` (VIF) for the $j$th feature, which is defined as:\n",
    "\n",
    "$$\n",
    "VIF_{j}=\\frac{1}{1-R_{j}^{2}},\n",
    "$$\n",
    "\n",
    "where $j=1,2,\\ldots,d$, and  $R_{j}^{2}$ is the `coefficient of determination` obtained from regressing $x_{j}$ on\n",
    "the other remaining feature variables. \n",
    "\n",
    "Clearly, if $x_{j}$ is `nearly linearly dependent` on some of\n",
    "the other regressors, then $R_{j}^{2}$ will be near unity and $\n",
    "VIF_{j}$ will be `large`. \n",
    "\n",
    "VIFs larger\n",
    "than 10 imply serious problems with multicollinearity. \n",
    "\n",
    "VIFs which are between 5-10 imply moderate problems with multicollinearity. \n",
    "\n",
    "Most regression software\n",
    "computes and displays the $\n",
    "VIF_{j}$. We are going to use the function [variance_inflation_factor](https://www.statsmodels.org/dev/generated/statsmodels.stats.outliers_influence.variance_inflation_factor.html) function in Python's [statsmodels](https://www.statsmodels.org/stable/index.html) library.\n"
   ]
  },
  {
   "cell_type": "code",
   "execution_count": 8,
   "id": "ec9e94dd-96c9-453a-95d3-ccbe27561551",
   "metadata": {
    "ExecuteTime": {
     "end_time": "2023-10-19T15:47:18.705922241Z",
     "start_time": "2023-10-19T15:47:18.500432438Z"
    }
   },
   "outputs": [
    {
     "data": {
      "text/plain": "    taxes  nbath  lotsize  livingspace  ngarage  nroom  nbedroom  agehome  \\\n7     5.6    1.0      9.5          1.5        0      6         3       32   \n10    6.3    1.0      5.5          1.0        1      5         2       30   \n2     4.5    1.0      2.3          1.2        1      6         3       40   \n14    6.7    1.5      6.9          1.5        2      7         3       22   \n9     5.3    1.0      5.0          1.6        1      6         3       30   \n\n    nfireplace  intercept  \n7            0          1  \n10           0          1  \n2            0          1  \n14           1          1  \n9            0          1  ",
      "text/html": "<div>\n<style scoped>\n    .dataframe tbody tr th:only-of-type {\n        vertical-align: middle;\n    }\n\n    .dataframe tbody tr th {\n        vertical-align: top;\n    }\n\n    .dataframe thead th {\n        text-align: right;\n    }\n</style>\n<table border=\"1\" class=\"dataframe\">\n  <thead>\n    <tr style=\"text-align: right;\">\n      <th></th>\n      <th>taxes</th>\n      <th>nbath</th>\n      <th>lotsize</th>\n      <th>livingspace</th>\n      <th>ngarage</th>\n      <th>nroom</th>\n      <th>nbedroom</th>\n      <th>agehome</th>\n      <th>nfireplace</th>\n      <th>intercept</th>\n    </tr>\n  </thead>\n  <tbody>\n    <tr>\n      <th>7</th>\n      <td>5.6</td>\n      <td>1.0</td>\n      <td>9.5</td>\n      <td>1.5</td>\n      <td>0</td>\n      <td>6</td>\n      <td>3</td>\n      <td>32</td>\n      <td>0</td>\n      <td>1</td>\n    </tr>\n    <tr>\n      <th>10</th>\n      <td>6.3</td>\n      <td>1.0</td>\n      <td>5.5</td>\n      <td>1.0</td>\n      <td>1</td>\n      <td>5</td>\n      <td>2</td>\n      <td>30</td>\n      <td>0</td>\n      <td>1</td>\n    </tr>\n    <tr>\n      <th>2</th>\n      <td>4.5</td>\n      <td>1.0</td>\n      <td>2.3</td>\n      <td>1.2</td>\n      <td>1</td>\n      <td>6</td>\n      <td>3</td>\n      <td>40</td>\n      <td>0</td>\n      <td>1</td>\n    </tr>\n    <tr>\n      <th>14</th>\n      <td>6.7</td>\n      <td>1.5</td>\n      <td>6.9</td>\n      <td>1.5</td>\n      <td>2</td>\n      <td>7</td>\n      <td>3</td>\n      <td>22</td>\n      <td>1</td>\n      <td>1</td>\n    </tr>\n    <tr>\n      <th>9</th>\n      <td>5.3</td>\n      <td>1.0</td>\n      <td>5.0</td>\n      <td>1.6</td>\n      <td>1</td>\n      <td>6</td>\n      <td>3</td>\n      <td>30</td>\n      <td>0</td>\n      <td>1</td>\n    </tr>\n  </tbody>\n</table>\n</div>"
     },
     "execution_count": 8,
     "metadata": {},
     "output_type": "execute_result"
    }
   ],
   "source": [
    "import warnings\n",
    "warnings.filterwarnings(\"ignore\")\n",
    "\n",
    "# calculating VIF for each feature\n",
    "\n",
    "property_X_train[\"intercept\"]=1 # add a column of 1's to the X df\n",
    "property_X_train.head()"
   ]
  },
  {
   "cell_type": "code",
   "execution_count": 9,
   "id": "51f349ec-73ab-4984-8262-62ebd995218c",
   "metadata": {
    "ExecuteTime": {
     "end_time": "2023-10-19T15:47:18.708769880Z",
     "start_time": "2023-10-19T15:47:18.540887370Z"
    }
   },
   "outputs": [
    {
     "data": {
      "text/plain": "       feature\n0        taxes\n1        nbath\n2      lotsize\n3  livingspace\n4      ngarage\n5        nroom\n6     nbedroom\n7      agehome\n8   nfireplace\n9    intercept",
      "text/html": "<div>\n<style scoped>\n    .dataframe tbody tr th:only-of-type {\n        vertical-align: middle;\n    }\n\n    .dataframe tbody tr th {\n        vertical-align: top;\n    }\n\n    .dataframe thead th {\n        text-align: right;\n    }\n</style>\n<table border=\"1\" class=\"dataframe\">\n  <thead>\n    <tr style=\"text-align: right;\">\n      <th></th>\n      <th>feature</th>\n    </tr>\n  </thead>\n  <tbody>\n    <tr>\n      <th>0</th>\n      <td>taxes</td>\n    </tr>\n    <tr>\n      <th>1</th>\n      <td>nbath</td>\n    </tr>\n    <tr>\n      <th>2</th>\n      <td>lotsize</td>\n    </tr>\n    <tr>\n      <th>3</th>\n      <td>livingspace</td>\n    </tr>\n    <tr>\n      <th>4</th>\n      <td>ngarage</td>\n    </tr>\n    <tr>\n      <th>5</th>\n      <td>nroom</td>\n    </tr>\n    <tr>\n      <th>6</th>\n      <td>nbedroom</td>\n    </tr>\n    <tr>\n      <th>7</th>\n      <td>agehome</td>\n    </tr>\n    <tr>\n      <th>8</th>\n      <td>nfireplace</td>\n    </tr>\n    <tr>\n      <th>9</th>\n      <td>intercept</td>\n    </tr>\n  </tbody>\n</table>\n</div>"
     },
     "execution_count": 9,
     "metadata": {},
     "output_type": "execute_result"
    }
   ],
   "source": [
    "vif_df = pd.DataFrame() # create an empty data frame\n",
    "vif_df[\"feature\"] = property_X_train.columns  # attach a column named feature which involves feature names of X df\n",
    "vif_df"
   ]
  },
  {
   "cell_type": "code",
   "execution_count": 10,
   "id": "e8c1b99d-edf8-4ccd-81d2-ae4ff8520a49",
   "metadata": {
    "ExecuteTime": {
     "end_time": "2023-10-19T15:47:18.756729816Z",
     "start_time": "2023-10-19T15:47:18.584912937Z"
    }
   },
   "outputs": [
    {
     "data": {
      "text/plain": "       feature        VIF\n0        taxes   7.797976\n1        nbath   3.184820\n2      lotsize   2.877336\n3  livingspace   3.766297\n4      ngarage   1.959254\n5        nroom  12.738511\n6     nbedroom   9.977440\n7      agehome   2.272692\n8   nfireplace   1.960761\n9    intercept  92.674231",
      "text/html": "<div>\n<style scoped>\n    .dataframe tbody tr th:only-of-type {\n        vertical-align: middle;\n    }\n\n    .dataframe tbody tr th {\n        vertical-align: top;\n    }\n\n    .dataframe thead th {\n        text-align: right;\n    }\n</style>\n<table border=\"1\" class=\"dataframe\">\n  <thead>\n    <tr style=\"text-align: right;\">\n      <th></th>\n      <th>feature</th>\n      <th>VIF</th>\n    </tr>\n  </thead>\n  <tbody>\n    <tr>\n      <th>0</th>\n      <td>taxes</td>\n      <td>7.797976</td>\n    </tr>\n    <tr>\n      <th>1</th>\n      <td>nbath</td>\n      <td>3.184820</td>\n    </tr>\n    <tr>\n      <th>2</th>\n      <td>lotsize</td>\n      <td>2.877336</td>\n    </tr>\n    <tr>\n      <th>3</th>\n      <td>livingspace</td>\n      <td>3.766297</td>\n    </tr>\n    <tr>\n      <th>4</th>\n      <td>ngarage</td>\n      <td>1.959254</td>\n    </tr>\n    <tr>\n      <th>5</th>\n      <td>nroom</td>\n      <td>12.738511</td>\n    </tr>\n    <tr>\n      <th>6</th>\n      <td>nbedroom</td>\n      <td>9.977440</td>\n    </tr>\n    <tr>\n      <th>7</th>\n      <td>agehome</td>\n      <td>2.272692</td>\n    </tr>\n    <tr>\n      <th>8</th>\n      <td>nfireplace</td>\n      <td>1.960761</td>\n    </tr>\n    <tr>\n      <th>9</th>\n      <td>intercept</td>\n      <td>92.674231</td>\n    </tr>\n  </tbody>\n</table>\n</div>"
     },
     "execution_count": 10,
     "metadata": {},
     "output_type": "execute_result"
    }
   ],
   "source": [
    "from statsmodels.stats.outliers_influence import variance_inflation_factor\n",
    "\n",
    "vif_df[\"VIF\"] = 0  #attach VIF column\n",
    "\n",
    "for i in range(len(property_X_train.columns)):\n",
    "\n",
    "    vif_df.loc[i, 'VIF'] = variance_inflation_factor(property_X_train.values, i) #calculate VIF for each feature #ignore intercept row\n",
    "    \n",
    "vif_df"
   ]
  },
  {
   "cell_type": "code",
   "execution_count": 11,
   "id": "5f9e86c7-18e4-481d-acb0-1d0a5be0d69d",
   "metadata": {
    "ExecuteTime": {
     "end_time": "2023-10-19T15:47:18.757478096Z",
     "start_time": "2023-10-19T15:47:18.636719452Z"
    }
   },
   "outputs": [],
   "source": [
    "#short way through list comprehension\n",
    "#vif_df[\"VIF\"] = 0\n",
    "#vif_df[\"VIF\"] = [variance_inflation_factor(property_X_train.values, i) for i in range(len(property_X_train.columns))]  #list comprehension   \n",
    "#vif_df"
   ]
  },
  {
   "cell_type": "code",
   "execution_count": 12,
   "id": "59fde62e-a01e-43cb-ae54-3fccccff3de2",
   "metadata": {
    "ExecuteTime": {
     "end_time": "2023-10-19T15:47:18.760608940Z",
     "start_time": "2023-10-19T15:47:18.649470863Z"
    }
   },
   "outputs": [
    {
     "data": {
      "text/plain": "       feature        VIF\n9    intercept  92.674231\n5        nroom  12.738511\n6     nbedroom   9.977440\n0        taxes   7.797976\n3  livingspace   3.766297\n1        nbath   3.184820\n2      lotsize   2.877336\n7      agehome   2.272692\n8   nfireplace   1.960761\n4      ngarage   1.959254",
      "text/html": "<div>\n<style scoped>\n    .dataframe tbody tr th:only-of-type {\n        vertical-align: middle;\n    }\n\n    .dataframe tbody tr th {\n        vertical-align: top;\n    }\n\n    .dataframe thead th {\n        text-align: right;\n    }\n</style>\n<table border=\"1\" class=\"dataframe\">\n  <thead>\n    <tr style=\"text-align: right;\">\n      <th></th>\n      <th>feature</th>\n      <th>VIF</th>\n    </tr>\n  </thead>\n  <tbody>\n    <tr>\n      <th>9</th>\n      <td>intercept</td>\n      <td>92.674231</td>\n    </tr>\n    <tr>\n      <th>5</th>\n      <td>nroom</td>\n      <td>12.738511</td>\n    </tr>\n    <tr>\n      <th>6</th>\n      <td>nbedroom</td>\n      <td>9.977440</td>\n    </tr>\n    <tr>\n      <th>0</th>\n      <td>taxes</td>\n      <td>7.797976</td>\n    </tr>\n    <tr>\n      <th>3</th>\n      <td>livingspace</td>\n      <td>3.766297</td>\n    </tr>\n    <tr>\n      <th>1</th>\n      <td>nbath</td>\n      <td>3.184820</td>\n    </tr>\n    <tr>\n      <th>2</th>\n      <td>lotsize</td>\n      <td>2.877336</td>\n    </tr>\n    <tr>\n      <th>7</th>\n      <td>agehome</td>\n      <td>2.272692</td>\n    </tr>\n    <tr>\n      <th>8</th>\n      <td>nfireplace</td>\n      <td>1.960761</td>\n    </tr>\n    <tr>\n      <th>4</th>\n      <td>ngarage</td>\n      <td>1.959254</td>\n    </tr>\n  </tbody>\n</table>\n</div>"
     },
     "execution_count": 12,
     "metadata": {},
     "output_type": "execute_result"
    }
   ],
   "source": [
    "vif_df.sort_values(\"VIF\", ascending=False, inplace=True) #ignore intercept row  in the below table    \n",
    "vif_df"
   ]
  },
  {
   "cell_type": "markdown",
   "id": "319fce52-7510-40e0-b117-afebb60e2094",
   "metadata": {},
   "source": [
    "We can see that VIF value of `the number of rooms` is greater than 10. Let's remove it from the model and recalculate the VIF values for the remaining features. "
   ]
  },
  {
   "cell_type": "code",
   "execution_count": 13,
   "id": "1c1ceefd-5789-4657-9a9c-29c2f82f1fa5",
   "metadata": {
    "ExecuteTime": {
     "end_time": "2023-10-19T15:47:18.767137144Z",
     "start_time": "2023-10-19T15:47:18.692881618Z"
    }
   },
   "outputs": [
    {
     "data": {
      "text/plain": "    taxes  nbath  lotsize  livingspace  ngarage  nbedroom  agehome  \\\n7     5.6    1.0      9.5          1.5        0         3       32   \n10    6.3    1.0      5.5          1.0        1         2       30   \n2     4.5    1.0      2.3          1.2        1         3       40   \n14    6.7    1.5      6.9          1.5        2         3       22   \n9     5.3    1.0      5.0          1.6        1         3       30   \n\n    nfireplace  intercept  \n7            0          1  \n10           0          1  \n2            0          1  \n14           1          1  \n9            0          1  ",
      "text/html": "<div>\n<style scoped>\n    .dataframe tbody tr th:only-of-type {\n        vertical-align: middle;\n    }\n\n    .dataframe tbody tr th {\n        vertical-align: top;\n    }\n\n    .dataframe thead th {\n        text-align: right;\n    }\n</style>\n<table border=\"1\" class=\"dataframe\">\n  <thead>\n    <tr style=\"text-align: right;\">\n      <th></th>\n      <th>taxes</th>\n      <th>nbath</th>\n      <th>lotsize</th>\n      <th>livingspace</th>\n      <th>ngarage</th>\n      <th>nbedroom</th>\n      <th>agehome</th>\n      <th>nfireplace</th>\n      <th>intercept</th>\n    </tr>\n  </thead>\n  <tbody>\n    <tr>\n      <th>7</th>\n      <td>5.6</td>\n      <td>1.0</td>\n      <td>9.5</td>\n      <td>1.5</td>\n      <td>0</td>\n      <td>3</td>\n      <td>32</td>\n      <td>0</td>\n      <td>1</td>\n    </tr>\n    <tr>\n      <th>10</th>\n      <td>6.3</td>\n      <td>1.0</td>\n      <td>5.5</td>\n      <td>1.0</td>\n      <td>1</td>\n      <td>2</td>\n      <td>30</td>\n      <td>0</td>\n      <td>1</td>\n    </tr>\n    <tr>\n      <th>2</th>\n      <td>4.5</td>\n      <td>1.0</td>\n      <td>2.3</td>\n      <td>1.2</td>\n      <td>1</td>\n      <td>3</td>\n      <td>40</td>\n      <td>0</td>\n      <td>1</td>\n    </tr>\n    <tr>\n      <th>14</th>\n      <td>6.7</td>\n      <td>1.5</td>\n      <td>6.9</td>\n      <td>1.5</td>\n      <td>2</td>\n      <td>3</td>\n      <td>22</td>\n      <td>1</td>\n      <td>1</td>\n    </tr>\n    <tr>\n      <th>9</th>\n      <td>5.3</td>\n      <td>1.0</td>\n      <td>5.0</td>\n      <td>1.6</td>\n      <td>1</td>\n      <td>3</td>\n      <td>30</td>\n      <td>0</td>\n      <td>1</td>\n    </tr>\n  </tbody>\n</table>\n</div>"
     },
     "execution_count": 13,
     "metadata": {},
     "output_type": "execute_result"
    }
   ],
   "source": [
    "Xnew = property_X_train.drop(columns=[\"nroom\"], axis=1)\n",
    "Xnew.head()"
   ]
  },
  {
   "cell_type": "code",
   "execution_count": 14,
   "id": "51007c00-fead-4b95-9be0-daff49969002",
   "metadata": {
    "ExecuteTime": {
     "end_time": "2023-10-19T15:47:18.769763596Z",
     "start_time": "2023-10-19T15:47:18.693322526Z"
    }
   },
   "outputs": [
    {
     "data": {
      "text/plain": "       feature        VIF\n8    intercept  48.323627\n0        taxes   5.986331\n3  livingspace   3.756955\n1        nbath   3.131769\n2      lotsize   2.829607\n5     nbedroom   2.421409\n6      agehome   2.254288\n4      ngarage   1.932666\n7   nfireplace   1.489105",
      "text/html": "<div>\n<style scoped>\n    .dataframe tbody tr th:only-of-type {\n        vertical-align: middle;\n    }\n\n    .dataframe tbody tr th {\n        vertical-align: top;\n    }\n\n    .dataframe thead th {\n        text-align: right;\n    }\n</style>\n<table border=\"1\" class=\"dataframe\">\n  <thead>\n    <tr style=\"text-align: right;\">\n      <th></th>\n      <th>feature</th>\n      <th>VIF</th>\n    </tr>\n  </thead>\n  <tbody>\n    <tr>\n      <th>8</th>\n      <td>intercept</td>\n      <td>48.323627</td>\n    </tr>\n    <tr>\n      <th>0</th>\n      <td>taxes</td>\n      <td>5.986331</td>\n    </tr>\n    <tr>\n      <th>3</th>\n      <td>livingspace</td>\n      <td>3.756955</td>\n    </tr>\n    <tr>\n      <th>1</th>\n      <td>nbath</td>\n      <td>3.131769</td>\n    </tr>\n    <tr>\n      <th>2</th>\n      <td>lotsize</td>\n      <td>2.829607</td>\n    </tr>\n    <tr>\n      <th>5</th>\n      <td>nbedroom</td>\n      <td>2.421409</td>\n    </tr>\n    <tr>\n      <th>6</th>\n      <td>agehome</td>\n      <td>2.254288</td>\n    </tr>\n    <tr>\n      <th>4</th>\n      <td>ngarage</td>\n      <td>1.932666</td>\n    </tr>\n    <tr>\n      <th>7</th>\n      <td>nfireplace</td>\n      <td>1.489105</td>\n    </tr>\n  </tbody>\n</table>\n</div>"
     },
     "execution_count": 14,
     "metadata": {},
     "output_type": "execute_result"
    }
   ],
   "source": [
    "vifnew_df = pd.DataFrame() # create an empty data frame\n",
    "vifnew_df[\"feature\"] = Xnew.columns  # attach a column of involving feature names\n",
    "vifnew_df[\"VIF\"] = [variance_inflation_factor(Xnew.values, i) for i in range(len(Xnew.columns))]  #list comprehension \n",
    "vifnew_df.sort_values('VIF', ascending=False, inplace=True) #ignore intercept row  in the below table\n",
    "vifnew_df"
   ]
  },
  {
   "cell_type": "markdown",
   "id": "51c0b979-65f3-4f5e-9b74-758133b85d07",
   "metadata": {},
   "source": [
    "We can also see that VIF value of `taxes` is greater than 5. Let's remove it from the model and recalculate the VIF values for the remaining features.  "
   ]
  },
  {
   "cell_type": "code",
   "execution_count": 15,
   "id": "e3674f04-0482-4bc0-a979-9c9978e423be",
   "metadata": {
    "ExecuteTime": {
     "end_time": "2023-10-19T15:47:18.839221306Z",
     "start_time": "2023-10-19T15:47:18.745574977Z"
    }
   },
   "outputs": [
    {
     "data": {
      "text/plain": "    nbath  lotsize  livingspace  ngarage  nbedroom  agehome  nfireplace  \\\n7     1.0      9.5          1.5        0         3       32           0   \n10    1.0      5.5          1.0        1         2       30           0   \n2     1.0      2.3          1.2        1         3       40           0   \n14    1.5      6.9          1.5        2         3       22           1   \n9     1.0      5.0          1.6        1         3       30           0   \n\n    intercept  \n7           1  \n10          1  \n2           1  \n14          1  \n9           1  ",
      "text/html": "<div>\n<style scoped>\n    .dataframe tbody tr th:only-of-type {\n        vertical-align: middle;\n    }\n\n    .dataframe tbody tr th {\n        vertical-align: top;\n    }\n\n    .dataframe thead th {\n        text-align: right;\n    }\n</style>\n<table border=\"1\" class=\"dataframe\">\n  <thead>\n    <tr style=\"text-align: right;\">\n      <th></th>\n      <th>nbath</th>\n      <th>lotsize</th>\n      <th>livingspace</th>\n      <th>ngarage</th>\n      <th>nbedroom</th>\n      <th>agehome</th>\n      <th>nfireplace</th>\n      <th>intercept</th>\n    </tr>\n  </thead>\n  <tbody>\n    <tr>\n      <th>7</th>\n      <td>1.0</td>\n      <td>9.5</td>\n      <td>1.5</td>\n      <td>0</td>\n      <td>3</td>\n      <td>32</td>\n      <td>0</td>\n      <td>1</td>\n    </tr>\n    <tr>\n      <th>10</th>\n      <td>1.0</td>\n      <td>5.5</td>\n      <td>1.0</td>\n      <td>1</td>\n      <td>2</td>\n      <td>30</td>\n      <td>0</td>\n      <td>1</td>\n    </tr>\n    <tr>\n      <th>2</th>\n      <td>1.0</td>\n      <td>2.3</td>\n      <td>1.2</td>\n      <td>1</td>\n      <td>3</td>\n      <td>40</td>\n      <td>0</td>\n      <td>1</td>\n    </tr>\n    <tr>\n      <th>14</th>\n      <td>1.5</td>\n      <td>6.9</td>\n      <td>1.5</td>\n      <td>2</td>\n      <td>3</td>\n      <td>22</td>\n      <td>1</td>\n      <td>1</td>\n    </tr>\n    <tr>\n      <th>9</th>\n      <td>1.0</td>\n      <td>5.0</td>\n      <td>1.6</td>\n      <td>1</td>\n      <td>3</td>\n      <td>30</td>\n      <td>0</td>\n      <td>1</td>\n    </tr>\n  </tbody>\n</table>\n</div>"
     },
     "execution_count": 15,
     "metadata": {},
     "output_type": "execute_result"
    }
   ],
   "source": [
    "Xnew2 = Xnew.drop(columns=[\"taxes\"], axis=1)\n",
    "Xnew2.head()"
   ]
  },
  {
   "cell_type": "code",
   "execution_count": 16,
   "id": "80d89670-167f-430d-9254-ecea92c7dc15",
   "metadata": {
    "ExecuteTime": {
     "end_time": "2023-10-19T15:47:18.841200189Z",
     "start_time": "2023-10-19T15:47:18.746645155Z"
    }
   },
   "outputs": [
    {
     "data": {
      "text/plain": "       feature        VIF\n7    intercept  46.863374\n2  livingspace   3.730967\n1      lotsize   2.385059\n0        nbath   2.309010\n4     nbedroom   2.187035\n5      agehome   1.780221\n6   nfireplace   1.445818\n3      ngarage   1.209131",
      "text/html": "<div>\n<style scoped>\n    .dataframe tbody tr th:only-of-type {\n        vertical-align: middle;\n    }\n\n    .dataframe tbody tr th {\n        vertical-align: top;\n    }\n\n    .dataframe thead th {\n        text-align: right;\n    }\n</style>\n<table border=\"1\" class=\"dataframe\">\n  <thead>\n    <tr style=\"text-align: right;\">\n      <th></th>\n      <th>feature</th>\n      <th>VIF</th>\n    </tr>\n  </thead>\n  <tbody>\n    <tr>\n      <th>7</th>\n      <td>intercept</td>\n      <td>46.863374</td>\n    </tr>\n    <tr>\n      <th>2</th>\n      <td>livingspace</td>\n      <td>3.730967</td>\n    </tr>\n    <tr>\n      <th>1</th>\n      <td>lotsize</td>\n      <td>2.385059</td>\n    </tr>\n    <tr>\n      <th>0</th>\n      <td>nbath</td>\n      <td>2.309010</td>\n    </tr>\n    <tr>\n      <th>4</th>\n      <td>nbedroom</td>\n      <td>2.187035</td>\n    </tr>\n    <tr>\n      <th>5</th>\n      <td>agehome</td>\n      <td>1.780221</td>\n    </tr>\n    <tr>\n      <th>6</th>\n      <td>nfireplace</td>\n      <td>1.445818</td>\n    </tr>\n    <tr>\n      <th>3</th>\n      <td>ngarage</td>\n      <td>1.209131</td>\n    </tr>\n  </tbody>\n</table>\n</div>"
     },
     "execution_count": 16,
     "metadata": {},
     "output_type": "execute_result"
    }
   ],
   "source": [
    "vifnew2_df = pd.DataFrame() # create an empty data frame\n",
    "vifnew2_df[\"feature\"] = Xnew2.columns  # attach a column of involving feature names\n",
    "vifnew2_df[\"VIF\"] = [variance_inflation_factor(Xnew2.values, i) for i in range(len(Xnew2.columns))]  #list comprehension \n",
    "vifnew2_df.sort_values('VIF', ascending=False, inplace=True) #ignore intercept row \n",
    "vifnew2_df"
   ]
  },
  {
   "cell_type": "markdown",
   "id": "17093ed9-c373-4ee5-a487-f2df6894725e",
   "metadata": {},
   "source": [
    "The remaning features `livingspace`, `lotsize`, `nbath`,  `nbedroom`,  `agehome`, `nfireplace`, and `ngarage` \n",
    "have a VIF value less than 5.\n",
    "Feature selection is usually best performed by removing one feature at a time. This ensures that any information loss is minimized. "
   ]
  },
  {
   "cell_type": "code",
   "execution_count": 17,
   "id": "51e63226-9409-4289-90e3-82b571f6b3a9",
   "metadata": {
    "ExecuteTime": {
     "end_time": "2023-10-19T15:47:18.842003294Z",
     "start_time": "2023-10-19T15:47:18.747319751Z"
    }
   },
   "outputs": [],
   "source": [
    "# Generate the new subsets based on the selected features\n",
    "\n",
    "#remove intercept\n",
    "property_X_train = property_X_train.drop(columns=['intercept'], axis=1)\n",
    "\n",
    "property_X_train_fs = property_X_train.drop(columns=['nroom', 'taxes'], axis=1)   #property_X_train[['livingspace', 'lotsize', 'nbath', 'nbedroom', 'agehome',  'nfireplace','ngarage']] #not a smart way\n",
    "property_X_test_fs = property_X_test.drop(columns=['nroom', 'taxes'], axis=1)    #property_X_test[['livingspace', 'lotsize', 'nbath', 'nbedroom', 'agehome',  'nfireplace','ngarage']]"
   ]
  },
  {
   "cell_type": "code",
   "execution_count": 18,
   "id": "709d0f4a-0196-4d8b-b1b6-9a207b8d6220",
   "metadata": {
    "ExecuteTime": {
     "end_time": "2023-10-19T15:47:18.930864378Z",
     "start_time": "2023-10-19T15:47:18.747707929Z"
    }
   },
   "outputs": [
    {
     "name": "stdout",
     "output_type": "stream",
     "text": [
      "(21, 7)\n",
      "(3, 7)\n"
     ]
    }
   ],
   "source": [
    "print(property_X_train_fs.shape)  #acceptable data format by sckitlearn\n",
    "print(property_X_test_fs.shape)"
   ]
  },
  {
   "cell_type": "code",
   "execution_count": 19,
   "id": "44375faf-32db-4746-a804-57812a3be01b",
   "metadata": {
    "ExecuteTime": {
     "end_time": "2023-10-19T15:47:19.082226562Z",
     "start_time": "2023-10-19T15:47:18.780884422Z"
    }
   },
   "outputs": [],
   "source": [
    "#Model fitting with scikit-learn\n",
    "from sklearn.linear_model import LinearRegression\n",
    "\n",
    "# making predictions with regression models for both datasets\n",
    "\n",
    "# without feature selection\n",
    "lr = LinearRegression()\n",
    "lr.fit(property_X_train, property_y_train)\n",
    "property_y_train_pred = lr.predict(property_X_train)\n",
    "property_y_test_pred = lr.predict(property_X_test)"
   ]
  },
  {
   "cell_type": "code",
   "execution_count": 20,
   "id": "3b558b5e-5589-47a3-bca7-7a7cd83502cc",
   "metadata": {
    "ExecuteTime": {
     "end_time": "2023-10-19T15:47:19.109194794Z",
     "start_time": "2023-10-19T15:47:18.818096973Z"
    }
   },
   "outputs": [],
   "source": [
    "# with feature selection\n",
    "lr_fs = LinearRegression()\n",
    "lr_fs.fit(property_X_train_fs, property_y_train)\n",
    "property_y_train_pred_fs = lr_fs.predict(property_X_train_fs)\n",
    "property_y_test_pred_fs = lr_fs.predict(property_X_test_fs)"
   ]
  },
  {
   "cell_type": "code",
   "execution_count": 21,
   "id": "a13b6c94-1013-451d-9f77-74ba95f5f3d8",
   "metadata": {
    "ExecuteTime": {
     "end_time": "2023-10-19T15:47:19.202019371Z",
     "start_time": "2023-10-19T15:47:18.823737006Z"
    }
   },
   "outputs": [
    {
     "name": "stdout",
     "output_type": "stream",
     "text": [
      "Train (without feature selection) R2: 0.8789\n",
      "Test (without feature selection) R2: 0.7401\n"
     ]
    }
   ],
   "source": [
    "# Evaluate the models' predictive performances\n",
    "\n",
    "from sklearn.metrics import mean_squared_error, r2_score\n",
    "\n",
    "print('Train (without feature selection) R2: %.4f'\n",
    "      % r2_score(property_y_train, property_y_train_pred))\n",
    "print('Test (without feature selection) R2: %.4f'\n",
    "      % r2_score(property_y_test, property_y_test_pred))"
   ]
  },
  {
   "cell_type": "markdown",
   "id": "94f445a6-e466-4273-ba4c-d5dc8d939822",
   "metadata": {},
   "source": [
    "Removing highly correlated features decreased the disperancy between R2 train and R2 test,has increased the model's predictive performance."
   ]
  },
  {
   "cell_type": "code",
   "execution_count": 22,
   "id": "c1d15f58-467a-4774-ab14-9da25758db50",
   "metadata": {
    "ExecuteTime": {
     "end_time": "2023-10-19T15:47:19.202638235Z",
     "start_time": "2023-10-19T15:47:18.868798948Z"
    }
   },
   "outputs": [
    {
     "name": "stdout",
     "output_type": "stream",
     "text": [
      "Train (without feature selection) R2: 0.8603\n",
      "Test (with feature selection) R2: 0.8134\n"
     ]
    }
   ],
   "source": [
    "from sklearn.metrics import mean_squared_error, r2_score\n",
    "\n",
    "print('Train (without feature selection) R2: %.4f'\n",
    "      % r2_score(property_y_train, property_y_train_pred_fs))\n",
    "print('Test (with feature selection) R2: %.4f'\n",
    "      % r2_score(property_y_test, property_y_test_pred_fs))"
   ]
  },
  {
   "cell_type": "markdown",
   "id": "45148e86-2841-44fa-958a-459ad03328fb",
   "metadata": {},
   "source": [
    "## Remedies for Multicollinearity\n",
    "\n",
    "- Drop one or more predictors from the model (as we have done today).\n",
    "- More advanced: `Principal component analysis` or `ridge regression`."
   ]
  },
  {
   "cell_type": "markdown",
   "id": "e3b12ac9-7292-4d5a-abaa-056c92df0f95",
   "metadata": {},
   "source": [
    "## References\n",
    "\n",
    "- Montgomery, D. C., Peck, E. A., and Vining, G. G. (2021). Introduction to linear regression analysis. John Wiley & Sons. (Chapter 10).\n",
    "- https://towardsdatascience.com/targeting-multicollinearity-with-python-3bd3b4088d0b\n",
    "- https://en.wikipedia.org/wiki/Linear_independence\n",
    "- https://people.stat.sc.edu/hansont/stat704/notes12.pdf"
   ]
  },
  {
   "cell_type": "code",
   "execution_count": 23,
   "id": "79da5a07-7d7f-4a8b-9195-46d9e17f50d1",
   "metadata": {
    "ExecuteTime": {
     "end_time": "2023-10-19T15:47:19.755790730Z",
     "start_time": "2023-10-19T15:47:18.869705138Z"
    }
   },
   "outputs": [
    {
     "data": {
      "text/plain": "<IPython.core.display.HTML object>",
      "text/html": "<details>\n<summary>Click to view session information</summary>\n<pre>\n-----\nmatplotlib          3.8.0\npandas              2.1.1\nseaborn             0.13.0\nsession_info        1.0.0\nsklearn             1.3.1\nstatsmodels         0.14.0\n-----\n</pre>\n<details>\n<summary>Click to view modules imported as dependencies</summary>\n<pre>\nPIL                         10.0.1\nanyio                       NA\narrow                       1.3.0\nasttokens                   NA\nattr                        23.1.0\nattrs                       23.1.0\nbabel                       2.13.0\nbackcall                    0.2.0\ncertifi                     2023.07.22\ncffi                        1.16.0\ncharset_normalizer          3.3.0\ncomm                        0.1.4\ncycler                      0.12.1\ncython_runtime              NA\ndateutil                    2.8.2\ndebugpy                     1.8.0\ndecorator                   5.1.1\ndefusedxml                  0.7.1\nexecuting                   2.0.0\nfastjsonschema              NA\nfqdn                        NA\nidna                        3.4\nipykernel                   6.25.2\nipywidgets                  8.1.1\nisoduration                 NA\njedi                        0.19.1\njinja2                      3.1.2\njoblib                      1.3.2\njson5                       NA\njsonpointer                 2.4\njsonschema                  4.19.1\njsonschema_specifications   NA\njupyter_events              0.7.0\njupyter_server              2.7.3\njupyterlab_server           2.25.0\nkiwisolver                  1.4.5\nmarkupsafe                  2.1.3\nmatplotlib_inline           0.1.6\nmpl_toolkits                NA\nnbformat                    5.9.2\nnumpy                       1.26.0\noverrides                   NA\npackaging                   23.2\nparso                       0.8.3\npatsy                       0.5.3\npexpect                     4.8.0\npickleshare                 0.7.5\nplatformdirs                3.11.0\nprometheus_client           NA\nprompt_toolkit              3.0.39\npsutil                      5.9.5\nptyprocess                  0.7.0\npure_eval                   0.2.2\npydev_ipython               NA\npydevconsole                NA\npydevd                      2.9.5\npydevd_file_utils           NA\npydevd_plugins              NA\npydevd_tracing              NA\npygments                    2.16.1\npyparsing                   3.1.1\npythonjsonlogger            NA\npytz                        2023.3.post1\nreferencing                 NA\nrequests                    2.31.0\nrfc3339_validator           0.1.4\nrfc3986_validator           0.1.1\nrpds                        NA\nscipy                       1.11.3\nsend2trash                  NA\nsitecustomize               NA\nsix                         1.16.0\nsniffio                     1.3.0\nstack_data                  0.6.3\nthreadpoolctl               3.2.0\ntornado                     6.3.3\ntraitlets                   5.11.2\nuri_template                NA\nurllib3                     2.0.6\nwcwidth                     0.2.8\nwebcolors                   1.13\nwebsocket                   1.6.4\nyaml                        6.0.1\nzmq                         25.1.1\n</pre>\n</details> <!-- seems like this ends pre, so might as well be explicit -->\n<pre>\n-----\nIPython             8.16.1\njupyter_client      8.3.1\njupyter_core        5.3.2\njupyterlab          4.0.6\nnotebook            7.0.4\n-----\nPython 3.11.4 (main, Jun  9 2023, 07:59:55) [GCC 12.3.0]\nLinux-6.2.0-34-generic-x86_64-with-glibc2.37\n-----\nSession information updated at 2023-10-19 18:47\n</pre>\n</details>"
     },
     "execution_count": 23,
     "metadata": {},
     "output_type": "execute_result"
    }
   ],
   "source": [
    "import session_info\n",
    "session_info.show()"
   ]
  }
 ],
 "metadata": {
  "kernelspec": {
   "display_name": "Python 3 (ipykernel)",
   "language": "python",
   "name": "python3"
  },
  "language_info": {
   "codemirror_mode": {
    "name": "ipython",
    "version": 3
   },
   "file_extension": ".py",
   "mimetype": "text/x-python",
   "name": "python",
   "nbconvert_exporter": "python",
   "pygments_lexer": "ipython3",
   "version": "3.8.8"
  }
 },
 "nbformat": 4,
 "nbformat_minor": 5
}
