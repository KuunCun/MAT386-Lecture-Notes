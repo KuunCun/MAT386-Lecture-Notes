{
 "cells": [
  {
   "cell_type": "markdown",
   "metadata": {},
   "source": [
    "<left><img width=100% height=100% src=\"img/itu_logo.png\"></left>\n",
    "\n",
    "## Lecture 14: Hierarchical Clustering\n",
    "\n",
    "### __Gül İnan__<br><br>Istanbul Technical University\n",
    "\n",
    "<br>"
   ]
  },
  {
   "cell_type": "markdown",
   "metadata": {},
   "source": [
    "<br>"
   ]
  },
  {
   "cell_type": "markdown",
   "metadata": {
    "tags": []
   },
   "source": [
    "# Hierarchical Clustering\n",
    "\n",
    "## Motivation\n",
    "\n",
    "- One potential **disadvantage** of **K-means** clustering is that it requires us to **pre-specify** the number of clusters $K$.\n",
    "\n",
    "## Hierarchical Clustering\n",
    "\n",
    "- `Hierarchical clustering` techniques are a second important category of clustering methods in practice.\n",
    "- There are two ways for generating a hierarchical clustering:\n",
    "\n",
    "   - `Agglomerative`: Start with the points as individual clusters and, at each step, merge the closest pair of clusters.\n",
    "   - `Divisive`: Start with one, all-inclusive cluster and, at each step, split a cluster until only singleton clusters of individual points remain.\n",
    "   \n",
    "-  `Agglomerative` hierarchical clustering techniques are by far the most common, and, we will focus on it only."
   ]
  },
  {
   "cell_type": "markdown",
   "metadata": {},
   "source": [
    "## Example\n",
    "\n",
    "To illustrate the behavior of `Agglomerative` hierarchical clustering algorithms, let's use a synthetic data collected on two features for n=6 observations."
   ]
  },
  {
   "cell_type": "code",
   "execution_count": 1,
   "metadata": {},
   "outputs": [
    {
     "data": {
      "text/html": [
       "<div>\n",
       "<style scoped>\n",
       "    .dataframe tbody tr th:only-of-type {\n",
       "        vertical-align: middle;\n",
       "    }\n",
       "\n",
       "    .dataframe tbody tr th {\n",
       "        vertical-align: top;\n",
       "    }\n",
       "\n",
       "    .dataframe thead th {\n",
       "        text-align: right;\n",
       "    }\n",
       "</style>\n",
       "<table border=\"1\" class=\"dataframe\">\n",
       "  <thead>\n",
       "    <tr style=\"text-align: right;\">\n",
       "      <th></th>\n",
       "      <th>x1</th>\n",
       "      <th>x2</th>\n",
       "    </tr>\n",
       "  </thead>\n",
       "  <tbody>\n",
       "    <tr>\n",
       "      <th>p1</th>\n",
       "      <td>0.40</td>\n",
       "      <td>0.53</td>\n",
       "    </tr>\n",
       "    <tr>\n",
       "      <th>p2</th>\n",
       "      <td>0.21</td>\n",
       "      <td>0.38</td>\n",
       "    </tr>\n",
       "    <tr>\n",
       "      <th>p3</th>\n",
       "      <td>0.35</td>\n",
       "      <td>0.32</td>\n",
       "    </tr>\n",
       "    <tr>\n",
       "      <th>p4</th>\n",
       "      <td>0.26</td>\n",
       "      <td>0.19</td>\n",
       "    </tr>\n",
       "    <tr>\n",
       "      <th>p5</th>\n",
       "      <td>0.08</td>\n",
       "      <td>0.41</td>\n",
       "    </tr>\n",
       "    <tr>\n",
       "      <th>p6</th>\n",
       "      <td>0.45</td>\n",
       "      <td>0.30</td>\n",
       "    </tr>\n",
       "  </tbody>\n",
       "</table>\n",
       "</div>"
      ],
      "text/plain": [
       "      x1    x2\n",
       "p1  0.40  0.53\n",
       "p2  0.21  0.38\n",
       "p3  0.35  0.32\n",
       "p4  0.26  0.19\n",
       "p5  0.08  0.41\n",
       "p6  0.45  0.30"
      ]
     },
     "execution_count": 1,
     "metadata": {},
     "output_type": "execute_result"
    }
   ],
   "source": [
    "import numpy as np\n",
    "import pandas as pd\n",
    "\n",
    "data = {'x1': [0.40,0.21,0.35,0.26,0.08,0.45],\n",
    "        'x2': [0.53,0.38,0.32,0.19,0.41,0.30]}\n",
    "\n",
    "\n",
    "df = pd.DataFrame(data, index = [\"p1\",\"p2\",\"p3\",\"p4\",\"p5\",\"p6\"])\n",
    "\n",
    "df"
   ]
  },
  {
   "cell_type": "code",
   "execution_count": 2,
   "metadata": {},
   "outputs": [
    {
     "data": {
      "image/png": "[encoded data removed]",
      "text/plain": [
       "<Figure size 576x576 with 1 Axes>"
      ]
     },
     "metadata": {
      "needs_background": "light"
     },
     "output_type": "display_data"
    }
   ],
   "source": [
    "#visualize the data\n",
    "from matplotlib import pyplot as plt\n",
    "fig = plt.figure(figsize=(8, 8))\n",
    "\n",
    "plt.scatter(df[\"x1\"],df[\"x2\"])\n",
    "for i in range(1,7):\n",
    "    plt.annotate(i, (df[\"x1\"][i-1], df[\"x2\"][i-1]))\n",
    "plt.xlabel(\"Feature_1\")\n",
    "plt.ylabel(\"Feature_2\")\n",
    "plt.show();"
   ]
  },
  {
   "cell_type": "markdown",
   "metadata": {},
   "source": [
    "Question: How can we cluster these 6 points via `agglomerative algorithm`?"
   ]
  },
  {
   "cell_type": "markdown",
   "metadata": {},
   "source": [
    "## Agglomerative Clustering\n",
    "\n",
    "- `Agglomerative algorithm` starts at the **bottom** by treating **each observation** as a **cluster**.\n",
    "- Then, it recursively **merges** a selected **pair of clusters** into a **bigger cluster**.\n",
    "- The **selected pair of clusters** has the **smallest dissimilarity** (that's most similar) measure among all possible pairs.\n",
    "- In other words, each time it **merges** two most similar clusters, until there is **only one cluster left**.\n",
    "\n",
    "\n",
    "| ![space-1.jpg](img/linkage1.png)|\n",
    "|:--:|\n",
    "|<b>A nested Cluster Diagram</b>|"
   ]
  },
  {
   "cell_type": "markdown",
   "metadata": {},
   "source": [
    "\n",
    "## Dendrograms\n",
    "-  **Hierarchical** clustering has an added **advantage over** **K-means** clustering such that it results in an attractive **tree-based** representation of the observations, called `dendrogram`.\n",
    "- Dendrograms are generally displayed as an **upside-down tree** which shows both the cluster-subcluster relationships and the order in which the clusters are merged.\n",
    "- We can draw a dendogram of our data using [`dendrogram`](https://docs.scipy.org/doc/scipy/reference/generated/scipy.cluster.hierarchy.dendrogram.html#scipy.cluster.hierarchy.dendrogram) function from [`scipy.cluster.hierarchy`](https://docs.scipy.org/doc/scipy/reference/cluster.hierarchy.html). "
   ]
  },
  {
   "cell_type": "code",
   "execution_count": 3,
   "metadata": {},
   "outputs": [
    {
     "data": {
      "image/png": "[encoded data removed]",
      "text/plain": [
       "<Figure size 1152x576 with 1 Axes>"
      ]
     },
     "metadata": {
      "needs_background": "light"
     },
     "output_type": "display_data"
    }
   ],
   "source": [
    "#play with method='single', 'complete', 'average', ’ward’\n",
    "from scipy.cluster.hierarchy import dendrogram, linkage\n",
    "from matplotlib import pyplot as plt\n",
    "\n",
    "fig = plt.figure(figsize=(16, 8))\n",
    "\n",
    "#first calculate the linkage matrix and apply the dendrogram on the linkage matrix\n",
    "\n",
    "Z = linkage(df, method='single', metric='euclidean')\n",
    "\n",
    "dn = dendrogram(Z, labels=np.arange(1,7))\n",
    "plt.title(\"Agglomerative Clustering with Single Leakage\")\n",
    "plt.xlabel(\"Sample index\")\n",
    "plt.ylabel(\"Cluster distance\")\n",
    "plt.show();"
   ]
  },
  {
   "cell_type": "markdown",
   "metadata": {},
   "source": [
    "| ![space-1.jpg](img/linkage1.png) |\n",
    "|:--:|\n",
    "| <b>Single Link Clustering</b>|"
   ]
  },
  {
   "cell_type": "markdown",
   "metadata": {},
   "source": [
    "## Interpretation of Dendrogram\n",
    "\n",
    "- As we can see, dendrogram is a **tree-like** plot, and \n",
    "each **leaf** of the dendogram represents one of the 6 observations. \n",
    "- However, as we move up the\n",
    "tree, some leaves begin to **fuse (join)** into branches. \n",
    "- These correspond to **observations** that are **similar**\n",
    "to each other. \n",
    "- As we move higher up the three, branches also fuse (join), either with leaves or other branches.\n",
    "- The earlier fusions occur, the more similar the groups of observations are to each other.\n",
    "    - For example, we can see that the minimum **euclidean distance** is between the points 3 and 6, that's 0.10, and they fuse into a branch at the earliest. Similarly, the second minimum **euclidean distance** is between the points 2 and 5, that's 0.14, and they fuse into a branch at the earliest too. "
   ]
  },
  {
   "cell_type": "code",
   "execution_count": 4,
   "metadata": {},
   "outputs": [
    {
     "data": {
      "text/html": [
       "<div>\n",
       "<style scoped>\n",
       "    .dataframe tbody tr th:only-of-type {\n",
       "        vertical-align: middle;\n",
       "    }\n",
       "\n",
       "    .dataframe tbody tr th {\n",
       "        vertical-align: top;\n",
       "    }\n",
       "\n",
       "    .dataframe thead th {\n",
       "        text-align: right;\n",
       "    }\n",
       "</style>\n",
       "<table border=\"1\" class=\"dataframe\">\n",
       "  <thead>\n",
       "    <tr style=\"text-align: right;\">\n",
       "      <th></th>\n",
       "      <th>1</th>\n",
       "      <th>2</th>\n",
       "      <th>3</th>\n",
       "      <th>4</th>\n",
       "      <th>5</th>\n",
       "      <th>6</th>\n",
       "    </tr>\n",
       "  </thead>\n",
       "  <tbody>\n",
       "    <tr>\n",
       "      <th>1</th>\n",
       "      <td>0.0000</td>\n",
       "      <td>0.2421</td>\n",
       "      <td>0.2159</td>\n",
       "      <td>0.3677</td>\n",
       "      <td>0.3418</td>\n",
       "      <td>0.2354</td>\n",
       "    </tr>\n",
       "    <tr>\n",
       "      <th>2</th>\n",
       "      <td>0.2421</td>\n",
       "      <td>0.0000</td>\n",
       "      <td>0.1523</td>\n",
       "      <td>0.1965</td>\n",
       "      <td>0.1334</td>\n",
       "      <td>0.2530</td>\n",
       "    </tr>\n",
       "    <tr>\n",
       "      <th>3</th>\n",
       "      <td>0.2159</td>\n",
       "      <td>0.1523</td>\n",
       "      <td>0.0000</td>\n",
       "      <td>0.1581</td>\n",
       "      <td>0.2846</td>\n",
       "      <td>0.1020</td>\n",
       "    </tr>\n",
       "    <tr>\n",
       "      <th>4</th>\n",
       "      <td>0.3677</td>\n",
       "      <td>0.1965</td>\n",
       "      <td>0.1581</td>\n",
       "      <td>0.0000</td>\n",
       "      <td>0.2843</td>\n",
       "      <td>0.2195</td>\n",
       "    </tr>\n",
       "    <tr>\n",
       "      <th>5</th>\n",
       "      <td>0.3418</td>\n",
       "      <td>0.1334</td>\n",
       "      <td>0.2846</td>\n",
       "      <td>0.2843</td>\n",
       "      <td>0.0000</td>\n",
       "      <td>0.3860</td>\n",
       "    </tr>\n",
       "    <tr>\n",
       "      <th>6</th>\n",
       "      <td>0.2354</td>\n",
       "      <td>0.2530</td>\n",
       "      <td>0.1020</td>\n",
       "      <td>0.2195</td>\n",
       "      <td>0.3860</td>\n",
       "      <td>0.0000</td>\n",
       "    </tr>\n",
       "  </tbody>\n",
       "</table>\n",
       "</div>"
      ],
      "text/plain": [
       "        1       2       3       4       5       6\n",
       "1  0.0000  0.2421  0.2159  0.3677  0.3418  0.2354\n",
       "2  0.2421  0.0000  0.1523  0.1965  0.1334  0.2530\n",
       "3  0.2159  0.1523  0.0000  0.1581  0.2846  0.1020\n",
       "4  0.3677  0.1965  0.1581  0.0000  0.2843  0.2195\n",
       "5  0.3418  0.1334  0.2846  0.2843  0.0000  0.3860\n",
       "6  0.2354  0.2530  0.1020  0.2195  0.3860  0.0000"
      ]
     },
     "execution_count": 4,
     "metadata": {},
     "output_type": "execute_result"
    }
   ],
   "source": [
    "from sklearn.metrics.pairwise import euclidean_distances\n",
    "\n",
    "dist = pd.DataFrame(euclidean_distances(df),index=np.arange(1,7), columns=np.arange(1,7))\n",
    "dist.round(4)"
   ]
  },
  {
   "cell_type": "markdown",
   "metadata": {},
   "source": [
    "- The **height of the fusion**, as measured on the **vertical axis**, shows us how different the two observations are.\n",
    "- Thus, observations that fuse at the very bottom of the tree are quite similar to each other."
   ]
  },
  {
   "cell_type": "markdown",
   "metadata": {},
   "source": [
    "## How can we measure distance between CLUSTERs?\n",
    "- But, how can we measure the distance between cluster (3,6) and the cluster (2,5), or any other sigle point? \n",
    "- How do we **measure distances between two clusters** when one cluster involves more than two observations? \n",
    "- We need a metric for measuring **distances between clusters** (not single data points)."
   ]
  },
  {
   "cell_type": "markdown",
   "metadata": {
    "tags": []
   },
   "source": [
    "## Detailed Agglomerative Clustering Algorithm\n",
    "\n",
    "Here, we have a more general structure of agglomerative clustering algorithm:\n",
    "\n",
    "   - At first, each of the n observations is treated as its own cluster.\n",
    "      - For example, we have six clusters: {1}, {2}, {3}, {4}, {5}, and {6}.     \n",
    "   - Calculate ${n \\choose 2}=\\frac{n(n-1)}{2}$ pairwise dissimilarities **between n observations** through a measure such as Euclidean distance. \n",
    "   - Examine all pairwise dissimilarities and **fuse** two clusters that are least dissimilar (that's most similar). The dissimilarity between these two clusters also gives the **height in the dendogram** at which the fusion should be placed.\n",
    "     - For example, in the Euclidean distance matrix above, the smallest distance is between the pair (3,6), that's 0.10. Merge them into a single cluster that we have now five clusters: {3, 6}, {1}, {2}, {4}, and {5}. The second smallest distance is between the pair (2,5), that's 0.13.  Merge them into a single cluster that we have now four clusters: {3, 6}, {2,5}, {1}, and {4}.\n",
    "   - At the next iteration, compute the new pairwise dissimilarities **between remaining clusters** through a measure such as `single linkage`, `complete linkage`, `average linkage`, or `Ward's method` since at least one cluster now contains more than one observation."
   ]
  },
  {
   "cell_type": "markdown",
   "metadata": {},
   "source": [
    "### `Single linkage`\n",
    "\n",
    "- `Single linkage` defines the **distance between two clusters** as the minimum distance between their observations. For that reason, it computes all pairwise dissimilarities between the observations in two clusters, and record the **smallest** of these  dissimilarities.  \n",
    "     - For example, we have now four clusters above: {3, 6}, {2,5}, {1}, and {4}. Let's calculate the `single linkage` between the cluster {3, 6} and the other three clusters, respectively: \n",
    "     \n",
    "       - **dist({3,6}, {2,5})**: $min(dist(3,2),dist(3,5),dist(6,2),dist(6,5))=min(0.15,0.28,0.25,0.39)=0.14$\n",
    "       - **dist({3,6}, {4})**: $min(dist(3,4),dist(6,4))=min(0.16,0.22)=0.16$\n",
    "       - **dist({3,6}, {1})**: $min(dist(3,1),dist(6,1))=min(0.22, 0.24)=0.22$\n",
    "\n",
    "- Then, `single linkage` merges the cluster with another cluster that have the **smallest single linkage** with it.\n",
    "     - In this example, since the single linkage value between the cluster {3,6} and the cluster {2,5} is the **minimum**, we merge these two clusters into a single cluster. Furthermore, notice that the height at which they are joined into one cluster in dendogram is 0.14.     "
   ]
  },
  {
   "cell_type": "markdown",
   "metadata": {},
   "source": [
    "### `Complete linkage` \n",
    " - `Complete linkage` defines the **distance between two clusters** as the maximum distance between their observations. For that reason, it computes all pairwise dissimilarities between the observations in two clusters, and record the **largest** of these  dissimilarities.  \n",
    "      - For example, we have now four clusters above: {3, 6}, {2,5}, {1}, and {4}. Let's calculate the `complete linkage` between the cluster {3, 6} and the other three clusters, respectively: \n",
    "     \n",
    "        - **dist({3,6}, {2,5})**: $max(dist(3,2),dist(3,5),dist(6,2),dist(6,5))=max(0.15,0.28,0.25,0.39)=0.39$\n",
    "        - **dist({3,6}, {4})**: $max(dist(3,4),dist(6,4))=max(0.16,0.22)=0.22$\n",
    "        - **dist({3,6}, {1})**: $max(dist(3,1),dist(6,1))=max(0.22,0.24)=0.24$\n",
    "        \n",
    "- Then, `complete linkage` merges the cluster with another cluster that have the **smallest complete linkage** with it.      \n",
    "       \n",
    "     - In this example, since the complete linkage value between is the cluster {3,6} and the cluster {4} is the **minimum**, we merge these two clusters into a cluster. Furthermore, notice that the height at which they are joined into one cluster in dendogram is 0.22.        "
   ]
  },
  {
   "cell_type": "code",
   "execution_count": 5,
   "metadata": {},
   "outputs": [
    {
     "data": {
      "image/png": "[encoded data removed]",
      "text/plain": [
       "<Figure size 1152x576 with 1 Axes>"
      ]
     },
     "metadata": {
      "needs_background": "light"
     },
     "output_type": "display_data"
    }
   ],
   "source": [
    "#play with method='single', 'complete', 'average', ’ward’\n",
    "from scipy.cluster.hierarchy import dendrogram, linkage\n",
    "from matplotlib import pyplot as plt\n",
    "\n",
    "\n",
    "fig = plt.figure(figsize=(16, 8))\n",
    "\n",
    "Z = linkage(df, method='complete', metric='euclidean')\n",
    "dn = dendrogram(Z,labels=np.arange(1,7))\n",
    "plt.title(\"Agglomerative Clustering with Complete Leakage\")\n",
    "plt.xlabel(\"Sample index\")\n",
    "plt.ylabel(\"Cluster distance\")\n",
    "plt.show();"
   ]
  },
  {
   "cell_type": "markdown",
   "metadata": {},
   "source": [
    "| ![space-1.jpg](img/linkage2.png) |\n",
    "|:--:|\n",
    "| <b>Complete Link Clustering</b>|"
   ]
  },
  {
   "cell_type": "markdown",
   "metadata": {},
   "source": [
    "### `Average linkage`\n",
    "\n",
    "- `Average linkage` defines the **distance between two clusters** as the average distance between their observations. For that reason, it computes all pairwise dissimilarities between the observations in two clusters, and record the **average** of these  dissimilarities. \n",
    "\n",
    "     - For example, we have now four clusters above: {3, 6}, {2,5}, {1}, and {4}. Let's calculate the `average linkage` between the cluster {3, 6} and the other three clusters, respectively: \n",
    "     \n",
    "        - **dist({3,6}, {2,5})**: $avg(dist(3,2),dist(3,5),dist(6,2),dist(6,5))=avg(0.15,0.28,0.25,0.39)=0.35$\n",
    "        - **dist({3,6}, {4})**: $avg(dist(3,4),dist(6,4))=avg(0.16,0.22)=0.19$\n",
    "        - **dist({3,6}, {1})**: $avg(dist(3,1),dist(6,1))=avg(0.22, 0.24)=0.23$\n",
    "        \n",
    "- Then, `average linkage` merges two clusters that have **the smallest average linkage**.  \n",
    "\n",
    "     - In this example, since the average linkage value between is the cluster {3,6} and the cluster {4} is the **minimum**, we merge these two clusters into a cluster. Furthermore, notice that the height at which they are joined into one cluster in dendogram is 0.19.  "
   ]
  },
  {
   "cell_type": "code",
   "execution_count": 6,
   "metadata": {},
   "outputs": [
    {
     "data": {
      "image/png": "[encoded data removed]",
      "text/plain": [
       "<Figure size 1152x576 with 1 Axes>"
      ]
     },
     "metadata": {
      "needs_background": "light"
     },
     "output_type": "display_data"
    }
   ],
   "source": [
    "#play with method='single', 'complete', 'average', ’ward’\n",
    "from scipy.cluster.hierarchy import dendrogram, linkage\n",
    "from matplotlib import pyplot as plt\n",
    "\n",
    "\n",
    "fig = plt.figure(figsize=(16, 8))\n",
    "\n",
    "Z = linkage(df, method='average', metric='euclidean')\n",
    "dn = dendrogram(Z,labels=np.arange(1,7))\n",
    "plt.title(\"Agglomerative Clustering with Average Leakage\")\n",
    "plt.xlabel(\"Sample index\")\n",
    "plt.ylabel(\"Cluster distance\")\n",
    "plt.show();"
   ]
  },
  {
   "cell_type": "markdown",
   "metadata": {},
   "source": [
    "| ![space-1.jpg](img/linkage2.png) |\n",
    "|:--:|\n",
    "| <b>Average Link Clustering</b>|"
   ]
  },
  {
   "cell_type": "markdown",
   "metadata": {},
   "source": [
    "### `Ward's Method`\n",
    "\n",
    "- `Ward's Method` computes how much the **sum of squares will increase** when we merge two clusters $C_1$ and $C_2$:\n",
    "\n",
    "\n",
    "$$\n",
    "\\begin{equation}\n",
    "\\Delta(C_1,C_2)=\\sum_{i \\in C_1 \\cup C_2}\\vert \\vert \\mathbf{x}_{i}-\\boldsymbol{\\mu}_{C_1 \\cup C_2} \\vert \\vert^2_2- \\sum_{i \\in C_1 }\\vert \\vert \\mathbf{x}_{i}-\\boldsymbol{\\mu}_{C_1} \\vert \\vert^2_2- \\sum_{i \\in C_2 }\\vert \\vert \\mathbf{x}_{i}-\\boldsymbol{\\mu}_{C_2} \\vert \\vert^2_2, \\nonumber\n",
    "\\end{equation}\n",
    "$$\n",
    "\n",
    "- where $\\boldsymbol{\\mu}_{C_1 \\cup C_2}$ is the center of merged cluster, $\\boldsymbol{\\mu}_{C_1}$ is the center of the first cluster, and $\\boldsymbol{\\mu}_{C_2}$ is the center of the second cluster. $\\Delta(C_1,C_2)$ is called the `merging cost` of combining the clusters $C_1$ and $C_2$."
   ]
  },
  {
   "cell_type": "code",
   "execution_count": 7,
   "metadata": {},
   "outputs": [
    {
     "data": {
      "image/png": "[encoded data removed]",
      "text/plain": [
       "<Figure size 1152x576 with 1 Axes>"
      ]
     },
     "metadata": {
      "needs_background": "light"
     },
     "output_type": "display_data"
    }
   ],
   "source": [
    "#play with method='single', 'complete', 'average', ’ward’\n",
    "from scipy.cluster.hierarchy import dendrogram, linkage\n",
    "from matplotlib import pyplot as plt\n",
    "\n",
    "\n",
    "fig = plt.figure(figsize=(16, 8))\n",
    "\n",
    "Z = linkage(df, method='ward', metric='euclidean')\n",
    "dn = dendrogram(Z,labels=np.arange(1,7))\n",
    "plt.title(\"Agglomerative Clustering with Ward's Method\")\n",
    "plt.xlabel(\"Sample index\")\n",
    "plt.ylabel(\"Cluster distance\")\n",
    "plt.show();"
   ]
  },
  {
   "cell_type": "markdown",
   "metadata": {},
   "source": [
    "| ![space-1.jpg](img/linkage4.png) |\n",
    "|:--:|\n",
    "| <b>Ward's Clustering</b>|"
   ]
  },
  {
   "cell_type": "markdown",
   "metadata": {},
   "source": [
    "- We have now three clusters depending on the linkage type we have used. \n",
    "- **We should proceed the algorithm untill all n observations belong to one single cluster and the dendogram is complete.**"
   ]
  },
  {
   "cell_type": "markdown",
   "metadata": {
    "slideshow": {
     "slide_type": "slide"
    }
   },
   "source": [
    "### Agglomerative Clustering on Human Development Index (HDI)\n",
    "\n",
    "- The United Nations (UN) maintains an [index](https://hdr.undp.org/data-center/documentation-and-downloads) for 191 countries describing the overall level of human development of each country based on three pillars: health, education, and standard of living. Specifically, the human developlment index (HDI) dataset is based on:\n",
    "\n",
    "  - Life expectancy at birth,\n",
    "  - Expected years of schooling,\n",
    "  - Mean years of schooling, and\n",
    "  - Gross national income.\n",
    "\n",
    "<br>\n",
    "<br>\n",
    "\n",
    "![](img/hdi.png)\n",
    "\n",
    "<br>\n",
    "<br>\n",
    "\n",
    "\n",
    "- The HDI score describes the overall strength of human development in a country.  The UN classifies the countries into four groups based on HDI scores as follows:\n",
    "\n",
    "\n",
    "|UN Classification             | HDI             | \n",
    "|------------------------------|-----------------|\n",
    "| Very high human development  | 0.800 and above | \n",
    "| High human development       | 0.700–0.799     | \n",
    "| Medium human development     | 0.550–0.699     |  \n",
    "| Low human development        | Below 0.550     |  "
   ]
  },
  {
   "cell_type": "markdown",
   "metadata": {},
   "source": [
    "- Our interest in this example to **find the countries** which are similar in terms of health, education, and standard of living. We can do this via clustering.\n",
    "- Let's read the data and take a look at the top and bottom countries in terms of HDI scores."
   ]
  },
  {
   "cell_type": "code",
   "execution_count": 8,
   "metadata": {},
   "outputs": [],
   "source": [
    "#required libraries\n",
    "import pandas as pd\n",
    "df = pd.read_excel('datasets/hdi.xlsx', index_col=0, header=0).round(2)"
   ]
  },
  {
   "cell_type": "code",
   "execution_count": 9,
   "metadata": {},
   "outputs": [
    {
     "data": {
      "text/html": [
       "<div>\n",
       "<style scoped>\n",
       "    .dataframe tbody tr th:only-of-type {\n",
       "        vertical-align: middle;\n",
       "    }\n",
       "\n",
       "    .dataframe tbody tr th {\n",
       "        vertical-align: top;\n",
       "    }\n",
       "\n",
       "    .dataframe thead th {\n",
       "        text-align: right;\n",
       "    }\n",
       "</style>\n",
       "<table border=\"1\" class=\"dataframe\">\n",
       "  <thead>\n",
       "    <tr style=\"text-align: right;\">\n",
       "      <th></th>\n",
       "      <th>hdi</th>\n",
       "      <th>life_exp</th>\n",
       "      <th>exp_school</th>\n",
       "      <th>mean_school</th>\n",
       "      <th>gni_capta</th>\n",
       "    </tr>\n",
       "    <tr>\n",
       "      <th>Country</th>\n",
       "      <th></th>\n",
       "      <th></th>\n",
       "      <th></th>\n",
       "      <th></th>\n",
       "      <th></th>\n",
       "    </tr>\n",
       "  </thead>\n",
       "  <tbody>\n",
       "    <tr>\n",
       "      <th>Switzerland</th>\n",
       "      <td>0.96</td>\n",
       "      <td>83.99</td>\n",
       "      <td>16.50</td>\n",
       "      <td>13.86</td>\n",
       "      <td>66933.00</td>\n",
       "    </tr>\n",
       "    <tr>\n",
       "      <th>Norway</th>\n",
       "      <td>0.96</td>\n",
       "      <td>83.23</td>\n",
       "      <td>18.19</td>\n",
       "      <td>13.00</td>\n",
       "      <td>64660.11</td>\n",
       "    </tr>\n",
       "    <tr>\n",
       "      <th>Iceland</th>\n",
       "      <td>0.96</td>\n",
       "      <td>82.68</td>\n",
       "      <td>19.16</td>\n",
       "      <td>13.77</td>\n",
       "      <td>55782.05</td>\n",
       "    </tr>\n",
       "    <tr>\n",
       "      <th>Hong Kong, China (SAR)</th>\n",
       "      <td>0.95</td>\n",
       "      <td>85.47</td>\n",
       "      <td>17.28</td>\n",
       "      <td>12.23</td>\n",
       "      <td>62606.85</td>\n",
       "    </tr>\n",
       "    <tr>\n",
       "      <th>Australia</th>\n",
       "      <td>0.95</td>\n",
       "      <td>84.53</td>\n",
       "      <td>21.05</td>\n",
       "      <td>12.73</td>\n",
       "      <td>49238.43</td>\n",
       "    </tr>\n",
       "    <tr>\n",
       "      <th>Denmark</th>\n",
       "      <td>0.95</td>\n",
       "      <td>81.38</td>\n",
       "      <td>18.71</td>\n",
       "      <td>12.96</td>\n",
       "      <td>60364.79</td>\n",
       "    </tr>\n",
       "    <tr>\n",
       "      <th>Sweden</th>\n",
       "      <td>0.95</td>\n",
       "      <td>82.98</td>\n",
       "      <td>19.42</td>\n",
       "      <td>12.61</td>\n",
       "      <td>54489.37</td>\n",
       "    </tr>\n",
       "    <tr>\n",
       "      <th>Ireland</th>\n",
       "      <td>0.94</td>\n",
       "      <td>82.00</td>\n",
       "      <td>18.95</td>\n",
       "      <td>11.58</td>\n",
       "      <td>76168.98</td>\n",
       "    </tr>\n",
       "    <tr>\n",
       "      <th>Germany</th>\n",
       "      <td>0.94</td>\n",
       "      <td>80.63</td>\n",
       "      <td>17.01</td>\n",
       "      <td>14.09</td>\n",
       "      <td>54534.22</td>\n",
       "    </tr>\n",
       "    <tr>\n",
       "      <th>Netherlands</th>\n",
       "      <td>0.94</td>\n",
       "      <td>81.69</td>\n",
       "      <td>18.69</td>\n",
       "      <td>12.58</td>\n",
       "      <td>55979.41</td>\n",
       "    </tr>\n",
       "    <tr>\n",
       "      <th>Finland</th>\n",
       "      <td>0.94</td>\n",
       "      <td>82.04</td>\n",
       "      <td>19.05</td>\n",
       "      <td>12.87</td>\n",
       "      <td>49452.17</td>\n",
       "    </tr>\n",
       "    <tr>\n",
       "      <th>Singapore</th>\n",
       "      <td>0.94</td>\n",
       "      <td>82.75</td>\n",
       "      <td>16.52</td>\n",
       "      <td>11.92</td>\n",
       "      <td>90918.64</td>\n",
       "    </tr>\n",
       "    <tr>\n",
       "      <th>Belgium</th>\n",
       "      <td>0.94</td>\n",
       "      <td>81.88</td>\n",
       "      <td>19.60</td>\n",
       "      <td>12.38</td>\n",
       "      <td>52293.40</td>\n",
       "    </tr>\n",
       "    <tr>\n",
       "      <th>New Zealand</th>\n",
       "      <td>0.94</td>\n",
       "      <td>82.45</td>\n",
       "      <td>20.28</td>\n",
       "      <td>12.94</td>\n",
       "      <td>44057.31</td>\n",
       "    </tr>\n",
       "    <tr>\n",
       "      <th>Canada</th>\n",
       "      <td>0.94</td>\n",
       "      <td>82.66</td>\n",
       "      <td>16.40</td>\n",
       "      <td>13.83</td>\n",
       "      <td>46807.99</td>\n",
       "    </tr>\n",
       "  </tbody>\n",
       "</table>\n",
       "</div>"
      ],
      "text/plain": [
       "                         hdi  life_exp  exp_school  mean_school  gni_capta\n",
       "Country                                                                   \n",
       "Switzerland             0.96     83.99       16.50        13.86   66933.00\n",
       "Norway                  0.96     83.23       18.19        13.00   64660.11\n",
       "Iceland                 0.96     82.68       19.16        13.77   55782.05\n",
       "Hong Kong, China (SAR)  0.95     85.47       17.28        12.23   62606.85\n",
       "Australia               0.95     84.53       21.05        12.73   49238.43\n",
       "Denmark                 0.95     81.38       18.71        12.96   60364.79\n",
       "Sweden                  0.95     82.98       19.42        12.61   54489.37\n",
       "Ireland                 0.94     82.00       18.95        11.58   76168.98\n",
       "Germany                 0.94     80.63       17.01        14.09   54534.22\n",
       "Netherlands             0.94     81.69       18.69        12.58   55979.41\n",
       "Finland                 0.94     82.04       19.05        12.87   49452.17\n",
       "Singapore               0.94     82.75       16.52        11.92   90918.64\n",
       "Belgium                 0.94     81.88       19.60        12.38   52293.40\n",
       "New Zealand             0.94     82.45       20.28        12.94   44057.31\n",
       "Canada                  0.94     82.66       16.40        13.83   46807.99"
      ]
     },
     "execution_count": 9,
     "metadata": {},
     "output_type": "execute_result"
    }
   ],
   "source": [
    "#let's see top 15 countries in terms of HDI values\n",
    "df.head(15)"
   ]
  },
  {
   "cell_type": "code",
   "execution_count": 10,
   "metadata": {},
   "outputs": [
    {
     "data": {
      "text/html": [
       "<div>\n",
       "<style scoped>\n",
       "    .dataframe tbody tr th:only-of-type {\n",
       "        vertical-align: middle;\n",
       "    }\n",
       "\n",
       "    .dataframe tbody tr th {\n",
       "        vertical-align: top;\n",
       "    }\n",
       "\n",
       "    .dataframe thead th {\n",
       "        text-align: right;\n",
       "    }\n",
       "</style>\n",
       "<table border=\"1\" class=\"dataframe\">\n",
       "  <thead>\n",
       "    <tr style=\"text-align: right;\">\n",
       "      <th></th>\n",
       "      <th>hdi</th>\n",
       "      <th>life_exp</th>\n",
       "      <th>exp_school</th>\n",
       "      <th>mean_school</th>\n",
       "      <th>gni_capta</th>\n",
       "    </tr>\n",
       "    <tr>\n",
       "      <th>Country</th>\n",
       "      <th></th>\n",
       "      <th></th>\n",
       "      <th></th>\n",
       "      <th></th>\n",
       "      <th></th>\n",
       "    </tr>\n",
       "  </thead>\n",
       "  <tbody>\n",
       "    <tr>\n",
       "      <th>Guinea</th>\n",
       "      <td>0.46</td>\n",
       "      <td>58.89</td>\n",
       "      <td>9.81</td>\n",
       "      <td>2.20</td>\n",
       "      <td>2480.89</td>\n",
       "    </tr>\n",
       "    <tr>\n",
       "      <th>Yemen</th>\n",
       "      <td>0.46</td>\n",
       "      <td>63.75</td>\n",
       "      <td>9.10</td>\n",
       "      <td>3.20</td>\n",
       "      <td>1314.27</td>\n",
       "    </tr>\n",
       "    <tr>\n",
       "      <th>Burkina Faso</th>\n",
       "      <td>0.45</td>\n",
       "      <td>59.27</td>\n",
       "      <td>9.14</td>\n",
       "      <td>2.11</td>\n",
       "      <td>2117.92</td>\n",
       "    </tr>\n",
       "    <tr>\n",
       "      <th>Mozambique</th>\n",
       "      <td>0.45</td>\n",
       "      <td>59.32</td>\n",
       "      <td>10.22</td>\n",
       "      <td>3.20</td>\n",
       "      <td>1198.07</td>\n",
       "    </tr>\n",
       "    <tr>\n",
       "      <th>Mali</th>\n",
       "      <td>0.43</td>\n",
       "      <td>58.94</td>\n",
       "      <td>7.42</td>\n",
       "      <td>2.31</td>\n",
       "      <td>2132.63</td>\n",
       "    </tr>\n",
       "    <tr>\n",
       "      <th>Burundi</th>\n",
       "      <td>0.43</td>\n",
       "      <td>61.66</td>\n",
       "      <td>10.72</td>\n",
       "      <td>3.13</td>\n",
       "      <td>731.79</td>\n",
       "    </tr>\n",
       "    <tr>\n",
       "      <th>Central African Republic</th>\n",
       "      <td>0.40</td>\n",
       "      <td>53.89</td>\n",
       "      <td>8.04</td>\n",
       "      <td>4.33</td>\n",
       "      <td>966.06</td>\n",
       "    </tr>\n",
       "    <tr>\n",
       "      <th>Niger</th>\n",
       "      <td>0.40</td>\n",
       "      <td>61.58</td>\n",
       "      <td>6.96</td>\n",
       "      <td>2.12</td>\n",
       "      <td>1239.87</td>\n",
       "    </tr>\n",
       "    <tr>\n",
       "      <th>Chad</th>\n",
       "      <td>0.39</td>\n",
       "      <td>52.53</td>\n",
       "      <td>8.04</td>\n",
       "      <td>2.57</td>\n",
       "      <td>1364.17</td>\n",
       "    </tr>\n",
       "    <tr>\n",
       "      <th>South Sudan</th>\n",
       "      <td>0.38</td>\n",
       "      <td>54.98</td>\n",
       "      <td>5.54</td>\n",
       "      <td>5.73</td>\n",
       "      <td>767.79</td>\n",
       "    </tr>\n",
       "  </tbody>\n",
       "</table>\n",
       "</div>"
      ],
      "text/plain": [
       "                           hdi  life_exp  exp_school  mean_school  gni_capta\n",
       "Country                                                                     \n",
       "Guinea                    0.46     58.89        9.81         2.20    2480.89\n",
       "Yemen                     0.46     63.75        9.10         3.20    1314.27\n",
       "Burkina Faso              0.45     59.27        9.14         2.11    2117.92\n",
       "Mozambique                0.45     59.32       10.22         3.20    1198.07\n",
       "Mali                      0.43     58.94        7.42         2.31    2132.63\n",
       "Burundi                   0.43     61.66       10.72         3.13     731.79\n",
       "Central African Republic  0.40     53.89        8.04         4.33     966.06\n",
       "Niger                     0.40     61.58        6.96         2.12    1239.87\n",
       "Chad                      0.39     52.53        8.04         2.57    1364.17\n",
       "South Sudan               0.38     54.98        5.54         5.73     767.79"
      ]
     },
     "execution_count": 10,
     "metadata": {},
     "output_type": "execute_result"
    }
   ],
   "source": [
    "#let's see bottom 10 countries in terms of HDI values\n",
    "df.tail(10)"
   ]
  },
  {
   "cell_type": "code",
   "execution_count": 11,
   "metadata": {},
   "outputs": [
    {
     "data": {
      "text/plain": [
       "(191, 5)"
      ]
     },
     "execution_count": 11,
     "metadata": {},
     "output_type": "execute_result"
    }
   ],
   "source": [
    "df.shape"
   ]
  },
  {
   "cell_type": "code",
   "execution_count": 12,
   "metadata": {},
   "outputs": [
    {
     "data": {
      "text/html": [
       "<div>\n",
       "<style scoped>\n",
       "    .dataframe tbody tr th:only-of-type {\n",
       "        vertical-align: middle;\n",
       "    }\n",
       "\n",
       "    .dataframe tbody tr th {\n",
       "        vertical-align: top;\n",
       "    }\n",
       "\n",
       "    .dataframe thead th {\n",
       "        text-align: right;\n",
       "    }\n",
       "</style>\n",
       "<table border=\"1\" class=\"dataframe\">\n",
       "  <thead>\n",
       "    <tr style=\"text-align: right;\">\n",
       "      <th></th>\n",
       "      <th>hdi</th>\n",
       "      <th>life_exp</th>\n",
       "      <th>exp_school</th>\n",
       "      <th>mean_school</th>\n",
       "      <th>gni_capta</th>\n",
       "    </tr>\n",
       "    <tr>\n",
       "      <th>Country</th>\n",
       "      <th></th>\n",
       "      <th></th>\n",
       "      <th></th>\n",
       "      <th></th>\n",
       "      <th></th>\n",
       "    </tr>\n",
       "  </thead>\n",
       "  <tbody>\n",
       "    <tr>\n",
       "      <th>Türkiye</th>\n",
       "      <td>0.84</td>\n",
       "      <td>76.03</td>\n",
       "      <td>18.34</td>\n",
       "      <td>8.63</td>\n",
       "      <td>31032.8</td>\n",
       "    </tr>\n",
       "  </tbody>\n",
       "</table>\n",
       "</div>"
      ],
      "text/plain": [
       "          hdi  life_exp  exp_school  mean_school  gni_capta\n",
       "Country                                                    \n",
       "Türkiye  0.84     76.03       18.34         8.63    31032.8"
      ]
     },
     "execution_count": 12,
     "metadata": {},
     "output_type": "execute_result"
    }
   ],
   "source": [
    "df.loc[[\"Türkiye\"]]"
   ]
  },
  {
   "cell_type": "markdown",
   "metadata": {},
   "source": [
    "For illustration, let's apply agglomerative clustering to find sub-groups of countries. We need to **standardize** the numerical features before clustering."
   ]
  },
  {
   "cell_type": "code",
   "execution_count": 13,
   "metadata": {},
   "outputs": [],
   "source": [
    "from sklearn import set_config\n",
    "set_config(transform_output=\"pandas\") "
   ]
  },
  {
   "cell_type": "code",
   "execution_count": 14,
   "metadata": {},
   "outputs": [
    {
     "data": {
      "text/html": [
       "<div>\n",
       "<style scoped>\n",
       "    .dataframe tbody tr th:only-of-type {\n",
       "        vertical-align: middle;\n",
       "    }\n",
       "\n",
       "    .dataframe tbody tr th {\n",
       "        vertical-align: top;\n",
       "    }\n",
       "\n",
       "    .dataframe thead th {\n",
       "        text-align: right;\n",
       "    }\n",
       "</style>\n",
       "<table border=\"1\" class=\"dataframe\">\n",
       "  <thead>\n",
       "    <tr style=\"text-align: right;\">\n",
       "      <th></th>\n",
       "      <th>life_exp</th>\n",
       "      <th>exp_school</th>\n",
       "      <th>mean_school</th>\n",
       "      <th>gni_capta</th>\n",
       "    </tr>\n",
       "    <tr>\n",
       "      <th>Country</th>\n",
       "      <th></th>\n",
       "      <th></th>\n",
       "      <th></th>\n",
       "      <th></th>\n",
       "    </tr>\n",
       "  </thead>\n",
       "  <tbody>\n",
       "    <tr>\n",
       "      <th>Switzerland</th>\n",
       "      <td>1.662355</td>\n",
       "      <td>1.016832</td>\n",
       "      <td>1.539628</td>\n",
       "      <td>2.144605</td>\n",
       "    </tr>\n",
       "    <tr>\n",
       "      <th>Norway</th>\n",
       "      <td>1.562698</td>\n",
       "      <td>1.596364</td>\n",
       "      <td>1.267916</td>\n",
       "      <td>2.040191</td>\n",
       "    </tr>\n",
       "    <tr>\n",
       "      <th>Iceland</th>\n",
       "      <td>1.490578</td>\n",
       "      <td>1.928994</td>\n",
       "      <td>1.511193</td>\n",
       "      <td>1.632343</td>\n",
       "    </tr>\n",
       "    <tr>\n",
       "      <th>Hong Kong, China (SAR)</th>\n",
       "      <td>1.856424</td>\n",
       "      <td>1.284308</td>\n",
       "      <td>1.024638</td>\n",
       "      <td>1.945867</td>\n",
       "    </tr>\n",
       "    <tr>\n",
       "      <th>Australia</th>\n",
       "      <td>1.733164</td>\n",
       "      <td>2.577109</td>\n",
       "      <td>1.182610</td>\n",
       "      <td>1.331737</td>\n",
       "    </tr>\n",
       "  </tbody>\n",
       "</table>\n",
       "</div>"
      ],
      "text/plain": [
       "                        life_exp  exp_school  mean_school  gni_capta\n",
       "Country                                                             \n",
       "Switzerland             1.662355    1.016832     1.539628   2.144605\n",
       "Norway                  1.562698    1.596364     1.267916   2.040191\n",
       "Iceland                 1.490578    1.928994     1.511193   1.632343\n",
       "Hong Kong, China (SAR)  1.856424    1.284308     1.024638   1.945867\n",
       "Australia               1.733164    2.577109     1.182610   1.331737"
      ]
     },
     "execution_count": 14,
     "metadata": {},
     "output_type": "execute_result"
    }
   ],
   "source": [
    "from sklearn.preprocessing import StandardScaler\n",
    "\n",
    "X = df.drop(columns=[\"hdi\"])\n",
    "\n",
    "X_sd = StandardScaler().fit_transform(X)\n",
    "\n",
    "X_sd.head()"
   ]
  },
  {
   "cell_type": "markdown",
   "metadata": {},
   "source": [
    "Let's draw a dendrogram with Ward's method first."
   ]
  },
  {
   "cell_type": "code",
   "execution_count": 15,
   "metadata": {},
   "outputs": [
    {
     "data": {
      "image/png": "[encoded data removed]",
      "text/plain": [
       "<Figure size 1872x864 with 1 Axes>"
      ]
     },
     "metadata": {
      "needs_background": "light"
     },
     "output_type": "display_data"
    }
   ],
   "source": [
    "from scipy.cluster.hierarchy import dendrogram, linkage\n",
    "from matplotlib import pyplot as plt\n",
    "\n",
    "\n",
    "fig, ax = plt.subplots(figsize=(26, 12))\n",
    "\n",
    "Z = linkage(X_sd, method='ward', metric='euclidean')\n",
    "dn = dendrogram(Z,labels=X_sd.index)\n",
    "plt.title(\"Agglomerative Clustering with Ward's Method\")\n",
    "#plt.axhline(y = 19, color = 'black', linestyle = '--')\n",
    "#plt.axhline(y = 10, color = 'r', linestyle = '--')\n",
    "plt.xlabel(\"Country\")\n",
    "plt.ylabel(\"Cluster distance\")\n",
    "plt.show();"
   ]
  },
  {
   "cell_type": "markdown",
   "metadata": {},
   "source": [
    "- When we look at the dendogram, we can see that there are two main branches, where the branch on the left are **low development** countries and the right branch are the **medium-to-high development** countries. \n",
    "- By looking at the height of the fusion, we can see that countries with low development values are far behind those in the medium and high development.\n",
    "- In order to identify the clusters, we need to **make a horizontal cut across** the dendogram. The distinct sets of observations under the cut can be interpreted as clusters.\n",
    "- In this sense, cutting the dendogram at a height of 19 results in two clusters (lower and higher human development), whereas cutting the dendogram at a height of 10 results in three clusters (lower, medium, and higher human development). "
   ]
  },
  {
   "cell_type": "markdown",
   "metadata": {},
   "source": [
    "* We can also focus on a subset of this data set to better see the country names."
   ]
  },
  {
   "cell_type": "code",
   "execution_count": 16,
   "metadata": {},
   "outputs": [],
   "source": [
    "#subset\n",
    "df1 = X_sd.sample(n = 50, random_state=1773)"
   ]
  },
  {
   "cell_type": "code",
   "execution_count": 17,
   "metadata": {},
   "outputs": [
    {
     "data": {
      "image/png": "[encoded data removed]",
      "text/plain": [
       "<Figure size 1440x576 with 1 Axes>"
      ]
     },
     "metadata": {
      "needs_background": "light"
     },
     "output_type": "display_data"
    }
   ],
   "source": [
    "from scipy.cluster.hierarchy import dendrogram, linkage\n",
    "from matplotlib import pyplot as plt\n",
    "\n",
    "\n",
    "fig, ax = plt.subplots(figsize=(20, 8))\n",
    "\n",
    "Z = linkage(df1, method='ward', metric='euclidean')\n",
    "dn = dendrogram(Z,labels=df1.index)\n",
    "plt.title(\"Agglomerative Clustering with Ward's Method\")\n",
    "plt.xlabel(\"Country\")\n",
    "plt.ylabel(\"Cluster distance\")\n",
    "plt.show();"
   ]
  },
  {
   "cell_type": "markdown",
   "metadata": {},
   "source": [
    "- In the dendrogram we see a group of countries located far from each other on the globe but clustered together tightly in our tree diagram such as Argentina and Turkey.\n",
    "- In the table below we can see that Argentina and Türkiye have high life expectancy and education but low gross national income (compared to USA)."
   ]
  },
  {
   "cell_type": "code",
   "execution_count": 18,
   "metadata": {},
   "outputs": [
    {
     "data": {
      "text/html": [
       "<div>\n",
       "<style scoped>\n",
       "    .dataframe tbody tr th:only-of-type {\n",
       "        vertical-align: middle;\n",
       "    }\n",
       "\n",
       "    .dataframe tbody tr th {\n",
       "        vertical-align: top;\n",
       "    }\n",
       "\n",
       "    .dataframe thead th {\n",
       "        text-align: right;\n",
       "    }\n",
       "</style>\n",
       "<table border=\"1\" class=\"dataframe\">\n",
       "  <thead>\n",
       "    <tr style=\"text-align: right;\">\n",
       "      <th></th>\n",
       "      <th>hdi</th>\n",
       "      <th>life_exp</th>\n",
       "      <th>exp_school</th>\n",
       "      <th>mean_school</th>\n",
       "      <th>gni_capta</th>\n",
       "    </tr>\n",
       "    <tr>\n",
       "      <th>Country</th>\n",
       "      <th></th>\n",
       "      <th></th>\n",
       "      <th></th>\n",
       "      <th></th>\n",
       "      <th></th>\n",
       "    </tr>\n",
       "  </thead>\n",
       "  <tbody>\n",
       "    <tr>\n",
       "      <th>Argentina</th>\n",
       "      <td>0.84</td>\n",
       "      <td>75.39</td>\n",
       "      <td>17.87</td>\n",
       "      <td>11.15</td>\n",
       "      <td>20925.27</td>\n",
       "    </tr>\n",
       "    <tr>\n",
       "      <th>Türkiye</th>\n",
       "      <td>0.84</td>\n",
       "      <td>76.03</td>\n",
       "      <td>18.34</td>\n",
       "      <td>8.63</td>\n",
       "      <td>31032.80</td>\n",
       "    </tr>\n",
       "    <tr>\n",
       "      <th>United States</th>\n",
       "      <td>0.92</td>\n",
       "      <td>77.20</td>\n",
       "      <td>16.28</td>\n",
       "      <td>13.68</td>\n",
       "      <td>64765.22</td>\n",
       "    </tr>\n",
       "  </tbody>\n",
       "</table>\n",
       "</div>"
      ],
      "text/plain": [
       "                hdi  life_exp  exp_school  mean_school  gni_capta\n",
       "Country                                                          \n",
       "Argentina      0.84     75.39       17.87        11.15   20925.27\n",
       "Türkiye        0.84     76.03       18.34         8.63   31032.80\n",
       "United States  0.92     77.20       16.28        13.68   64765.22"
      ]
     },
     "execution_count": 18,
     "metadata": {},
     "output_type": "execute_result"
    }
   ],
   "source": [
    "df.loc[[\"Argentina\", \"Türkiye\", \"United States\"]]"
   ]
  },
  {
   "cell_type": "markdown",
   "metadata": {},
   "source": [
    "## Hierarchically Clustered Heatmap\n",
    "\n",
    "-  The `clustermap` from Seaborn library is very similar to the heatmap function, but it also represents a hierarchically-cluster of the rows and the columns of the data."
   ]
  },
  {
   "cell_type": "code",
   "execution_count": 19,
   "metadata": {},
   "outputs": [
    {
     "data": {
      "image/png": "[encoded data removed]",
      "text/plain": [
       "<Figure size 720x720 with 4 Axes>"
      ]
     },
     "metadata": {
      "needs_background": "light"
     },
     "output_type": "display_data"
    }
   ],
   "source": [
    "import seaborn as sns\n",
    "\n",
    "sns.clustermap(df1.T, method='ward', metric='euclidean', row_cluster=False, cmap = 'BuPu', vmin = -3, vmax = 3) \n",
    "plt.show();"
   ]
  },
  {
   "cell_type": "markdown",
   "metadata": {},
   "source": [
    "- Here, we can see that there are three main sub-groups:\n",
    "\n",
    "   1) The countries with low mean school year, expected school year, gni, and life expactancy.\n",
    "   2) The countries with medium mean school year, expected school year, gni, and life expactancy.\n",
    "   3) The countries with high mean school year, expected school year, gni, and life expactancy.\n",
    "   \n",
    "- We can also see that Luxembourg stands out by itsef with its high gross national income.   "
   ]
  },
  {
   "cell_type": "markdown",
   "metadata": {},
   "source": [
    "## Agglomerative Clustering Implementation\n",
    "\n",
    "- We can implement `Agglomerative Clustering` in [AgglomerativeClustering](https://scikit-learn.org/stable/modules/generated/sklearn.cluster.AgglomerativeClustering.html) class of scikit-learn's cluster submodule. \n",
    "- The main arguments are:\n",
    "\n",
    "   - `n_clusters:` The number of clusters to find. \n",
    "   - `linkage:` Which linkage criterion to use among {‘ward’, ‘complete’, ‘average’, ‘single’}. The linkage criterion determines which distance to use between sets of observation. The algorithm will merge the pairs of cluster that minimize this criterion."
   ]
  },
  {
   "cell_type": "code",
   "execution_count": 20,
   "metadata": {},
   "outputs": [
    {
     "data": {
      "text/plain": [
       "array([0, 0, 0, 0, 0, 0, 0, 0, 0, 0, 0, 0, 0, 0, 0, 0, 0, 0, 0, 0, 0, 0,\n",
       "       0, 0, 0, 0, 0, 0, 0, 0, 0, 0, 0, 0, 0, 0, 0, 0, 0, 0, 0, 0, 0, 0,\n",
       "       0, 0, 0, 0, 0, 0, 0, 2, 2, 2, 2, 2, 2, 0, 0, 2, 2, 2, 2, 2, 2, 0,\n",
       "       2, 2, 0, 0, 2, 2, 2, 2, 2, 2, 2, 2, 2, 2, 2, 2, 2, 2, 2, 2, 2, 2,\n",
       "       2, 2, 2, 2, 2, 2, 2, 2, 2, 2, 2, 2, 2, 2, 2, 2, 2, 2, 2, 2, 2, 2,\n",
       "       2, 2, 2, 2, 2, 2, 2, 2, 2, 2, 2, 2, 2, 2, 2, 2, 2, 2, 2, 2, 2, 1,\n",
       "       1, 1, 1, 1, 1, 1, 1, 1, 1, 1, 1, 1, 1, 1, 1, 1, 1, 1, 1, 1, 1, 1,\n",
       "       1, 1, 1, 1, 1, 1, 1, 1, 1, 1, 1, 1, 1, 1, 1, 1, 1, 1, 1, 1, 1, 1,\n",
       "       1, 1, 1, 1, 1, 1, 1, 1, 1, 1, 1, 1, 1, 1, 1])"
      ]
     },
     "execution_count": 20,
     "metadata": {},
     "output_type": "execute_result"
    }
   ],
   "source": [
    "from sklearn.cluster import AgglomerativeClustering\n",
    "\n",
    "hc = AgglomerativeClustering(n_clusters = 3, metric = 'euclidean', linkage = 'ward')\n",
    "\n",
    "y_hc = hc.fit_predict(X_sd)\n",
    "y_hc"
   ]
  },
  {
   "cell_type": "markdown",
   "metadata": {},
   "source": [
    "We can also compute the Silhouette score of the algorithm and use this score for comparison with other clustering algorithms."
   ]
  },
  {
   "cell_type": "code",
   "execution_count": 21,
   "metadata": {},
   "outputs": [
    {
     "name": "stdout",
     "output_type": "stream",
     "text": [
      "Silhouette Score 0.3978:\n"
     ]
    }
   ],
   "source": [
    "from sklearn.metrics import silhouette_score\n",
    "\n",
    "print(\"Silhouette Score %.4f:\" % silhouette_score(X_sd, y_hc))"
   ]
  },
  {
   "cell_type": "markdown",
   "metadata": {},
   "source": [
    "## Reference\n",
    "\n",
    "- James, G., Witten, D., Hastie, T., and Tibshirani, R. (2021). An Introduction to Statistical Learning: With Applications in R. New York: Springer.\n",
    "- Tan, P. N., Steinbach, M., & Kumar, V. (2016). Introduction to Data Mining. Pearson Education India.\n",
    "- https://hdr.undp.org/data-center/documentation-and-downloads\n",
    "- https://dai-global-digital.com/data-mining-and-the-human-development-index.html\n",
    "- https://ubc-cs.github.io/cpsc330/lectures/16_DBSCAN-hierarchical.html#hierarchical-clustering-video\n",
    "- https://www.stat.cmu.edu/~cshalizi/350/lectures/08/lecture-08.pdf"
   ]
  },
  {
   "cell_type": "code",
   "execution_count": 22,
   "metadata": {},
   "outputs": [
    {
     "data": {
      "text/html": [
       "<details>\n",
       "<summary>Click to view session information</summary>\n",
       "<pre>\n",
       "-----\n",
       "matplotlib          3.5.0\n",
       "numpy               1.23.5\n",
       "pandas              1.3.5\n",
       "scipy               1.10.1\n",
       "seaborn             0.11.2\n",
       "session_info        1.0.0\n",
       "sklearn             1.3.1\n",
       "-----\n",
       "</pre>\n",
       "<details>\n",
       "<summary>Click to view modules imported as dependencies</summary>\n",
       "<pre>\n",
       "PIL                         8.4.0\n",
       "anyio                       NA\n",
       "appnope                     0.1.2\n",
       "attr                        21.4.0\n",
       "babel                       2.9.1\n",
       "backcall                    0.2.0\n",
       "bottleneck                  1.3.2\n",
       "brotli                      1.0.9\n",
       "certifi                     2021.10.08\n",
       "cffi                        1.15.0\n",
       "chardet                     4.0.0\n",
       "charset_normalizer          2.0.4\n",
       "colorama                    0.4.4\n",
       "cycler                      0.10.0\n",
       "cython_runtime              NA\n",
       "dateutil                    2.8.2\n",
       "debugpy                     1.5.1\n",
       "decorator                   5.1.1\n",
       "defusedxml                  0.7.1\n",
       "entrypoints                 0.3\n",
       "google                      NA\n",
       "idna                        3.3\n",
       "importlib_metadata          NA\n",
       "ipykernel                   6.4.1\n",
       "ipython_genutils            0.2.0\n",
       "ipywidgets                  7.6.5\n",
       "jedi                        0.18.1\n",
       "jinja2                      2.11.3\n",
       "joblib                      1.2.0\n",
       "json5                       NA\n",
       "jsonschema                  3.2.0\n",
       "jupyter_server              1.4.1\n",
       "jupyterlab_server           2.10.2\n",
       "kiwisolver                  1.3.1\n",
       "lxml                        4.7.1\n",
       "lz4                         4.0.0\n",
       "markupsafe                  1.1.1\n",
       "matplotlib_inline           NA\n",
       "mpl_toolkits                NA\n",
       "nbclassic                   NA\n",
       "nbformat                    5.1.3\n",
       "numexpr                     2.8.1\n",
       "openpyxl                    3.0.9\n",
       "packaging                   21.3\n",
       "parso                       0.8.3\n",
       "pexpect                     4.8.0\n",
       "pickleshare                 0.7.5\n",
       "pkg_resources               NA\n",
       "prometheus_client           NA\n",
       "prompt_toolkit              3.0.20\n",
       "psutil                      5.8.0\n",
       "ptyprocess                  0.7.0\n",
       "pvectorc                    NA\n",
       "pydev_ipython               NA\n",
       "pydevconsole                NA\n",
       "pydevd                      2.6.0\n",
       "pydevd_concurrency_analyser NA\n",
       "pydevd_file_utils           NA\n",
       "pydevd_plugins              NA\n",
       "pydevd_tracing              NA\n",
       "pygments                    2.11.2\n",
       "pyparsing                   3.0.4\n",
       "pyrsistent                  NA\n",
       "pytz                        2021.3\n",
       "requests                    2.27.1\n",
       "send2trash                  NA\n",
       "setuptools                  67.8.0\n",
       "simplejson                  3.19.1\n",
       "six                         1.16.0\n",
       "sniffio                     1.2.0\n",
       "socks                       1.7.1\n",
       "sphinxcontrib               NA\n",
       "statsmodels                 0.13.2\n",
       "storemagic                  NA\n",
       "threadpoolctl               3.1.0\n",
       "tornado                     6.1\n",
       "traitlets                   5.1.1\n",
       "typing_extensions           NA\n",
       "uritemplate                 4.1.1\n",
       "urllib3                     1.26.8\n",
       "wcwidth                     0.2.5\n",
       "xlrd                        2.0.1\n",
       "zipp                        NA\n",
       "zmq                         22.3.0\n",
       "zope                        NA\n",
       "</pre>\n",
       "</details> <!-- seems like this ends pre, so might as well be explicit -->\n",
       "<pre>\n",
       "-----\n",
       "IPython             7.31.1\n",
       "jupyter_client      6.1.12\n",
       "jupyter_core        4.9.1\n",
       "jupyterlab          3.2.1\n",
       "notebook            6.4.6\n",
       "-----\n",
       "Python 3.8.8 (default, Apr 13 2021, 12:59:45) [Clang 10.0.0 ]\n",
       "macOS-10.15.7-x86_64-i386-64bit\n",
       "-----\n",
       "Session information updated at 2024-01-03 23:46\n",
       "</pre>\n",
       "</details>"
      ],
      "text/plain": [
       "<IPython.core.display.HTML object>"
      ]
     },
     "execution_count": 22,
     "metadata": {},
     "output_type": "execute_result"
    }
   ],
   "source": [
    "import session_info\n",
    "session_info.show()"
   ]
  }
 ],
 "metadata": {
  "celltoolbar": "Slideshow",
  "kernelspec": {
   "display_name": "Python 3 (ipykernel)",
   "language": "python",
   "name": "python3"
  },
  "language_info": {
   "codemirror_mode": {
    "name": "ipython",
    "version": 3
   },
   "file_extension": ".py",
   "mimetype": "text/x-python",
   "name": "python",
   "nbconvert_exporter": "python",
   "pygments_lexer": "ipython3",
   "version": "3.8.8"
  }
 },
 "nbformat": 4,
 "nbformat_minor": 4
}
