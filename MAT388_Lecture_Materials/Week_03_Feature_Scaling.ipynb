{
 "cells": [
  {
   "cell_type": "markdown",
   "id": "78d93849-1e20-44c7-bcc2-da4d2746ec0d",
   "metadata": {
    "tags": []
   },
   "source": [
    "<left><img width=100% height=100% src=\"img/itu_logo.png\"></left>\n",
    "\n",
    "## Lecture 03: Feature Pre-processing Approaches\n",
    "\n",
    "### __Gül İnan__<br><br>Istanbul Technical University"
   ]
  },
  {
   "cell_type": "markdown",
   "id": "0dbdb68b-6d0b-4221-9dfc-cdee7b55fd9f",
   "metadata": {},
   "source": [
    "## Video Games Data\n",
    "\n",
    "In a survey of video game playing, 91 students completed questionnaires. The data available here are the students’ responses to the questionnaire.\n",
    "If a question **was not answered or improperly answered**, then it was coded as **99**. \n",
    "\n",
    "The answers to these questions were given below:\n",
    "   - `Time`: Number of hours played in the week prior to survey. \n",
    "   - `How often`: semesterly=0; monthly=1; weekly=2; daily=3.\n",
    "   - `Sex`: female=0; male=1.\n",
    "   - `Age`: Student’s age in years.\n",
    "   - `Computer at home`:  no=0; yes=1.\n",
    "   - `Hate math`:  no=0; yes=1.\n",
    "   - `Work`: Number of hours worked in week prior to the survey.\n",
    "   - `Own PC`:  no=0; yes=1.\n",
    "   - `Grade expected`: C=0; B=1; A=2."
   ]
  },
  {
   "cell_type": "code",
   "execution_count": 280,
   "id": "1f6a2a7d-4f62-4d63-95d5-cf171a626dfa",
   "metadata": {},
   "outputs": [
    {
     "data": {
      "text/html": [
       "<div>\n",
       "<style scoped>\n",
       "    .dataframe tbody tr th:only-of-type {\n",
       "        vertical-align: middle;\n",
       "    }\n",
       "\n",
       "    .dataframe tbody tr th {\n",
       "        vertical-align: top;\n",
       "    }\n",
       "\n",
       "    .dataframe thead th {\n",
       "        text-align: right;\n",
       "    }\n",
       "</style>\n",
       "<table border=\"1\" class=\"dataframe\">\n",
       "  <thead>\n",
       "    <tr style=\"text-align: right;\">\n",
       "      <th></th>\n",
       "      <th>time</th>\n",
       "      <th>freq</th>\n",
       "      <th>sex</th>\n",
       "      <th>age</th>\n",
       "      <th>home</th>\n",
       "      <th>math</th>\n",
       "      <th>work</th>\n",
       "      <th>own</th>\n",
       "      <th>grade</th>\n",
       "    </tr>\n",
       "  </thead>\n",
       "  <tbody>\n",
       "    <tr>\n",
       "      <th>0</th>\n",
       "      <td>2.0</td>\n",
       "      <td>weekly</td>\n",
       "      <td>female</td>\n",
       "      <td>19</td>\n",
       "      <td>yes</td>\n",
       "      <td>no</td>\n",
       "      <td>10.0</td>\n",
       "      <td>yes</td>\n",
       "      <td>A</td>\n",
       "    </tr>\n",
       "    <tr>\n",
       "      <th>1</th>\n",
       "      <td>0.0</td>\n",
       "      <td>monthly</td>\n",
       "      <td>female</td>\n",
       "      <td>18</td>\n",
       "      <td>yes</td>\n",
       "      <td>yes</td>\n",
       "      <td>0.0</td>\n",
       "      <td>yes</td>\n",
       "      <td>C</td>\n",
       "    </tr>\n",
       "    <tr>\n",
       "      <th>2</th>\n",
       "      <td>0.0</td>\n",
       "      <td>monthly</td>\n",
       "      <td>male</td>\n",
       "      <td>19</td>\n",
       "      <td>yes</td>\n",
       "      <td>no</td>\n",
       "      <td>0.0</td>\n",
       "      <td>yes</td>\n",
       "      <td>B</td>\n",
       "    </tr>\n",
       "    <tr>\n",
       "      <th>3</th>\n",
       "      <td>0.5</td>\n",
       "      <td>monthly</td>\n",
       "      <td>female</td>\n",
       "      <td>19</td>\n",
       "      <td>yes</td>\n",
       "      <td>no</td>\n",
       "      <td>0.0</td>\n",
       "      <td>yes</td>\n",
       "      <td>B</td>\n",
       "    </tr>\n",
       "    <tr>\n",
       "      <th>4</th>\n",
       "      <td>0.0</td>\n",
       "      <td>semesterly</td>\n",
       "      <td>female</td>\n",
       "      <td>19</td>\n",
       "      <td>yes</td>\n",
       "      <td>yes</td>\n",
       "      <td>0.0</td>\n",
       "      <td>no</td>\n",
       "      <td>B</td>\n",
       "    </tr>\n",
       "    <tr>\n",
       "      <th>5</th>\n",
       "      <td>0.0</td>\n",
       "      <td>semesterly</td>\n",
       "      <td>male</td>\n",
       "      <td>19</td>\n",
       "      <td>no</td>\n",
       "      <td>no</td>\n",
       "      <td>12.0</td>\n",
       "      <td>no</td>\n",
       "      <td>B</td>\n",
       "    </tr>\n",
       "    <tr>\n",
       "      <th>6</th>\n",
       "      <td>0.0</td>\n",
       "      <td>semesterly</td>\n",
       "      <td>male</td>\n",
       "      <td>20</td>\n",
       "      <td>yes</td>\n",
       "      <td>yes</td>\n",
       "      <td>10.0</td>\n",
       "      <td>yes</td>\n",
       "      <td>B</td>\n",
       "    </tr>\n",
       "    <tr>\n",
       "      <th>7</th>\n",
       "      <td>0.0</td>\n",
       "      <td>semesterly</td>\n",
       "      <td>female</td>\n",
       "      <td>19</td>\n",
       "      <td>yes</td>\n",
       "      <td>no</td>\n",
       "      <td>13.0</td>\n",
       "      <td>no</td>\n",
       "      <td>B</td>\n",
       "    </tr>\n",
       "    <tr>\n",
       "      <th>8</th>\n",
       "      <td>2.0</td>\n",
       "      <td>daily</td>\n",
       "      <td>male</td>\n",
       "      <td>19</td>\n",
       "      <td>no</td>\n",
       "      <td>no</td>\n",
       "      <td>0.0</td>\n",
       "      <td>no</td>\n",
       "      <td>A</td>\n",
       "    </tr>\n",
       "    <tr>\n",
       "      <th>9</th>\n",
       "      <td>0.0</td>\n",
       "      <td>semesterly</td>\n",
       "      <td>male</td>\n",
       "      <td>19</td>\n",
       "      <td>yes</td>\n",
       "      <td>yes</td>\n",
       "      <td>0.0</td>\n",
       "      <td>yes</td>\n",
       "      <td>A</td>\n",
       "    </tr>\n",
       "    <tr>\n",
       "      <th>10</th>\n",
       "      <td>0.0</td>\n",
       "      <td>semesterly</td>\n",
       "      <td>female</td>\n",
       "      <td>20</td>\n",
       "      <td>yes</td>\n",
       "      <td>no</td>\n",
       "      <td>0.0</td>\n",
       "      <td>yes</td>\n",
       "      <td>B</td>\n",
       "    </tr>\n",
       "    <tr>\n",
       "      <th>11</th>\n",
       "      <td>0.0</td>\n",
       "      <td>semesterly</td>\n",
       "      <td>female</td>\n",
       "      <td>19</td>\n",
       "      <td>yes</td>\n",
       "      <td>no</td>\n",
       "      <td>0.0</td>\n",
       "      <td>yes</td>\n",
       "      <td>A</td>\n",
       "    </tr>\n",
       "    <tr>\n",
       "      <th>12</th>\n",
       "      <td>0.0</td>\n",
       "      <td>daily</td>\n",
       "      <td>female</td>\n",
       "      <td>19</td>\n",
       "      <td>yes</td>\n",
       "      <td>yes</td>\n",
       "      <td>0.0</td>\n",
       "      <td>no</td>\n",
       "      <td>A</td>\n",
       "    </tr>\n",
       "    <tr>\n",
       "      <th>13</th>\n",
       "      <td>3.0</td>\n",
       "      <td>weekly</td>\n",
       "      <td>female</td>\n",
       "      <td>18</td>\n",
       "      <td>no</td>\n",
       "      <td>no</td>\n",
       "      <td>0.0</td>\n",
       "      <td>no</td>\n",
       "      <td>B</td>\n",
       "    </tr>\n",
       "    <tr>\n",
       "      <th>14</th>\n",
       "      <td>1.0</td>\n",
       "      <td>weekly</td>\n",
       "      <td>female</td>\n",
       "      <td>18</td>\n",
       "      <td>yes</td>\n",
       "      <td>yes</td>\n",
       "      <td>14.0</td>\n",
       "      <td>yes</td>\n",
       "      <td>B</td>\n",
       "    </tr>\n",
       "    <tr>\n",
       "      <th>15</th>\n",
       "      <td>0.0</td>\n",
       "      <td>NaN</td>\n",
       "      <td>male</td>\n",
       "      <td>19</td>\n",
       "      <td>yes</td>\n",
       "      <td>no</td>\n",
       "      <td>0.0</td>\n",
       "      <td>yes</td>\n",
       "      <td>B</td>\n",
       "    </tr>\n",
       "  </tbody>\n",
       "</table>\n",
       "</div>"
      ],
      "text/plain": [
       "    time        freq     sex  age home math  work  own grade\n",
       "0    2.0      weekly  female   19  yes   no  10.0  yes     A\n",
       "1    0.0     monthly  female   18  yes  yes   0.0  yes     C\n",
       "2    0.0     monthly    male   19  yes   no   0.0  yes     B\n",
       "3    0.5     monthly  female   19  yes   no   0.0  yes     B\n",
       "4    0.0  semesterly  female   19  yes  yes   0.0   no     B\n",
       "5    0.0  semesterly    male   19   no   no  12.0   no     B\n",
       "6    0.0  semesterly    male   20  yes  yes  10.0  yes     B\n",
       "7    0.0  semesterly  female   19  yes   no  13.0   no     B\n",
       "8    2.0       daily    male   19   no   no   0.0   no     A\n",
       "9    0.0  semesterly    male   19  yes  yes   0.0  yes     A\n",
       "10   0.0  semesterly  female   20  yes   no   0.0  yes     B\n",
       "11   0.0  semesterly  female   19  yes   no   0.0  yes     A\n",
       "12   0.0       daily  female   19  yes  yes   0.0   no     A\n",
       "13   3.0      weekly  female   18   no   no   0.0   no     B\n",
       "14   1.0      weekly  female   18  yes  yes  14.0  yes     B\n",
       "15   0.0         NaN    male   19  yes   no   0.0  yes     B"
      ]
     },
     "execution_count": 280,
     "metadata": {},
     "output_type": "execute_result"
    }
   ],
   "source": [
    "#import dataset\n",
    "import pandas as pd\n",
    "video_df = pd.read_csv(\"datasets/video.csv\", sep = \";\",  na_values=\"99\", index_col=0)\n",
    "video_df.head(16)"
   ]
  },
  {
   "cell_type": "code",
   "execution_count": 281,
   "id": "577b211e-f4d1-4610-8766-549da9e911ac",
   "metadata": {},
   "outputs": [
    {
     "data": {
      "text/plain": [
       "(91, 9)"
      ]
     },
     "execution_count": 281,
     "metadata": {},
     "output_type": "execute_result"
    }
   ],
   "source": [
    "#check the shape of the data set\n",
    "video_df.shape"
   ]
  },
  {
   "cell_type": "code",
   "execution_count": 282,
   "id": "1f694875-3c43-43ed-ae28-36913c9b04ae",
   "metadata": {},
   "outputs": [
    {
     "name": "stdout",
     "output_type": "stream",
     "text": [
      "<class 'pandas.core.frame.DataFrame'>\n",
      "Int64Index: 91 entries, 0 to 90\n",
      "Data columns (total 9 columns):\n",
      " #   Column  Non-Null Count  Dtype  \n",
      "---  ------  --------------  -----  \n",
      " 0   time    91 non-null     float64\n",
      " 1   freq    78 non-null     object \n",
      " 2   sex     91 non-null     object \n",
      " 3   age     91 non-null     int64  \n",
      " 4   home    91 non-null     object \n",
      " 5   math    91 non-null     object \n",
      " 6   work    88 non-null     float64\n",
      " 7   own     91 non-null     object \n",
      " 8   grade   91 non-null     object \n",
      "dtypes: float64(2), int64(1), object(6)\n",
      "memory usage: 7.1+ KB\n"
     ]
    }
   ],
   "source": [
    "#get some info on variables\n",
    "video_df.info()"
   ]
  },
  {
   "cell_type": "code",
   "execution_count": 283,
   "id": "170887f4-ddfe-4fac-9f4c-ccdcd5302f54",
   "metadata": {},
   "outputs": [
    {
     "data": {
      "text/plain": [
       "time     float64\n",
       "freq      object\n",
       "sex       object\n",
       "age        int64\n",
       "home      object\n",
       "math      object\n",
       "work     float64\n",
       "own       object\n",
       "grade     object\n",
       "dtype: object"
      ]
     },
     "execution_count": 283,
     "metadata": {},
     "output_type": "execute_result"
    }
   ],
   "source": [
    "#investigate data types of variables\n",
    "video_df.dtypes"
   ]
  },
  {
   "cell_type": "markdown",
   "id": "c43be2db-7082-4a8d-8465-2e5b52c4f1b6",
   "metadata": {},
   "source": [
    "\n",
    "Prior to building a predictivel model for `the number of hours played`:\n",
    "\n",
    "  - The numerical features should be scaled (not necessary in this application, but we will do),\n",
    "  - The **non-numerical answers** to these questions are required to be **coded numerically**, and\n",
    "  - The **missing values** should be filled in."
   ]
  },
  {
   "cell_type": "markdown",
   "id": "780f0a67-0e2a-4f7f-9819-e581384afa26",
   "metadata": {
    "tags": []
   },
   "source": [
    "## Feature Scaling\n",
    "\n",
    "-   When the **numerical features** in a data set have **different measurement scales** (e.g., say, you have multiple features like age, salary, and height; With their range as (18–100 Years), (25,000–75,000 Euros), and (1–2 Meters)), **features with much higher values may dominate** the objective function and make the model unable to learn from other features correctly as expected.\n",
    "-   For that reason, there are **several optimization algorithms** (especially gradient-descent, etc.), which work much better (are more **robust**, **numerically stable**, and **converge faster**) if the data has a smaller range.\n",
    "-   In this sense, to bring all the features in a data set within the same range, the features are often scaled by a **data-dependent transformation method** prior to model training and testing.\n",
    "-  **Feature scaling** is a method used to **scale the range of features of data**. \n",
    "\n",
    "## Unsupervised Feature Scaling Approaches\n",
    "\n",
    "-   There are many different ways for scaling features; however, we will only cover two most popular ones:\n",
    "    -   `Z-score standardization` and\n",
    "    -   `Min-Max scaling`.\n",
    "\n",
    "\n",
    "## Remember that:\n",
    "\n",
    "We represent the feature matrix $\\textbf{X}$ as follows:\n",
    "\n",
    "$$\n",
    "\\textbf{X} = \\begin{bmatrix}\n",
    "x_{11} & \\ldots & x_{1j} & \\ldots & x_{1d} \\\\\n",
    "\\vdots & \\vdots &    \\vdots    &  \\vdots      &  \\vdots\\\\\n",
    "x_{i1} & \\ldots & x_{ij} & \\ldots & x_{id} \\\\\n",
    "\\vdots & \\vdots &    \\vdots    &  \\vdots      &  \\vdots\\\\\n",
    "x_{n1} & \\ldots & x_{nj} & \\ldots & x_{nd} \\\\\n",
    "\\end{bmatrix}=[\\mathbf{X}_1,\\ldots, \\mathbf{X}_j, \\ldots, \\mathbf{X}_d],\n",
    "$$\n",
    "\n",
    "and let $j$th column of $\\mathbf{X}$ feature matrix denoted by $\\mathbf{X}_j$ so that $\\mathbf{X}=[\\mathbf{X}_1,\\ldots, \\mathbf{X}_j, \\ldots, \\mathbf{X}_d]$. Thus, the column vector $\\mathbf{X}_j$ contains the $n$ levels of the $j$th feature.\n",
    "\n",
    "\n",
    "## Z-score standardization\n",
    "\n",
    "-   The formula for `standardizing` of a single feature $x_{ij}$ data point in a feature vector $\\mathbf{X}_j$ is given below:\n",
    "\n",
    "$$\n",
    "\\begin{equation}\n",
    "x^{std}_{ij} = \\frac{x_{ij}-\\bar{x}_j}{s_j},\n",
    "\\end{equation}\n",
    "$$\n",
    "\n",
    "-   where $\\bar{x}_j= \\frac{\\sum_{i=1}^{n} x_{ij}}{n}$ and $s_j= \\sqrt\\frac{\\sum_{i=1}^{n} (x_{ij}-\\bar{x}_j)^2}{(n-1)}$.\n",
    "-   After standardizing a feature, it will have `zero mean` and `unit variance` such as:\n",
    "\n",
    "$$\n",
    "\\begin{eqnarray}\n",
    "\\bar{x}^{std}_j= \\frac{\\sum_{i=1}^{n} x^{std}_{ij}}{n}=0  \\quad \\text{and} \\quad\n",
    "s^{std}_j= \\sqrt\\frac{\\sum_{i=1}^{n} (x^{std}_{ij}-\\bar{x}^{std}_j)^2}{(n-1)}=1. \\nonumber\n",
    "\\end{eqnarray}\n",
    "$$\n",
    "\n",
    "- Standardization is implemented in the scikit-learn's [StandardScaler](https://scikit-learn.org/stable/modules/generated/sklearn.preprocessing.StandardScaler.html) transformer class and it ensures that for each feature the mean is 0 and the variance is 1, bringing all features to the same magnitude.\n",
    "\n",
    "## Mean centering\n",
    "\n",
    "-   The formula for `mean centering` of a single $x_{ij}$ data point in a feature vector $\\mathbf{X}_j$ is given below:\n",
    "\n",
    "$$\n",
    "\\begin{equation}\n",
    "x^{centered}_{ij} = x_{ij}-\\bar{x}_j,\n",
    "\\end{equation}\n",
    "$$\n",
    "\n",
    "-   where $\\bar{x}_j= \\frac{\\sum_{i=1}^{n} x_{ij}}{n}$.\n",
    "\n",
    "## Min-max scaling\n",
    "\n",
    "-   `Min-max scaling` squashes the features into a \\[0, 1\\] range, which can be achieved via the following equation for a single $x_{ij}$ data point in a feature vector $\\mathbf{X}_j$ is given below:\n",
    "\n",
    "$$\n",
    "\\begin{equation}\n",
    "x^{scaled}_{ij} = \\frac{x_{ij}-x_{min,j}}{x_{max,j}-x_{min,j}}.\n",
    "\\end{equation}\n",
    "$$\n",
    "\n",
    "- where $x_{min,j}$ and $x_{max,j}$ are the minumum and maximum values in the feature vector $\\mathbf{X}_j$, respectively.\n",
    "- Min-max scaling is implemented in scikit-learn's [MinMaxScaler](https://scikit-learn.org/stable/modules/generated/sklearn.preprocessing.MinMaxScaler.html) transformer class and it shifts the data such that all features are exactly between 0 and 1. \n",
    "\n",
    "## Other alternative scalers\n",
    "\n",
    "- [MaxAbsScaler](https://scikit-learn.org/stable/modules/generated/sklearn.preprocessing.MaxAbsScaler.html#sklearn.preprocessing.MaxAbsScaler), \n",
    "- [Normalizer](https://scikit-learn.org/stable/modules/generated/sklearn.preprocessing.Normalizer.html#sklearn.preprocessing.Normalizer), and \n",
    "- [RobustScaler](https://scikit-learn.org/stable/modules/generated/sklearn.preprocessing.RobustScaler.html#sklearn.preprocessing.RobustScaler)."
   ]
  },
  {
   "cell_type": "markdown",
   "id": "3d26150c-8fef-4ede-8ed3-5b30817a3943",
   "metadata": {},
   "source": [
    "## CORRECT Supervised learning pipeline involving unsupervised feature pre-processing\n",
    "\n",
    "-   Assume that you have only one numerical feature in your data set.\n",
    "-   Split the data into train ($\\mathbf{x}_{train},y_{train}$) and test set ($\\mathbf{x}_{test},y_{test}$).\n",
    "-   Learn the parameters associated with scaling\n",
    "approach (e.g. in standardization learn mean and sample standard deviation, in minmax scaling learn max and min values of the feature) from the training feature ($\\mathbf{x}_{train}$),\n",
    "-  Transform the **feature vector**  ($\\mathbf{x}_{train}$) with learned parameters and get $\\mathbf{x}_{train, }^{transformed}$,\n",
    "-  Transform the **feature vector**  ($\\mathbf{x}_{test}$) with learned parameters, and get $\\mathbf{x}_{test}^{transformed}$,\n",
    "-  Train the model on the pre-processed training data $(\n",
    "\\mathbf{x}_{train}^{transformed},\\mathbf{y}_{train})$, and\n",
    "-  Evaluate it on the pre-processed test data ($\\mathbf{x}_{test}^{transformed},\\mathbf{y}_{test})$.\n",
    "\n",
    "-   To guarantee that the **test error is an unbiased estimator of model performance**, all data-dependent **unsupervised pre-processing** operations should be determined using **only the training set** $\\mathbf{x}_{train}$ and then merely applied to the test set $\\mathbf{x}_{test}$."
   ]
  },
  {
   "cell_type": "markdown",
   "id": "ec62fa55-d1ba-43db-8a6e-7d434134bcde",
   "metadata": {},
   "source": [
    "## INCORRECT Supervised learning pipeline involving unsupervised feature pre-processing\n",
    "\n",
    "-   In practice, one common approach is:\n",
    "    -   Pre-process the **ENTIRE feature vector** ($\\mathbf{x}$) before data splitting and get the transformed feature vetor ($\\mathbf{x}^{transformed}$), \n",
    "    -   Split the transformed feature vector as: ($\\mathbf{x}_{train}^{transformed},\\mathbf{x}_{test}^{transformed}$)\n",
    "    -   Train the model on the pre-processed training data ($\\mathbf{x}_{train,}^{transformed},\\mathbf{y}_{train})$, and\n",
    "    -   Evaluate it on the pre-processed test data ($\\mathbf{x}_{test}^{transformed},\\mathbf{y}_{test})$."
   ]
  },
  {
   "cell_type": "markdown",
   "id": "9ae0ed78-8dee-4c81-9a1b-5dfef48a526d",
   "metadata": {},
   "source": [
    "## Data leakage\n",
    "\n",
    "-   In a scenario, defined above,  the test error is **no longer** guaranteed to be an **unbiased estimate** of the generalization error.\n",
    "-   When information from outside the training data is used to create a model, this is called as `data leakage` problem.\n",
    "\n",
    "\n",
    "```\n",
    "Data Leakage happens when the data you are using to train a machine learning algorithm happens to have the information you are trying to predict.\n",
    "\n",
    "— Daniel Gutierrez, [Ask a Data Scientist: Data Leakage](https://insidebigdata.com/2014/11/26/ask-data-scientist-data-leakage/)\n",
    "```"
   ]
  },
  {
   "cell_type": "markdown",
   "id": "6436f005-116d-4c57-9b6f-08b99c7141f8",
   "metadata": {
    "tags": []
   },
   "source": [
    "### Scikit-learn Transformer API\n",
    "\n",
    "- The `transformer API` in scikit-learn is very similar to the `estimator API`; the main difference is that transformers are typically \"unsupervised,\" meaning, **they don't make use of class labels or target values**.\n",
    "\n",
    "![](img/transformer.png)"
   ]
  },
  {
   "cell_type": "markdown",
   "id": "632e6350-2140-47eb-945c-f0c5813cd5da",
   "metadata": {},
   "source": [
    "## Applying Feature Scaling Approaches on Video Games Data\n",
    "\n",
    "Let's take `student’s age in years` and the `number of hours worked` as predictors to build a model to predict `number of hours played` of a student. Create feature matrix and target vector first, and split our data set into training and test set first. "
   ]
  },
  {
   "cell_type": "markdown",
   "id": "321a28b5-69a1-4f38-97b6-de69bfd8bcf0",
   "metadata": {},
   "source": [
    "**Step 1**. Arrange data into a features matrix and target vector and split it into train and test."
   ]
  },
  {
   "cell_type": "code",
   "execution_count": 284,
   "id": "7f61766d-1e4f-4f08-8fe3-a8504f573cd0",
   "metadata": {},
   "outputs": [],
   "source": [
    "#Prepare X and y\n",
    "\n",
    "import pandas as pd\n",
    "\n",
    "video_X = video_df[[\"age\", \"work\"]] #work involves missing values\n",
    "video_y = video_df[[\"time\"]]"
   ]
  },
  {
   "cell_type": "code",
   "execution_count": 285,
   "id": "797a8fae-70f8-4564-ad88-ae8b6229901a",
   "metadata": {},
   "outputs": [
    {
     "name": "stdout",
     "output_type": "stream",
     "text": [
      "<class 'pandas.core.frame.DataFrame'>\n",
      "Int64Index: 91 entries, 0 to 90\n",
      "Data columns (total 2 columns):\n",
      " #   Column  Non-Null Count  Dtype  \n",
      "---  ------  --------------  -----  \n",
      " 0   age     91 non-null     int64  \n",
      " 1   work    88 non-null     float64\n",
      "dtypes: float64(1), int64(1)\n",
      "memory usage: 2.1 KB\n"
     ]
    }
   ],
   "source": [
    "video_X.info() #the work variable involves missing values"
   ]
  },
  {
   "cell_type": "code",
   "execution_count": 286,
   "id": "3faf6209-9eb0-4eff-aebc-768f1f939fa7",
   "metadata": {},
   "outputs": [],
   "source": [
    "from sklearn.model_selection import train_test_split\n",
    "\n",
    "#Split 80:20\n",
    "video_X_train, video_X_test, video_y_train, video_y_test = train_test_split(video_X, video_y, test_size=0.2, random_state=1400)"
   ]
  },
  {
   "cell_type": "code",
   "execution_count": 287,
   "id": "062b28bf-4293-40f3-befd-90adfbfa0f63",
   "metadata": {},
   "outputs": [
    {
     "name": "stdout",
     "output_type": "stream",
     "text": [
      "(72, 2)\n",
      "(72, 1)\n",
      "(19, 2)\n",
      "(19, 1)\n"
     ]
    }
   ],
   "source": [
    "print(video_X_train.shape)\n",
    "print(video_y_train.shape)\n",
    "print(video_X_test.shape)\n",
    "print(video_y_test.shape)"
   ]
  },
  {
   "cell_type": "markdown",
   "id": "ab8c387e-c892-41d4-b7b2-3072f0106491",
   "metadata": {},
   "source": [
    "**Step 2.** Choose a class of pre-processing.  \n",
    "\n",
    "For pre-processing, we need to import the class that implements the pre-processing. Import [StandardScaler](https://scikit-learn.org/stable/modules/generated/sklearn.preprocessing.StandardScaler.html) class."
   ]
  },
  {
   "cell_type": "code",
   "execution_count": 288,
   "id": "a64037f2-cce5-4e90-803b-e8653bf472cf",
   "metadata": {},
   "outputs": [],
   "source": [
    "#import sklearn\n",
    "#print(sklearn.__version__)"
   ]
  },
  {
   "cell_type": "code",
   "execution_count": 289,
   "id": "29125656-27b1-410e-b0a3-ee68f7c1f3ae",
   "metadata": {},
   "outputs": [],
   "source": [
    "#!pip install scikit-learn --upgrade"
   ]
  },
  {
   "cell_type": "code",
   "execution_count": 290,
   "id": "bdf9fd52-10c8-439a-936b-0d22823b2ac6",
   "metadata": {},
   "outputs": [],
   "source": [
    "from sklearn import set_config\n",
    "set_config(transform_output=\"pandas\")  #available in sckit-learn 1.2.1 #othwerwise transforms return numpy arrays, we lose column names"
   ]
  },
  {
   "cell_type": "code",
   "execution_count": 291,
   "id": "a9d42259-d61c-4f23-a08e-69b8390b1c8a",
   "metadata": {},
   "outputs": [],
   "source": [
    "from sklearn.preprocessing import StandardScaler"
   ]
  },
  {
   "cell_type": "markdown",
   "id": "92dba6ef-b9e4-4d30-a0da-7f393a1a6893",
   "metadata": {},
   "source": [
    "**Step 3**. Instantiate pre-processing class\n",
    "\n",
    "Then instantiate the class. We will accept the default `with_mean=True`, `with_std=True`."
   ]
  },
  {
   "cell_type": "code",
   "execution_count": 292,
   "id": "a7b332b6-535f-4ce1-b820-f19028738851",
   "metadata": {},
   "outputs": [],
   "source": [
    "scaler = StandardScaler()   # create feature trasformer object  "
   ]
  },
  {
   "cell_type": "markdown",
   "id": "7bb37892-53e3-4962-8b6b-3bf0203f1a71",
   "metadata": {},
   "source": [
    "**Step 4**. Apply the transformer to your training data.\n",
    "\n",
    "We then fit the scaler using the `fit` method, applied to the training data. For the `StandardScaler`, the `fit` method computes the sample mean and sample standard deviation of each feature on the training data set. "
   ]
  },
  {
   "cell_type": "code",
   "execution_count": 293,
   "id": "6bec1973-e5ab-482f-a7a6-59838613f173",
   "metadata": {},
   "outputs": [
    {
     "data": {
      "text/html": [
       "<style>#sk-container-id-10 {color: black;}#sk-container-id-10 pre{padding: 0;}#sk-container-id-10 div.sk-toggleable {background-color: white;}#sk-container-id-10 label.sk-toggleable__label {cursor: pointer;display: block;width: 100%;margin-bottom: 0;padding: 0.3em;box-sizing: border-box;text-align: center;}#sk-container-id-10 label.sk-toggleable__label-arrow:before {content: \"▸\";float: left;margin-right: 0.25em;color: #696969;}#sk-container-id-10 label.sk-toggleable__label-arrow:hover:before {color: black;}#sk-container-id-10 div.sk-estimator:hover label.sk-toggleable__label-arrow:before {color: black;}#sk-container-id-10 div.sk-toggleable__content {max-height: 0;max-width: 0;overflow: hidden;text-align: left;background-color: #f0f8ff;}#sk-container-id-10 div.sk-toggleable__content pre {margin: 0.2em;color: black;border-radius: 0.25em;background-color: #f0f8ff;}#sk-container-id-10 input.sk-toggleable__control:checked~div.sk-toggleable__content {max-height: 200px;max-width: 100%;overflow: auto;}#sk-container-id-10 input.sk-toggleable__control:checked~label.sk-toggleable__label-arrow:before {content: \"▾\";}#sk-container-id-10 div.sk-estimator input.sk-toggleable__control:checked~label.sk-toggleable__label {background-color: #d4ebff;}#sk-container-id-10 div.sk-label input.sk-toggleable__control:checked~label.sk-toggleable__label {background-color: #d4ebff;}#sk-container-id-10 input.sk-hidden--visually {border: 0;clip: rect(1px 1px 1px 1px);clip: rect(1px, 1px, 1px, 1px);height: 1px;margin: -1px;overflow: hidden;padding: 0;position: absolute;width: 1px;}#sk-container-id-10 div.sk-estimator {font-family: monospace;background-color: #f0f8ff;border: 1px dotted black;border-radius: 0.25em;box-sizing: border-box;margin-bottom: 0.5em;}#sk-container-id-10 div.sk-estimator:hover {background-color: #d4ebff;}#sk-container-id-10 div.sk-parallel-item::after {content: \"\";width: 100%;border-bottom: 1px solid gray;flex-grow: 1;}#sk-container-id-10 div.sk-label:hover label.sk-toggleable__label {background-color: #d4ebff;}#sk-container-id-10 div.sk-serial::before {content: \"\";position: absolute;border-left: 1px solid gray;box-sizing: border-box;top: 0;bottom: 0;left: 50%;z-index: 0;}#sk-container-id-10 div.sk-serial {display: flex;flex-direction: column;align-items: center;background-color: white;padding-right: 0.2em;padding-left: 0.2em;position: relative;}#sk-container-id-10 div.sk-item {position: relative;z-index: 1;}#sk-container-id-10 div.sk-parallel {display: flex;align-items: stretch;justify-content: center;background-color: white;position: relative;}#sk-container-id-10 div.sk-item::before, #sk-container-id-10 div.sk-parallel-item::before {content: \"\";position: absolute;border-left: 1px solid gray;box-sizing: border-box;top: 0;bottom: 0;left: 50%;z-index: -1;}#sk-container-id-10 div.sk-parallel-item {display: flex;flex-direction: column;z-index: 1;position: relative;background-color: white;}#sk-container-id-10 div.sk-parallel-item:first-child::after {align-self: flex-end;width: 50%;}#sk-container-id-10 div.sk-parallel-item:last-child::after {align-self: flex-start;width: 50%;}#sk-container-id-10 div.sk-parallel-item:only-child::after {width: 0;}#sk-container-id-10 div.sk-dashed-wrapped {border: 1px dashed gray;margin: 0 0.4em 0.5em 0.4em;box-sizing: border-box;padding-bottom: 0.4em;background-color: white;}#sk-container-id-10 div.sk-label label {font-family: monospace;font-weight: bold;display: inline-block;line-height: 1.2em;}#sk-container-id-10 div.sk-label-container {text-align: center;}#sk-container-id-10 div.sk-container {/* jupyter's `normalize.less` sets `[hidden] { display: none; }` but bootstrap.min.css set `[hidden] { display: none !important; }` so we also need the `!important` here to be able to override the default hidden behavior on the sphinx rendered scikit-learn.org. See: https://github.com/scikit-learn/scikit-learn/issues/21755 */display: inline-block !important;position: relative;}#sk-container-id-10 div.sk-text-repr-fallback {display: none;}</style><div id=\"sk-container-id-10\" class=\"sk-top-container\"><div class=\"sk-text-repr-fallback\"><pre>StandardScaler()</pre><b>In a Jupyter environment, please rerun this cell to show the HTML representation or trust the notebook. <br />On GitHub, the HTML representation is unable to render, please try loading this page with nbviewer.org.</b></div><div class=\"sk-container\" hidden><div class=\"sk-item\"><div class=\"sk-estimator sk-toggleable\"><input class=\"sk-toggleable__control sk-hidden--visually\" id=\"sk-estimator-id-10\" type=\"checkbox\" checked><label for=\"sk-estimator-id-10\" class=\"sk-toggleable__label sk-toggleable__label-arrow\">StandardScaler</label><div class=\"sk-toggleable__content\"><pre>StandardScaler()</pre></div></div></div></div></div>"
      ],
      "text/plain": [
       "StandardScaler()"
      ]
     },
     "execution_count": 293,
     "metadata": {},
     "output_type": "execute_result"
    }
   ],
   "source": [
    "scaler.fit(video_X_train)"
   ]
  },
  {
   "cell_type": "code",
   "execution_count": 294,
   "id": "4d626d42-a85a-4fa2-939c-2bd07b2df8a1",
   "metadata": {},
   "outputs": [
    {
     "name": "stdout",
     "output_type": "stream",
     "text": [
      "['age' 'work']\n"
     ]
    },
    {
     "data": {
      "text/plain": [
       "array([19.54166667,  7.57142857])"
      ]
     },
     "execution_count": 294,
     "metadata": {},
     "output_type": "execute_result"
    }
   ],
   "source": [
    "#get the mean of each column in Xtrain\n",
    "print(scaler.feature_names_in_)\n",
    "scaler.mean_"
   ]
  },
  {
   "cell_type": "code",
   "execution_count": 295,
   "id": "3ff3e116-5d13-4e9d-9ee4-d98178b61a49",
   "metadata": {},
   "outputs": [
    {
     "name": "stdout",
     "output_type": "stream",
     "text": [
      "['age' 'work']\n"
     ]
    },
    {
     "data": {
      "text/plain": [
       "array([ 1.99956593, 10.84774029])"
      ]
     },
     "execution_count": 295,
     "metadata": {},
     "output_type": "execute_result"
    }
   ],
   "source": [
    "import numpy as np\n",
    "#get the variance of each column in Xtrain\n",
    "print(scaler.feature_names_in_)\n",
    "np.sqrt(scaler.var_)"
   ]
  },
  {
   "cell_type": "markdown",
   "id": "b465e9e2-fedc-4454-8916-b3640bc2000d",
   "metadata": {},
   "source": [
    "**Step 5**. Apply the transform method to your training data.\n",
    "\n",
    "To apply the transformed that we learned, we use the `transform` method of the `scaler`."
   ]
  },
  {
   "cell_type": "code",
   "execution_count": 296,
   "id": "7b59a1d9-6c71-45b8-b4c0-6bc6326057e4",
   "metadata": {},
   "outputs": [],
   "source": [
    "video_X_train_scaled = scaler.transform(video_X_train)  #scaler.fit_transform() is the shortcut version"
   ]
  },
  {
   "cell_type": "code",
   "execution_count": 297,
   "id": "8c82f4a5-e28d-41ee-9a91-bb7569988298",
   "metadata": {},
   "outputs": [
    {
     "data": {
      "text/html": [
       "<div>\n",
       "<style scoped>\n",
       "    .dataframe tbody tr th:only-of-type {\n",
       "        vertical-align: middle;\n",
       "    }\n",
       "\n",
       "    .dataframe tbody tr th {\n",
       "        vertical-align: top;\n",
       "    }\n",
       "\n",
       "    .dataframe thead th {\n",
       "        text-align: right;\n",
       "    }\n",
       "</style>\n",
       "<table border=\"1\" class=\"dataframe\">\n",
       "  <thead>\n",
       "    <tr style=\"text-align: right;\">\n",
       "      <th></th>\n",
       "      <th>age</th>\n",
       "      <th>work</th>\n",
       "    </tr>\n",
       "  </thead>\n",
       "  <tbody>\n",
       "    <tr>\n",
       "      <th>79</th>\n",
       "      <td>-0.270892</td>\n",
       "      <td>0.223878</td>\n",
       "    </tr>\n",
       "    <tr>\n",
       "      <th>21</th>\n",
       "      <td>2.229651</td>\n",
       "      <td>0.223878</td>\n",
       "    </tr>\n",
       "    <tr>\n",
       "      <th>87</th>\n",
       "      <td>0.229216</td>\n",
       "      <td>0.592618</td>\n",
       "    </tr>\n",
       "    <tr>\n",
       "      <th>5</th>\n",
       "      <td>-0.270892</td>\n",
       "      <td>0.408248</td>\n",
       "    </tr>\n",
       "    <tr>\n",
       "      <th>86</th>\n",
       "      <td>-0.270892</td>\n",
       "      <td>-0.697973</td>\n",
       "    </tr>\n",
       "  </tbody>\n",
       "</table>\n",
       "</div>"
      ],
      "text/plain": [
       "         age      work\n",
       "79 -0.270892  0.223878\n",
       "21  2.229651  0.223878\n",
       "87  0.229216  0.592618\n",
       "5  -0.270892  0.408248\n",
       "86 -0.270892 -0.697973"
      ]
     },
     "execution_count": 297,
     "metadata": {},
     "output_type": "execute_result"
    }
   ],
   "source": [
    "video_X_train_scaled.head() #hopefully, we have column labels"
   ]
  },
  {
   "cell_type": "markdown",
   "id": "8253c45e-281c-4067-a238-4aafbd947f26",
   "metadata": {},
   "source": [
    "The transformed data has the same shape as the original data. But, the features have zero mean and unit standard deviation now."
   ]
  },
  {
   "cell_type": "code",
   "execution_count": 298,
   "id": "80edec5a-7968-4a36-892f-af362cc9c7ca",
   "metadata": {},
   "outputs": [
    {
     "name": "stdout",
     "output_type": "stream",
     "text": [
      "Untransformed shape: (72, 2)\n",
      "Transformed shape: (72, 2)\n"
     ]
    }
   ],
   "source": [
    "print(\"Untransformed shape:\", video_X_train.shape)\n",
    "print(\"Transformed shape:\", video_X_train_scaled.shape)"
   ]
  },
  {
   "cell_type": "code",
   "execution_count": 299,
   "id": "e778b7e2-9bb2-4426-adaf-e7e36f4ec342",
   "metadata": {},
   "outputs": [
    {
     "data": {
      "text/html": [
       "<div>\n",
       "<style scoped>\n",
       "    .dataframe tbody tr th:only-of-type {\n",
       "        vertical-align: middle;\n",
       "    }\n",
       "\n",
       "    .dataframe tbody tr th {\n",
       "        vertical-align: top;\n",
       "    }\n",
       "\n",
       "    .dataframe thead th {\n",
       "        text-align: right;\n",
       "    }\n",
       "</style>\n",
       "<table border=\"1\" class=\"dataframe\">\n",
       "  <thead>\n",
       "    <tr style=\"text-align: right;\">\n",
       "      <th></th>\n",
       "      <th>age</th>\n",
       "      <th>work</th>\n",
       "    </tr>\n",
       "  </thead>\n",
       "  <tbody>\n",
       "    <tr>\n",
       "      <th>mean</th>\n",
       "      <td>19.5417</td>\n",
       "      <td>7.5714</td>\n",
       "    </tr>\n",
       "    <tr>\n",
       "      <th>std</th>\n",
       "      <td>2.0136</td>\n",
       "      <td>10.9261</td>\n",
       "    </tr>\n",
       "  </tbody>\n",
       "</table>\n",
       "</div>"
      ],
      "text/plain": [
       "          age     work\n",
       "mean  19.5417   7.5714\n",
       "std    2.0136  10.9261"
      ]
     },
     "execution_count": 299,
     "metadata": {},
     "output_type": "execute_result"
    }
   ],
   "source": [
    "video_X_train.describe().loc[[\"mean\",\"std\"]].round(4)"
   ]
  },
  {
   "cell_type": "code",
   "execution_count": 308,
   "id": "6f8553cd-8dbe-4543-9449-f82d00436b4d",
   "metadata": {},
   "outputs": [
    {
     "data": {
      "text/html": [
       "<div>\n",
       "<style scoped>\n",
       "    .dataframe tbody tr th:only-of-type {\n",
       "        vertical-align: middle;\n",
       "    }\n",
       "\n",
       "    .dataframe tbody tr th {\n",
       "        vertical-align: top;\n",
       "    }\n",
       "\n",
       "    .dataframe thead th {\n",
       "        text-align: right;\n",
       "    }\n",
       "</style>\n",
       "<table border=\"1\" class=\"dataframe\">\n",
       "  <thead>\n",
       "    <tr style=\"text-align: right;\">\n",
       "      <th></th>\n",
       "      <th>age</th>\n",
       "      <th>work</th>\n",
       "    </tr>\n",
       "  </thead>\n",
       "  <tbody>\n",
       "    <tr>\n",
       "      <th>mean</th>\n",
       "      <td>-0.000</td>\n",
       "      <td>0.0000</td>\n",
       "    </tr>\n",
       "    <tr>\n",
       "      <th>std</th>\n",
       "      <td>1.007</td>\n",
       "      <td>1.0072</td>\n",
       "    </tr>\n",
       "  </tbody>\n",
       "</table>\n",
       "</div>"
      ],
      "text/plain": [
       "        age    work\n",
       "mean -0.000  0.0000\n",
       "std   1.007  1.0072"
      ]
     },
     "execution_count": 308,
     "metadata": {},
     "output_type": "execute_result"
    }
   ],
   "source": [
    "video_X_train_scaled.describe().loc[[\"mean\",\"std\"]].round(4)"
   ]
  },
  {
   "cell_type": "code",
   "execution_count": 301,
   "id": "e2625ed8-2681-4347-8b3e-73e0838f4c5e",
   "metadata": {},
   "outputs": [
    {
     "name": "stdout",
     "output_type": "stream",
     "text": [
      "<class 'pandas.core.frame.DataFrame'>\n",
      "Int64Index: 72 entries, 79 to 75\n",
      "Data columns (total 2 columns):\n",
      " #   Column  Non-Null Count  Dtype  \n",
      "---  ------  --------------  -----  \n",
      " 0   age     72 non-null     float64\n",
      " 1   work    70 non-null     float64\n",
      "dtypes: float64(2)\n",
      "memory usage: 1.7 KB\n"
     ]
    }
   ],
   "source": [
    "video_X_train_scaled.info() #scalers works on missing data"
   ]
  },
  {
   "cell_type": "markdown",
   "id": "30b093f7-a11e-47a0-b6b1-ab3436f0df93",
   "metadata": {},
   "source": [
    "**Step 6**. Apply the transform method to your test data.\n",
    "\n",
    "To apply a model to the transformed data, we also need to transform the test set. This is done by calling the `transform` method on `X_test`."
   ]
  },
  {
   "cell_type": "code",
   "execution_count": 302,
   "id": "c166f475-462a-4817-8ecd-8070ceaf713a",
   "metadata": {},
   "outputs": [],
   "source": [
    "# transform test data\n",
    "video_X_test_scaled = scaler.transform(video_X_test)"
   ]
  },
  {
   "cell_type": "code",
   "execution_count": 303,
   "id": "1c9ca7a6-f334-4e71-bc5d-7458395bda31",
   "metadata": {},
   "outputs": [
    {
     "name": "stdout",
     "output_type": "stream",
     "text": [
      "Untransformed shape: (19, 2)\n",
      "Transformed shape: (19, 2)\n"
     ]
    }
   ],
   "source": [
    "# print test data properties after scaling\n",
    "print(\"Untransformed shape:\", video_X_test.shape)\n",
    "print(\"Transformed shape:\", video_X_test_scaled.shape)"
   ]
  },
  {
   "cell_type": "code",
   "execution_count": 304,
   "id": "38d9def3-912f-4020-a4e8-bf22846d4cce",
   "metadata": {},
   "outputs": [
    {
     "data": {
      "text/html": [
       "<div>\n",
       "<style scoped>\n",
       "    .dataframe tbody tr th:only-of-type {\n",
       "        vertical-align: middle;\n",
       "    }\n",
       "\n",
       "    .dataframe tbody tr th {\n",
       "        vertical-align: top;\n",
       "    }\n",
       "\n",
       "    .dataframe thead th {\n",
       "        text-align: right;\n",
       "    }\n",
       "</style>\n",
       "<table border=\"1\" class=\"dataframe\">\n",
       "  <thead>\n",
       "    <tr style=\"text-align: right;\">\n",
       "      <th></th>\n",
       "      <th>age</th>\n",
       "      <th>work</th>\n",
       "    </tr>\n",
       "  </thead>\n",
       "  <tbody>\n",
       "    <tr>\n",
       "      <th>mean</th>\n",
       "      <td>-0.0603</td>\n",
       "      <td>-0.0988</td>\n",
       "    </tr>\n",
       "    <tr>\n",
       "      <th>std</th>\n",
       "      <td>0.5088</td>\n",
       "      <td>0.7072</td>\n",
       "    </tr>\n",
       "  </tbody>\n",
       "</table>\n",
       "</div>"
      ],
      "text/plain": [
       "         age    work\n",
       "mean -0.0603 -0.0988\n",
       "std   0.5088  0.7072"
      ]
     },
     "execution_count": 304,
     "metadata": {},
     "output_type": "execute_result"
    }
   ],
   "source": [
    "video_X_test_scaled.describe().loc[[\"mean\",\"std\"]].round(4)"
   ]
  },
  {
   "cell_type": "markdown",
   "id": "7cadeb68-be15-49ce-902e-b0b852bcc18e",
   "metadata": {},
   "source": [
    "One eye-catching point is that mean values of the features in the test set are not 0 and, similarly, sample\n",
    "standard deviation of the features in the test set are not 1.\n",
    "Keep in mind that `StandardScaler` uses the mean and sample standard deviation values of the training data, not test data and uses these values for transformation."
   ]
  },
  {
   "cell_type": "markdown",
   "id": "f36707eb-ecc5-4db7-bcc2-db7783a8c618",
   "metadata": {},
   "source": [
    "Note that we SHOULD NEVER apply **scaler.fit_transform()** on Xtest data."
   ]
  },
  {
   "cell_type": "markdown",
   "id": "60435437-2835-424d-8657-24dba9df3f42",
   "metadata": {},
   "source": [
    "`An important side note:` Scaling does not change the correlation between variables since it is a linear transformation and correlation is a measure of linear association. Please, see the example below:"
   ]
  },
  {
   "cell_type": "code",
   "execution_count": 305,
   "id": "958b2f34-825d-47f6-8ab1-428ed464f5fb",
   "metadata": {},
   "outputs": [
    {
     "data": {
      "text/html": [
       "<div>\n",
       "<style scoped>\n",
       "    .dataframe tbody tr th:only-of-type {\n",
       "        vertical-align: middle;\n",
       "    }\n",
       "\n",
       "    .dataframe tbody tr th {\n",
       "        vertical-align: top;\n",
       "    }\n",
       "\n",
       "    .dataframe thead th {\n",
       "        text-align: right;\n",
       "    }\n",
       "</style>\n",
       "<table border=\"1\" class=\"dataframe\">\n",
       "  <thead>\n",
       "    <tr style=\"text-align: right;\">\n",
       "      <th></th>\n",
       "      <th>age</th>\n",
       "      <th>work</th>\n",
       "    </tr>\n",
       "  </thead>\n",
       "  <tbody>\n",
       "    <tr>\n",
       "      <th>age</th>\n",
       "      <td>1.000000</td>\n",
       "      <td>0.471771</td>\n",
       "    </tr>\n",
       "    <tr>\n",
       "      <th>work</th>\n",
       "      <td>0.471771</td>\n",
       "      <td>1.000000</td>\n",
       "    </tr>\n",
       "  </tbody>\n",
       "</table>\n",
       "</div>"
      ],
      "text/plain": [
       "           age      work\n",
       "age   1.000000  0.471771\n",
       "work  0.471771  1.000000"
      ]
     },
     "execution_count": 305,
     "metadata": {},
     "output_type": "execute_result"
    }
   ],
   "source": [
    "video_X_train.corr()"
   ]
  },
  {
   "cell_type": "code",
   "execution_count": 306,
   "id": "b2373e72-7e98-4cd2-a730-92e2b034168c",
   "metadata": {},
   "outputs": [
    {
     "data": {
      "text/html": [
       "<div>\n",
       "<style scoped>\n",
       "    .dataframe tbody tr th:only-of-type {\n",
       "        vertical-align: middle;\n",
       "    }\n",
       "\n",
       "    .dataframe tbody tr th {\n",
       "        vertical-align: top;\n",
       "    }\n",
       "\n",
       "    .dataframe thead th {\n",
       "        text-align: right;\n",
       "    }\n",
       "</style>\n",
       "<table border=\"1\" class=\"dataframe\">\n",
       "  <thead>\n",
       "    <tr style=\"text-align: right;\">\n",
       "      <th></th>\n",
       "      <th>age</th>\n",
       "      <th>work</th>\n",
       "    </tr>\n",
       "  </thead>\n",
       "  <tbody>\n",
       "    <tr>\n",
       "      <th>age</th>\n",
       "      <td>1.000000</td>\n",
       "      <td>0.471771</td>\n",
       "    </tr>\n",
       "    <tr>\n",
       "      <th>work</th>\n",
       "      <td>0.471771</td>\n",
       "      <td>1.000000</td>\n",
       "    </tr>\n",
       "  </tbody>\n",
       "</table>\n",
       "</div>"
      ],
      "text/plain": [
       "           age      work\n",
       "age   1.000000  0.471771\n",
       "work  0.471771  1.000000"
      ]
     },
     "execution_count": 306,
     "metadata": {},
     "output_type": "execute_result"
    }
   ],
   "source": [
    "video_X_train_scaled.corr() "
   ]
  },
  {
   "cell_type": "markdown",
   "id": "ef355c93-bc41-4ad9-a496-b6007855086c",
   "metadata": {
    "tags": []
   },
   "source": [
    "## References\n",
    "- https://www.stat.berkeley.edu/users/statlabs/labs.html\n",
    "- https://github.com/DCtheTall/introduction-to-machine-learning/blob/master/chapter3/scaling.py"
   ]
  },
  {
   "cell_type": "markdown",
   "id": "f0cbf4c0-e8d7-44f8-8b6a-2eeb4ea2de35",
   "metadata": {},
   "source": [
    "## Further reading suggestion:\n",
    "\n",
    "- https://www.atoti.io/articles/when-to-perform-a-feature-scaling/\n",
    "- https://www.analyticsvidhya.com/blog/2020/04/feature-scaling-machine-learning-normalization-standardization/\n",
    "- https://medium.com/atoti/what-is-data-leakage-and-how-to-mitigate-it-5be11f6d2f94\n",
    "\n",
    "- Chapters 3-4 suggested:\n",
    "    \n",
    "   https://michael-fuchs-python.netlify.app/2019/01/01/tag-archive/#data-pre-processing\n",
    "   \n",
    "-  Chapter 4 suggested:\n",
    "   \n",
    "   Müller, A.C., and Guido, S. (2016). Introduction to Machine Learning with Python: A Guide for Data Scientists. O’Reilly Media, Inc. [Available online at https://github.com/amueller/introduction_to_ml_with_python]. "
   ]
  },
  {
   "cell_type": "code",
   "execution_count": 307,
   "id": "1ce93984-f10a-4a07-947f-a994e7c4f8b2",
   "metadata": {},
   "outputs": [
    {
     "data": {
      "text/html": [
       "<details>\n",
       "<summary>Click to view session information</summary>\n",
       "<pre>\n",
       "-----\n",
       "numpy               1.23.5\n",
       "pandas              1.3.5\n",
       "session_info        1.0.0\n",
       "sklearn             1.3.1\n",
       "-----\n",
       "</pre>\n",
       "<details>\n",
       "<summary>Click to view modules imported as dependencies</summary>\n",
       "<pre>\n",
       "anyio                       NA\n",
       "appnope                     0.1.2\n",
       "attr                        21.4.0\n",
       "babel                       2.9.1\n",
       "backcall                    0.2.0\n",
       "bottleneck                  1.3.2\n",
       "brotli                      1.0.9\n",
       "certifi                     2021.10.08\n",
       "chardet                     4.0.0\n",
       "charset_normalizer          2.0.4\n",
       "colorama                    0.4.4\n",
       "cython_runtime              NA\n",
       "dateutil                    2.8.2\n",
       "debugpy                     1.5.1\n",
       "decorator                   5.1.1\n",
       "entrypoints                 0.3\n",
       "google                      NA\n",
       "idna                        3.3\n",
       "importlib_metadata          NA\n",
       "ipykernel                   6.4.1\n",
       "ipython_genutils            0.2.0\n",
       "jedi                        0.18.1\n",
       "jinja2                      2.11.3\n",
       "joblib                      1.2.0\n",
       "json5                       NA\n",
       "jsonschema                  3.2.0\n",
       "jupyter_server              1.4.1\n",
       "jupyterlab_server           2.10.2\n",
       "lz4                         4.0.0\n",
       "markupsafe                  1.1.1\n",
       "mpl_toolkits                NA\n",
       "nbclassic                   NA\n",
       "nbformat                    5.1.3\n",
       "numexpr                     2.8.1\n",
       "packaging                   21.3\n",
       "parso                       0.8.3\n",
       "pexpect                     4.8.0\n",
       "pickleshare                 0.7.5\n",
       "pkg_resources               NA\n",
       "prometheus_client           NA\n",
       "prompt_toolkit              3.0.20\n",
       "psutil                      5.8.0\n",
       "ptyprocess                  0.7.0\n",
       "pvectorc                    NA\n",
       "pydev_ipython               NA\n",
       "pydevconsole                NA\n",
       "pydevd                      2.6.0\n",
       "pydevd_concurrency_analyser NA\n",
       "pydevd_file_utils           NA\n",
       "pydevd_plugins              NA\n",
       "pydevd_tracing              NA\n",
       "pygments                    2.11.2\n",
       "pyrsistent                  NA\n",
       "pytz                        2021.3\n",
       "requests                    2.27.1\n",
       "scipy                       1.10.1\n",
       "send2trash                  NA\n",
       "setuptools                  67.8.0\n",
       "simplejson                  3.19.1\n",
       "six                         1.16.0\n",
       "sniffio                     1.2.0\n",
       "socks                       1.7.1\n",
       "sphinxcontrib               NA\n",
       "storemagic                  NA\n",
       "threadpoolctl               3.1.0\n",
       "tornado                     6.1\n",
       "traitlets                   5.1.1\n",
       "typing_extensions           NA\n",
       "uritemplate                 4.1.1\n",
       "urllib3                     1.26.8\n",
       "wcwidth                     0.2.5\n",
       "zipp                        NA\n",
       "zmq                         22.3.0\n",
       "zope                        NA\n",
       "</pre>\n",
       "</details> <!-- seems like this ends pre, so might as well be explicit -->\n",
       "<pre>\n",
       "-----\n",
       "IPython             7.31.1\n",
       "jupyter_client      6.1.12\n",
       "jupyter_core        4.9.1\n",
       "jupyterlab          3.2.1\n",
       "notebook            6.4.6\n",
       "-----\n",
       "Python 3.8.8 (default, Apr 13 2021, 12:59:45) [Clang 10.0.0 ]\n",
       "macOS-10.15.7-x86_64-i386-64bit\n",
       "-----\n",
       "Session information updated at 2023-10-18 22:44\n",
       "</pre>\n",
       "</details>"
      ],
      "text/plain": [
       "<IPython.core.display.HTML object>"
      ]
     },
     "execution_count": 307,
     "metadata": {},
     "output_type": "execute_result"
    }
   ],
   "source": [
    "import session_info\n",
    "session_info.show()"
   ]
  }
 ],
 "metadata": {
  "kernelspec": {
   "display_name": "Python 3 (ipykernel)",
   "language": "python",
   "name": "python3"
  },
  "language_info": {
   "codemirror_mode": {
    "name": "ipython",
    "version": 3
   },
   "file_extension": ".py",
   "mimetype": "text/x-python",
   "name": "python",
   "nbconvert_exporter": "python",
   "pygments_lexer": "ipython3",
   "version": "3.8.8"
  }
 },
 "nbformat": 4,
 "nbformat_minor": 5
}
