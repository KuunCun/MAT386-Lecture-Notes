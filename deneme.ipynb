{
 "cells": [
  {
   "cell_type": "code",
   "execution_count": 229,
   "id": "initial_id",
   "metadata": {
    "collapsed": true,
    "ExecuteTime": {
     "end_time": "2023-10-23T20:19:44.168387210Z",
     "start_time": "2023-10-23T20:19:44.036327129Z"
    }
   },
   "outputs": [],
   "source": [
    "import pandas as pd\n",
    "import yfinance as yf\n",
    "import numpy as np"
   ]
  },
  {
   "cell_type": "code",
   "execution_count": 230,
   "outputs": [
    {
     "name": "stdout",
     "output_type": "stream",
     "text": [
      "[*********************100%%**********************]  10 of 10 completed\n"
     ]
    },
    {
     "data": {
      "text/plain": "               Adj Close                                                       \\\n               005930.KS 1810.HK        AAPL        AMD       CSCO      GOOGL   \nDate                                                                            \n2019-01-02  34113.539062   12.20   37.943253  18.830000  36.906464  52.734001   \n2019-01-03  33101.132812   11.76   34.163830  17.049999  35.564247  51.273499   \n2019-01-04  32969.085938   11.96   35.622253  19.000000  37.166245  53.903500   \n2019-01-07  34113.539062   12.00   35.542969  20.570000  37.417374  53.796001   \n2019-01-08  33541.304688   11.10   36.220520  20.750000  37.720451  54.268501   \n...                  ...     ...         ...        ...        ...        ...   \n2022-12-26  56924.871094     NaN         NaN        NaN        NaN        NaN   \n2022-12-27  57121.507812     NaN  129.477600  63.270000  46.116402  87.389999   \n2022-12-28  55994.683594   11.22  125.504539  62.570000  45.670082  86.019997   \n2022-12-29  54708.589844   10.86  129.059387  64.820000  46.087296  88.449997   \n2022-12-30           NaN   10.94  129.378006  64.769997  46.223133  88.230003   \n\n                                                           ...      Volume  \\\n                 INTC        META        QCOM        TSLA  ...   005930.KS   \nDate                                                       ...               \n2019-01-02  41.195717  135.679993   50.844707   20.674667  ...   7847664.0   \n2019-01-03  38.929424  131.740005   49.338856   20.024000  ...  12471493.0   \n2019-01-04  41.318214  137.949997   50.136070   21.179333  ...  14108958.0   \n2019-01-07  41.510715  138.050003   49.994343   22.330667  ...  12748997.0   \n2019-01-08  41.773232  142.529999   49.560299   22.356667  ...  12756554.0   \n...               ...         ...         ...         ...  ...         ...   \n2022-12-26        NaN         NaN         NaN         NaN  ...   6756411.0   \n2022-12-27  25.431717  116.879997  107.285439  109.099998  ...  10667027.0   \n2022-12-28  25.039553  115.620003  104.844910  112.709999  ...  14665410.0   \n2022-12-29  25.696424  120.260002  107.657883  121.820000  ...  11295935.0   \n2022-12-30  25.912115  120.339996  107.755898  123.180000  ...         NaN   \n\n                                                                          \\\n               1810.HK         AAPL          AMD        CSCO       GOOGL   \nDate                                                                       \n2019-01-02  32515761.0  148158800.0   87148700.0  23833500.0  31868000.0   \n2019-01-03  38910146.0  365248800.0  117277600.0  29606700.0  41960000.0   \n2019-01-04  25943844.0  234428400.0  111878600.0  27515000.0  46022000.0   \n2019-01-07  28376962.0  219111200.0  107157000.0  19488100.0  47446000.0   \n2019-01-08  91106400.0  164101200.0  121271000.0  22071400.0  35414000.0   \n...                ...          ...          ...         ...         ...   \n2022-12-26         NaN          NaN          NaN         NaN         NaN   \n2022-12-27         NaN   69007800.0   36086000.0  12066200.0  20097300.0   \n2022-12-28  84432613.0   85438400.0   39526500.0   9847400.0  19523200.0   \n2022-12-29  70917775.0   75703700.0   41428500.0  11396500.0  23333500.0   \n2022-12-30  41295012.0   77034200.0   37127000.0  13199800.0  23986300.0   \n\n                                                             \n                  INTC        META        QCOM         TSLA  \nDate                                                         \n2019-01-02  18774600.0  28146200.0   9896600.0  174879000.0  \n2019-01-03  32267300.0  22717900.0  14422200.0  104478000.0  \n2019-01-04  35447300.0  29002100.0  14177300.0  110911500.0  \n2019-01-07  22736800.0  20089300.0  12352000.0  113268000.0  \n2019-01-08  22749200.0  26263800.0  12110000.0  105127500.0  \n...                ...         ...         ...          ...  \n2022-12-26         NaN         NaN         NaN          NaN  \n2022-12-27  29548100.0  21392300.0   6158100.0  208643400.0  \n2022-12-28  26176900.0  19612500.0   5395600.0  221070500.0  \n2022-12-29  30944800.0  22366200.0   6668600.0  221923300.0  \n2022-12-30  31030100.0  19583800.0   5642300.0  157777300.0  \n\n[1039 rows x 60 columns]",
      "text/html": "<div>\n<style scoped>\n    .dataframe tbody tr th:only-of-type {\n        vertical-align: middle;\n    }\n\n    .dataframe tbody tr th {\n        vertical-align: top;\n    }\n\n    .dataframe thead tr th {\n        text-align: left;\n    }\n\n    .dataframe thead tr:last-of-type th {\n        text-align: right;\n    }\n</style>\n<table border=\"1\" class=\"dataframe\">\n  <thead>\n    <tr>\n      <th></th>\n      <th colspan=\"10\" halign=\"left\">Adj Close</th>\n      <th>...</th>\n      <th colspan=\"10\" halign=\"left\">Volume</th>\n    </tr>\n    <tr>\n      <th></th>\n      <th>005930.KS</th>\n      <th>1810.HK</th>\n      <th>AAPL</th>\n      <th>AMD</th>\n      <th>CSCO</th>\n      <th>GOOGL</th>\n      <th>INTC</th>\n      <th>META</th>\n      <th>QCOM</th>\n      <th>TSLA</th>\n      <th>...</th>\n      <th>005930.KS</th>\n      <th>1810.HK</th>\n      <th>AAPL</th>\n      <th>AMD</th>\n      <th>CSCO</th>\n      <th>GOOGL</th>\n      <th>INTC</th>\n      <th>META</th>\n      <th>QCOM</th>\n      <th>TSLA</th>\n    </tr>\n    <tr>\n      <th>Date</th>\n      <th></th>\n      <th></th>\n      <th></th>\n      <th></th>\n      <th></th>\n      <th></th>\n      <th></th>\n      <th></th>\n      <th></th>\n      <th></th>\n      <th></th>\n      <th></th>\n      <th></th>\n      <th></th>\n      <th></th>\n      <th></th>\n      <th></th>\n      <th></th>\n      <th></th>\n      <th></th>\n      <th></th>\n    </tr>\n  </thead>\n  <tbody>\n    <tr>\n      <th>2019-01-02</th>\n      <td>34113.539062</td>\n      <td>12.20</td>\n      <td>37.943253</td>\n      <td>18.830000</td>\n      <td>36.906464</td>\n      <td>52.734001</td>\n      <td>41.195717</td>\n      <td>135.679993</td>\n      <td>50.844707</td>\n      <td>20.674667</td>\n      <td>...</td>\n      <td>7847664.0</td>\n      <td>32515761.0</td>\n      <td>148158800.0</td>\n      <td>87148700.0</td>\n      <td>23833500.0</td>\n      <td>31868000.0</td>\n      <td>18774600.0</td>\n      <td>28146200.0</td>\n      <td>9896600.0</td>\n      <td>174879000.0</td>\n    </tr>\n    <tr>\n      <th>2019-01-03</th>\n      <td>33101.132812</td>\n      <td>11.76</td>\n      <td>34.163830</td>\n      <td>17.049999</td>\n      <td>35.564247</td>\n      <td>51.273499</td>\n      <td>38.929424</td>\n      <td>131.740005</td>\n      <td>49.338856</td>\n      <td>20.024000</td>\n      <td>...</td>\n      <td>12471493.0</td>\n      <td>38910146.0</td>\n      <td>365248800.0</td>\n      <td>117277600.0</td>\n      <td>29606700.0</td>\n      <td>41960000.0</td>\n      <td>32267300.0</td>\n      <td>22717900.0</td>\n      <td>14422200.0</td>\n      <td>104478000.0</td>\n    </tr>\n    <tr>\n      <th>2019-01-04</th>\n      <td>32969.085938</td>\n      <td>11.96</td>\n      <td>35.622253</td>\n      <td>19.000000</td>\n      <td>37.166245</td>\n      <td>53.903500</td>\n      <td>41.318214</td>\n      <td>137.949997</td>\n      <td>50.136070</td>\n      <td>21.179333</td>\n      <td>...</td>\n      <td>14108958.0</td>\n      <td>25943844.0</td>\n      <td>234428400.0</td>\n      <td>111878600.0</td>\n      <td>27515000.0</td>\n      <td>46022000.0</td>\n      <td>35447300.0</td>\n      <td>29002100.0</td>\n      <td>14177300.0</td>\n      <td>110911500.0</td>\n    </tr>\n    <tr>\n      <th>2019-01-07</th>\n      <td>34113.539062</td>\n      <td>12.00</td>\n      <td>35.542969</td>\n      <td>20.570000</td>\n      <td>37.417374</td>\n      <td>53.796001</td>\n      <td>41.510715</td>\n      <td>138.050003</td>\n      <td>49.994343</td>\n      <td>22.330667</td>\n      <td>...</td>\n      <td>12748997.0</td>\n      <td>28376962.0</td>\n      <td>219111200.0</td>\n      <td>107157000.0</td>\n      <td>19488100.0</td>\n      <td>47446000.0</td>\n      <td>22736800.0</td>\n      <td>20089300.0</td>\n      <td>12352000.0</td>\n      <td>113268000.0</td>\n    </tr>\n    <tr>\n      <th>2019-01-08</th>\n      <td>33541.304688</td>\n      <td>11.10</td>\n      <td>36.220520</td>\n      <td>20.750000</td>\n      <td>37.720451</td>\n      <td>54.268501</td>\n      <td>41.773232</td>\n      <td>142.529999</td>\n      <td>49.560299</td>\n      <td>22.356667</td>\n      <td>...</td>\n      <td>12756554.0</td>\n      <td>91106400.0</td>\n      <td>164101200.0</td>\n      <td>121271000.0</td>\n      <td>22071400.0</td>\n      <td>35414000.0</td>\n      <td>22749200.0</td>\n      <td>26263800.0</td>\n      <td>12110000.0</td>\n      <td>105127500.0</td>\n    </tr>\n    <tr>\n      <th>...</th>\n      <td>...</td>\n      <td>...</td>\n      <td>...</td>\n      <td>...</td>\n      <td>...</td>\n      <td>...</td>\n      <td>...</td>\n      <td>...</td>\n      <td>...</td>\n      <td>...</td>\n      <td>...</td>\n      <td>...</td>\n      <td>...</td>\n      <td>...</td>\n      <td>...</td>\n      <td>...</td>\n      <td>...</td>\n      <td>...</td>\n      <td>...</td>\n      <td>...</td>\n      <td>...</td>\n    </tr>\n    <tr>\n      <th>2022-12-26</th>\n      <td>56924.871094</td>\n      <td>NaN</td>\n      <td>NaN</td>\n      <td>NaN</td>\n      <td>NaN</td>\n      <td>NaN</td>\n      <td>NaN</td>\n      <td>NaN</td>\n      <td>NaN</td>\n      <td>NaN</td>\n      <td>...</td>\n      <td>6756411.0</td>\n      <td>NaN</td>\n      <td>NaN</td>\n      <td>NaN</td>\n      <td>NaN</td>\n      <td>NaN</td>\n      <td>NaN</td>\n      <td>NaN</td>\n      <td>NaN</td>\n      <td>NaN</td>\n    </tr>\n    <tr>\n      <th>2022-12-27</th>\n      <td>57121.507812</td>\n      <td>NaN</td>\n      <td>129.477600</td>\n      <td>63.270000</td>\n      <td>46.116402</td>\n      <td>87.389999</td>\n      <td>25.431717</td>\n      <td>116.879997</td>\n      <td>107.285439</td>\n      <td>109.099998</td>\n      <td>...</td>\n      <td>10667027.0</td>\n      <td>NaN</td>\n      <td>69007800.0</td>\n      <td>36086000.0</td>\n      <td>12066200.0</td>\n      <td>20097300.0</td>\n      <td>29548100.0</td>\n      <td>21392300.0</td>\n      <td>6158100.0</td>\n      <td>208643400.0</td>\n    </tr>\n    <tr>\n      <th>2022-12-28</th>\n      <td>55994.683594</td>\n      <td>11.22</td>\n      <td>125.504539</td>\n      <td>62.570000</td>\n      <td>45.670082</td>\n      <td>86.019997</td>\n      <td>25.039553</td>\n      <td>115.620003</td>\n      <td>104.844910</td>\n      <td>112.709999</td>\n      <td>...</td>\n      <td>14665410.0</td>\n      <td>84432613.0</td>\n      <td>85438400.0</td>\n      <td>39526500.0</td>\n      <td>9847400.0</td>\n      <td>19523200.0</td>\n      <td>26176900.0</td>\n      <td>19612500.0</td>\n      <td>5395600.0</td>\n      <td>221070500.0</td>\n    </tr>\n    <tr>\n      <th>2022-12-29</th>\n      <td>54708.589844</td>\n      <td>10.86</td>\n      <td>129.059387</td>\n      <td>64.820000</td>\n      <td>46.087296</td>\n      <td>88.449997</td>\n      <td>25.696424</td>\n      <td>120.260002</td>\n      <td>107.657883</td>\n      <td>121.820000</td>\n      <td>...</td>\n      <td>11295935.0</td>\n      <td>70917775.0</td>\n      <td>75703700.0</td>\n      <td>41428500.0</td>\n      <td>11396500.0</td>\n      <td>23333500.0</td>\n      <td>30944800.0</td>\n      <td>22366200.0</td>\n      <td>6668600.0</td>\n      <td>221923300.0</td>\n    </tr>\n    <tr>\n      <th>2022-12-30</th>\n      <td>NaN</td>\n      <td>10.94</td>\n      <td>129.378006</td>\n      <td>64.769997</td>\n      <td>46.223133</td>\n      <td>88.230003</td>\n      <td>25.912115</td>\n      <td>120.339996</td>\n      <td>107.755898</td>\n      <td>123.180000</td>\n      <td>...</td>\n      <td>NaN</td>\n      <td>41295012.0</td>\n      <td>77034200.0</td>\n      <td>37127000.0</td>\n      <td>13199800.0</td>\n      <td>23986300.0</td>\n      <td>31030100.0</td>\n      <td>19583800.0</td>\n      <td>5642300.0</td>\n      <td>157777300.0</td>\n    </tr>\n  </tbody>\n</table>\n<p>1039 rows × 60 columns</p>\n</div>"
     },
     "execution_count": 230,
     "metadata": {},
     "output_type": "execute_result"
    }
   ],
   "source": [
    "tickers = yf.download(\"GOOGL META CSCO INTC AMD QCOM AAPL 005930.KS 1810.HK TSLA\",start = \"2019-01-01\",end = \"2022-12-31\")\n",
    "tickers"
   ],
   "metadata": {
    "collapsed": false,
    "ExecuteTime": {
     "end_time": "2023-10-23T20:19:55.494885548Z",
     "start_time": "2023-10-23T20:19:44.082217319Z"
    }
   },
   "id": "6f1c2fd6390e5dff"
  },
  {
   "cell_type": "code",
   "execution_count": 231,
   "outputs": [
    {
     "name": "stdout",
     "output_type": "stream",
     "text": [
      "[*********************100%%**********************]  10 of 10 completed\n",
      "[*********************100%%**********************]  10 of 10 completed\n"
     ]
    }
   ],
   "source": [
    "tickers1 = yf.download(\"GOOGL META CSCO INTC AMD QCOM AAPL 005930.KS 1810.HK TSLA\",start = \"2019-01-01\",end = \"2022-12-31\")['Open']\n",
    "tickers2 = yf.download(\"GOOGL META CSCO INTC AMD QCOM AAPL 005930.KS 1810.HK TSLA\",start = \"2019-1-1\",end = \"2022-12-31\")['Close']"
   ],
   "metadata": {
    "collapsed": false,
    "ExecuteTime": {
     "end_time": "2023-10-23T20:19:58.471119189Z",
     "start_time": "2023-10-23T20:19:55.477379832Z"
    }
   },
   "id": "40c0f86aa6ef1ba9"
  },
  {
   "cell_type": "code",
   "execution_count": 232,
   "outputs": [],
   "source": [
    "tickerstrings = [\"GOOGL\", \"META\", \"AAPL\", \"CSCO\", \"AMD\", \"QCOM\", \"INTC\", \"005930.KS\", \"1810.HK\", \"TSLA\"]\n",
    "\n",
    "for ticker in tickerstrings:\n",
    "    data = ((tickers2-tickers1)/tickers1)*100"
   ],
   "metadata": {
    "collapsed": false,
    "ExecuteTime": {
     "end_time": "2023-10-23T20:19:58.498776475Z",
     "start_time": "2023-10-23T20:19:58.491900881Z"
    }
   },
   "id": "9663049c53818d03"
  },
  {
   "cell_type": "code",
   "execution_count": 233,
   "outputs": [],
   "source": [
    "CHANGE = pd.DataFrame(data, columns = tickerstrings)"
   ],
   "metadata": {
    "collapsed": false,
    "ExecuteTime": {
     "end_time": "2023-10-23T20:19:58.545448538Z",
     "start_time": "2023-10-23T20:19:58.500951403Z"
    }
   },
   "id": "e42df89ac2dfd0d"
  },
  {
   "cell_type": "code",
   "execution_count": 234,
   "outputs": [],
   "source": [
    "for ticker in tickerstrings:\n",
    "    CHANGE.loc[(CHANGE[ticker] >= -2.5)&(CHANGE[ticker] <= 2.5),ticker] = 0\n",
    "    CHANGE.loc[CHANGE[ticker] > 2.5,ticker ] = 1\n",
    "    CHANGE.loc[CHANGE[ticker] < -2.5,ticker] = -1"
   ],
   "metadata": {
    "collapsed": false,
    "ExecuteTime": {
     "end_time": "2023-10-23T20:19:58.545716450Z",
     "start_time": "2023-10-23T20:19:58.542102094Z"
    }
   },
   "id": "d05cdf412ecb317d"
  },
  {
   "cell_type": "code",
   "execution_count": 235,
   "outputs": [
    {
     "data": {
      "text/plain": "            GOOGL  META  AAPL  CSCO  AMD  QCOM  INTC  005930.KS  1810.HK  TSLA\nDate                                                                          \n2019-01-02    1.0   1.0   0.0   0.0  1.0   0.0   0.0        0.0     -1.0   0.0\n2019-01-03    0.0   0.0   0.0  -1.0 -1.0   0.0  -1.0        0.0     -1.0   0.0\n2019-01-04    1.0   1.0   1.0   1.0  1.0   0.0   1.0        0.0      1.0   1.0\n2019-01-07    0.0   0.0   0.0   0.0  1.0   0.0   0.0        0.0     -1.0   1.0\n2019-01-08    0.0   0.0   0.0   0.0  0.0   0.0   0.0        0.0     -1.0   0.0\n...           ...   ...   ...   ...  ...   ...   ...        ...      ...   ...\n2022-12-26    NaN   NaN   NaN   NaN  NaN   NaN   NaN        0.0      NaN   NaN\n2022-12-27    0.0   0.0   0.0   0.0  0.0   0.0   0.0        0.0      NaN  -1.0\n2022-12-28    0.0   0.0  -1.0   0.0  0.0   0.0   0.0        0.0      0.0   0.0\n2022-12-29    0.0   1.0   0.0   0.0  0.0   0.0   0.0        0.0      0.0   0.0\n2022-12-30    0.0   0.0   0.0   0.0  0.0   0.0   0.0        NaN      0.0   1.0\n\n[1039 rows x 10 columns]",
      "text/html": "<div>\n<style scoped>\n    .dataframe tbody tr th:only-of-type {\n        vertical-align: middle;\n    }\n\n    .dataframe tbody tr th {\n        vertical-align: top;\n    }\n\n    .dataframe thead th {\n        text-align: right;\n    }\n</style>\n<table border=\"1\" class=\"dataframe\">\n  <thead>\n    <tr style=\"text-align: right;\">\n      <th></th>\n      <th>GOOGL</th>\n      <th>META</th>\n      <th>AAPL</th>\n      <th>CSCO</th>\n      <th>AMD</th>\n      <th>QCOM</th>\n      <th>INTC</th>\n      <th>005930.KS</th>\n      <th>1810.HK</th>\n      <th>TSLA</th>\n    </tr>\n    <tr>\n      <th>Date</th>\n      <th></th>\n      <th></th>\n      <th></th>\n      <th></th>\n      <th></th>\n      <th></th>\n      <th></th>\n      <th></th>\n      <th></th>\n      <th></th>\n    </tr>\n  </thead>\n  <tbody>\n    <tr>\n      <th>2019-01-02</th>\n      <td>1.0</td>\n      <td>1.0</td>\n      <td>0.0</td>\n      <td>0.0</td>\n      <td>1.0</td>\n      <td>0.0</td>\n      <td>0.0</td>\n      <td>0.0</td>\n      <td>-1.0</td>\n      <td>0.0</td>\n    </tr>\n    <tr>\n      <th>2019-01-03</th>\n      <td>0.0</td>\n      <td>0.0</td>\n      <td>0.0</td>\n      <td>-1.0</td>\n      <td>-1.0</td>\n      <td>0.0</td>\n      <td>-1.0</td>\n      <td>0.0</td>\n      <td>-1.0</td>\n      <td>0.0</td>\n    </tr>\n    <tr>\n      <th>2019-01-04</th>\n      <td>1.0</td>\n      <td>1.0</td>\n      <td>1.0</td>\n      <td>1.0</td>\n      <td>1.0</td>\n      <td>0.0</td>\n      <td>1.0</td>\n      <td>0.0</td>\n      <td>1.0</td>\n      <td>1.0</td>\n    </tr>\n    <tr>\n      <th>2019-01-07</th>\n      <td>0.0</td>\n      <td>0.0</td>\n      <td>0.0</td>\n      <td>0.0</td>\n      <td>1.0</td>\n      <td>0.0</td>\n      <td>0.0</td>\n      <td>0.0</td>\n      <td>-1.0</td>\n      <td>1.0</td>\n    </tr>\n    <tr>\n      <th>2019-01-08</th>\n      <td>0.0</td>\n      <td>0.0</td>\n      <td>0.0</td>\n      <td>0.0</td>\n      <td>0.0</td>\n      <td>0.0</td>\n      <td>0.0</td>\n      <td>0.0</td>\n      <td>-1.0</td>\n      <td>0.0</td>\n    </tr>\n    <tr>\n      <th>...</th>\n      <td>...</td>\n      <td>...</td>\n      <td>...</td>\n      <td>...</td>\n      <td>...</td>\n      <td>...</td>\n      <td>...</td>\n      <td>...</td>\n      <td>...</td>\n      <td>...</td>\n    </tr>\n    <tr>\n      <th>2022-12-26</th>\n      <td>NaN</td>\n      <td>NaN</td>\n      <td>NaN</td>\n      <td>NaN</td>\n      <td>NaN</td>\n      <td>NaN</td>\n      <td>NaN</td>\n      <td>0.0</td>\n      <td>NaN</td>\n      <td>NaN</td>\n    </tr>\n    <tr>\n      <th>2022-12-27</th>\n      <td>0.0</td>\n      <td>0.0</td>\n      <td>0.0</td>\n      <td>0.0</td>\n      <td>0.0</td>\n      <td>0.0</td>\n      <td>0.0</td>\n      <td>0.0</td>\n      <td>NaN</td>\n      <td>-1.0</td>\n    </tr>\n    <tr>\n      <th>2022-12-28</th>\n      <td>0.0</td>\n      <td>0.0</td>\n      <td>-1.0</td>\n      <td>0.0</td>\n      <td>0.0</td>\n      <td>0.0</td>\n      <td>0.0</td>\n      <td>0.0</td>\n      <td>0.0</td>\n      <td>0.0</td>\n    </tr>\n    <tr>\n      <th>2022-12-29</th>\n      <td>0.0</td>\n      <td>1.0</td>\n      <td>0.0</td>\n      <td>0.0</td>\n      <td>0.0</td>\n      <td>0.0</td>\n      <td>0.0</td>\n      <td>0.0</td>\n      <td>0.0</td>\n      <td>0.0</td>\n    </tr>\n    <tr>\n      <th>2022-12-30</th>\n      <td>0.0</td>\n      <td>0.0</td>\n      <td>0.0</td>\n      <td>0.0</td>\n      <td>0.0</td>\n      <td>0.0</td>\n      <td>0.0</td>\n      <td>NaN</td>\n      <td>0.0</td>\n      <td>1.0</td>\n    </tr>\n  </tbody>\n</table>\n<p>1039 rows × 10 columns</p>\n</div>"
     },
     "execution_count": 235,
     "metadata": {},
     "output_type": "execute_result"
    }
   ],
   "source": [
    "CHANGE"
   ],
   "metadata": {
    "collapsed": false,
    "ExecuteTime": {
     "end_time": "2023-10-23T20:19:58.593740640Z",
     "start_time": "2023-10-23T20:19:58.542293179Z"
    }
   },
   "id": "5d772daaba5fbc50"
  },
  {
   "cell_type": "code",
   "execution_count": 236,
   "outputs": [
    {
     "data": {
      "text/plain": "Date\n2019-01-02    0.0\n2019-01-03    0.0\n2019-01-04    1.0\n2019-01-07    0.0\n2019-01-08    0.0\n             ... \n2022-12-26    NaN\n2022-12-27    0.0\n2022-12-28   -1.0\n2022-12-29    0.0\n2022-12-30    0.0\nName: AAPL, Length: 1039, dtype: float64"
     },
     "execution_count": 236,
     "metadata": {},
     "output_type": "execute_result"
    }
   ],
   "source": [
    "CHANGE[\"AAPL\"]"
   ],
   "metadata": {
    "collapsed": false,
    "ExecuteTime": {
     "end_time": "2023-10-23T20:19:58.594182945Z",
     "start_time": "2023-10-23T20:19:58.586318118Z"
    }
   },
   "id": "f07e913d0b0a5de4"
  },
  {
   "cell_type": "code",
   "execution_count": 237,
   "outputs": [
    {
     "name": "stderr",
     "output_type": "stream",
     "text": [
      "/tmp/ipykernel_5861/1019297303.py:4: FutureWarning: Series.__getitem__ treating keys as positions is deprecated. In a future version, integer keys will always be treated as labels (consistent with DataFrame behavior). To access a value by position, use `ser.iloc[pos]`\n",
      "  i = CHANGE[\"1810.HK\"][j]\n"
     ]
    }
   ],
   "source": [
    "streak = 0; maxstreak = 0\n",
    "\n",
    "for j in range(len(CHANGE[\"1810.HK\"])):\n",
    "    i = CHANGE[\"1810.HK\"][j]\n",
    "    if ((i == 1) | (i == -1)):\n",
    "        streak += 1\n",
    "    else:\n",
    "        if streak > maxstreak:\n",
    "            maxstreak = streak\n",
    "            y = j;\n",
    "        \n",
    "        streak = 0\n"
   ],
   "metadata": {
    "collapsed": false,
    "ExecuteTime": {
     "end_time": "2023-10-23T20:19:58.594400640Z",
     "start_time": "2023-10-23T20:19:58.586543706Z"
    }
   },
   "id": "743ff5153564b3f3"
  },
  {
   "cell_type": "code",
   "execution_count": 240,
   "outputs": [],
   "source": [
    "def max_streak(df,column):\n",
    "    streak = 0; \n",
    "    maxstreak = 0\n",
    "\n",
    "    for j in range(len(df[column])):\n",
    "        i = df[column][j]\n",
    "        if ((i == 1) | (i == -1)):\n",
    "            streak += 1\n",
    "        else:\n",
    "            if streak > maxstreak:\n",
    "                maxstreak = streak\n",
    "                y = j;\n",
    "    \n",
    "            streak = 0\n",
    "\n",
    "    begin = CHANGE[y-maxstreak]\n",
    "    end = CHANGE[\"Date\"][y-1]\n",
    "    \n",
    "    return print(begin, \"to\", end)\n",
    "    "
   ],
   "metadata": {
    "collapsed": false,
    "ExecuteTime": {
     "end_time": "2023-10-23T20:21:58.250849560Z",
     "start_time": "2023-10-23T20:21:58.207087155Z"
    }
   },
   "id": "28f349ef8e26f4fe"
  },
  {
   "cell_type": "code",
   "execution_count": 241,
   "outputs": [
    {
     "name": "stderr",
     "output_type": "stream",
     "text": [
      "/tmp/ipykernel_5861/1421687172.py:6: FutureWarning: Series.__getitem__ treating keys as positions is deprecated. In a future version, integer keys will always be treated as labels (consistent with DataFrame behavior). To access a value by position, use `ser.iloc[pos]`\n",
      "  i = df[column][j]\n"
     ]
    },
    {
     "ename": "KeyError",
     "evalue": "'Date'",
     "output_type": "error",
     "traceback": [
      "\u001B[0;31m---------------------------------------------------------------------------\u001B[0m",
      "\u001B[0;31mKeyError\u001B[0m                                  Traceback (most recent call last)",
      "File \u001B[0;32m~/.config/JetBrains/DataSpell2023.2/projects/workspace/venv/lib/python3.11/site-packages/pandas/core/indexes/base.py:3790\u001B[0m, in \u001B[0;36mIndex.get_loc\u001B[0;34m(self, key)\u001B[0m\n\u001B[1;32m   3789\u001B[0m \u001B[38;5;28;01mtry\u001B[39;00m:\n\u001B[0;32m-> 3790\u001B[0m     \u001B[38;5;28;01mreturn\u001B[39;00m \u001B[38;5;28;43mself\u001B[39;49m\u001B[38;5;241;43m.\u001B[39;49m\u001B[43m_engine\u001B[49m\u001B[38;5;241;43m.\u001B[39;49m\u001B[43mget_loc\u001B[49m\u001B[43m(\u001B[49m\u001B[43mcasted_key\u001B[49m\u001B[43m)\u001B[49m\n\u001B[1;32m   3791\u001B[0m \u001B[38;5;28;01mexcept\u001B[39;00m \u001B[38;5;167;01mKeyError\u001B[39;00m \u001B[38;5;28;01mas\u001B[39;00m err:\n",
      "File \u001B[0;32mindex.pyx:152\u001B[0m, in \u001B[0;36mpandas._libs.index.IndexEngine.get_loc\u001B[0;34m()\u001B[0m\n",
      "File \u001B[0;32mindex.pyx:181\u001B[0m, in \u001B[0;36mpandas._libs.index.IndexEngine.get_loc\u001B[0;34m()\u001B[0m\n",
      "File \u001B[0;32mpandas/_libs/hashtable_class_helper.pxi:7080\u001B[0m, in \u001B[0;36mpandas._libs.hashtable.PyObjectHashTable.get_item\u001B[0;34m()\u001B[0m\n",
      "File \u001B[0;32mpandas/_libs/hashtable_class_helper.pxi:7088\u001B[0m, in \u001B[0;36mpandas._libs.hashtable.PyObjectHashTable.get_item\u001B[0;34m()\u001B[0m\n",
      "\u001B[0;31mKeyError\u001B[0m: 'Date'",
      "\nThe above exception was the direct cause of the following exception:\n",
      "\u001B[0;31mKeyError\u001B[0m                                  Traceback (most recent call last)",
      "Cell \u001B[0;32mIn[241], line 2\u001B[0m\n\u001B[1;32m      1\u001B[0m \u001B[38;5;28;01mfor\u001B[39;00m ticker \u001B[38;5;129;01min\u001B[39;00m tickerstrings:\n\u001B[0;32m----> 2\u001B[0m     \u001B[43mmax_streak\u001B[49m\u001B[43m(\u001B[49m\u001B[43mCHANGE\u001B[49m\u001B[43m,\u001B[49m\u001B[43m \u001B[49m\u001B[43mticker\u001B[49m\u001B[43m)\u001B[49m\n",
      "Cell \u001B[0;32mIn[240], line 16\u001B[0m, in \u001B[0;36mmax_streak\u001B[0;34m(df, column)\u001B[0m\n\u001B[1;32m     12\u001B[0m             y \u001B[38;5;241m=\u001B[39m j;\n\u001B[1;32m     14\u001B[0m         streak \u001B[38;5;241m=\u001B[39m \u001B[38;5;241m0\u001B[39m\n\u001B[0;32m---> 16\u001B[0m begin \u001B[38;5;241m=\u001B[39m \u001B[43mCHANGE\u001B[49m\u001B[43m[\u001B[49m\u001B[38;5;124;43m\"\u001B[39;49m\u001B[38;5;124;43mDate\u001B[39;49m\u001B[38;5;124;43m\"\u001B[39;49m\u001B[43m]\u001B[49m[y\u001B[38;5;241m-\u001B[39mmaxstreak]\n\u001B[1;32m     17\u001B[0m end \u001B[38;5;241m=\u001B[39m CHANGE[\u001B[38;5;124m\"\u001B[39m\u001B[38;5;124mDate\u001B[39m\u001B[38;5;124m\"\u001B[39m][y\u001B[38;5;241m-\u001B[39m\u001B[38;5;241m1\u001B[39m]\n\u001B[1;32m     19\u001B[0m \u001B[38;5;28;01mreturn\u001B[39;00m \u001B[38;5;28mprint\u001B[39m(begin, \u001B[38;5;124m\"\u001B[39m\u001B[38;5;124mto\u001B[39m\u001B[38;5;124m\"\u001B[39m, end)\n",
      "File \u001B[0;32m~/.config/JetBrains/DataSpell2023.2/projects/workspace/venv/lib/python3.11/site-packages/pandas/core/frame.py:3896\u001B[0m, in \u001B[0;36mDataFrame.__getitem__\u001B[0;34m(self, key)\u001B[0m\n\u001B[1;32m   3894\u001B[0m \u001B[38;5;28;01mif\u001B[39;00m \u001B[38;5;28mself\u001B[39m\u001B[38;5;241m.\u001B[39mcolumns\u001B[38;5;241m.\u001B[39mnlevels \u001B[38;5;241m>\u001B[39m \u001B[38;5;241m1\u001B[39m:\n\u001B[1;32m   3895\u001B[0m     \u001B[38;5;28;01mreturn\u001B[39;00m \u001B[38;5;28mself\u001B[39m\u001B[38;5;241m.\u001B[39m_getitem_multilevel(key)\n\u001B[0;32m-> 3896\u001B[0m indexer \u001B[38;5;241m=\u001B[39m \u001B[38;5;28;43mself\u001B[39;49m\u001B[38;5;241;43m.\u001B[39;49m\u001B[43mcolumns\u001B[49m\u001B[38;5;241;43m.\u001B[39;49m\u001B[43mget_loc\u001B[49m\u001B[43m(\u001B[49m\u001B[43mkey\u001B[49m\u001B[43m)\u001B[49m\n\u001B[1;32m   3897\u001B[0m \u001B[38;5;28;01mif\u001B[39;00m is_integer(indexer):\n\u001B[1;32m   3898\u001B[0m     indexer \u001B[38;5;241m=\u001B[39m [indexer]\n",
      "File \u001B[0;32m~/.config/JetBrains/DataSpell2023.2/projects/workspace/venv/lib/python3.11/site-packages/pandas/core/indexes/base.py:3797\u001B[0m, in \u001B[0;36mIndex.get_loc\u001B[0;34m(self, key)\u001B[0m\n\u001B[1;32m   3792\u001B[0m     \u001B[38;5;28;01mif\u001B[39;00m \u001B[38;5;28misinstance\u001B[39m(casted_key, \u001B[38;5;28mslice\u001B[39m) \u001B[38;5;129;01mor\u001B[39;00m (\n\u001B[1;32m   3793\u001B[0m         \u001B[38;5;28misinstance\u001B[39m(casted_key, abc\u001B[38;5;241m.\u001B[39mIterable)\n\u001B[1;32m   3794\u001B[0m         \u001B[38;5;129;01mand\u001B[39;00m \u001B[38;5;28many\u001B[39m(\u001B[38;5;28misinstance\u001B[39m(x, \u001B[38;5;28mslice\u001B[39m) \u001B[38;5;28;01mfor\u001B[39;00m x \u001B[38;5;129;01min\u001B[39;00m casted_key)\n\u001B[1;32m   3795\u001B[0m     ):\n\u001B[1;32m   3796\u001B[0m         \u001B[38;5;28;01mraise\u001B[39;00m InvalidIndexError(key)\n\u001B[0;32m-> 3797\u001B[0m     \u001B[38;5;28;01mraise\u001B[39;00m \u001B[38;5;167;01mKeyError\u001B[39;00m(key) \u001B[38;5;28;01mfrom\u001B[39;00m \u001B[38;5;21;01merr\u001B[39;00m\n\u001B[1;32m   3798\u001B[0m \u001B[38;5;28;01mexcept\u001B[39;00m \u001B[38;5;167;01mTypeError\u001B[39;00m:\n\u001B[1;32m   3799\u001B[0m     \u001B[38;5;66;03m# If we have a listlike key, _check_indexing_error will raise\u001B[39;00m\n\u001B[1;32m   3800\u001B[0m     \u001B[38;5;66;03m#  InvalidIndexError. Otherwise we fall through and re-raise\u001B[39;00m\n\u001B[1;32m   3801\u001B[0m     \u001B[38;5;66;03m#  the TypeError.\u001B[39;00m\n\u001B[1;32m   3802\u001B[0m     \u001B[38;5;28mself\u001B[39m\u001B[38;5;241m.\u001B[39m_check_indexing_error(key)\n",
      "\u001B[0;31mKeyError\u001B[0m: 'Date'"
     ]
    }
   ],
   "source": [
    "for ticker in tickerstrings:\n",
    "    max_streak(CHANGE, ticker)\n"
   ],
   "metadata": {
    "collapsed": false,
    "ExecuteTime": {
     "end_time": "2023-10-23T20:21:58.887913768Z",
     "start_time": "2023-10-23T20:21:58.810444635Z"
    }
   },
   "id": "ebff1b11bed213ee"
  },
  {
   "cell_type": "code",
   "execution_count": 243,
   "outputs": [
    {
     "ename": "TypeError",
     "evalue": "'DatetimeIndex' object is not callable",
     "output_type": "error",
     "traceback": [
      "\u001B[0;31m---------------------------------------------------------------------------\u001B[0m",
      "\u001B[0;31mTypeError\u001B[0m                                 Traceback (most recent call last)",
      "Cell \u001B[0;32mIn[243], line 1\u001B[0m\n\u001B[0;32m----> 1\u001B[0m \u001B[43mCHANGE\u001B[49m\u001B[38;5;241;43m.\u001B[39;49m\u001B[43mindex\u001B[49m\u001B[43m(\u001B[49m\u001B[43my\u001B[49m\u001B[38;5;241;43m-\u001B[39;49m\u001B[43mmaxstreak\u001B[49m\u001B[43m)\u001B[49m\n",
      "\u001B[0;31mTypeError\u001B[0m: 'DatetimeIndex' object is not callable"
     ]
    }
   ],
   "source": [
    "CHANGE.index(y-maxstreak)"
   ],
   "metadata": {
    "collapsed": false,
    "ExecuteTime": {
     "end_time": "2023-10-23T20:23:17.293339309Z",
     "start_time": "2023-10-23T20:23:17.242658915Z"
    }
   },
   "id": "39c730d83269ba29"
  },
  {
   "cell_type": "code",
   "execution_count": null,
   "outputs": [],
   "source": [
    "maxstreak"
   ],
   "metadata": {
    "collapsed": false,
    "ExecuteTime": {
     "start_time": "2023-10-23T20:19:58.710334718Z"
    }
   },
   "id": "693f4ee601d68fdf"
  },
  {
   "cell_type": "code",
   "execution_count": null,
   "outputs": [],
   "source": [
    "y"
   ],
   "metadata": {
    "collapsed": false,
    "ExecuteTime": {
     "start_time": "2023-10-23T20:19:58.710567010Z"
    }
   },
   "id": "c058d8fc4eaf339e"
  },
  {
   "cell_type": "code",
   "execution_count": null,
   "outputs": [],
   "source": [
    "#CHANGE.index.name = \"Date\"\n",
    "#CHANGE.reset_index(inplace = True)\n",
    "CHANGE"
   ],
   "metadata": {
    "collapsed": false,
    "ExecuteTime": {
     "start_time": "2023-10-23T20:19:58.710712769Z"
    }
   },
   "id": "a35c398250a48d92"
  },
  {
   "cell_type": "code",
   "execution_count": null,
   "outputs": [],
   "source": [],
   "metadata": {
    "collapsed": false,
    "ExecuteTime": {
     "start_time": "2023-10-23T20:19:58.710859366Z"
    }
   },
   "id": "d5765644373f2833"
  }
 ],
 "metadata": {
  "kernelspec": {
   "display_name": "Python 3",
   "language": "python",
   "name": "python3"
  },
  "language_info": {
   "codemirror_mode": {
    "name": "ipython",
    "version": 2
   },
   "file_extension": ".py",
   "mimetype": "text/x-python",
   "name": "python",
   "nbconvert_exporter": "python",
   "pygments_lexer": "ipython2",
   "version": "2.7.6"
  }
 },
 "nbformat": 4,
 "nbformat_minor": 5
}
